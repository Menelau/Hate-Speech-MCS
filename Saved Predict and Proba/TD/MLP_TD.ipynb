{
  "nbformat": 4,
  "nbformat_minor": 0,
  "metadata": {
    "colab": {
      "name": "MLP_TD.ipynb",
      "provenance": [],
      "collapsed_sections": [],
      "toc_visible": true
    },
    "kernelspec": {
      "name": "python3",
      "display_name": "Python 3"
    }
  },
  "cells": [
    {
      "cell_type": "code",
      "metadata": {
        "id": "7LBIOnJwxgwC",
        "colab_type": "code",
        "colab": {}
      },
      "source": [
        "import pandas as pd\n",
        "import numpy as np\n",
        "from sklearn.metrics import accuracy_score\n",
        "from sklearn.neural_network import MLPClassifier\n",
        "from sklearn.ensemble import RandomForestClassifier"
      ],
      "execution_count": null,
      "outputs": []
    },
    {
      "cell_type": "code",
      "metadata": {
        "id": "9StaMsJqzPtd",
        "colab_type": "code",
        "colab": {}
      },
      "source": [
        "train = pd.read_csv('prob_train_td.csv')\n",
        "val = pd.read_csv('prob_val_td.csv')\n",
        "test = pd.read_csv('prob_test_td.csv')"
      ],
      "execution_count": null,
      "outputs": []
    },
    {
      "cell_type": "code",
      "metadata": {
        "id": "QK7CuckF2YH1",
        "colab_type": "code",
        "colab": {}
      },
      "source": [
        "train, class_train = train.drop(columns=['Unnamed: 0']).fillna(0), train['class']\n",
        "val, class_val = val.drop(columns=['Unnamed: 0']).fillna(0), val['class']\n",
        "test, class_test = test.drop(columns=['Unnamed: 0']).fillna(0), test['class'].fillna(3)"
      ],
      "execution_count": null,
      "outputs": []
    },
    {
      "cell_type": "markdown",
      "metadata": {
        "id": "zAlXBxKA4T-I",
        "colab_type": "text"
      },
      "source": [
        "# Usando train"
      ]
    },
    {
      "cell_type": "code",
      "metadata": {
        "id": "1SuWNVax2fse",
        "colab_type": "code",
        "colab": {
          "base_uri": "https://localhost:8080/",
          "height": 34
        },
        "outputId": "3a7d2cbd-eecd-43ee-880d-66f3ee5e6a1e"
      },
      "source": [
        "mlp = MLPClassifier(random_state=42, batch_size=20, max_iter=20, verbose=100, activation='relu', solver='lbfgs')\n",
        "mlp.fit(train, class_train)\n",
        "y_pred_mlp = mlp.predict(test)\n",
        "print(\"Todos: \", accuracy_score(class_test, y_pred_mlp))"
      ],
      "execution_count": null,
      "outputs": [
        {
          "output_type": "stream",
          "text": [
            "Todos:  0.9249205184641721\n"
          ],
          "name": "stdout"
        }
      ]
    },
    {
      "cell_type": "code",
      "metadata": {
        "id": "QhuIPMUa3So9",
        "colab_type": "code",
        "colab": {
          "base_uri": "https://localhost:8080/",
          "height": 156
        },
        "outputId": "5bc76575-daf3-4a5e-9deb-d68d71ee46c5"
      },
      "source": [
        "clfs = ['CNN-FAST', 'RF-CV', 'KNN-TFIDF', 'LR-W2V', 'SVM-GLOVE']\n",
        "cols = []\n",
        "\n",
        "for clf in clfs:\n",
        "    for i in range(0,3):\n",
        "      cols.append(\"{}-{}\".format(clf, i))\n",
        "\n",
        "train_vision = train[cols]\n",
        "test_vision = test[cols]\n",
        "\n",
        "mlp_B = MLPClassifier(random_state=42, batch_size=20, max_iter=20, verbose=100, activation='relu', solver='lbfgs')\n",
        "mlp_B.fit(train_vision, class_train)\n",
        "mlp_B_pred = mlp_B.predict(test_vision)\n",
        "print(\"Dissimilares: \",accuracy_score(class_test, mlp_B_pred))"
      ],
      "execution_count": null,
      "outputs": [
        {
          "output_type": "stream",
          "text": [
            "Dissimilares:  0.8865248226950354\n"
          ],
          "name": "stdout"
        },
        {
          "output_type": "stream",
          "text": [
            "/usr/local/lib/python3.6/dist-packages/sklearn/neural_network/_multilayer_perceptron.py:470: ConvergenceWarning: lbfgs failed to converge (status=1):\n",
            "STOP: TOTAL NO. of ITERATIONS REACHED LIMIT.\n",
            "\n",
            "Increase the number of iterations (max_iter) or scale the data as shown in:\n",
            "    https://scikit-learn.org/stable/modules/preprocessing.html\n",
            "  self.n_iter_ = _check_optimize_result(\"lbfgs\", opt_res, self.max_iter)\n"
          ],
          "name": "stderr"
        }
      ]
    },
    {
      "cell_type": "code",
      "metadata": {
        "id": "EucCr7WE2o3y",
        "colab_type": "code",
        "colab": {
          "base_uri": "https://localhost:8080/",
          "height": 156
        },
        "outputId": "178ae5c6-7f87-45a1-847e-a63009a29f48"
      },
      "source": [
        "clfs = ['CNN-FAST', 'SVM-CV', 'LR-TFIDF', 'LR-CV','NB-CV']\n",
        "cols = []\n",
        "\n",
        "for clf in clfs:\n",
        "    for i in range(0,3):\n",
        "      cols.append(\"{}-{}\".format(clf, i))\n",
        "\n",
        "train_vision = train[cols]\n",
        "test_vision = test[cols]\n",
        "\n",
        "mlp_B = MLPClassifier(random_state=42, batch_size=20, max_iter=20, verbose=100, activation='relu', solver='lbfgs')\n",
        "mlp_B.fit(train_vision, class_train)\n",
        "mlp_B_pred = mlp_B.predict(test_vision)\n",
        "print(\"Similares: \",accuracy_score(class_test, mlp_B_pred))"
      ],
      "execution_count": null,
      "outputs": [
        {
          "output_type": "stream",
          "text": [
            "Similares:  0.871851308388359\n"
          ],
          "name": "stdout"
        },
        {
          "output_type": "stream",
          "text": [
            "/usr/local/lib/python3.6/dist-packages/sklearn/neural_network/_multilayer_perceptron.py:470: ConvergenceWarning: lbfgs failed to converge (status=1):\n",
            "STOP: TOTAL NO. of ITERATIONS REACHED LIMIT.\n",
            "\n",
            "Increase the number of iterations (max_iter) or scale the data as shown in:\n",
            "    https://scikit-learn.org/stable/modules/preprocessing.html\n",
            "  self.n_iter_ = _check_optimize_result(\"lbfgs\", opt_res, self.max_iter)\n"
          ],
          "name": "stderr"
        }
      ]
    },
    {
      "cell_type": "code",
      "metadata": {
        "id": "HdfWrWBk6aYd",
        "colab_type": "code",
        "colab": {
          "base_uri": "https://localhost:8080/",
          "height": 34
        },
        "outputId": "37a4c088-1007-4a54-c8d2-258e32437405"
      },
      "source": [
        "rf = RandomForestClassifier(max_depth=2, random_state=42, n_estimators=100)\n",
        "rf.fit(train, class_train)\n",
        "y_pred_rf = rf.predict(test)\n",
        "print(\"Todos (RF): \", accuracy_score(class_test, y_pred_rf))"
      ],
      "execution_count": null,
      "outputs": [
        {
          "output_type": "stream",
          "text": [
            "Todos (RF):  0.8972853998532648\n"
          ],
          "name": "stdout"
        }
      ]
    },
    {
      "cell_type": "code",
      "metadata": {
        "id": "bEZKgd126oIn",
        "colab_type": "code",
        "colab": {
          "base_uri": "https://localhost:8080/",
          "height": 34
        },
        "outputId": "d0315558-736c-4390-d131-496aac3edf02"
      },
      "source": [
        "clfs = ['CNN-FAST', 'RF-CV', 'KNN-TFIDF', 'LR-W2V', 'SVM-GLOVE']\n",
        "cols = []\n",
        "\n",
        "for clf in clfs:\n",
        "    for i in range(0,3):\n",
        "      cols.append(\"{}-{}\".format(clf, i))\n",
        "\n",
        "train_vision = train[cols]\n",
        "test_vision = test[cols]\n",
        "\n",
        "rf = RandomForestClassifier(max_depth=2, random_state=42, n_estimators=100)\n",
        "rf.fit(train_vision, class_train)\n",
        "rf_pred = rf.predict(test_vision)\n",
        "print(\"Dissimilares (RF): \",accuracy_score(class_test, rf_pred))"
      ],
      "execution_count": null,
      "outputs": [
        {
          "output_type": "stream",
          "text": [
            "Dissimilares (RF):  0.896796282709709\n"
          ],
          "name": "stdout"
        }
      ]
    },
    {
      "cell_type": "code",
      "metadata": {
        "id": "iFCsggv36zyT",
        "colab_type": "code",
        "colab": {
          "base_uri": "https://localhost:8080/",
          "height": 34
        },
        "outputId": "1e967950-4856-4150-fe23-786f979bddf9"
      },
      "source": [
        "clfs = ['CNN-FAST', 'SVM-CV', 'LR-TFIDF', 'LR-CV','NB-CV']\n",
        "cols = []\n",
        "\n",
        "for clf in clfs:\n",
        "    for i in range(0,3):\n",
        "      cols.append(\"{}-{}\".format(clf, i))\n",
        "\n",
        "train_vision = train[cols]\n",
        "test_vision = test[cols]\n",
        "\n",
        "rf = RandomForestClassifier(max_depth=2, random_state=42, n_estimators=100)\n",
        "rf.fit(train_vision, class_train)\n",
        "rf_pred = rf.predict(test_vision)\n",
        "print(\"Similares (RF): \",accuracy_score(class_test, rf_pred))"
      ],
      "execution_count": null,
      "outputs": [
        {
          "output_type": "stream",
          "text": [
            "Similares (RF):  0.9063340670090486\n"
          ],
          "name": "stdout"
        }
      ]
    },
    {
      "cell_type": "markdown",
      "metadata": {
        "id": "5h9QSNtl4xE-",
        "colab_type": "text"
      },
      "source": [
        "# Usando val"
      ]
    },
    {
      "cell_type": "code",
      "metadata": {
        "id": "SFOwc3mv40oV",
        "colab_type": "code",
        "colab": {
          "base_uri": "https://localhost:8080/",
          "height": 156
        },
        "outputId": "ccfa1cda-56d4-46c7-b704-ff01832a3edc"
      },
      "source": [
        "mlp = MLPClassifier(random_state=42, batch_size=20, max_iter=20, verbose=100, activation='relu', solver='lbfgs')\n",
        "mlp.fit(val, class_val)\n",
        "y_pred_mlp = mlp.predict(test)\n",
        "print(\"Todos: \", accuracy_score(class_test, y_pred_mlp))"
      ],
      "execution_count": null,
      "outputs": [
        {
          "output_type": "stream",
          "text": [
            "Todos:  1.0\n"
          ],
          "name": "stdout"
        },
        {
          "output_type": "stream",
          "text": [
            "/usr/local/lib/python3.6/dist-packages/sklearn/neural_network/_multilayer_perceptron.py:470: ConvergenceWarning: lbfgs failed to converge (status=1):\n",
            "STOP: TOTAL NO. of ITERATIONS REACHED LIMIT.\n",
            "\n",
            "Increase the number of iterations (max_iter) or scale the data as shown in:\n",
            "    https://scikit-learn.org/stable/modules/preprocessing.html\n",
            "  self.n_iter_ = _check_optimize_result(\"lbfgs\", opt_res, self.max_iter)\n"
          ],
          "name": "stderr"
        }
      ]
    },
    {
      "cell_type": "code",
      "metadata": {
        "id": "GtI40d0s5B9b",
        "colab_type": "code",
        "colab": {
          "base_uri": "https://localhost:8080/",
          "height": 156
        },
        "outputId": "bd174366-b825-4367-82fd-e047dc98bb92"
      },
      "source": [
        "clfs = ['CNN-FAST', 'RF-CV', 'KNN-TFIDF', 'LR-W2V', 'SVM-GLOVE']\n",
        "cols = []\n",
        "\n",
        "for clf in clfs:\n",
        "    for i in range(0,3):\n",
        "      cols.append(\"{}-{}\".format(clf, i))\n",
        "\n",
        "val_vision = val[cols]\n",
        "test_vision = test[cols]\n",
        "\n",
        "mlp_B = MLPClassifier(random_state=42, batch_size=20, max_iter=20, verbose=100, activation='relu', solver='lbfgs')\n",
        "mlp_B.fit(val_vision, class_val)\n",
        "mlp_B_pred = mlp_B.predict(test_vision)\n",
        "print(\"Dissimilares: \",accuracy_score(class_test, mlp_B_pred))"
      ],
      "execution_count": null,
      "outputs": [
        {
          "output_type": "stream",
          "text": [
            "Dissimilares:  0.8992418684274884\n"
          ],
          "name": "stdout"
        },
        {
          "output_type": "stream",
          "text": [
            "/usr/local/lib/python3.6/dist-packages/sklearn/neural_network/_multilayer_perceptron.py:470: ConvergenceWarning: lbfgs failed to converge (status=1):\n",
            "STOP: TOTAL NO. of ITERATIONS REACHED LIMIT.\n",
            "\n",
            "Increase the number of iterations (max_iter) or scale the data as shown in:\n",
            "    https://scikit-learn.org/stable/modules/preprocessing.html\n",
            "  self.n_iter_ = _check_optimize_result(\"lbfgs\", opt_res, self.max_iter)\n"
          ],
          "name": "stderr"
        }
      ]
    },
    {
      "cell_type": "code",
      "metadata": {
        "id": "Jss03MSD5K2o",
        "colab_type": "code",
        "colab": {
          "base_uri": "https://localhost:8080/",
          "height": 156
        },
        "outputId": "34ba08e1-573d-408f-b80c-28f131564d69"
      },
      "source": [
        "clfs = ['CNN-FAST', 'SVM-CV', 'LR-TFIDF', 'LR-CV','NB-CV']\n",
        "cols = []\n",
        "\n",
        "for clf in clfs:\n",
        "    for i in range(0,3):\n",
        "      cols.append(\"{}-{}\".format(clf, i))\n",
        "\n",
        "val_vision = val[cols]\n",
        "test_vision = test[cols]\n",
        "\n",
        "mlp_B = MLPClassifier(random_state=42, batch_size=20, max_iter=20, verbose=100, activation='relu', solver='lbfgs')\n",
        "mlp_B.fit(val_vision, class_val)\n",
        "mlp_B_pred = mlp_B.predict(test_vision)\n",
        "print(\"Similares: \",accuracy_score(class_test, mlp_B_pred))"
      ],
      "execution_count": null,
      "outputs": [
        {
          "output_type": "stream",
          "text": [
            "Similares:  0.9112252384446075\n"
          ],
          "name": "stdout"
        },
        {
          "output_type": "stream",
          "text": [
            "/usr/local/lib/python3.6/dist-packages/sklearn/neural_network/_multilayer_perceptron.py:470: ConvergenceWarning: lbfgs failed to converge (status=1):\n",
            "STOP: TOTAL NO. of ITERATIONS REACHED LIMIT.\n",
            "\n",
            "Increase the number of iterations (max_iter) or scale the data as shown in:\n",
            "    https://scikit-learn.org/stable/modules/preprocessing.html\n",
            "  self.n_iter_ = _check_optimize_result(\"lbfgs\", opt_res, self.max_iter)\n"
          ],
          "name": "stderr"
        }
      ]
    },
    {
      "cell_type": "code",
      "metadata": {
        "id": "XvIOAB9d7Y_4",
        "colab_type": "code",
        "colab": {
          "base_uri": "https://localhost:8080/",
          "height": 34
        },
        "outputId": "c0ed329d-f09d-4227-a71a-f01d7ac9a1e6"
      },
      "source": [
        "rf = RandomForestClassifier(max_depth=2, random_state=42, n_estimators=100)\n",
        "rf.fit(val, class_val)\n",
        "y_pred_rf = rf.predict(test)\n",
        "print(\"Todos (RF): \", accuracy_score(class_test, y_pred_rf))"
      ],
      "execution_count": null,
      "outputs": [
        {
          "output_type": "stream",
          "text": [
            "Todos (RF):  0.9136708241623869\n"
          ],
          "name": "stdout"
        }
      ]
    },
    {
      "cell_type": "code",
      "metadata": {
        "id": "GQ183iNA7cUu",
        "colab_type": "code",
        "colab": {
          "base_uri": "https://localhost:8080/",
          "height": 34
        },
        "outputId": "85e716a3-7db3-4976-c8d9-82d3e2e07d7d"
      },
      "source": [
        "clfs = ['CNN-FAST', 'RF-CV', 'KNN-TFIDF', 'LR-W2V', 'SVM-GLOVE']\n",
        "cols = []\n",
        "\n",
        "for clf in clfs:\n",
        "    for i in range(0,3):\n",
        "      cols.append(\"{}-{}\".format(clf, i))\n",
        "\n",
        "val_vision = val[cols]\n",
        "test_vision = test[cols]\n",
        "\n",
        "rf = RandomForestClassifier(max_depth=2, random_state=42, n_estimators=100)\n",
        "rf.fit(val_vision, class_val)\n",
        "rf_pred = rf.predict(test_vision)\n",
        "print(\"Dissimilares (RF): \",accuracy_score(class_test, rf_pred))"
      ],
      "execution_count": null,
      "outputs": [
        {
          "output_type": "stream",
          "text": [
            "Dissimilares (RF):  0.9041330398630472\n"
          ],
          "name": "stdout"
        }
      ]
    },
    {
      "cell_type": "code",
      "metadata": {
        "id": "3DjbfVW-7jgo",
        "colab_type": "code",
        "colab": {
          "base_uri": "https://localhost:8080/",
          "height": 34
        },
        "outputId": "6e11638b-3b07-4465-c9eb-736463dce0a9"
      },
      "source": [
        "clfs = ['CNN-FAST', 'SVM-CV', 'LR-TFIDF', 'LR-CV','NB-CV']\n",
        "cols = []\n",
        "\n",
        "for clf in clfs:\n",
        "    for i in range(0,3):\n",
        "      cols.append(\"{}-{}\".format(clf, i))\n",
        "\n",
        "val_vision = val[cols]\n",
        "test_vision = test[cols]\n",
        "\n",
        "rf = RandomForestClassifier(max_depth=2, random_state=42, n_estimators=100)\n",
        "rf.fit(val_vision, class_val)\n",
        "rf_pred = rf.predict(test_vision)\n",
        "print(\"Dissimilares (RF): \",accuracy_score(class_test, rf_pred))"
      ],
      "execution_count": null,
      "outputs": [
        {
          "output_type": "stream",
          "text": [
            "Dissimilares (RF):  0.909268769870384\n"
          ],
          "name": "stdout"
        }
      ]
    }
  ]
}