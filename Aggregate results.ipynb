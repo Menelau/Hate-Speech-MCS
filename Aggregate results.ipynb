{
 "cells": [
  {
   "cell_type": "code",
   "execution_count": 1,
   "metadata": {},
   "outputs": [],
   "source": [
    "import pandas as pd\n",
    "import warnings\n",
    "warnings.filterwarnings('ignore')\n",
    "import numpy as np\n",
    "from sklearn.metrics import f1_score"
   ]
  },
  {
   "cell_type": "code",
   "execution_count": 2,
   "metadata": {},
   "outputs": [],
   "source": [
    "def load_predictions(dataset_name, partition, fold_number=1):\n",
    "    path = './Saved_Predict_and_Proba/Folds/' + dataset_name.upper() + '/F' + str(fold_number)  + '/pred_' + partition +'.csv'\n",
    "    table_pred = pd.read_csv(path)\n",
    "    if dataset_name.lower() == 'zw':\n",
    "        label = table_pred['norm']\n",
    "        preds = table_pred.drop('norm', axis=1)\n",
    "    else: \n",
    "        label = table_pred['class']\n",
    "        preds = table_pred.drop('class', axis=1)\n",
    "    preds = preds.drop('Unnamed: 0', axis=1)\n",
    "    return label, preds\n",
    "\n",
    "def load_datasets(dataset_name, fold_number):\n",
    "    label_train, preds_train = load_predictions(dataset_name, 'train', fold_number)\n",
    "    label_val, preds_val = load_predictions(dataset_name, 'val', fold_number)\n",
    "    label_test, preds_test = load_predictions(dataset_name, 'test', fold_number)\n",
    "    return label_train, preds_train, label_test, preds_test, label_val, preds_val\n",
    "\n",
    "def compile_results(dataset_name):\n",
    "    algorithms_list = ['SVM', 'MLP', 'KNN', 'RF', 'EXTRA', 'CNN', 'LR', 'NB']\n",
    "    fe_list = ['CV', 'TFIDF', 'W2V', 'GLOVE', 'FAST']\n",
    "    results_f1_val = np.zeros((5, len(algorithms_list), len(fe_list)))\n",
    "    results_f1_test = np.zeros((5, len(algorithms_list), len(fe_list)))\n",
    "\n",
    "    for fold in range(1, 6):\n",
    "        _, _, label_test, preds_test, label_val, preds_val = load_datasets(dataset_name, fold)\n",
    "\n",
    "        for idx_alg, alg in enumerate(algorithms_list):\n",
    "            for idx_fe, fe in enumerate(fe_list):\n",
    "                #VAL\n",
    "                y_pred_val = preds_val.filter(regex=alg+'-'+fe)\n",
    "                results_f1_val[fold-1, idx_alg, idx_fe] = f1_score(label_val, y_pred_val,average='macro')           \n",
    "                #TESTE\n",
    "                y_pred_test = preds_test.filter(regex=alg+'-'+fe)\n",
    "                results_f1_test[fold-1,idx_alg, idx_fe] = f1_score(label_test, y_pred_test,average='macro')\n",
    "    return results_f1_val, results_f1_test\n",
    "\n",
    "algorithms_list = ['SVM', 'MLP', 'KNN', 'RF', 'EXTRA', 'CNN', 'LR', 'NB']\n",
    "fe_list = ['CV', 'TFIDF', 'W2V', 'GLOVE', 'FAST']"
   ]
  },
  {
   "cell_type": "markdown",
   "metadata": {},
   "source": [
    "# Getting TD results"
   ]
  },
  {
   "cell_type": "code",
   "execution_count": 21,
   "metadata": {},
   "outputs": [],
   "source": [
    "dataset_name = 'TD'\n",
    "results_f1_val, results_f1_test = compile_results(dataset_name)\n",
    "results_df_test_TD = pd.DataFrame(results_f1_test.mean(axis=0), columns=fe_list, index=algorithms_list).round(3)\n",
    "results_df_val_TD = pd.DataFrame(results_f1_val.mean(axis=0), columns=fe_list, index=algorithms_list).round(3)\n",
    "\n",
    "std_df_test_TD = pd.DataFrame(results_f1_test.std(axis=0), columns=fe_list, index=algorithms_list).round(3)\n",
    "std_df_val_TD = pd.DataFrame(results_f1_val.std(axis=0), columns=fe_list, index=algorithms_list).round(3)"
   ]
  },
  {
   "cell_type": "markdown",
   "metadata": {},
   "source": [
    "### save csv"
   ]
  },
  {
   "cell_type": "code",
   "execution_count": 23,
   "metadata": {},
   "outputs": [],
   "source": [
    "for index in range(5):\n",
    "    df = pd.DataFrame(results_f1_test[index],columns=fe_list, index=algorithms_list).round(3)\n",
    "    df.to_csv(f'Results TD Fold {index+1}.csv')"
   ]
  },
  {
   "cell_type": "markdown",
   "metadata": {},
   "source": [
    "# Getting ZW results"
   ]
  },
  {
   "cell_type": "code",
   "execution_count": 24,
   "metadata": {},
   "outputs": [],
   "source": [
    "dataset_name = 'ZW'\n",
    "results_f1_val_ZW, results_f1_test_ZW = compile_results(dataset_name)\n",
    "\n",
    "results_df_test_ZW = pd.DataFrame(results_f1_test_ZW.mean(axis=0), columns=fe_list, index=algorithms_list).round(3)\n",
    "results_df_val_ZW = pd.DataFrame(results_f1_val_ZW.mean(axis=0), columns=fe_list, index=algorithms_list).round(3)\n",
    "\n",
    "std_df_test_ZW = pd.DataFrame(results_f1_test_ZW.std(axis=0), columns=fe_list, index=algorithms_list).round(3)\n",
    "std_df_val_ZW = pd.DataFrame(results_f1_val_ZW.std(axis=0), columns=fe_list, index=algorithms_list).round(3)"
   ]
  },
  {
   "cell_type": "markdown",
   "metadata": {},
   "source": [
    "### save CSV"
   ]
  },
  {
   "cell_type": "code",
   "execution_count": 25,
   "metadata": {},
   "outputs": [],
   "source": [
    "for index in range(5):\n",
    "    df = pd.DataFrame(results_f1_test_ZW[index],columns=fe_list, index=algorithms_list).round(3)\n",
    "    df.to_csv(f'Results ZW Fold {index+1}.csv')"
   ]
  },
  {
   "cell_type": "markdown",
   "metadata": {},
   "source": [
    "# Getting union results (TD+ZW)"
   ]
  },
  {
   "cell_type": "code",
   "execution_count": 26,
   "metadata": {},
   "outputs": [],
   "source": [
    "dataset_name = 'Union'\n",
    "results_f1_val_Union, results_f1_test_Union = compile_results(dataset_name)\n",
    "\n",
    "results_df_test_Union = pd.DataFrame(results_f1_test_Union.mean(axis=0), columns=fe_list, index=algorithms_list).round(3)\n",
    "results_df_val_Union = pd.DataFrame(results_f1_val_Union.mean(axis=0), columns=fe_list, index=algorithms_list).round(3)\n",
    "\n",
    "std_df_test_Union = pd.DataFrame(results_f1_test_Union.std(axis=0), columns=fe_list, index=algorithms_list).round(3)\n",
    "std_df_val_Union = pd.DataFrame(results_f1_val_Union.std(axis=0), columns=fe_list, index=algorithms_list).round(3)"
   ]
  },
  {
   "cell_type": "markdown",
   "metadata": {},
   "source": [
    "## save CSV"
   ]
  },
  {
   "cell_type": "code",
   "execution_count": 27,
   "metadata": {},
   "outputs": [],
   "source": [
    "for index in range(5):\n",
    "    df = pd.DataFrame(results_f1_test_Union[index],columns=fe_list, index=algorithms_list).round(3)\n",
    "    df.to_csv(f'Results TD+ZW Fold {index+1}.csv')"
   ]
  },
  {
   "cell_type": "code",
   "execution_count": 34,
   "metadata": {},
   "outputs": [
    {
     "data": {
      "text/plain": [
       "'\\\\begin{tabular}{lrrrrr}\\n\\\\toprule\\n{} &     CV &  TFIDF &    W2V &  GLOVE &   FAST \\\\\\\\\\n\\\\midrule\\nSVM   &  0.872 &  0.881 &  0.758 &  0.670 &  0.753 \\\\\\\\\\nMLP   &  0.871 &  0.852 &  0.757 &  0.673 &  0.770 \\\\\\\\\\nKNN   &  0.691 &  0.358 &  0.666 &  0.610 &  0.608 \\\\\\\\\\nRF    &  0.866 &  0.864 &  0.645 &  0.644 &  0.647 \\\\\\\\\\nEXTRA &  0.860 &  0.855 &  0.623 &  0.631 &  0.608 \\\\\\\\\\nCNN   &  0.842 &  0.815 &  0.848 &  0.836 &  0.855 \\\\\\\\\\nLR    &  0.882 &  0.875 &  0.724 &  0.621 &  0.735 \\\\\\\\\\nNB    &  0.850 &  0.820 &  0.635 &  0.604 &  0.666 \\\\\\\\\\n\\\\bottomrule\\n\\\\end{tabular}\\n'"
      ]
     },
     "execution_count": 34,
     "metadata": {},
     "output_type": "execute_result"
    }
   ],
   "source": [
    "results_df_test.to_latex()"
   ]
  },
  {
   "cell_type": "code",
   "execution_count": 35,
   "metadata": {},
   "outputs": [
    {
     "data": {
      "text/plain": [
       "'\\\\begin{tabular}{lrrrrr}\\n\\\\toprule\\n{} &     CV &  TFIDF &    W2V &  GLOVE &   FAST \\\\\\\\\\n\\\\midrule\\nSVM   &  0.004 &  0.004 &  0.003 &  0.006 &  0.007 \\\\\\\\\\nMLP   &  0.004 &  0.004 &  0.005 &  0.009 &  0.003 \\\\\\\\\\nKNN   &  0.018 &  0.009 &  0.009 &  0.007 &  0.008 \\\\\\\\\\nRF    &  0.006 &  0.003 &  0.009 &  0.007 &  0.007 \\\\\\\\\\nEXTRA &  0.004 &  0.003 &  0.010 &  0.007 &  0.008 \\\\\\\\\\nCNN   &  0.014 &  0.011 &  0.011 &  0.006 &  0.009 \\\\\\\\\\nLR    &  0.003 &  0.003 &  0.003 &  0.007 &  0.006 \\\\\\\\\\nNB    &  0.006 &  0.005 &  0.006 &  0.006 &  0.010 \\\\\\\\\\n\\\\bottomrule\\n\\\\end{tabular}\\n'"
      ]
     },
     "execution_count": 35,
     "metadata": {},
     "output_type": "execute_result"
    }
   ],
   "source": [
    "std_df_test.to_latex()"
   ]
  }
 ],
 "metadata": {
  "@webio": {
   "lastCommId": null,
   "lastKernelId": null
  },
  "kernelspec": {
   "display_name": "Python [conda env:deslib]",
   "language": "python",
   "name": "conda-env-deslib-py"
  },
  "language_info": {
   "codemirror_mode": {
    "name": "ipython",
    "version": 3
   },
   "file_extension": ".py",
   "mimetype": "text/x-python",
   "name": "python",
   "nbconvert_exporter": "python",
   "pygments_lexer": "ipython3",
   "version": "3.7.10"
  }
 },
 "nbformat": 4,
 "nbformat_minor": 2
}
