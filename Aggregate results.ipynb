{
 "cells": [
  {
   "cell_type": "code",
   "execution_count": 1,
   "metadata": {},
   "outputs": [],
   "source": [
    "import pandas as pd\n",
    "import warnings\n",
    "warnings.filterwarnings('ignore')\n",
    "import numpy as np\n",
    "from sklearn.metrics import f1_score"
   ]
  },
  {
   "cell_type": "code",
   "execution_count": 4,
   "metadata": {},
   "outputs": [],
   "source": [
    "def load_predictions(dataset_name, partition, fold_number=1):\n",
    "    path = './Saved_Predict_and_Proba/Folds/' + dataset_name.upper() + '/F' + str(fold_number)  + '/pred_' + partition +'.csv'\n",
    "    table_pred = pd.read_csv(path)\n",
    "    if dataset_name.lower() == 'zw':\n",
    "        label = table_pred['norm']\n",
    "        preds = table_pred.drop('norm', axis=1)\n",
    "    else: \n",
    "        label = table_pred['class']\n",
    "        preds = table_pred.drop('class', axis=1)\n",
    "    preds = preds.drop('Unnamed: 0', axis=1)\n",
    "    return label, preds\n",
    "\n",
    "def load_datasets(dataset_name, fold_number):\n",
    "    label_train, preds_train = load_predictions(dataset_name, 'train', fold_number)\n",
    "    label_val, preds_val = load_predictions(dataset_name, 'val', fold_number)\n",
    "    label_test, preds_test = load_predictions(dataset_name, 'test', fold_number)\n",
    "    return label_train, preds_train, label_test, preds_test, label_val, preds_val\n",
    "\n",
    "def compile_results(dataset_name):\n",
    "    algorithms_list = ['SVM', 'MLP', 'KNN', 'RF', 'EXTRA', 'CNN', 'LR', 'NB']\n",
    "    fe_list = ['CV', 'TFIDF', 'W2V', 'GLOVE', 'FAST']\n",
    "    results_f1_val = np.zeros((5, len(algorithms_list), len(fe_list)))\n",
    "    results_f1_test = np.zeros((5, len(algorithms_list), len(fe_list)))\n",
    "\n",
    "    for fold in range(1, 6):\n",
    "        _, _, label_test, preds_test, label_val, preds_val = load_datasets(dataset_name, fold)\n",
    "\n",
    "        for idx_alg, alg in enumerate(algorithms_list):\n",
    "            for idx_fe, fe in enumerate(fe_list):\n",
    "                #VAL\n",
    "                y_pred_val = preds_val.filter(regex=alg+'-'+fe)\n",
    "                results_f1_val[fold-1, idx_alg, idx_fe] = f1_score(label_val, y_pred_val,average='macro')           \n",
    "                #TESTE\n",
    "                y_pred_test = preds_test.filter(regex=alg+'-'+fe)\n",
    "                results_f1_test[fold-1,idx_alg, idx_fe] = f1_score(label_test, y_pred_test,average='macro')\n",
    "    return results_f1_val, results_f1_test\n",
    "\n",
    "algorithms_list = ['SVM', 'MLP', 'KNN', 'RF', 'EXTRA', 'CNN', 'LR', 'NB']\n",
    "fe_list = ['CV', 'TFIDF', 'W2V', 'GLOVE', 'FAST']"
   ]
  },
  {
   "cell_type": "markdown",
   "metadata": {},
   "source": [
    "# Getting TD results"
   ]
  },
  {
   "cell_type": "code",
   "execution_count": 40,
   "metadata": {},
   "outputs": [],
   "source": [
    "dataset_name = 'TD'\n",
    "results_f1_val, results_f1_test = compile_results('TD')\n",
    "results_df_test = pd.DataFrame(results_f1_test.mean(axis=0), columns=fe_list, index=algorithms_list).round(3)\n",
    "results_df_val = pd.DataFrame(results_f1_val.mean(axis=0), columns=fe_list, index=algorithms_list).round(3)\n",
    "\n",
    "std_df_test = pd.DataFrame(results_f1_test.std(axis=0), columns=fe_list, index=algorithms_list).round(3)\n",
    "std_df_val = pd.DataFrame(results_f1_val.std(axis=0), columns=fe_list, index=algorithms_list).round(3)"
   ]
  },
  {
   "cell_type": "code",
   "execution_count": 41,
   "metadata": {},
   "outputs": [
    {
     "data": {
      "text/plain": [
       "CV       0.715\n",
       "TFIDF    0.708\n",
       "W2V      0.689\n",
       "GLOVE    0.651\n",
       "FAST     0.694\n",
       "dtype: float64"
      ]
     },
     "execution_count": 41,
     "metadata": {},
     "output_type": "execute_result"
    }
   ],
   "source": [
    "results_df_test.max()"
   ]
  },
  {
   "cell_type": "code",
   "execution_count": 28,
   "metadata": {},
   "outputs": [
    {
     "data": {
      "text/plain": [
       "'\\\\begin{tabular}{lrrrrr}\\n\\\\toprule\\n{} &      CV &   TFIDF &     W2V &   GLOVE &    FAST \\\\\\\\\\n\\\\midrule\\nSVM   &  0.0015 &  0.0092 &  0.0111 &  0.0052 &  0.0061 \\\\\\\\\\nMLP   &  0.0181 &  0.0050 &  0.0164 &  0.0086 &  0.0144 \\\\\\\\\\nKNN   &  0.0251 &  0.0536 &  0.0066 &  0.0071 &  0.0134 \\\\\\\\\\nRF    &  0.0052 &  0.0081 &  0.0067 &  0.0144 &  0.0083 \\\\\\\\\\nEXTRA &  0.0067 &  0.0118 &  0.0075 &  0.0055 &  0.0072 \\\\\\\\\\nCNN   &  0.0435 &  0.0020 &  0.0190 &  0.0358 &  0.0366 \\\\\\\\\\nLR    &  0.0083 &  0.0077 &  0.0107 &  0.0063 &  0.0045 \\\\\\\\\\nNB    &  0.0028 &  0.0053 &  0.0048 &  0.0038 &  0.0085 \\\\\\\\\\n\\\\bottomrule\\n\\\\end{tabular}\\n'"
      ]
     },
     "execution_count": 28,
     "metadata": {},
     "output_type": "execute_result"
    }
   ],
   "source": [
    "std_df_test.to_latex()"
   ]
  },
  {
   "cell_type": "markdown",
   "metadata": {},
   "source": [
    "# Getting ZW results"
   ]
  },
  {
   "cell_type": "code",
   "execution_count": 29,
   "metadata": {},
   "outputs": [],
   "source": [
    "dataset_name = 'ZW'\n",
    "results_f1_val, results_f1_test = compile_results(dataset_name)\n",
    "\n",
    "results_df_test = pd.DataFrame(results_f1_test.mean(axis=0), columns=fe_list, index=algorithms_list).round(3)\n",
    "results_df_val = pd.DataFrame(results_f1_val.mean(axis=0), columns=fe_list, index=algorithms_list).round(3)\n",
    "\n",
    "std_df_test = pd.DataFrame(results_f1_test.std(axis=0), columns=fe_list, index=algorithms_list).round(3)\n",
    "std_df_val = pd.DataFrame(results_f1_val.std(axis=0), columns=fe_list, index=algorithms_list).round(3)"
   ]
  },
  {
   "cell_type": "code",
   "execution_count": 31,
   "metadata": {},
   "outputs": [
    {
     "data": {
      "text/plain": [
       "'\\\\begin{tabular}{lrrrrr}\\n\\\\toprule\\n{} &     CV &  TFIDF &    W2V &  GLOVE &   FAST \\\\\\\\\\n\\\\midrule\\nSVM   &  0.743 &  0.763 &  0.706 &  0.271 &  0.596 \\\\\\\\\\nMLP   &  0.763 &  0.714 &  0.707 &  0.543 &  0.720 \\\\\\\\\\nKNN   &  0.438 &  0.379 &  0.675 &  0.536 &  0.614 \\\\\\\\\\nRF    &  0.732 &  0.758 &  0.595 &  0.507 &  0.590 \\\\\\\\\\nEXTRA &  0.734 &  0.753 &  0.573 &  0.474 &  0.558 \\\\\\\\\\nCNN   &  0.730 &  0.723 &  0.748 &  0.725 &  0.749 \\\\\\\\\\nLR    &  0.760 &  0.732 &  0.652 &  0.425 &  0.627 \\\\\\\\\\nNB    &  0.751 &  0.720 &  0.580 &  0.511 &  0.611 \\\\\\\\\\n\\\\bottomrule\\n\\\\end{tabular}\\n'"
      ]
     },
     "execution_count": 31,
     "metadata": {},
     "output_type": "execute_result"
    }
   ],
   "source": [
    "results_df_test.to_latex()"
   ]
  },
  {
   "cell_type": "code",
   "execution_count": 30,
   "metadata": {},
   "outputs": [
    {
     "data": {
      "text/plain": [
       "'\\\\begin{tabular}{lrrrrr}\\n\\\\toprule\\n{} &     CV &  TFIDF &    W2V &  GLOVE &   FAST \\\\\\\\\\n\\\\midrule\\nSVM   &  0.011 &  0.008 &  0.006 &  0.001 &  0.016 \\\\\\\\\\nMLP   &  0.009 &  0.009 &  0.011 &  0.012 &  0.009 \\\\\\\\\\nKNN   &  0.009 &  0.007 &  0.013 &  0.014 &  0.004 \\\\\\\\\\nRF    &  0.010 &  0.011 &  0.014 &  0.006 &  0.015 \\\\\\\\\\nEXTRA &  0.011 &  0.010 &  0.015 &  0.007 &  0.019 \\\\\\\\\\nCNN   &  0.019 &  0.014 &  0.013 &  0.010 &  0.015 \\\\\\\\\\nLR    &  0.012 &  0.011 &  0.016 &  0.010 &  0.010 \\\\\\\\\\nNB    &  0.003 &  0.006 &  0.008 &  0.003 &  0.006 \\\\\\\\\\n\\\\bottomrule\\n\\\\end{tabular}\\n'"
      ]
     },
     "execution_count": 30,
     "metadata": {},
     "output_type": "execute_result"
    }
   ],
   "source": [
    "std_df_test.to_latex()"
   ]
  },
  {
   "cell_type": "markdown",
   "metadata": {},
   "source": [
    "# Getting union results (TD+ZW)"
   ]
  },
  {
   "cell_type": "code",
   "execution_count": 36,
   "metadata": {},
   "outputs": [],
   "source": [
    "dataset_name = 'Union'\n",
    "results_f1_val, results_f1_test = compile_results(dataset_name)\n",
    "\n",
    "results_df_test = pd.DataFrame(results_f1_test.mean(axis=0), columns=fe_list, index=algorithms_list).round(3)\n",
    "results_df_val = pd.DataFrame(results_f1_val.mean(axis=0), columns=fe_list, index=algorithms_list).round(3)\n",
    "\n",
    "std_df_test = pd.DataFrame(results_f1_test.std(axis=0), columns=fe_list, index=algorithms_list).round(3)\n",
    "std_df_val = pd.DataFrame(results_f1_val.std(axis=0), columns=fe_list, index=algorithms_list).round(3)"
   ]
  },
  {
   "cell_type": "code",
   "execution_count": 38,
   "metadata": {},
   "outputs": [
    {
     "data": {
      "text/html": [
       "<div>\n",
       "<style scoped>\n",
       "    .dataframe tbody tr th:only-of-type {\n",
       "        vertical-align: middle;\n",
       "    }\n",
       "\n",
       "    .dataframe tbody tr th {\n",
       "        vertical-align: top;\n",
       "    }\n",
       "\n",
       "    .dataframe thead th {\n",
       "        text-align: right;\n",
       "    }\n",
       "</style>\n",
       "<table border=\"1\" class=\"dataframe\">\n",
       "  <thead>\n",
       "    <tr style=\"text-align: right;\">\n",
       "      <th></th>\n",
       "      <th>CV</th>\n",
       "      <th>TFIDF</th>\n",
       "      <th>W2V</th>\n",
       "      <th>GLOVE</th>\n",
       "      <th>FAST</th>\n",
       "    </tr>\n",
       "  </thead>\n",
       "  <tbody>\n",
       "    <tr>\n",
       "      <th>SVM</th>\n",
       "      <td>0.872</td>\n",
       "      <td>0.881</td>\n",
       "      <td>0.758</td>\n",
       "      <td>0.670</td>\n",
       "      <td>0.753</td>\n",
       "    </tr>\n",
       "    <tr>\n",
       "      <th>MLP</th>\n",
       "      <td>0.871</td>\n",
       "      <td>0.852</td>\n",
       "      <td>0.757</td>\n",
       "      <td>0.673</td>\n",
       "      <td>0.770</td>\n",
       "    </tr>\n",
       "    <tr>\n",
       "      <th>KNN</th>\n",
       "      <td>0.691</td>\n",
       "      <td>0.358</td>\n",
       "      <td>0.666</td>\n",
       "      <td>0.610</td>\n",
       "      <td>0.608</td>\n",
       "    </tr>\n",
       "    <tr>\n",
       "      <th>RF</th>\n",
       "      <td>0.866</td>\n",
       "      <td>0.864</td>\n",
       "      <td>0.645</td>\n",
       "      <td>0.644</td>\n",
       "      <td>0.647</td>\n",
       "    </tr>\n",
       "    <tr>\n",
       "      <th>EXTRA</th>\n",
       "      <td>0.860</td>\n",
       "      <td>0.855</td>\n",
       "      <td>0.623</td>\n",
       "      <td>0.631</td>\n",
       "      <td>0.608</td>\n",
       "    </tr>\n",
       "    <tr>\n",
       "      <th>CNN</th>\n",
       "      <td>0.842</td>\n",
       "      <td>0.815</td>\n",
       "      <td>0.848</td>\n",
       "      <td>0.836</td>\n",
       "      <td>0.855</td>\n",
       "    </tr>\n",
       "    <tr>\n",
       "      <th>LR</th>\n",
       "      <td>0.882</td>\n",
       "      <td>0.875</td>\n",
       "      <td>0.724</td>\n",
       "      <td>0.621</td>\n",
       "      <td>0.735</td>\n",
       "    </tr>\n",
       "    <tr>\n",
       "      <th>NB</th>\n",
       "      <td>0.850</td>\n",
       "      <td>0.820</td>\n",
       "      <td>0.635</td>\n",
       "      <td>0.604</td>\n",
       "      <td>0.666</td>\n",
       "    </tr>\n",
       "  </tbody>\n",
       "</table>\n",
       "</div>"
      ],
      "text/plain": [
       "          CV  TFIDF    W2V  GLOVE   FAST\n",
       "SVM    0.872  0.881  0.758  0.670  0.753\n",
       "MLP    0.871  0.852  0.757  0.673  0.770\n",
       "KNN    0.691  0.358  0.666  0.610  0.608\n",
       "RF     0.866  0.864  0.645  0.644  0.647\n",
       "EXTRA  0.860  0.855  0.623  0.631  0.608\n",
       "CNN    0.842  0.815  0.848  0.836  0.855\n",
       "LR     0.882  0.875  0.724  0.621  0.735\n",
       "NB     0.850  0.820  0.635  0.604  0.666"
      ]
     },
     "execution_count": 38,
     "metadata": {},
     "output_type": "execute_result"
    }
   ],
   "source": [
    "results_df_test"
   ]
  },
  {
   "cell_type": "code",
   "execution_count": 34,
   "metadata": {},
   "outputs": [
    {
     "data": {
      "text/plain": [
       "'\\\\begin{tabular}{lrrrrr}\\n\\\\toprule\\n{} &     CV &  TFIDF &    W2V &  GLOVE &   FAST \\\\\\\\\\n\\\\midrule\\nSVM   &  0.872 &  0.881 &  0.758 &  0.670 &  0.753 \\\\\\\\\\nMLP   &  0.871 &  0.852 &  0.757 &  0.673 &  0.770 \\\\\\\\\\nKNN   &  0.691 &  0.358 &  0.666 &  0.610 &  0.608 \\\\\\\\\\nRF    &  0.866 &  0.864 &  0.645 &  0.644 &  0.647 \\\\\\\\\\nEXTRA &  0.860 &  0.855 &  0.623 &  0.631 &  0.608 \\\\\\\\\\nCNN   &  0.842 &  0.815 &  0.848 &  0.836 &  0.855 \\\\\\\\\\nLR    &  0.882 &  0.875 &  0.724 &  0.621 &  0.735 \\\\\\\\\\nNB    &  0.850 &  0.820 &  0.635 &  0.604 &  0.666 \\\\\\\\\\n\\\\bottomrule\\n\\\\end{tabular}\\n'"
      ]
     },
     "execution_count": 34,
     "metadata": {},
     "output_type": "execute_result"
    }
   ],
   "source": [
    "results_df_test.to_latex()"
   ]
  },
  {
   "cell_type": "code",
   "execution_count": 35,
   "metadata": {},
   "outputs": [
    {
     "data": {
      "text/plain": [
       "'\\\\begin{tabular}{lrrrrr}\\n\\\\toprule\\n{} &     CV &  TFIDF &    W2V &  GLOVE &   FAST \\\\\\\\\\n\\\\midrule\\nSVM   &  0.004 &  0.004 &  0.003 &  0.006 &  0.007 \\\\\\\\\\nMLP   &  0.004 &  0.004 &  0.005 &  0.009 &  0.003 \\\\\\\\\\nKNN   &  0.018 &  0.009 &  0.009 &  0.007 &  0.008 \\\\\\\\\\nRF    &  0.006 &  0.003 &  0.009 &  0.007 &  0.007 \\\\\\\\\\nEXTRA &  0.004 &  0.003 &  0.010 &  0.007 &  0.008 \\\\\\\\\\nCNN   &  0.014 &  0.011 &  0.011 &  0.006 &  0.009 \\\\\\\\\\nLR    &  0.003 &  0.003 &  0.003 &  0.007 &  0.006 \\\\\\\\\\nNB    &  0.006 &  0.005 &  0.006 &  0.006 &  0.010 \\\\\\\\\\n\\\\bottomrule\\n\\\\end{tabular}\\n'"
      ]
     },
     "execution_count": 35,
     "metadata": {},
     "output_type": "execute_result"
    }
   ],
   "source": [
    "std_df_test.to_latex()"
   ]
  },
  {
   "cell_type": "markdown",
   "metadata": {},
   "source": [
    "# Getting hateval results"
   ]
  }
 ],
 "metadata": {
  "@webio": {
   "lastCommId": null,
   "lastKernelId": null
  },
  "kernelspec": {
   "display_name": "Python [conda env:hate_speech]",
   "language": "python",
   "name": "conda-env-hate_speech-py"
  },
  "language_info": {
   "codemirror_mode": {
    "name": "ipython",
    "version": 3
   },
   "file_extension": ".py",
   "mimetype": "text/x-python",
   "name": "python",
   "nbconvert_exporter": "python",
   "pygments_lexer": "ipython3",
   "version": "3.6.12"
  }
 },
 "nbformat": 4,
 "nbformat_minor": 2
}
