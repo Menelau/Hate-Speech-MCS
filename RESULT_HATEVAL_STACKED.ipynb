{
  "nbformat": 4,
  "nbformat_minor": 0,
  "metadata": {
    "colab": {
      "name": "RESULT-HATEVAL-STACKED.ipynb",
      "provenance": [],
      "collapsed_sections": []
    },
    "kernelspec": {
      "name": "python3",
      "display_name": "Python 3"
    },
    "language_info": {
      "name": "python"
    }
  },
  "cells": [
    {
      "cell_type": "code",
      "metadata": {
        "id": "H_WblbsWINjI"
      },
      "source": [
        "import pandas as pd\n",
        "import numpy as np\n",
        "from sklearn.metrics import accuracy_score, f1_score\n",
        "from sklearn.neural_network import MLPClassifier\n",
        "from sklearn.ensemble import RandomForestClassifier"
      ],
      "execution_count": null,
      "outputs": []
    },
    {
      "cell_type": "code",
      "metadata": {
        "id": "Bbj1lEEeYFzI"
      },
      "source": [
        "df_val = pd.read_csv(\"https://raw.githubusercontent.com/wvs2/data-hate/master/HateVal/prob_val_hateval.csv\").dropna()\n",
        "df_test = pd.read_csv(\"https://raw.githubusercontent.com/wvs2/data-hate/master/HateVal/prob_test_hateval.csv\").dropna()\n",
        "\n",
        "test_original = pd.read_csv(\"hateval2019_en_test.csv\")"
      ],
      "execution_count": null,
      "outputs": []
    },
    {
      "cell_type": "code",
      "metadata": {
        "id": "GDNlMgJWYdjj"
      },
      "source": [
        "test, class_test = df_test.drop(columns=[\"Unnamed: 0\", \"HS\"]), df_test[\"HS\"]\n",
        "val, class_val = df_test.drop(columns=[\"Unnamed: 0\", \"HS\"]), df_test[\"HS\"]"
      ],
      "execution_count": null,
      "outputs": []
    },
    {
      "cell_type": "code",
      "metadata": {
        "id": "ZXJFbLEvIi9B"
      },
      "source": [
        "machines = [\"SVM\", \"LR\", \"RF\", \"NB\", \"EXTRA\", \"KNN\", \"MLP\", \"CNN\"]\n",
        "features = [\"CV\", \"TFIDF\", \"W2V\", \"GLOVE\", \"FAST\"]\n",
        "labels = [\"0\", \"1\"]\n",
        "clfs = {}\n",
        "\n",
        "for machine in machines:\n",
        "  clfs[machine] = []\n",
        "  for feature in features:\n",
        "    if machine == \"CNN\" and feature == \"TFIDF\":\n",
        "      feature = \"TF\"\n",
        "    for label in labels:\n",
        "      clfs[machine].append(\"{}-{}-{}\".format(machine, feature, label))\n",
        "\n",
        "\n",
        "clfs_by_features = {}\n",
        "for feature in features:\n",
        "  clfs_by_features[feature] = []\n",
        "  for machine in machines:\n",
        "    for label in labels:\n",
        "      if machine == \"CNN\" and feature == \"TFIDF\":\n",
        "        clfs_by_features[feature].append(\"CNN-TF-{}\".format(label))\n",
        "      else:\n",
        "        clfs_by_features[feature].append(\"{}-{}-{}\".format(machine, feature, label))"
      ],
      "execution_count": null,
      "outputs": []
    },
    {
      "cell_type": "code",
      "metadata": {
        "colab": {
          "base_uri": "https://localhost:8080/"
        },
        "id": "Ss1AGE9nPFdN",
        "outputId": "a3d0be7d-fef8-4629-cb23-cdda8f04b2f2"
      },
      "source": [
        "for machine, clf in clfs.items():\n",
        "  cols = clfs[machine]\n",
        "  # Instancia de MLP\n",
        "  val_vision = val[cols]    \n",
        "  test_vision = test[cols]\n",
        "\n",
        "  mlp = MLPClassifier(random_state=42, batch_size=20, verbose=100, activation='relu', solver='lbfgs')\n",
        "  mlp.fit(val_vision, class_val)\n",
        "  y_pred = mlp.predict(test_vision)\n",
        "  print(machine)\n",
        "  print(\"Accuracy: \",accuracy_score(class_test, y_pred))\n",
        "  print(\"F1: \", f1_score(class_test, y_pred, average=\"macro\"))\n",
        "  print(\"\")\n"
      ],
      "execution_count": null,
      "outputs": [
        {
          "output_type": "stream",
          "text": [
            "/usr/local/lib/python3.7/dist-packages/sklearn/neural_network/_multilayer_perceptron.py:470: ConvergenceWarning: lbfgs failed to converge (status=1):\n",
            "STOP: TOTAL NO. of ITERATIONS REACHED LIMIT.\n",
            "\n",
            "Increase the number of iterations (max_iter) or scale the data as shown in:\n",
            "    https://scikit-learn.org/stable/modules/preprocessing.html\n",
            "  self.n_iter_ = _check_optimize_result(\"lbfgs\", opt_res, self.max_iter)\n"
          ],
          "name": "stderr"
        },
        {
          "output_type": "stream",
          "text": [
            "SVM\n",
            "Accuracy:  0.692\n",
            "F1:  0.6732856572403528\n",
            "\n"
          ],
          "name": "stdout"
        },
        {
          "output_type": "stream",
          "text": [
            "/usr/local/lib/python3.7/dist-packages/sklearn/neural_network/_multilayer_perceptron.py:470: ConvergenceWarning: lbfgs failed to converge (status=1):\n",
            "STOP: TOTAL NO. of ITERATIONS REACHED LIMIT.\n",
            "\n",
            "Increase the number of iterations (max_iter) or scale the data as shown in:\n",
            "    https://scikit-learn.org/stable/modules/preprocessing.html\n",
            "  self.n_iter_ = _check_optimize_result(\"lbfgs\", opt_res, self.max_iter)\n"
          ],
          "name": "stderr"
        },
        {
          "output_type": "stream",
          "text": [
            "LR\n",
            "Accuracy:  0.6866666666666666\n",
            "F1:  0.6770379478120809\n",
            "\n"
          ],
          "name": "stdout"
        },
        {
          "output_type": "stream",
          "text": [
            "/usr/local/lib/python3.7/dist-packages/sklearn/neural_network/_multilayer_perceptron.py:470: ConvergenceWarning: lbfgs failed to converge (status=1):\n",
            "STOP: TOTAL NO. of ITERATIONS REACHED LIMIT.\n",
            "\n",
            "Increase the number of iterations (max_iter) or scale the data as shown in:\n",
            "    https://scikit-learn.org/stable/modules/preprocessing.html\n",
            "  self.n_iter_ = _check_optimize_result(\"lbfgs\", opt_res, self.max_iter)\n"
          ],
          "name": "stderr"
        },
        {
          "output_type": "stream",
          "text": [
            "RF\n",
            "Accuracy:  0.663\n",
            "F1:  0.6374087529503127\n",
            "\n"
          ],
          "name": "stdout"
        },
        {
          "output_type": "stream",
          "text": [
            "/usr/local/lib/python3.7/dist-packages/sklearn/neural_network/_multilayer_perceptron.py:470: ConvergenceWarning: lbfgs failed to converge (status=1):\n",
            "STOP: TOTAL NO. of ITERATIONS REACHED LIMIT.\n",
            "\n",
            "Increase the number of iterations (max_iter) or scale the data as shown in:\n",
            "    https://scikit-learn.org/stable/modules/preprocessing.html\n",
            "  self.n_iter_ = _check_optimize_result(\"lbfgs\", opt_res, self.max_iter)\n"
          ],
          "name": "stderr"
        },
        {
          "output_type": "stream",
          "text": [
            "NB\n",
            "Accuracy:  0.6386666666666667\n",
            "F1:  0.6063144641905961\n",
            "\n"
          ],
          "name": "stdout"
        },
        {
          "output_type": "stream",
          "text": [
            "/usr/local/lib/python3.7/dist-packages/sklearn/neural_network/_multilayer_perceptron.py:470: ConvergenceWarning: lbfgs failed to converge (status=1):\n",
            "STOP: TOTAL NO. of ITERATIONS REACHED LIMIT.\n",
            "\n",
            "Increase the number of iterations (max_iter) or scale the data as shown in:\n",
            "    https://scikit-learn.org/stable/modules/preprocessing.html\n",
            "  self.n_iter_ = _check_optimize_result(\"lbfgs\", opt_res, self.max_iter)\n"
          ],
          "name": "stderr"
        },
        {
          "output_type": "stream",
          "text": [
            "EXTRA\n",
            "Accuracy:  0.6466666666666666\n",
            "F1:  0.6232448898737704\n",
            "\n"
          ],
          "name": "stdout"
        },
        {
          "output_type": "stream",
          "text": [
            "/usr/local/lib/python3.7/dist-packages/sklearn/neural_network/_multilayer_perceptron.py:470: ConvergenceWarning: lbfgs failed to converge (status=1):\n",
            "STOP: TOTAL NO. of ITERATIONS REACHED LIMIT.\n",
            "\n",
            "Increase the number of iterations (max_iter) or scale the data as shown in:\n",
            "    https://scikit-learn.org/stable/modules/preprocessing.html\n",
            "  self.n_iter_ = _check_optimize_result(\"lbfgs\", opt_res, self.max_iter)\n"
          ],
          "name": "stderr"
        },
        {
          "output_type": "stream",
          "text": [
            "KNN\n",
            "Accuracy:  0.6486666666666666\n",
            "F1:  0.6214798342843024\n",
            "\n"
          ],
          "name": "stdout"
        },
        {
          "output_type": "stream",
          "text": [
            "/usr/local/lib/python3.7/dist-packages/sklearn/neural_network/_multilayer_perceptron.py:470: ConvergenceWarning: lbfgs failed to converge (status=1):\n",
            "STOP: TOTAL NO. of ITERATIONS REACHED LIMIT.\n",
            "\n",
            "Increase the number of iterations (max_iter) or scale the data as shown in:\n",
            "    https://scikit-learn.org/stable/modules/preprocessing.html\n",
            "  self.n_iter_ = _check_optimize_result(\"lbfgs\", opt_res, self.max_iter)\n"
          ],
          "name": "stderr"
        },
        {
          "output_type": "stream",
          "text": [
            "MLP\n",
            "Accuracy:  0.701\n",
            "F1:  0.687704505097519\n",
            "\n",
            "CNN\n",
            "Accuracy:  0.689\n",
            "F1:  0.6741225729903149\n",
            "\n"
          ],
          "name": "stdout"
        },
        {
          "output_type": "stream",
          "text": [
            "/usr/local/lib/python3.7/dist-packages/sklearn/neural_network/_multilayer_perceptron.py:470: ConvergenceWarning: lbfgs failed to converge (status=1):\n",
            "STOP: TOTAL NO. of ITERATIONS REACHED LIMIT.\n",
            "\n",
            "Increase the number of iterations (max_iter) or scale the data as shown in:\n",
            "    https://scikit-learn.org/stable/modules/preprocessing.html\n",
            "  self.n_iter_ = _check_optimize_result(\"lbfgs\", opt_res, self.max_iter)\n"
          ],
          "name": "stderr"
        }
      ]
    },
    {
      "cell_type": "code",
      "metadata": {
        "colab": {
          "base_uri": "https://localhost:8080/"
        },
        "id": "RYX8Maiy9wbu",
        "outputId": "55f2abbf-f650-4477-ef7e-3feb1a39e304"
      },
      "source": [
        "for feature, clfs in clfs_by_features.items():\n",
        "  # for clf in clfs:\n",
        "  cols = clfs\n",
        "  # # Instancia de MLP\n",
        "  val_vision = val[cols]    \n",
        "  test_vision = test[cols]\n",
        "\n",
        "  mlp = MLPClassifier(random_state=42, batch_size=20, verbose=100, activation='relu', solver='lbfgs')\n",
        "  mlp.fit(val_vision, class_val)\n",
        "  y_pred = mlp.predict(test_vision)\n",
        "  print(feature)\n",
        "  print(\"Accuracy: \",accuracy_score(class_test, y_pred))\n",
        "  print(\"F1: \", f1_score(class_test, y_pred, average=\"macro\"))\n",
        "  # print(\"\")\n"
      ],
      "execution_count": null,
      "outputs": [
        {
          "output_type": "stream",
          "text": [
            "/usr/local/lib/python3.7/dist-packages/sklearn/neural_network/_multilayer_perceptron.py:470: ConvergenceWarning: lbfgs failed to converge (status=1):\n",
            "STOP: TOTAL NO. of ITERATIONS REACHED LIMIT.\n",
            "\n",
            "Increase the number of iterations (max_iter) or scale the data as shown in:\n",
            "    https://scikit-learn.org/stable/modules/preprocessing.html\n",
            "  self.n_iter_ = _check_optimize_result(\"lbfgs\", opt_res, self.max_iter)\n"
          ],
          "name": "stderr"
        },
        {
          "output_type": "stream",
          "text": [
            "CV\n",
            "Accuracy:  0.687\n",
            "F1:  0.6769554316612805\n"
          ],
          "name": "stdout"
        },
        {
          "output_type": "stream",
          "text": [
            "/usr/local/lib/python3.7/dist-packages/sklearn/neural_network/_multilayer_perceptron.py:470: ConvergenceWarning: lbfgs failed to converge (status=1):\n",
            "STOP: TOTAL NO. of ITERATIONS REACHED LIMIT.\n",
            "\n",
            "Increase the number of iterations (max_iter) or scale the data as shown in:\n",
            "    https://scikit-learn.org/stable/modules/preprocessing.html\n",
            "  self.n_iter_ = _check_optimize_result(\"lbfgs\", opt_res, self.max_iter)\n"
          ],
          "name": "stderr"
        },
        {
          "output_type": "stream",
          "text": [
            "TFIDF\n",
            "Accuracy:  0.6956666666666667\n",
            "F1:  0.6845571552145788\n"
          ],
          "name": "stdout"
        },
        {
          "output_type": "stream",
          "text": [
            "/usr/local/lib/python3.7/dist-packages/sklearn/neural_network/_multilayer_perceptron.py:470: ConvergenceWarning: lbfgs failed to converge (status=1):\n",
            "STOP: TOTAL NO. of ITERATIONS REACHED LIMIT.\n",
            "\n",
            "Increase the number of iterations (max_iter) or scale the data as shown in:\n",
            "    https://scikit-learn.org/stable/modules/preprocessing.html\n",
            "  self.n_iter_ = _check_optimize_result(\"lbfgs\", opt_res, self.max_iter)\n"
          ],
          "name": "stderr"
        },
        {
          "output_type": "stream",
          "text": [
            "W2V\n",
            "Accuracy:  0.7303333333333333\n",
            "F1:  0.7162213024845896\n"
          ],
          "name": "stdout"
        },
        {
          "output_type": "stream",
          "text": [
            "/usr/local/lib/python3.7/dist-packages/sklearn/neural_network/_multilayer_perceptron.py:470: ConvergenceWarning: lbfgs failed to converge (status=1):\n",
            "STOP: TOTAL NO. of ITERATIONS REACHED LIMIT.\n",
            "\n",
            "Increase the number of iterations (max_iter) or scale the data as shown in:\n",
            "    https://scikit-learn.org/stable/modules/preprocessing.html\n",
            "  self.n_iter_ = _check_optimize_result(\"lbfgs\", opt_res, self.max_iter)\n"
          ],
          "name": "stderr"
        },
        {
          "output_type": "stream",
          "text": [
            "GLOVE\n",
            "Accuracy:  0.6823333333333333\n",
            "F1:  0.6629745542841428\n",
            "FAST\n",
            "Accuracy:  0.711\n",
            "F1:  0.6992490244672077\n"
          ],
          "name": "stdout"
        },
        {
          "output_type": "stream",
          "text": [
            "/usr/local/lib/python3.7/dist-packages/sklearn/neural_network/_multilayer_perceptron.py:470: ConvergenceWarning: lbfgs failed to converge (status=1):\n",
            "STOP: TOTAL NO. of ITERATIONS REACHED LIMIT.\n",
            "\n",
            "Increase the number of iterations (max_iter) or scale the data as shown in:\n",
            "    https://scikit-learn.org/stable/modules/preprocessing.html\n",
            "  self.n_iter_ = _check_optimize_result(\"lbfgs\", opt_res, self.max_iter)\n"
          ],
          "name": "stderr"
        }
      ]
    },
    {
      "cell_type": "code",
      "metadata": {
        "colab": {
          "base_uri": "https://localhost:8080/"
        },
        "id": "rninkiCb-AXa",
        "outputId": "debaa2a6-61f9-4861-e4bc-a90adae021cc"
      },
      "source": [
        "val_vision = val\n",
        "test_vision = test\n",
        "\n",
        "mlp = MLPClassifier(random_state=42, batch_size=20, verbose=100, activation='relu', solver='lbfgs')\n",
        "mlp.fit(val_vision, class_val)\n",
        "y_pred = mlp.predict(test_vision)\n",
        "# data_frame = pd.DataFrame(y_pred)\n",
        "print(\" TODOS \")\n",
        "print(\"Accuracy: \",accuracy_score(class_test, y_pred))\n",
        "print(\"F1: \", f1_score(class_test, y_pred, average=\"macro\"))\n",
        "# print(\"\")"
      ],
      "execution_count": null,
      "outputs": [
        {
          "output_type": "stream",
          "text": [
            " TODOS \n",
            "Accuracy:  0.8186666666666667\n",
            "F1:  0.8145682963598575\n"
          ],
          "name": "stdout"
        },
        {
          "output_type": "stream",
          "text": [
            "/usr/local/lib/python3.7/dist-packages/sklearn/neural_network/_multilayer_perceptron.py:470: ConvergenceWarning: lbfgs failed to converge (status=1):\n",
            "STOP: TOTAL NO. of ITERATIONS REACHED LIMIT.\n",
            "\n",
            "Increase the number of iterations (max_iter) or scale the data as shown in:\n",
            "    https://scikit-learn.org/stable/modules/preprocessing.html\n",
            "  self.n_iter_ = _check_optimize_result(\"lbfgs\", opt_res, self.max_iter)\n"
          ],
          "name": "stderr"
        }
      ]
    },
    {
      "cell_type": "code",
      "metadata": {
        "id": "guEA0v6rsVHH"
      },
      "source": [
        "index = 0\n",
        "export_pred = {\n",
        "    \"i\": [],\n",
        "    \"pred\": []\n",
        "}\n",
        "for y in y_pred:\n",
        "  export_pred[\"i\"].append(test_original[\"id\"][index])\n",
        "  export_pred[\"pred\"].append(y)\n",
        "  index += 1\n",
        "data_frame = pd.DataFrame(export_pred)\n",
        "data_frame.to_csv(\"en_a.tsv\", sep=\"\\t\")"
      ],
      "execution_count": null,
      "outputs": []
    },
    {
      "cell_type": "code",
      "metadata": {
        "id": "7rLIsB3b-JIW"
      },
      "source": [
        "clfs = [\n",
        "    \"CNN-TF\", \"CNN-FAST\", \"MLP-TFIDF\", \"LR-CV\", \"EXTRA-CV\", \"RF-GLOVE\", \"NB-GLOVE\", \"SVM-W2V\",\n",
        "    \"MLP-GLOVE\", \"CNN-W2V\", \"SVM-FAST\"\n",
        "]"
      ],
      "execution_count": null,
      "outputs": []
    },
    {
      "cell_type": "code",
      "metadata": {
        "colab": {
          "base_uri": "https://localhost:8080/"
        },
        "id": "5UdeeLUx-O4a",
        "outputId": "5d816732-30a4-4d59-e0f0-3f699c494d61"
      },
      "source": [
        "cols = []\n",
        "for clf in clfs:\n",
        "  for i in range(0,2):\n",
        "    cols.append(\"{}-{}\".format(clf, i))\n",
        "\n",
        "val_vision = val[cols]\n",
        "test_vision = test[cols]\n",
        "mlp = MLPClassifier(random_state=42, activation='relu')\n",
        "mlp.fit(val_vision, class_val)\n",
        "y_pred = mlp.predict(test_vision)\n",
        "print(\"=============== COMBINE ===============\")\n",
        "print(\"Accuracy: \",accuracy_score(class_test, y_pred))\n",
        "print(\"F1: \", f1_score(class_test, y_pred, average=\"macro\"))\n"
      ],
      "execution_count": null,
      "outputs": [
        {
          "output_type": "stream",
          "text": [
            "=============== COMBINE ===============\n",
            "Accuracy:  0.7343333333333333\n",
            "F1:  0.7266488555893107\n"
          ],
          "name": "stdout"
        },
        {
          "output_type": "stream",
          "text": [
            "/usr/local/lib/python3.7/dist-packages/sklearn/neural_network/_multilayer_perceptron.py:571: ConvergenceWarning: Stochastic Optimizer: Maximum iterations (200) reached and the optimization hasn't converged yet.\n",
            "  % self.max_iter, ConvergenceWarning)\n"
          ],
          "name": "stderr"
        }
      ]
    },
    {
      "cell_type": "code",
      "metadata": {
        "id": "LL_bHkRG8tf1"
      },
      "source": [
        "index = 0\n",
        "export_pred = {\n",
        "    \"i\": [],\n",
        "    \"pred\": []\n",
        "}\n",
        "for y in y_pred:\n",
        "  export_pred[\"i\"].append(test_original[\"id\"][index])\n",
        "  export_pred[\"pred\"].append(y)\n",
        "  index += 1\n",
        "data_frame = pd.DataFrame(export_pred)\n",
        "data_frame.to_csv(\"en_proposed.tsv\", sep=\"\\t\")"
      ],
      "execution_count": null,
      "outputs": []
    }
  ]
}