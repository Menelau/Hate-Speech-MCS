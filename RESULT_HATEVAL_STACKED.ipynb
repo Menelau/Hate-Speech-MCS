{
 "cells": [
  {
   "cell_type": "code",
   "execution_count": 2,
   "metadata": {
    "id": "H_WblbsWINjI"
   },
   "outputs": [],
   "source": [
    "import pandas as pd\n",
    "import numpy as np\n",
    "from sklearn.metrics import accuracy_score, f1_score\n",
    "from sklearn.neural_network import MLPClassifier\n",
    "from sklearn.ensemble import RandomForestClassifier"
   ]
  },
  {
   "cell_type": "code",
   "execution_count": 14,
   "metadata": {
    "id": "Bbj1lEEeYFzI"
   },
   "outputs": [],
   "source": [
    "df_val = pd.read_csv(\"./Saved_Predict_and_Proba/HateVal/prob_val_hateval.csv\").dropna()\n",
    "df_test = pd.read_csv(\"./Saved_Predict_and_Proba/HateVal/prob_test_hateval.csv\").dropna()\n",
    "\n",
    "#test_original = pd.read_csv(\"hateval2019_en_test.csv\")"
   ]
  },
  {
   "cell_type": "code",
   "execution_count": 21,
   "metadata": {},
   "outputs": [
    {
     "data": {
      "text/html": [
       "<div>\n",
       "<style scoped>\n",
       "    .dataframe tbody tr th:only-of-type {\n",
       "        vertical-align: middle;\n",
       "    }\n",
       "\n",
       "    .dataframe tbody tr th {\n",
       "        vertical-align: top;\n",
       "    }\n",
       "\n",
       "    .dataframe thead th {\n",
       "        text-align: right;\n",
       "    }\n",
       "</style>\n",
       "<table border=\"1\" class=\"dataframe\">\n",
       "  <thead>\n",
       "    <tr style=\"text-align: right;\">\n",
       "      <th></th>\n",
       "      <th>SVM-CV-0</th>\n",
       "      <th>SVM-CV-1</th>\n",
       "      <th>SVM-TFIDF-0</th>\n",
       "      <th>SVM-TFIDF-1</th>\n",
       "      <th>SVM-W2V-0</th>\n",
       "      <th>SVM-W2V-1</th>\n",
       "      <th>SVM-GLOVE-0</th>\n",
       "      <th>SVM-GLOVE-1</th>\n",
       "      <th>SVM-FAST-0</th>\n",
       "      <th>SVM-FAST-1</th>\n",
       "      <th>...</th>\n",
       "      <th>CNN-CV-0</th>\n",
       "      <th>CNN-CV-1</th>\n",
       "      <th>CNN-TF-0</th>\n",
       "      <th>CNN-TF-1</th>\n",
       "      <th>CNN-W2V-0</th>\n",
       "      <th>CNN-W2V-1</th>\n",
       "      <th>CNN-GLOVE-0</th>\n",
       "      <th>CNN-GLOVE-1</th>\n",
       "      <th>CNN-FAST-0</th>\n",
       "      <th>CNN-FAST-1</th>\n",
       "    </tr>\n",
       "  </thead>\n",
       "  <tbody>\n",
       "    <tr>\n",
       "      <th>0</th>\n",
       "      <td>0.486781</td>\n",
       "      <td>0.513219</td>\n",
       "      <td>0.654715</td>\n",
       "      <td>0.345285</td>\n",
       "      <td>0.884450</td>\n",
       "      <td>0.115550</td>\n",
       "      <td>0.790905</td>\n",
       "      <td>0.209095</td>\n",
       "      <td>0.750945</td>\n",
       "      <td>0.249055</td>\n",
       "      <td>...</td>\n",
       "      <td>0.460461</td>\n",
       "      <td>0.549115</td>\n",
       "      <td>0.850960</td>\n",
       "      <td>0.149040</td>\n",
       "      <td>0.940934</td>\n",
       "      <td>0.050987</td>\n",
       "      <td>0.731840</td>\n",
       "      <td>0.283039</td>\n",
       "      <td>0.840848</td>\n",
       "      <td>0.171628</td>\n",
       "    </tr>\n",
       "    <tr>\n",
       "      <th>1</th>\n",
       "      <td>0.781277</td>\n",
       "      <td>0.218723</td>\n",
       "      <td>0.749477</td>\n",
       "      <td>0.250523</td>\n",
       "      <td>0.624969</td>\n",
       "      <td>0.375031</td>\n",
       "      <td>0.619476</td>\n",
       "      <td>0.380524</td>\n",
       "      <td>0.801191</td>\n",
       "      <td>0.198809</td>\n",
       "      <td>...</td>\n",
       "      <td>0.680375</td>\n",
       "      <td>0.326438</td>\n",
       "      <td>0.782636</td>\n",
       "      <td>0.217364</td>\n",
       "      <td>0.414142</td>\n",
       "      <td>0.635783</td>\n",
       "      <td>0.666393</td>\n",
       "      <td>0.414184</td>\n",
       "      <td>0.571130</td>\n",
       "      <td>0.435830</td>\n",
       "    </tr>\n",
       "    <tr>\n",
       "      <th>2</th>\n",
       "      <td>0.321903</td>\n",
       "      <td>0.678097</td>\n",
       "      <td>0.387439</td>\n",
       "      <td>0.612561</td>\n",
       "      <td>0.564798</td>\n",
       "      <td>0.435202</td>\n",
       "      <td>0.500000</td>\n",
       "      <td>0.500000</td>\n",
       "      <td>0.677917</td>\n",
       "      <td>0.322083</td>\n",
       "      <td>...</td>\n",
       "      <td>0.273653</td>\n",
       "      <td>0.735016</td>\n",
       "      <td>0.322314</td>\n",
       "      <td>0.677686</td>\n",
       "      <td>0.478558</td>\n",
       "      <td>0.423757</td>\n",
       "      <td>0.569707</td>\n",
       "      <td>0.511869</td>\n",
       "      <td>0.260053</td>\n",
       "      <td>0.790097</td>\n",
       "    </tr>\n",
       "    <tr>\n",
       "      <th>3</th>\n",
       "      <td>0.511771</td>\n",
       "      <td>0.488229</td>\n",
       "      <td>0.278925</td>\n",
       "      <td>0.721075</td>\n",
       "      <td>0.032511</td>\n",
       "      <td>0.967489</td>\n",
       "      <td>0.331694</td>\n",
       "      <td>0.668306</td>\n",
       "      <td>0.258335</td>\n",
       "      <td>0.741665</td>\n",
       "      <td>...</td>\n",
       "      <td>0.163921</td>\n",
       "      <td>0.841985</td>\n",
       "      <td>0.093543</td>\n",
       "      <td>0.906457</td>\n",
       "      <td>0.218375</td>\n",
       "      <td>0.846013</td>\n",
       "      <td>0.475389</td>\n",
       "      <td>0.637007</td>\n",
       "      <td>0.150747</td>\n",
       "      <td>0.881052</td>\n",
       "    </tr>\n",
       "    <tr>\n",
       "      <th>4</th>\n",
       "      <td>0.757450</td>\n",
       "      <td>0.242550</td>\n",
       "      <td>0.819497</td>\n",
       "      <td>0.180503</td>\n",
       "      <td>0.649146</td>\n",
       "      <td>0.350854</td>\n",
       "      <td>0.716117</td>\n",
       "      <td>0.283883</td>\n",
       "      <td>0.814917</td>\n",
       "      <td>0.185083</td>\n",
       "      <td>...</td>\n",
       "      <td>0.828747</td>\n",
       "      <td>0.175573</td>\n",
       "      <td>0.880530</td>\n",
       "      <td>0.119470</td>\n",
       "      <td>0.747611</td>\n",
       "      <td>0.233458</td>\n",
       "      <td>0.626580</td>\n",
       "      <td>0.420869</td>\n",
       "      <td>0.506922</td>\n",
       "      <td>0.515023</td>\n",
       "    </tr>\n",
       "    <tr>\n",
       "      <th>...</th>\n",
       "      <td>...</td>\n",
       "      <td>...</td>\n",
       "      <td>...</td>\n",
       "      <td>...</td>\n",
       "      <td>...</td>\n",
       "      <td>...</td>\n",
       "      <td>...</td>\n",
       "      <td>...</td>\n",
       "      <td>...</td>\n",
       "      <td>...</td>\n",
       "      <td>...</td>\n",
       "      <td>...</td>\n",
       "      <td>...</td>\n",
       "      <td>...</td>\n",
       "      <td>...</td>\n",
       "      <td>...</td>\n",
       "      <td>...</td>\n",
       "      <td>...</td>\n",
       "      <td>...</td>\n",
       "      <td>...</td>\n",
       "      <td>...</td>\n",
       "    </tr>\n",
       "    <tr>\n",
       "      <th>2995</th>\n",
       "      <td>0.184540</td>\n",
       "      <td>0.815460</td>\n",
       "      <td>0.028258</td>\n",
       "      <td>0.971742</td>\n",
       "      <td>0.133516</td>\n",
       "      <td>0.866484</td>\n",
       "      <td>0.212785</td>\n",
       "      <td>0.787215</td>\n",
       "      <td>0.258966</td>\n",
       "      <td>0.741034</td>\n",
       "      <td>...</td>\n",
       "      <td>0.235507</td>\n",
       "      <td>0.772046</td>\n",
       "      <td>0.201868</td>\n",
       "      <td>0.798132</td>\n",
       "      <td>0.084145</td>\n",
       "      <td>0.938056</td>\n",
       "      <td>0.299370</td>\n",
       "      <td>0.818335</td>\n",
       "      <td>0.269695</td>\n",
       "      <td>0.807974</td>\n",
       "    </tr>\n",
       "    <tr>\n",
       "      <th>2996</th>\n",
       "      <td>0.296207</td>\n",
       "      <td>0.703793</td>\n",
       "      <td>0.114402</td>\n",
       "      <td>0.885598</td>\n",
       "      <td>0.525522</td>\n",
       "      <td>0.474478</td>\n",
       "      <td>0.460764</td>\n",
       "      <td>0.539236</td>\n",
       "      <td>0.536058</td>\n",
       "      <td>0.463942</td>\n",
       "      <td>...</td>\n",
       "      <td>0.205054</td>\n",
       "      <td>0.801722</td>\n",
       "      <td>0.120144</td>\n",
       "      <td>0.879856</td>\n",
       "      <td>0.729394</td>\n",
       "      <td>0.268596</td>\n",
       "      <td>0.553762</td>\n",
       "      <td>0.602211</td>\n",
       "      <td>0.429774</td>\n",
       "      <td>0.621916</td>\n",
       "    </tr>\n",
       "    <tr>\n",
       "      <th>2997</th>\n",
       "      <td>0.605681</td>\n",
       "      <td>0.394319</td>\n",
       "      <td>0.485971</td>\n",
       "      <td>0.514029</td>\n",
       "      <td>0.330591</td>\n",
       "      <td>0.669409</td>\n",
       "      <td>0.423398</td>\n",
       "      <td>0.576602</td>\n",
       "      <td>0.304939</td>\n",
       "      <td>0.695061</td>\n",
       "      <td>...</td>\n",
       "      <td>0.212753</td>\n",
       "      <td>0.794515</td>\n",
       "      <td>0.184281</td>\n",
       "      <td>0.815719</td>\n",
       "      <td>0.518736</td>\n",
       "      <td>0.548666</td>\n",
       "      <td>0.597657</td>\n",
       "      <td>0.524998</td>\n",
       "      <td>0.552849</td>\n",
       "      <td>0.514614</td>\n",
       "    </tr>\n",
       "    <tr>\n",
       "      <th>2998</th>\n",
       "      <td>0.177778</td>\n",
       "      <td>0.822222</td>\n",
       "      <td>0.144353</td>\n",
       "      <td>0.855647</td>\n",
       "      <td>0.206356</td>\n",
       "      <td>0.793644</td>\n",
       "      <td>0.123845</td>\n",
       "      <td>0.876155</td>\n",
       "      <td>0.340304</td>\n",
       "      <td>0.659696</td>\n",
       "      <td>...</td>\n",
       "      <td>0.249601</td>\n",
       "      <td>0.758107</td>\n",
       "      <td>0.181876</td>\n",
       "      <td>0.818124</td>\n",
       "      <td>0.060985</td>\n",
       "      <td>0.948891</td>\n",
       "      <td>0.340004</td>\n",
       "      <td>0.696148</td>\n",
       "      <td>0.088798</td>\n",
       "      <td>0.942934</td>\n",
       "    </tr>\n",
       "    <tr>\n",
       "      <th>2999</th>\n",
       "      <td>0.248168</td>\n",
       "      <td>0.751832</td>\n",
       "      <td>0.053982</td>\n",
       "      <td>0.946018</td>\n",
       "      <td>0.040063</td>\n",
       "      <td>0.959937</td>\n",
       "      <td>0.198860</td>\n",
       "      <td>0.801140</td>\n",
       "      <td>0.039299</td>\n",
       "      <td>0.960701</td>\n",
       "      <td>...</td>\n",
       "      <td>0.232516</td>\n",
       "      <td>0.774933</td>\n",
       "      <td>0.225312</td>\n",
       "      <td>0.774688</td>\n",
       "      <td>0.049101</td>\n",
       "      <td>0.959732</td>\n",
       "      <td>0.321011</td>\n",
       "      <td>0.853672</td>\n",
       "      <td>0.162846</td>\n",
       "      <td>0.883929</td>\n",
       "    </tr>\n",
       "  </tbody>\n",
       "</table>\n",
       "<p>3000 rows × 80 columns</p>\n",
       "</div>"
      ],
      "text/plain": [
       "      SVM-CV-0  SVM-CV-1  SVM-TFIDF-0  SVM-TFIDF-1  SVM-W2V-0  SVM-W2V-1  \\\n",
       "0     0.486781  0.513219     0.654715     0.345285   0.884450   0.115550   \n",
       "1     0.781277  0.218723     0.749477     0.250523   0.624969   0.375031   \n",
       "2     0.321903  0.678097     0.387439     0.612561   0.564798   0.435202   \n",
       "3     0.511771  0.488229     0.278925     0.721075   0.032511   0.967489   \n",
       "4     0.757450  0.242550     0.819497     0.180503   0.649146   0.350854   \n",
       "...        ...       ...          ...          ...        ...        ...   \n",
       "2995  0.184540  0.815460     0.028258     0.971742   0.133516   0.866484   \n",
       "2996  0.296207  0.703793     0.114402     0.885598   0.525522   0.474478   \n",
       "2997  0.605681  0.394319     0.485971     0.514029   0.330591   0.669409   \n",
       "2998  0.177778  0.822222     0.144353     0.855647   0.206356   0.793644   \n",
       "2999  0.248168  0.751832     0.053982     0.946018   0.040063   0.959937   \n",
       "\n",
       "      SVM-GLOVE-0  SVM-GLOVE-1  SVM-FAST-0  SVM-FAST-1  ...  CNN-CV-0  \\\n",
       "0        0.790905     0.209095    0.750945    0.249055  ...  0.460461   \n",
       "1        0.619476     0.380524    0.801191    0.198809  ...  0.680375   \n",
       "2        0.500000     0.500000    0.677917    0.322083  ...  0.273653   \n",
       "3        0.331694     0.668306    0.258335    0.741665  ...  0.163921   \n",
       "4        0.716117     0.283883    0.814917    0.185083  ...  0.828747   \n",
       "...           ...          ...         ...         ...  ...       ...   \n",
       "2995     0.212785     0.787215    0.258966    0.741034  ...  0.235507   \n",
       "2996     0.460764     0.539236    0.536058    0.463942  ...  0.205054   \n",
       "2997     0.423398     0.576602    0.304939    0.695061  ...  0.212753   \n",
       "2998     0.123845     0.876155    0.340304    0.659696  ...  0.249601   \n",
       "2999     0.198860     0.801140    0.039299    0.960701  ...  0.232516   \n",
       "\n",
       "      CNN-CV-1  CNN-TF-0  CNN-TF-1  CNN-W2V-0  CNN-W2V-1  CNN-GLOVE-0  \\\n",
       "0     0.549115  0.850960  0.149040   0.940934   0.050987     0.731840   \n",
       "1     0.326438  0.782636  0.217364   0.414142   0.635783     0.666393   \n",
       "2     0.735016  0.322314  0.677686   0.478558   0.423757     0.569707   \n",
       "3     0.841985  0.093543  0.906457   0.218375   0.846013     0.475389   \n",
       "4     0.175573  0.880530  0.119470   0.747611   0.233458     0.626580   \n",
       "...        ...       ...       ...        ...        ...          ...   \n",
       "2995  0.772046  0.201868  0.798132   0.084145   0.938056     0.299370   \n",
       "2996  0.801722  0.120144  0.879856   0.729394   0.268596     0.553762   \n",
       "2997  0.794515  0.184281  0.815719   0.518736   0.548666     0.597657   \n",
       "2998  0.758107  0.181876  0.818124   0.060985   0.948891     0.340004   \n",
       "2999  0.774933  0.225312  0.774688   0.049101   0.959732     0.321011   \n",
       "\n",
       "      CNN-GLOVE-1  CNN-FAST-0  CNN-FAST-1  \n",
       "0        0.283039    0.840848    0.171628  \n",
       "1        0.414184    0.571130    0.435830  \n",
       "2        0.511869    0.260053    0.790097  \n",
       "3        0.637007    0.150747    0.881052  \n",
       "4        0.420869    0.506922    0.515023  \n",
       "...           ...         ...         ...  \n",
       "2995     0.818335    0.269695    0.807974  \n",
       "2996     0.602211    0.429774    0.621916  \n",
       "2997     0.524998    0.552849    0.514614  \n",
       "2998     0.696148    0.088798    0.942934  \n",
       "2999     0.853672    0.162846    0.883929  \n",
       "\n",
       "[3000 rows x 80 columns]"
      ]
     },
     "execution_count": 21,
     "metadata": {},
     "output_type": "execute_result"
    }
   ],
   "source": [
    "val"
   ]
  },
  {
   "cell_type": "code",
   "execution_count": 22,
   "metadata": {
    "id": "GDNlMgJWYdjj"
   },
   "outputs": [],
   "source": [
    "test, class_test = df_test.drop(columns=[\"Unnamed: 0\", \"HS\"]), df_test[\"HS\"]\n",
    "val, class_val = df_test.drop(columns=[\"Unnamed: 0\", \"HS\"]), df_test[\"HS\"]"
   ]
  },
  {
   "cell_type": "code",
   "execution_count": 16,
   "metadata": {
    "id": "ZXJFbLEvIi9B"
   },
   "outputs": [],
   "source": [
    "machines = [\"SVM\", \"LR\", \"RF\", \"NB\", \"EXTRA\", \"KNN\", \"MLP\", \"CNN\"]\n",
    "features = [\"CV\", \"TFIDF\", \"W2V\", \"GLOVE\", \"FAST\"]\n",
    "labels = [\"0\", \"1\"]\n",
    "clfs = {}\n",
    "\n",
    "for machine in machines:\n",
    "    clfs[machine] = []\n",
    "    for feature in features:\n",
    "        if machine == \"CNN\" and feature == \"TFIDF\":\n",
    "            feature = \"TF\"\n",
    "            for label in labels:\n",
    "                clfs[machine].append(\"{}-{}-{}\".format(machine, feature, label))\n",
    "\n",
    "\n",
    "clfs_by_features = {}\n",
    "for feature in features:\n",
    "    clfs_by_features[feature] = []\n",
    "    for machine in machines:\n",
    "        for label in labels:\n",
    "            if machine == \"CNN\" and feature == \"TFIDF\":\n",
    "                clfs_by_features[feature].append(\"CNN-TF-{}\".format(label))\n",
    "            else:\n",
    "                clfs_by_features[feature].append(\"{}-{}-{}\".format(machine, feature, label))"
   ]
  },
  {
   "cell_type": "code",
   "execution_count": 23,
   "metadata": {
    "scrolled": true
   },
   "outputs": [
    {
     "data": {
      "text/plain": [
       "{'CV': ['SVM-CV-0',\n",
       "  'SVM-CV-1',\n",
       "  'LR-CV-0',\n",
       "  'LR-CV-1',\n",
       "  'RF-CV-0',\n",
       "  'RF-CV-1',\n",
       "  'NB-CV-0',\n",
       "  'NB-CV-1',\n",
       "  'EXTRA-CV-0',\n",
       "  'EXTRA-CV-1',\n",
       "  'KNN-CV-0',\n",
       "  'KNN-CV-1',\n",
       "  'MLP-CV-0',\n",
       "  'MLP-CV-1',\n",
       "  'CNN-CV-0',\n",
       "  'CNN-CV-1'],\n",
       " 'TFIDF': ['SVM-TFIDF-0',\n",
       "  'SVM-TFIDF-1',\n",
       "  'LR-TFIDF-0',\n",
       "  'LR-TFIDF-1',\n",
       "  'RF-TFIDF-0',\n",
       "  'RF-TFIDF-1',\n",
       "  'NB-TFIDF-0',\n",
       "  'NB-TFIDF-1',\n",
       "  'EXTRA-TFIDF-0',\n",
       "  'EXTRA-TFIDF-1',\n",
       "  'KNN-TFIDF-0',\n",
       "  'KNN-TFIDF-1',\n",
       "  'MLP-TFIDF-0',\n",
       "  'MLP-TFIDF-1',\n",
       "  'CNN-TF-0',\n",
       "  'CNN-TF-1'],\n",
       " 'W2V': ['SVM-W2V-0',\n",
       "  'SVM-W2V-1',\n",
       "  'LR-W2V-0',\n",
       "  'LR-W2V-1',\n",
       "  'RF-W2V-0',\n",
       "  'RF-W2V-1',\n",
       "  'NB-W2V-0',\n",
       "  'NB-W2V-1',\n",
       "  'EXTRA-W2V-0',\n",
       "  'EXTRA-W2V-1',\n",
       "  'KNN-W2V-0',\n",
       "  'KNN-W2V-1',\n",
       "  'MLP-W2V-0',\n",
       "  'MLP-W2V-1',\n",
       "  'CNN-W2V-0',\n",
       "  'CNN-W2V-1'],\n",
       " 'GLOVE': ['SVM-GLOVE-0',\n",
       "  'SVM-GLOVE-1',\n",
       "  'LR-GLOVE-0',\n",
       "  'LR-GLOVE-1',\n",
       "  'RF-GLOVE-0',\n",
       "  'RF-GLOVE-1',\n",
       "  'NB-GLOVE-0',\n",
       "  'NB-GLOVE-1',\n",
       "  'EXTRA-GLOVE-0',\n",
       "  'EXTRA-GLOVE-1',\n",
       "  'KNN-GLOVE-0',\n",
       "  'KNN-GLOVE-1',\n",
       "  'MLP-GLOVE-0',\n",
       "  'MLP-GLOVE-1',\n",
       "  'CNN-GLOVE-0',\n",
       "  'CNN-GLOVE-1'],\n",
       " 'FAST': ['SVM-FAST-0',\n",
       "  'SVM-FAST-1',\n",
       "  'LR-FAST-0',\n",
       "  'LR-FAST-1',\n",
       "  'RF-FAST-0',\n",
       "  'RF-FAST-1',\n",
       "  'NB-FAST-0',\n",
       "  'NB-FAST-1',\n",
       "  'EXTRA-FAST-0',\n",
       "  'EXTRA-FAST-1',\n",
       "  'KNN-FAST-0',\n",
       "  'KNN-FAST-1',\n",
       "  'MLP-FAST-0',\n",
       "  'MLP-FAST-1',\n",
       "  'CNN-FAST-0',\n",
       "  'CNN-FAST-1']}"
      ]
     },
     "execution_count": 23,
     "metadata": {},
     "output_type": "execute_result"
    }
   ],
   "source": [
    "clfs_by_features"
   ]
  },
  {
   "cell_type": "code",
   "execution_count": 17,
   "metadata": {
    "colab": {
     "base_uri": "https://localhost:8080/"
    },
    "id": "Ss1AGE9nPFdN",
    "outputId": "a3d0be7d-fef8-4629-cb23-cdda8f04b2f2"
   },
   "outputs": [
    {
     "ename": "ValueError",
     "evalue": "at least one array or dtype is required",
     "output_type": "error",
     "traceback": [
      "\u001b[0;31m---------------------------------------------------------------------------\u001b[0m",
      "\u001b[0;31mValueError\u001b[0m                                Traceback (most recent call last)",
      "\u001b[0;32m<ipython-input-17-9df2be29d1e6>\u001b[0m in \u001b[0;36m<module>\u001b[0;34m\u001b[0m\n\u001b[1;32m      6\u001b[0m \u001b[0;34m\u001b[0m\u001b[0m\n\u001b[1;32m      7\u001b[0m     \u001b[0mmlp\u001b[0m \u001b[0;34m=\u001b[0m \u001b[0mMLPClassifier\u001b[0m\u001b[0;34m(\u001b[0m\u001b[0mrandom_state\u001b[0m\u001b[0;34m=\u001b[0m\u001b[0;36m42\u001b[0m\u001b[0;34m,\u001b[0m \u001b[0mbatch_size\u001b[0m\u001b[0;34m=\u001b[0m\u001b[0;36m20\u001b[0m\u001b[0;34m,\u001b[0m \u001b[0mverbose\u001b[0m\u001b[0;34m=\u001b[0m\u001b[0;36m100\u001b[0m\u001b[0;34m,\u001b[0m \u001b[0mactivation\u001b[0m\u001b[0;34m=\u001b[0m\u001b[0;34m'relu'\u001b[0m\u001b[0;34m,\u001b[0m \u001b[0msolver\u001b[0m\u001b[0;34m=\u001b[0m\u001b[0;34m'lbfgs'\u001b[0m\u001b[0;34m)\u001b[0m\u001b[0;34m\u001b[0m\u001b[0;34m\u001b[0m\u001b[0m\n\u001b[0;32m----> 8\u001b[0;31m     \u001b[0mmlp\u001b[0m\u001b[0;34m.\u001b[0m\u001b[0mfit\u001b[0m\u001b[0;34m(\u001b[0m\u001b[0mval_vision\u001b[0m\u001b[0;34m,\u001b[0m \u001b[0mclass_val\u001b[0m\u001b[0;34m)\u001b[0m\u001b[0;34m\u001b[0m\u001b[0;34m\u001b[0m\u001b[0m\n\u001b[0m\u001b[1;32m      9\u001b[0m     \u001b[0my_pred\u001b[0m \u001b[0;34m=\u001b[0m \u001b[0mmlp\u001b[0m\u001b[0;34m.\u001b[0m\u001b[0mpredict\u001b[0m\u001b[0;34m(\u001b[0m\u001b[0mtest_vision\u001b[0m\u001b[0;34m)\u001b[0m\u001b[0;34m\u001b[0m\u001b[0;34m\u001b[0m\u001b[0m\n\u001b[1;32m     10\u001b[0m     \u001b[0mprint\u001b[0m\u001b[0;34m(\u001b[0m\u001b[0mmachine\u001b[0m\u001b[0;34m)\u001b[0m\u001b[0;34m\u001b[0m\u001b[0;34m\u001b[0m\u001b[0m\n",
      "\u001b[0;32m~/opt/anaconda3/envs/deslib/lib/python3.7/site-packages/sklearn/neural_network/_multilayer_perceptron.py\u001b[0m in \u001b[0;36mfit\u001b[0;34m(self, X, y)\u001b[0m\n\u001b[1;32m    671\u001b[0m         \u001b[0mself\u001b[0m \u001b[0;34m:\u001b[0m \u001b[0mreturns\u001b[0m \u001b[0ma\u001b[0m \u001b[0mtrained\u001b[0m \u001b[0mMLP\u001b[0m \u001b[0mmodel\u001b[0m\u001b[0;34m.\u001b[0m\u001b[0;34m\u001b[0m\u001b[0;34m\u001b[0m\u001b[0m\n\u001b[1;32m    672\u001b[0m         \"\"\"\n\u001b[0;32m--> 673\u001b[0;31m         \u001b[0;32mreturn\u001b[0m \u001b[0mself\u001b[0m\u001b[0;34m.\u001b[0m\u001b[0m_fit\u001b[0m\u001b[0;34m(\u001b[0m\u001b[0mX\u001b[0m\u001b[0;34m,\u001b[0m \u001b[0my\u001b[0m\u001b[0;34m,\u001b[0m \u001b[0mincremental\u001b[0m\u001b[0;34m=\u001b[0m\u001b[0;32mFalse\u001b[0m\u001b[0;34m)\u001b[0m\u001b[0;34m\u001b[0m\u001b[0;34m\u001b[0m\u001b[0m\n\u001b[0m\u001b[1;32m    674\u001b[0m \u001b[0;34m\u001b[0m\u001b[0m\n\u001b[1;32m    675\u001b[0m     \u001b[0;34m@\u001b[0m\u001b[0mproperty\u001b[0m\u001b[0;34m\u001b[0m\u001b[0;34m\u001b[0m\u001b[0m\n",
      "\u001b[0;32m~/opt/anaconda3/envs/deslib/lib/python3.7/site-packages/sklearn/neural_network/_multilayer_perceptron.py\u001b[0m in \u001b[0;36m_fit\u001b[0;34m(self, X, y, incremental)\u001b[0m\n\u001b[1;32m    362\u001b[0m                       (not self.warm_start and not incremental))\n\u001b[1;32m    363\u001b[0m \u001b[0;34m\u001b[0m\u001b[0m\n\u001b[0;32m--> 364\u001b[0;31m         \u001b[0mX\u001b[0m\u001b[0;34m,\u001b[0m \u001b[0my\u001b[0m \u001b[0;34m=\u001b[0m \u001b[0mself\u001b[0m\u001b[0;34m.\u001b[0m\u001b[0m_validate_input\u001b[0m\u001b[0;34m(\u001b[0m\u001b[0mX\u001b[0m\u001b[0;34m,\u001b[0m \u001b[0my\u001b[0m\u001b[0;34m,\u001b[0m \u001b[0mincremental\u001b[0m\u001b[0;34m,\u001b[0m \u001b[0mreset\u001b[0m\u001b[0;34m=\u001b[0m\u001b[0mfirst_pass\u001b[0m\u001b[0;34m)\u001b[0m\u001b[0;34m\u001b[0m\u001b[0;34m\u001b[0m\u001b[0m\n\u001b[0m\u001b[1;32m    365\u001b[0m \u001b[0;34m\u001b[0m\u001b[0m\n\u001b[1;32m    366\u001b[0m         \u001b[0mn_samples\u001b[0m\u001b[0;34m,\u001b[0m \u001b[0mn_features\u001b[0m \u001b[0;34m=\u001b[0m \u001b[0mX\u001b[0m\u001b[0;34m.\u001b[0m\u001b[0mshape\u001b[0m\u001b[0;34m\u001b[0m\u001b[0;34m\u001b[0m\u001b[0m\n",
      "\u001b[0;32m~/opt/anaconda3/envs/deslib/lib/python3.7/site-packages/sklearn/neural_network/_multilayer_perceptron.py\u001b[0m in \u001b[0;36m_validate_input\u001b[0;34m(self, X, y, incremental, reset)\u001b[0m\n\u001b[1;32m    969\u001b[0m                                    \u001b[0mmulti_output\u001b[0m\u001b[0;34m=\u001b[0m\u001b[0;32mTrue\u001b[0m\u001b[0;34m,\u001b[0m\u001b[0;34m\u001b[0m\u001b[0;34m\u001b[0m\u001b[0m\n\u001b[1;32m    970\u001b[0m                                    \u001b[0mdtype\u001b[0m\u001b[0;34m=\u001b[0m\u001b[0;34m(\u001b[0m\u001b[0mnp\u001b[0m\u001b[0;34m.\u001b[0m\u001b[0mfloat64\u001b[0m\u001b[0;34m,\u001b[0m \u001b[0mnp\u001b[0m\u001b[0;34m.\u001b[0m\u001b[0mfloat32\u001b[0m\u001b[0;34m)\u001b[0m\u001b[0;34m,\u001b[0m\u001b[0;34m\u001b[0m\u001b[0;34m\u001b[0m\u001b[0m\n\u001b[0;32m--> 971\u001b[0;31m                                    reset=reset)\n\u001b[0m\u001b[1;32m    972\u001b[0m         \u001b[0;32mif\u001b[0m \u001b[0my\u001b[0m\u001b[0;34m.\u001b[0m\u001b[0mndim\u001b[0m \u001b[0;34m==\u001b[0m \u001b[0;36m2\u001b[0m \u001b[0;32mand\u001b[0m \u001b[0my\u001b[0m\u001b[0;34m.\u001b[0m\u001b[0mshape\u001b[0m\u001b[0;34m[\u001b[0m\u001b[0;36m1\u001b[0m\u001b[0;34m]\u001b[0m \u001b[0;34m==\u001b[0m \u001b[0;36m1\u001b[0m\u001b[0;34m:\u001b[0m\u001b[0;34m\u001b[0m\u001b[0;34m\u001b[0m\u001b[0m\n\u001b[1;32m    973\u001b[0m             \u001b[0my\u001b[0m \u001b[0;34m=\u001b[0m \u001b[0mcolumn_or_1d\u001b[0m\u001b[0;34m(\u001b[0m\u001b[0my\u001b[0m\u001b[0;34m,\u001b[0m \u001b[0mwarn\u001b[0m\u001b[0;34m=\u001b[0m\u001b[0;32mTrue\u001b[0m\u001b[0;34m)\u001b[0m\u001b[0;34m\u001b[0m\u001b[0;34m\u001b[0m\u001b[0m\n",
      "\u001b[0;32m~/opt/anaconda3/envs/deslib/lib/python3.7/site-packages/sklearn/base.py\u001b[0m in \u001b[0;36m_validate_data\u001b[0;34m(self, X, y, reset, validate_separately, **check_params)\u001b[0m\n\u001b[1;32m    431\u001b[0m                 \u001b[0my\u001b[0m \u001b[0;34m=\u001b[0m \u001b[0mcheck_array\u001b[0m\u001b[0;34m(\u001b[0m\u001b[0my\u001b[0m\u001b[0;34m,\u001b[0m \u001b[0;34m**\u001b[0m\u001b[0mcheck_y_params\u001b[0m\u001b[0;34m)\u001b[0m\u001b[0;34m\u001b[0m\u001b[0;34m\u001b[0m\u001b[0m\n\u001b[1;32m    432\u001b[0m             \u001b[0;32melse\u001b[0m\u001b[0;34m:\u001b[0m\u001b[0;34m\u001b[0m\u001b[0;34m\u001b[0m\u001b[0m\n\u001b[0;32m--> 433\u001b[0;31m                 \u001b[0mX\u001b[0m\u001b[0;34m,\u001b[0m \u001b[0my\u001b[0m \u001b[0;34m=\u001b[0m \u001b[0mcheck_X_y\u001b[0m\u001b[0;34m(\u001b[0m\u001b[0mX\u001b[0m\u001b[0;34m,\u001b[0m \u001b[0my\u001b[0m\u001b[0;34m,\u001b[0m \u001b[0;34m**\u001b[0m\u001b[0mcheck_params\u001b[0m\u001b[0;34m)\u001b[0m\u001b[0;34m\u001b[0m\u001b[0;34m\u001b[0m\u001b[0m\n\u001b[0m\u001b[1;32m    434\u001b[0m             \u001b[0mout\u001b[0m \u001b[0;34m=\u001b[0m \u001b[0mX\u001b[0m\u001b[0;34m,\u001b[0m \u001b[0my\u001b[0m\u001b[0;34m\u001b[0m\u001b[0;34m\u001b[0m\u001b[0m\n\u001b[1;32m    435\u001b[0m \u001b[0;34m\u001b[0m\u001b[0m\n",
      "\u001b[0;32m~/opt/anaconda3/envs/deslib/lib/python3.7/site-packages/sklearn/utils/validation.py\u001b[0m in \u001b[0;36minner_f\u001b[0;34m(*args, **kwargs)\u001b[0m\n\u001b[1;32m     61\u001b[0m             \u001b[0mextra_args\u001b[0m \u001b[0;34m=\u001b[0m \u001b[0mlen\u001b[0m\u001b[0;34m(\u001b[0m\u001b[0margs\u001b[0m\u001b[0;34m)\u001b[0m \u001b[0;34m-\u001b[0m \u001b[0mlen\u001b[0m\u001b[0;34m(\u001b[0m\u001b[0mall_args\u001b[0m\u001b[0;34m)\u001b[0m\u001b[0;34m\u001b[0m\u001b[0;34m\u001b[0m\u001b[0m\n\u001b[1;32m     62\u001b[0m             \u001b[0;32mif\u001b[0m \u001b[0mextra_args\u001b[0m \u001b[0;34m<=\u001b[0m \u001b[0;36m0\u001b[0m\u001b[0;34m:\u001b[0m\u001b[0;34m\u001b[0m\u001b[0;34m\u001b[0m\u001b[0m\n\u001b[0;32m---> 63\u001b[0;31m                 \u001b[0;32mreturn\u001b[0m \u001b[0mf\u001b[0m\u001b[0;34m(\u001b[0m\u001b[0;34m*\u001b[0m\u001b[0margs\u001b[0m\u001b[0;34m,\u001b[0m \u001b[0;34m**\u001b[0m\u001b[0mkwargs\u001b[0m\u001b[0;34m)\u001b[0m\u001b[0;34m\u001b[0m\u001b[0;34m\u001b[0m\u001b[0m\n\u001b[0m\u001b[1;32m     64\u001b[0m \u001b[0;34m\u001b[0m\u001b[0m\n\u001b[1;32m     65\u001b[0m             \u001b[0;31m# extra_args > 0\u001b[0m\u001b[0;34m\u001b[0m\u001b[0;34m\u001b[0m\u001b[0;34m\u001b[0m\u001b[0m\n",
      "\u001b[0;32m~/opt/anaconda3/envs/deslib/lib/python3.7/site-packages/sklearn/utils/validation.py\u001b[0m in \u001b[0;36mcheck_X_y\u001b[0;34m(X, y, accept_sparse, accept_large_sparse, dtype, order, copy, force_all_finite, ensure_2d, allow_nd, multi_output, ensure_min_samples, ensure_min_features, y_numeric, estimator)\u001b[0m\n\u001b[1;32m    819\u001b[0m                     \u001b[0mensure_min_samples\u001b[0m\u001b[0;34m=\u001b[0m\u001b[0mensure_min_samples\u001b[0m\u001b[0;34m,\u001b[0m\u001b[0;34m\u001b[0m\u001b[0;34m\u001b[0m\u001b[0m\n\u001b[1;32m    820\u001b[0m                     \u001b[0mensure_min_features\u001b[0m\u001b[0;34m=\u001b[0m\u001b[0mensure_min_features\u001b[0m\u001b[0;34m,\u001b[0m\u001b[0;34m\u001b[0m\u001b[0;34m\u001b[0m\u001b[0m\n\u001b[0;32m--> 821\u001b[0;31m                     estimator=estimator)\n\u001b[0m\u001b[1;32m    822\u001b[0m     \u001b[0;32mif\u001b[0m \u001b[0mmulti_output\u001b[0m\u001b[0;34m:\u001b[0m\u001b[0;34m\u001b[0m\u001b[0;34m\u001b[0m\u001b[0m\n\u001b[1;32m    823\u001b[0m         y = check_array(y, accept_sparse='csr', force_all_finite=True,\n",
      "\u001b[0;32m~/opt/anaconda3/envs/deslib/lib/python3.7/site-packages/sklearn/utils/validation.py\u001b[0m in \u001b[0;36minner_f\u001b[0;34m(*args, **kwargs)\u001b[0m\n\u001b[1;32m     61\u001b[0m             \u001b[0mextra_args\u001b[0m \u001b[0;34m=\u001b[0m \u001b[0mlen\u001b[0m\u001b[0;34m(\u001b[0m\u001b[0margs\u001b[0m\u001b[0;34m)\u001b[0m \u001b[0;34m-\u001b[0m \u001b[0mlen\u001b[0m\u001b[0;34m(\u001b[0m\u001b[0mall_args\u001b[0m\u001b[0;34m)\u001b[0m\u001b[0;34m\u001b[0m\u001b[0;34m\u001b[0m\u001b[0m\n\u001b[1;32m     62\u001b[0m             \u001b[0;32mif\u001b[0m \u001b[0mextra_args\u001b[0m \u001b[0;34m<=\u001b[0m \u001b[0;36m0\u001b[0m\u001b[0;34m:\u001b[0m\u001b[0;34m\u001b[0m\u001b[0;34m\u001b[0m\u001b[0m\n\u001b[0;32m---> 63\u001b[0;31m                 \u001b[0;32mreturn\u001b[0m \u001b[0mf\u001b[0m\u001b[0;34m(\u001b[0m\u001b[0;34m*\u001b[0m\u001b[0margs\u001b[0m\u001b[0;34m,\u001b[0m \u001b[0;34m**\u001b[0m\u001b[0mkwargs\u001b[0m\u001b[0;34m)\u001b[0m\u001b[0;34m\u001b[0m\u001b[0;34m\u001b[0m\u001b[0m\n\u001b[0m\u001b[1;32m     64\u001b[0m \u001b[0;34m\u001b[0m\u001b[0m\n\u001b[1;32m     65\u001b[0m             \u001b[0;31m# extra_args > 0\u001b[0m\u001b[0;34m\u001b[0m\u001b[0;34m\u001b[0m\u001b[0;34m\u001b[0m\u001b[0m\n",
      "\u001b[0;32m~/opt/anaconda3/envs/deslib/lib/python3.7/site-packages/sklearn/utils/validation.py\u001b[0m in \u001b[0;36mcheck_array\u001b[0;34m(array, accept_sparse, accept_large_sparse, dtype, order, copy, force_all_finite, ensure_2d, allow_nd, ensure_min_samples, ensure_min_features, estimator)\u001b[0m\n\u001b[1;32m    538\u001b[0m \u001b[0;34m\u001b[0m\u001b[0m\n\u001b[1;32m    539\u001b[0m         \u001b[0;32mif\u001b[0m \u001b[0mall\u001b[0m\u001b[0;34m(\u001b[0m\u001b[0misinstance\u001b[0m\u001b[0;34m(\u001b[0m\u001b[0mdtype\u001b[0m\u001b[0;34m,\u001b[0m \u001b[0mnp\u001b[0m\u001b[0;34m.\u001b[0m\u001b[0mdtype\u001b[0m\u001b[0;34m)\u001b[0m \u001b[0;32mfor\u001b[0m \u001b[0mdtype\u001b[0m \u001b[0;32min\u001b[0m \u001b[0mdtypes_orig\u001b[0m\u001b[0;34m)\u001b[0m\u001b[0;34m:\u001b[0m\u001b[0;34m\u001b[0m\u001b[0;34m\u001b[0m\u001b[0m\n\u001b[0;32m--> 540\u001b[0;31m             \u001b[0mdtype_orig\u001b[0m \u001b[0;34m=\u001b[0m \u001b[0mnp\u001b[0m\u001b[0;34m.\u001b[0m\u001b[0mresult_type\u001b[0m\u001b[0;34m(\u001b[0m\u001b[0;34m*\u001b[0m\u001b[0mdtypes_orig\u001b[0m\u001b[0;34m)\u001b[0m\u001b[0;34m\u001b[0m\u001b[0;34m\u001b[0m\u001b[0m\n\u001b[0m\u001b[1;32m    541\u001b[0m \u001b[0;34m\u001b[0m\u001b[0m\n\u001b[1;32m    542\u001b[0m     \u001b[0;32mif\u001b[0m \u001b[0mdtype_numeric\u001b[0m\u001b[0;34m:\u001b[0m\u001b[0;34m\u001b[0m\u001b[0;34m\u001b[0m\u001b[0m\n",
      "\u001b[0;32m<__array_function__ internals>\u001b[0m in \u001b[0;36mresult_type\u001b[0;34m(*args, **kwargs)\u001b[0m\n",
      "\u001b[0;31mValueError\u001b[0m: at least one array or dtype is required"
     ]
    }
   ],
   "source": [
    "for machine, clf in clfs.items():\n",
    "    cols = clfs[machine]\n",
    "    val_vision = val[cols]    \n",
    "    test_vision = test[cols]\n",
    "\n",
    "    mlp = MLPClassifier(random_state=42, batch_size=20, verbose=100, activation='relu', solver='lbfgs')\n",
    "    mlp.fit(val_vision, class_val)\n",
    "    y_pred = mlp.predict(test_vision)\n",
    "    print(machine)\n",
    "    print(\"Accuracy: \",accuracy_score(class_test, y_pred))\n",
    "    print(\"F1: \", f1_score(class_test, y_pred, average=\"macro\"))\n",
    "    print(\"\")"
   ]
  },
  {
   "cell_type": "code",
   "execution_count": null,
   "metadata": {
    "colab": {
     "base_uri": "https://localhost:8080/"
    },
    "id": "RYX8Maiy9wbu",
    "outputId": "55f2abbf-f650-4477-ef7e-3feb1a39e304"
   },
   "outputs": [
    {
     "name": "stderr",
     "output_type": "stream",
     "text": [
      "/usr/local/lib/python3.7/dist-packages/sklearn/neural_network/_multilayer_perceptron.py:470: ConvergenceWarning: lbfgs failed to converge (status=1):\n",
      "STOP: TOTAL NO. of ITERATIONS REACHED LIMIT.\n",
      "\n",
      "Increase the number of iterations (max_iter) or scale the data as shown in:\n",
      "    https://scikit-learn.org/stable/modules/preprocessing.html\n",
      "  self.n_iter_ = _check_optimize_result(\"lbfgs\", opt_res, self.max_iter)\n"
     ]
    },
    {
     "name": "stdout",
     "output_type": "stream",
     "text": [
      "CV\n",
      "Accuracy:  0.687\n",
      "F1:  0.6769554316612805\n"
     ]
    },
    {
     "name": "stderr",
     "output_type": "stream",
     "text": [
      "/usr/local/lib/python3.7/dist-packages/sklearn/neural_network/_multilayer_perceptron.py:470: ConvergenceWarning: lbfgs failed to converge (status=1):\n",
      "STOP: TOTAL NO. of ITERATIONS REACHED LIMIT.\n",
      "\n",
      "Increase the number of iterations (max_iter) or scale the data as shown in:\n",
      "    https://scikit-learn.org/stable/modules/preprocessing.html\n",
      "  self.n_iter_ = _check_optimize_result(\"lbfgs\", opt_res, self.max_iter)\n"
     ]
    },
    {
     "name": "stdout",
     "output_type": "stream",
     "text": [
      "TFIDF\n",
      "Accuracy:  0.6956666666666667\n",
      "F1:  0.6845571552145788\n"
     ]
    },
    {
     "name": "stderr",
     "output_type": "stream",
     "text": [
      "/usr/local/lib/python3.7/dist-packages/sklearn/neural_network/_multilayer_perceptron.py:470: ConvergenceWarning: lbfgs failed to converge (status=1):\n",
      "STOP: TOTAL NO. of ITERATIONS REACHED LIMIT.\n",
      "\n",
      "Increase the number of iterations (max_iter) or scale the data as shown in:\n",
      "    https://scikit-learn.org/stable/modules/preprocessing.html\n",
      "  self.n_iter_ = _check_optimize_result(\"lbfgs\", opt_res, self.max_iter)\n"
     ]
    },
    {
     "name": "stdout",
     "output_type": "stream",
     "text": [
      "W2V\n",
      "Accuracy:  0.7303333333333333\n",
      "F1:  0.7162213024845896\n"
     ]
    },
    {
     "name": "stderr",
     "output_type": "stream",
     "text": [
      "/usr/local/lib/python3.7/dist-packages/sklearn/neural_network/_multilayer_perceptron.py:470: ConvergenceWarning: lbfgs failed to converge (status=1):\n",
      "STOP: TOTAL NO. of ITERATIONS REACHED LIMIT.\n",
      "\n",
      "Increase the number of iterations (max_iter) or scale the data as shown in:\n",
      "    https://scikit-learn.org/stable/modules/preprocessing.html\n",
      "  self.n_iter_ = _check_optimize_result(\"lbfgs\", opt_res, self.max_iter)\n"
     ]
    },
    {
     "name": "stdout",
     "output_type": "stream",
     "text": [
      "GLOVE\n",
      "Accuracy:  0.6823333333333333\n",
      "F1:  0.6629745542841428\n",
      "FAST\n",
      "Accuracy:  0.711\n",
      "F1:  0.6992490244672077\n"
     ]
    },
    {
     "name": "stderr",
     "output_type": "stream",
     "text": [
      "/usr/local/lib/python3.7/dist-packages/sklearn/neural_network/_multilayer_perceptron.py:470: ConvergenceWarning: lbfgs failed to converge (status=1):\n",
      "STOP: TOTAL NO. of ITERATIONS REACHED LIMIT.\n",
      "\n",
      "Increase the number of iterations (max_iter) or scale the data as shown in:\n",
      "    https://scikit-learn.org/stable/modules/preprocessing.html\n",
      "  self.n_iter_ = _check_optimize_result(\"lbfgs\", opt_res, self.max_iter)\n"
     ]
    }
   ],
   "source": [
    "for feature, clfs in clfs_by_features.items():\n",
    "    # for clf in clfs:\n",
    "    cols = clfs\n",
    "    # # Instancia de MLP\n",
    "    val_vision = val[cols]    \n",
    "    test_vision = test[cols]\n",
    "\n",
    "    mlp = MLPClassifier(random_state=42, batch_size=20, verbose=100, activation='relu', solver='lbfgs')\n",
    "    mlp.fit(val_vision, class_val)\n",
    "    y_pred = mlp.predict(test_vision)\n",
    "    print(feature)\n",
    "    print(\"Accuracy: \",accuracy_score(class_test, y_pred))\n",
    "    print(\"F1: \", f1_score(class_test, y_pred, average=\"macro\"))\n",
    "    # print(\"\")"
   ]
  },
  {
   "cell_type": "code",
   "execution_count": 24,
   "metadata": {
    "colab": {
     "base_uri": "https://localhost:8080/"
    },
    "id": "rninkiCb-AXa",
    "outputId": "debaa2a6-61f9-4861-e4bc-a90adae021cc"
   },
   "outputs": [
    {
     "name": "stdout",
     "output_type": "stream",
     "text": [
      " TODOS \n",
      "Accuracy:  0.815\n",
      "F1:  0.8103246933667982\n"
     ]
    },
    {
     "name": "stderr",
     "output_type": "stream",
     "text": [
      "/Users/rafaelmenelauoliveiraecruz/opt/anaconda3/envs/deslib/lib/python3.7/site-packages/sklearn/neural_network/_multilayer_perceptron.py:500: ConvergenceWarning: lbfgs failed to converge (status=1):\n",
      "STOP: TOTAL NO. of ITERATIONS REACHED LIMIT.\n",
      "\n",
      "Increase the number of iterations (max_iter) or scale the data as shown in:\n",
      "    https://scikit-learn.org/stable/modules/preprocessing.html\n",
      "  self.n_iter_ = _check_optimize_result(\"lbfgs\", opt_res, self.max_iter)\n"
     ]
    }
   ],
   "source": [
    "val_vision = val\n",
    "test_vision = test\n",
    "\n",
    "mlp = MLPClassifier(random_state=42, batch_size=20, verbose=100, activation='relu', solver='lbfgs')\n",
    "mlp.fit(val_vision, class_val)\n",
    "y_pred = mlp.predict(test_vision)\n",
    "print(\" All \")\n",
    "print(\"Accuracy: \",accuracy_score(class_test, y_pred))\n",
    "print(\"F1: \", f1_score(class_test, y_pred, average=\"macro\"))\n",
    "# print(\"\")"
   ]
  },
  {
   "cell_type": "code",
   "execution_count": 25,
   "metadata": {
    "id": "guEA0v6rsVHH"
   },
   "outputs": [
    {
     "ename": "NameError",
     "evalue": "name 'test_original' is not defined",
     "output_type": "error",
     "traceback": [
      "\u001b[0;31m---------------------------------------------------------------------------\u001b[0m",
      "\u001b[0;31mNameError\u001b[0m                                 Traceback (most recent call last)",
      "\u001b[0;32m<ipython-input-25-d14a6c7cc317>\u001b[0m in \u001b[0;36m<module>\u001b[0;34m\u001b[0m\n\u001b[1;32m      5\u001b[0m }\n\u001b[1;32m      6\u001b[0m \u001b[0;32mfor\u001b[0m \u001b[0my\u001b[0m \u001b[0;32min\u001b[0m \u001b[0my_pred\u001b[0m\u001b[0;34m:\u001b[0m\u001b[0;34m\u001b[0m\u001b[0;34m\u001b[0m\u001b[0m\n\u001b[0;32m----> 7\u001b[0;31m     \u001b[0mexport_pred\u001b[0m\u001b[0;34m[\u001b[0m\u001b[0;34m\"i\"\u001b[0m\u001b[0;34m]\u001b[0m\u001b[0;34m.\u001b[0m\u001b[0mappend\u001b[0m\u001b[0;34m(\u001b[0m\u001b[0mtest_original\u001b[0m\u001b[0;34m[\u001b[0m\u001b[0;34m\"id\"\u001b[0m\u001b[0;34m]\u001b[0m\u001b[0;34m[\u001b[0m\u001b[0mindex\u001b[0m\u001b[0;34m]\u001b[0m\u001b[0;34m)\u001b[0m\u001b[0;34m\u001b[0m\u001b[0;34m\u001b[0m\u001b[0m\n\u001b[0m\u001b[1;32m      8\u001b[0m     \u001b[0mexport_pred\u001b[0m\u001b[0;34m[\u001b[0m\u001b[0;34m\"pred\"\u001b[0m\u001b[0;34m]\u001b[0m\u001b[0;34m.\u001b[0m\u001b[0mappend\u001b[0m\u001b[0;34m(\u001b[0m\u001b[0my\u001b[0m\u001b[0;34m)\u001b[0m\u001b[0;34m\u001b[0m\u001b[0;34m\u001b[0m\u001b[0m\n\u001b[1;32m      9\u001b[0m     \u001b[0mindex\u001b[0m \u001b[0;34m+=\u001b[0m \u001b[0;36m1\u001b[0m\u001b[0;34m\u001b[0m\u001b[0;34m\u001b[0m\u001b[0m\n",
      "\u001b[0;31mNameError\u001b[0m: name 'test_original' is not defined"
     ]
    }
   ],
   "source": [
    "index = 0\n",
    "export_pred = {\n",
    "    \"i\": [],\n",
    "    \"pred\": []\n",
    "}\n",
    "for y in y_pred:\n",
    "    export_pred[\"i\"].append(test_original[\"id\"][index])\n",
    "    export_pred[\"pred\"].append(y)\n",
    "    index += 1\n",
    "data_frame = pd.DataFrame(export_pred)\n",
    "data_frame.to_csv(\"en_a.tsv\", sep=\"\\t\")"
   ]
  },
  {
   "cell_type": "code",
   "execution_count": null,
   "metadata": {
    "id": "7rLIsB3b-JIW"
   },
   "outputs": [],
   "source": [
    "clfs = [\n",
    "    \"CNN-TF\", \"CNN-FAST\", \"MLP-TFIDF\", \"LR-CV\", \"EXTRA-CV\", \"RF-GLOVE\", \"NB-GLOVE\", \"SVM-W2V\",\n",
    "    \"MLP-GLOVE\", \"CNN-W2V\", \"SVM-FAST\"\n",
    "]"
   ]
  },
  {
   "cell_type": "code",
   "execution_count": null,
   "metadata": {
    "colab": {
     "base_uri": "https://localhost:8080/"
    },
    "id": "5UdeeLUx-O4a",
    "outputId": "5d816732-30a4-4d59-e0f0-3f699c494d61"
   },
   "outputs": [
    {
     "name": "stdout",
     "output_type": "stream",
     "text": [
      "=============== COMBINE ===============\n",
      "Accuracy:  0.7343333333333333\n",
      "F1:  0.7266488555893107\n"
     ]
    },
    {
     "name": "stderr",
     "output_type": "stream",
     "text": [
      "/usr/local/lib/python3.7/dist-packages/sklearn/neural_network/_multilayer_perceptron.py:571: ConvergenceWarning: Stochastic Optimizer: Maximum iterations (200) reached and the optimization hasn't converged yet.\n",
      "  % self.max_iter, ConvergenceWarning)\n"
     ]
    }
   ],
   "source": [
    "cols = []\n",
    "for clf in clfs:\n",
    "  for i in range(0,2):\n",
    "    cols.append(\"{}-{}\".format(clf, i))\n",
    "\n",
    "val_vision = val[cols]\n",
    "test_vision = test[cols]\n",
    "mlp = MLPClassifier(random_state=42, activation='relu')\n",
    "mlp.fit(val_vision, class_val)\n",
    "y_pred = mlp.predict(test_vision)\n",
    "print(\"=============== COMBINE ===============\")\n",
    "print(\"Accuracy: \",accuracy_score(class_test, y_pred))\n",
    "print(\"F1: \", f1_score(class_test, y_pred, average=\"macro\"))\n"
   ]
  },
  {
   "cell_type": "code",
   "execution_count": null,
   "metadata": {
    "id": "LL_bHkRG8tf1"
   },
   "outputs": [],
   "source": [
    "index = 0\n",
    "export_pred = {\n",
    "    \"i\": [],\n",
    "    \"pred\": []\n",
    "}\n",
    "for y in y_pred:\n",
    "  export_pred[\"i\"].append(test_original[\"id\"][index])\n",
    "  export_pred[\"pred\"].append(y)\n",
    "  index += 1\n",
    "data_frame = pd.DataFrame(export_pred)\n",
    "data_frame.to_csv(\"en_proposed.tsv\", sep=\"\\t\")"
   ]
  }
 ],
 "metadata": {
  "colab": {
   "collapsed_sections": [],
   "name": "RESULT-HATEVAL-STACKED.ipynb",
   "provenance": []
  },
  "kernelspec": {
   "display_name": "Python [conda env:deslib]",
   "language": "python",
   "name": "conda-env-deslib-py"
  },
  "language_info": {
   "codemirror_mode": {
    "name": "ipython",
    "version": 3
   },
   "file_extension": ".py",
   "mimetype": "text/x-python",
   "name": "python",
   "nbconvert_exporter": "python",
   "pygments_lexer": "ipython3",
   "version": "3.7.10"
  }
 },
 "nbformat": 4,
 "nbformat_minor": 1
}
