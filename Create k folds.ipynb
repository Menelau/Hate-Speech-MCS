{
 "cells": [
  {
   "cell_type": "code",
   "execution_count": 1,
   "id": "c13cc82a",
   "metadata": {},
   "outputs": [],
   "source": [
    "import pandas as pd\n",
    "from sklearn.model_selection import StratifiedKFold\n",
    "from preprocessing import pre_processing\n",
    "from sklearn.model_selection import train_test_split\n",
    "\n",
    "def load_dataset(dataset_name):\n",
    "    path = './Data/'+dataset_name+'/'\n",
    "    train = pd.read_csv(path+'train.csv').dropna()\n",
    "    test = pd.read_csv(path+'test.csv').dropna()\n",
    "    val = pd.read_csv(path+'val.csv').dropna()\n",
    "    dataset = pd.concat([train, test, val])\n",
    "    X = dataset['text'].apply(pre_processing)\n",
    "    if dataset_name == 'ZW':\n",
    "        y = dataset['norm']\n",
    "    else:\n",
    "        y = dataset['class']\n",
    "    return X, y\n",
    "\n",
    "kfold = StratifiedKFold(n_splits=5)"
   ]
  },
  {
   "cell_type": "code",
   "execution_count": 2,
   "id": "c7da2f4e",
   "metadata": {},
   "outputs": [],
   "source": [
    "dataset_name = 'Union'\n",
    "path = './Data/'+dataset_name+'/'\n",
    "X, y = load_dataset(dataset_name)\n",
    "folds = kfold.split(X, y)\n",
    "\n",
    "for fold, data in enumerate(folds):\n",
    "    train, test = data\n",
    "    X_train, X_test = X.iloc[train], X.iloc[test]\n",
    "    y_train, y_test = y.iloc[train], y.iloc[test]\n",
    "    # using 15% for validation\n",
    "    X_train, X_val, y_train, y_val = train_test_split(X_train, y_train, test_size=0.15, stratify=y_train)\n",
    "    \n",
    "    folder = path + 'F' + str(fold+1) + '/'\n",
    "    X_train.to_csv(folder+'train.csv')\n",
    "    X_test.to_csv(folder+'test.csv')\n",
    "    X_val.to_csv(folder+'val.csv')\n",
    "    \n",
    "    y_train.to_csv(folder+'train_labels.csv')\n",
    "    y_test.to_csv(folder+'test_labels.csv')\n",
    "    y_val.to_csv(folder+'val_labels.csv')"
   ]
  },
  {
   "cell_type": "code",
   "execution_count": 12,
   "id": "8e94289d",
   "metadata": {},
   "outputs": [
    {
     "data": {
      "text/plain": [
       "1       1\n",
       "2       1\n",
       "3       1\n",
       "4       1\n",
       "5       1\n",
       "       ..\n",
       "4966    1\n",
       "4967    1\n",
       "4968    1\n",
       "4969    1\n",
       "4970    1\n",
       "Name: class, Length: 19190, dtype: int64"
      ]
     },
     "execution_count": 12,
     "metadata": {},
     "output_type": "execute_result"
    }
   ],
   "source": [
    "y[y==1]"
   ]
  }
 ],
 "metadata": {
  "kernelspec": {
   "display_name": "Python 3",
   "language": "python",
   "name": "python3"
  },
  "language_info": {
   "codemirror_mode": {
    "name": "ipython",
    "version": 3
   },
   "file_extension": ".py",
   "mimetype": "text/x-python",
   "name": "python",
   "nbconvert_exporter": "python",
   "pygments_lexer": "ipython3",
   "version": "3.8.8"
  }
 },
 "nbformat": 4,
 "nbformat_minor": 5
}
