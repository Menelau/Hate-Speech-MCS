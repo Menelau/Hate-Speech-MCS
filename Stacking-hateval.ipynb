{
 "cells": [
  {
   "cell_type": "code",
   "execution_count": 1,
   "metadata": {},
   "outputs": [],
   "source": [
    "import warnings\n",
    "warnings.filterwarnings('ignore')\n",
    "import pandas as pd\n",
    "import numpy as np\n",
    "from sklearn.linear_model import LogisticRegression, LogisticRegressionCV\n",
    "from sklearn.metrics import f1_score, accuracy_score\n",
    "from sklearn.neural_network import MLPClassifier"
   ]
  },
  {
   "cell_type": "code",
   "execution_count": 2,
   "metadata": {},
   "outputs": [],
   "source": [
    "val_df = pd.read_csv(\"./Saved_Predict_and_Proba/HateVal/prob_val_hateval.csv\").dropna()\n",
    "test_df = pd.read_csv(\"./Saved_Predict_and_Proba/HateVal/prob_test_hateval.csv\").dropna()\n",
    "probas_val, labels_val = val_df.drop(columns=[\"Unnamed: 0\", \"HS\"]), val_df[\"HS\"]\n",
    "probas_test, labels_test = test_df.drop(columns=[\"Unnamed: 0\", \"HS\"]), test_df[\"HS\"]"
   ]
  },
  {
   "cell_type": "code",
   "execution_count": 3,
   "metadata": {},
   "outputs": [],
   "source": [
    "def filter_df_train_test(train_df, test_df, name, filter_first=True):\n",
    "    train = train_df.filter(regex=name, axis=1)\n",
    "    test = test_df.filter(regex=name, axis=1)\n",
    "    return train.to_numpy(), test.to_numpy()\n",
    "\n",
    "def filter_collinearity(X_train, X_test):\n",
    "    X_train = X_train[:, ::2]\n",
    "    X_test = X_test[:, ::2]\n",
    "    return X_train, X_test\n",
    "stacking = LogisticRegression()"
   ]
  },
  {
   "cell_type": "markdown",
   "metadata": {},
   "source": [
    "## Stacking group A - Varying Classification methods"
   ]
  },
  {
   "cell_type": "code",
   "execution_count": 4,
   "metadata": {},
   "outputs": [],
   "source": [
    "algorithms_list = ['SVM', 'MLP', 'KNN', 'RF', 'EXTRA', 'CNN', 'LR', 'NB']\n",
    "results_A = np.zeros(len(algorithms_list))\n",
    "\n",
    "for idx_alg, algorithm in enumerate(algorithms_list):\n",
    "    X_val, X_test = filter_df_train_test(probas_val, probas_test, algorithm)\n",
    "    X_val, X_test = filter_collinearity(X_val, X_test)\n",
    "    stacking.fit(X_val, labels_val)\n",
    "    y_pred = stacking.predict(X_test)\n",
    "    score = f1_score(labels_test, y_pred)\n",
    "    results_A[idx_alg] = score"
   ]
  },
  {
   "cell_type": "markdown",
   "metadata": {},
   "source": [
    "# Stacking group B - Varying Feature Representation methods"
   ]
  },
  {
   "cell_type": "code",
   "execution_count": 6,
   "metadata": {},
   "outputs": [],
   "source": [
    "stacking = MLPClassifier(random_state=42, batch_size=128, verbose=100, activation='relu', solver='lbfgs', max_iter=1000)\n",
    "\n",
    "fe_list = ['CV', 'TFIDF', 'W2V', 'GLOVE', 'FAST']\n",
    "results_B = np.zeros(len(fe_list))\n",
    "for idx_alg, fe in enumerate(fe_list):\n",
    "    X_val, X_test = filter_df_train_test(probas_val, probas_test, fe)\n",
    "    stacking.fit(X_val, labels_val)\n",
    "    y_pred = stacking.predict(X_test)\n",
    "    results_B[idx_alg] = f1_score(labels_test, y_pred)"
   ]
  },
  {
   "cell_type": "markdown",
   "metadata": {},
   "source": [
    "# Stacking group C -  ALL techniques"
   ]
  },
  {
   "cell_type": "code",
   "execution_count": 8,
   "metadata": {},
   "outputs": [],
   "source": [
    "results_C = 0\n",
    "stacking.fit(probas_val.to_numpy(), labels_val)\n",
    "y_pred = stacking.predict(probas_test.to_numpy())\n",
    "results_C = f1_score(labels_test, y_pred)"
   ]
  },
  {
   "cell_type": "markdown",
   "metadata": {},
   "source": [
    "# Stacking group D - Proposed Selection scheme"
   ]
  },
  {
   "cell_type": "code",
   "execution_count": 10,
   "metadata": {},
   "outputs": [],
   "source": [
    "names = 'CNN-CV|CNN-FAST|RF-GLOVE|NB-GLOVE|SVM-W2V|MLP-GLOVE|CNN-W2V|SVM-FAST'\n",
    "\n",
    "X_val, X_test = filter_df_train_test(probas_val, probas_test, names)\n",
    "X_val, X_test = filter_collinearity(X_val, X_test)\n",
    "\n",
    "stacking.fit(X_val, labels_val)\n",
    "y_pred = stacking.predict(X_test)\n",
    "results_D = f1_score(labels_test, y_pred)"
   ]
  },
  {
   "cell_type": "markdown",
   "metadata": {},
   "source": [
    "## Summarizing results"
   ]
  },
  {
   "cell_type": "code",
   "execution_count": 12,
   "metadata": {},
   "outputs": [
    {
     "ename": "NameError",
     "evalue": "name 'all_stacking_names' is not defined",
     "output_type": "error",
     "traceback": [
      "\u001b[1;31m---------------------------------------------------------------------------\u001b[0m",
      "\u001b[1;31mNameError\u001b[0m                                 Traceback (most recent call last)",
      "\u001b[1;32m<ipython-input-12-8a19c766cce6>\u001b[0m in \u001b[0;36m<module>\u001b[1;34m\u001b[0m\n\u001b[0;32m      1\u001b[0m \u001b[0malgorithms_list_A\u001b[0m \u001b[1;33m=\u001b[0m \u001b[1;33m[\u001b[0m\u001b[0malg\u001b[0m \u001b[1;33m+\u001b[0m \u001b[1;34m' (Group A)'\u001b[0m \u001b[1;32mfor\u001b[0m \u001b[0malg\u001b[0m \u001b[1;32min\u001b[0m \u001b[0malgorithms_list\u001b[0m\u001b[1;33m]\u001b[0m\u001b[1;33m\u001b[0m\u001b[1;33m\u001b[0m\u001b[0m\n\u001b[1;32m----> 2\u001b[1;33m \u001b[0mgroup_A_df\u001b[0m \u001b[1;33m=\u001b[0m \u001b[0mpd\u001b[0m\u001b[1;33m.\u001b[0m\u001b[0mDataFrame\u001b[0m\u001b[1;33m(\u001b[0m\u001b[0mresults_A\u001b[0m\u001b[1;33m,\u001b[0m \u001b[0mcolumns\u001b[0m\u001b[1;33m=\u001b[0m\u001b[0mall_stacking_names\u001b[0m\u001b[1;33m,\u001b[0m \u001b[0mindex\u001b[0m\u001b[1;33m=\u001b[0m\u001b[0malgorithms_list_A\u001b[0m\u001b[1;33m)\u001b[0m\u001b[1;33m\u001b[0m\u001b[1;33m\u001b[0m\u001b[0m\n\u001b[0m\u001b[0;32m      3\u001b[0m \u001b[1;33m\u001b[0m\u001b[0m\n\u001b[0;32m      4\u001b[0m \u001b[0mfe_list_B\u001b[0m \u001b[1;33m=\u001b[0m \u001b[1;33m[\u001b[0m\u001b[0mfe\u001b[0m \u001b[1;33m+\u001b[0m \u001b[1;34m' (Group B)'\u001b[0m \u001b[1;32mfor\u001b[0m \u001b[0mfe\u001b[0m \u001b[1;32min\u001b[0m \u001b[0mfe_list\u001b[0m\u001b[1;33m]\u001b[0m\u001b[1;33m\u001b[0m\u001b[1;33m\u001b[0m\u001b[0m\n\u001b[0;32m      5\u001b[0m \u001b[0mgroup_B_df\u001b[0m \u001b[1;33m=\u001b[0m \u001b[0mpd\u001b[0m\u001b[1;33m.\u001b[0m\u001b[0mDataFrame\u001b[0m\u001b[1;33m(\u001b[0m\u001b[0mresults_B\u001b[0m\u001b[1;33m,\u001b[0m \u001b[0mcolumns\u001b[0m\u001b[1;33m=\u001b[0m\u001b[0mall_stacking_names\u001b[0m\u001b[1;33m,\u001b[0m \u001b[0mindex\u001b[0m\u001b[1;33m=\u001b[0m\u001b[0mfe_list_B\u001b[0m\u001b[1;33m)\u001b[0m\u001b[1;33m\u001b[0m\u001b[1;33m\u001b[0m\u001b[0m\n",
      "\u001b[1;31mNameError\u001b[0m: name 'all_stacking_names' is not defined"
     ]
    }
   ],
   "source": [
    "algorithms_list_A = [alg + ' (Group A)' for alg in algorithms_list]\n",
    "group_A_df = pd.DataFrame(results_A, columns=all_stacking_names, index=algorithms_list_A)\n",
    "\n",
    "fe_list_B = [fe + ' (Group B)' for fe in fe_list]\n",
    "group_B_df = pd.DataFrame(results_B, columns=all_stacking_names, index=fe_list_B)\n",
    "\n",
    "group_B_df = pd.DataFrame(results_B.reshape(1, 1), columns=all_stacking_names, index=['Group B'])\n",
    "group_C_df = pd.DataFrame(results_D.reshape(1, 1), columns=all_stacking_names, index=['Group C'])\n",
    "group_D_df = pd.DataFrame(results_D.reshape(1, 1), columns=all_stacking_names, index=['Group D'])"
   ]
  },
  {
   "cell_type": "code",
   "execution_count": null,
   "metadata": {},
   "outputs": [],
   "source": [
    "from pprint import pprint\n",
    "pprint(pd.concat([group_A_df, group_B_df, group_C_df, group_D_df]).round(4).to_latex(caption='dataset '+ dataset_name.upper()))"
   ]
  },
  {
   "cell_type": "markdown",
   "metadata": {},
   "source": [
    "# best single for sanity check\n",
    "\n",
    "failed"
   ]
  },
  {
   "cell_type": "code",
   "execution_count": null,
   "metadata": {},
   "outputs": [],
   "source": [
    "from sklearn.metrics import accuracy_score\n",
    "\n",
    "probas = probas_test.filter(regex='LR-W2V')\n",
    "y_pred = np.argmax(probas.to_numpy(), axis=1)\n",
    "\n",
    "f1_score(labels_test, y_pred, average='macro')"
   ]
  }
 ],
 "metadata": {
  "@webio": {
   "lastCommId": null,
   "lastKernelId": null
  },
  "kernelspec": {
   "display_name": "Python 3",
   "language": "python",
   "name": "python3"
  },
  "language_info": {
   "codemirror_mode": {
    "name": "ipython",
    "version": 3
   },
   "file_extension": ".py",
   "mimetype": "text/x-python",
   "name": "python",
   "nbconvert_exporter": "python",
   "pygments_lexer": "ipython3",
   "version": "3.8.8"
  }
 },
 "nbformat": 4,
 "nbformat_minor": 2
}
