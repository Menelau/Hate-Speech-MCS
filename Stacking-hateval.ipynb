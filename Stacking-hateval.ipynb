{
 "cells": [
  {
   "cell_type": "code",
   "execution_count": 1,
   "metadata": {},
   "outputs": [],
   "source": [
    "import warnings\n",
    "warnings.filterwarnings('ignore')\n",
    "import pandas as pd\n",
    "import numpy as np\n",
    "from sklearn.linear_model import LogisticRegression, LogisticRegressionCV\n",
    "from sklearn.metrics import f1_score, accuracy_score\n",
    "from sklearn.neural_network import MLPClassifier"
   ]
  },
  {
   "cell_type": "code",
   "execution_count": 2,
   "metadata": {},
   "outputs": [],
   "source": [
    "train_df = pd.read_csv(\"./Saved_Predict_and_Proba/HateVal/prob_train_hateval.csv\").dropna()\n",
    "val_df = pd.read_csv(\"./Saved_Predict_and_Proba/HateVal/prob_val_hateval.csv\").dropna()\n",
    "test_df = pd.read_csv(\"./Saved_Predict_and_Proba/HateVal/prob_test_hateval.csv\").dropna()\n",
    "\n",
    "probas_train, labels_train = train_df.drop(columns=[\"Unnamed: 0\", \"HS\"]), train_df[\"HS\"]\n",
    "probas_val, labels_val = val_df.drop(columns=[\"Unnamed: 0\", \"HS\"]), val_df[\"HS\"]\n",
    "probas_test, labels_test = test_df.drop(columns=[\"Unnamed: 0\", \"HS\"]), test_df[\"HS\"]"
   ]
  },
  {
   "cell_type": "code",
   "execution_count": 36,
   "metadata": {},
   "outputs": [],
   "source": [
    "def filter_df_train_test(train_df, test_df, name, filter_first=True):\n",
    "    train = train_df.filter(regex=name, axis=1)\n",
    "    test = test_df.filter(regex=name, axis=1)\n",
    "    return train.to_numpy(), test.to_numpy()\n",
    "\n",
    "def filter_collinearity(X_train, X_test):\n",
    "    X_train = X_train[:, ::2]\n",
    "    X_test = X_test[:, ::2]\n",
    "    return X_train, X_test\n",
    "stacking = LogisticRegression()\n"
   ]
  },
  {
   "cell_type": "markdown",
   "metadata": {},
   "source": [
    "## Stacking group A - Varying Classification methods"
   ]
  },
  {
   "cell_type": "code",
   "execution_count": 137,
   "metadata": {},
   "outputs": [],
   "source": [
    "algorithms_list = ['SVM', 'MLP', 'KNN', 'RF', 'EXTRA', 'CNN', 'LR', 'NB']\n",
    "stacking = LogisticRegression(class_weight='balanced')\n",
    "\n",
    "results_A = np.zeros(len(algorithms_list))\n",
    "\n",
    "for idx_alg, algorithm in enumerate(algorithms_list):\n",
    "    X_val, X_test = filter_df_train_test(probas_val, probas_test, algorithm)\n",
    "    X_val, X_test = filter_collinearity(X_val, X_test)\n",
    "    stacking.fit(X_val, labels_val)\n",
    "    y_pred = stacking.predict(X_test)\n",
    "    score = f1_score(labels_test, y_pred)\n",
    "    results_A[idx_alg] = score"
   ]
  },
  {
   "cell_type": "code",
   "execution_count": 138,
   "metadata": {},
   "outputs": [
    {
     "data": {
      "text/plain": [
       "array([0.61454545, 0.62395242, 0.56133942, 0.58724249, 0.592245  ,\n",
       "       0.59079284, 0.60772922, 0.60150376])"
      ]
     },
     "execution_count": 138,
     "metadata": {},
     "output_type": "execute_result"
    }
   ],
   "source": [
    "results_A"
   ]
  },
  {
   "cell_type": "markdown",
   "metadata": {},
   "source": [
    "# Stacking group B - Varying Feature Representation methods"
   ]
  },
  {
   "cell_type": "code",
   "execution_count": 135,
   "metadata": {},
   "outputs": [],
   "source": [
    "fe_list = ['CV', 'TFIDF', 'W2V', 'GLOVE', 'FAST']\n",
    "stacking = LogisticRegression(class_weight='balanced')\n",
    "\n",
    "results_B = np.zeros(len(fe_list))\n",
    "for idx_alg, fe in enumerate(fe_list):\n",
    "    X_val, X_test = filter_df_train_test(probas_val, probas_test, fe)\n",
    "    stacking.fit(X_val, labels_val)\n",
    "    y_pred = stacking.predict(X_test)\n",
    "    results_B[idx_alg] = f1_score(labels_test, y_pred)"
   ]
  },
  {
   "cell_type": "code",
   "execution_count": 136,
   "metadata": {},
   "outputs": [
    {
     "data": {
      "text/plain": [
       "array([0.59364133, 0.59231905, 0.62061463, 0.60233593, 0.61457233])"
      ]
     },
     "execution_count": 136,
     "metadata": {},
     "output_type": "execute_result"
    }
   ],
   "source": [
    "results_B"
   ]
  },
  {
   "cell_type": "markdown",
   "metadata": {},
   "source": [
    "# Stacking group C -  ALL techniques"
   ]
  },
  {
   "cell_type": "code",
   "execution_count": 145,
   "metadata": {},
   "outputs": [],
   "source": [
    "results_C = 0\n",
    "stacking = LogisticRegression()\n",
    "stacking.fit(probas_val.to_numpy(), labels_val)\n",
    "y_pred = stacking.predict(probas_test.to_numpy())\n",
    "results_C = f1_score(labels_test, y_pred)"
   ]
  },
  {
   "cell_type": "code",
   "execution_count": 146,
   "metadata": {},
   "outputs": [
    {
     "data": {
      "text/plain": [
       "0.5952747817154597"
      ]
     },
     "execution_count": 146,
     "metadata": {},
     "output_type": "execute_result"
    }
   ],
   "source": [
    "results_C"
   ]
  },
  {
   "cell_type": "markdown",
   "metadata": {},
   "source": [
    "# Stacking group D - Proposed Selection scheme"
   ]
  },
  {
   "cell_type": "code",
   "execution_count": 147,
   "metadata": {},
   "outputs": [],
   "source": [
    "names = 'MLP-GLOVE|MLP-FAST|SVM-CV|MLP-W2V|SVM-W2V|LR-GLOVE|RF-W2V|CNN-W2V'\n",
    "\n",
    "X_val, X_test = filter_df_train_test(probas_val, probas_test, names)\n",
    "stacking.fit(X_val, labels_val)\n",
    "y_pred = stacking.predict(X_test)\n",
    "results_D = f1_score(labels_test, y_pred)"
   ]
  },
  {
   "cell_type": "code",
   "execution_count": 148,
   "metadata": {},
   "outputs": [
    {
     "data": {
      "text/plain": [
       "0.6211318650683022"
      ]
     },
     "execution_count": 148,
     "metadata": {},
     "output_type": "execute_result"
    }
   ],
   "source": [
    "results_D"
   ]
  },
  {
   "cell_type": "markdown",
   "metadata": {},
   "source": [
    "## Summarizing results"
   ]
  },
  {
   "cell_type": "code",
   "execution_count": 149,
   "metadata": {},
   "outputs": [],
   "source": [
    "all_stacking_names = ['Logistic Regression']\n",
    "algorithms_list_A = [alg + ' (Group A)' for alg in algorithms_list]\n",
    "group_A_df = pd.DataFrame(results_A, columns=all_stacking_names, index=algorithms_list_A)\n",
    "\n",
    "fe_list_B = [fe + ' (Group B)' for fe in fe_list]\n",
    "group_B_df = pd.DataFrame(results_B, columns=all_stacking_names, index=fe_list_B)\n",
    "\n",
    "group_C_df = pd.DataFrame(results_C.reshape(1, 1), columns=all_stacking_names, index=['Group C'])\n",
    "group_D_df = pd.DataFrame(results_D.reshape(1, 1), columns=all_stacking_names, index=['Group D'])"
   ]
  },
  {
   "cell_type": "code",
   "execution_count": 150,
   "metadata": {},
   "outputs": [
    {
     "name": "stdout",
     "output_type": "stream",
     "text": [
      "('\\\\begin{tabular}{lr}\\n'\n",
      " '\\\\toprule\\n'\n",
      " '{} &  Logistic Regression \\\\\\\\\\n'\n",
      " '\\\\midrule\\n'\n",
      " 'SVM (Group A)   &               0.6145 \\\\\\\\\\n'\n",
      " 'MLP (Group A)   &               0.6240 \\\\\\\\\\n'\n",
      " 'KNN (Group A)   &               0.5613 \\\\\\\\\\n'\n",
      " 'RF (Group A)    &               0.5872 \\\\\\\\\\n'\n",
      " 'EXTRA (Group A) &               0.5922 \\\\\\\\\\n'\n",
      " 'CNN (Group A)   &               0.5908 \\\\\\\\\\n'\n",
      " 'LR (Group A)    &               0.6077 \\\\\\\\\\n'\n",
      " 'NB (Group A)    &               0.6015 \\\\\\\\\\n'\n",
      " 'CV (Group B)    &               0.5936 \\\\\\\\\\n'\n",
      " 'TFIDF (Group B) &               0.5923 \\\\\\\\\\n'\n",
      " 'W2V (Group B)   &               0.6206 \\\\\\\\\\n'\n",
      " 'GLOVE (Group B) &               0.6023 \\\\\\\\\\n'\n",
      " 'FAST (Group B)  &               0.6146 \\\\\\\\\\n'\n",
      " 'Group C         &               0.5953 \\\\\\\\\\n'\n",
      " 'Group D         &               0.6211 \\\\\\\\\\n'\n",
      " '\\\\bottomrule\\n'\n",
      " '\\\\end{tabular}\\n')\n"
     ]
    }
   ],
   "source": [
    "from pprint import pprint\n",
    "pprint(pd.concat([group_A_df, group_B_df, group_C_df, group_D_df]).round(4).to_latex())"
   ]
  },
  {
   "cell_type": "markdown",
   "metadata": {},
   "source": [
    "# best single for sanity check\n"
   ]
  },
  {
   "cell_type": "code",
   "execution_count": null,
   "metadata": {},
   "outputs": [],
   "source": [
    "from sklearn.metrics import accuracy_score\n",
    "\n",
    "probas = probas_test.filter(regex='LR-W2V')\n",
    "y_pred = np.argmax(probas.to_numpy(), axis=1)\n",
    "\n",
    "f1_score(labels_test, y_pred)"
   ]
  }
 ],
 "metadata": {
  "@webio": {
   "lastCommId": null,
   "lastKernelId": null
  },
  "kernelspec": {
   "display_name": "Python [conda env:hate_speech]",
   "language": "python",
   "name": "conda-env-hate_speech-py"
  },
  "language_info": {
   "codemirror_mode": {
    "name": "ipython",
    "version": 3
   },
   "file_extension": ".py",
   "mimetype": "text/x-python",
   "name": "python",
   "nbconvert_exporter": "python",
   "pygments_lexer": "ipython3",
   "version": "3.6.12"
  }
 },
 "nbformat": 4,
 "nbformat_minor": 2
}
