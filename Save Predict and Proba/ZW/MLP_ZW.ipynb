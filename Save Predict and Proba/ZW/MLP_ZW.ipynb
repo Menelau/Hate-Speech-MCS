{
  "nbformat": 4,
  "nbformat_minor": 0,
  "metadata": {
    "colab": {
      "name": "MLP_ZW.ipynb",
      "provenance": [],
      "collapsed_sections": [],
      "toc_visible": true
    },
    "kernelspec": {
      "name": "python3",
      "display_name": "Python 3"
    }
  },
  "cells": [
    {
      "cell_type": "code",
      "metadata": {
        "id": "7LBIOnJwxgwC",
        "colab_type": "code",
        "colab": {}
      },
      "source": [
        "import pandas as pd\n",
        "import numpy as np\n",
        "from sklearn.metrics import accuracy_score\n",
        "from sklearn.neural_network import MLPClassifier\n",
        "from sklearn.ensemble import RandomForestClassifier"
      ],
      "execution_count": 1,
      "outputs": []
    },
    {
      "cell_type": "code",
      "metadata": {
        "id": "9StaMsJqzPtd",
        "colab_type": "code",
        "colab": {}
      },
      "source": [
        "train = pd.read_csv('prob_train_zw.csv')\n",
        "val = pd.read_csv('prob_val_zw.csv')\n",
        "test = pd.read_csv('prob_test_zw.csv')"
      ],
      "execution_count": 2,
      "outputs": []
    },
    {
      "cell_type": "code",
      "metadata": {
        "id": "QK7CuckF2YH1",
        "colab_type": "code",
        "colab": {}
      },
      "source": [
        "train, class_train = train.drop(columns=['Unnamed: 0']).fillna(0), train['norm']\n",
        "val, class_val = val.drop(columns=['Unnamed: 0']).fillna(0), val['norm']\n",
        "test, class_test = test.drop(columns=['Unnamed: 0']).fillna(0), test['norm']"
      ],
      "execution_count": 3,
      "outputs": []
    },
    {
      "cell_type": "markdown",
      "metadata": {
        "id": "zAlXBxKA4T-I",
        "colab_type": "text"
      },
      "source": [
        "# Usando train"
      ]
    },
    {
      "cell_type": "code",
      "metadata": {
        "id": "1SuWNVax2fse",
        "colab_type": "code",
        "colab": {
          "base_uri": "https://localhost:8080/",
          "height": 34
        },
        "outputId": "66c39680-c03d-4fcb-babc-d3be69ce5924"
      },
      "source": [
        "mlp = MLPClassifier(random_state=42, batch_size=20, max_iter=20, verbose=100, activation='relu', solver='lbfgs')\n",
        "mlp.fit(train, class_train)\n",
        "y_pred_mlp = mlp.predict(test)\n",
        "print(\"Todos: \", accuracy_score(class_test, y_pred_mlp))"
      ],
      "execution_count": 4,
      "outputs": [
        {
          "output_type": "stream",
          "text": [
            "Todos:  0.975268817204301\n"
          ],
          "name": "stdout"
        }
      ]
    },
    {
      "cell_type": "code",
      "metadata": {
        "id": "QhuIPMUa3So9",
        "colab_type": "code",
        "colab": {
          "base_uri": "https://localhost:8080/",
          "height": 156
        },
        "outputId": "63e160a5-d3e2-41c6-a04c-d84d4ce33013"
      },
      "source": [
        "clfs = ['NB-W2V', 'LR-FAST', 'LR-CV', 'RF-TFIDF', 'EXTRA-GLOVE']\n",
        "cols = []\n",
        "\n",
        "for clf in clfs:\n",
        "    for i in range(0,3):\n",
        "      cols.append(\"{}-{}\".format(clf, i))\n",
        "\n",
        "train_vision = train[cols]\n",
        "test_vision = test[cols]\n",
        "\n",
        "mlp_B = MLPClassifier(random_state=42, batch_size=20, max_iter=20, verbose=100, activation='relu', solver='lbfgs')\n",
        "mlp_B.fit(train_vision, class_train)\n",
        "mlp_B_pred = mlp_B.predict(test_vision)\n",
        "print(\"Dissimilares: \",accuracy_score(class_test, mlp_B_pred))"
      ],
      "execution_count": 6,
      "outputs": [
        {
          "output_type": "stream",
          "text": [
            "Dissimilares:  0.8136200716845878\n"
          ],
          "name": "stdout"
        },
        {
          "output_type": "stream",
          "text": [
            "/usr/local/lib/python3.6/dist-packages/sklearn/neural_network/_multilayer_perceptron.py:470: ConvergenceWarning: lbfgs failed to converge (status=1):\n",
            "STOP: TOTAL NO. of ITERATIONS REACHED LIMIT.\n",
            "\n",
            "Increase the number of iterations (max_iter) or scale the data as shown in:\n",
            "    https://scikit-learn.org/stable/modules/preprocessing.html\n",
            "  self.n_iter_ = _check_optimize_result(\"lbfgs\", opt_res, self.max_iter)\n"
          ],
          "name": "stderr"
        }
      ]
    },
    {
      "cell_type": "code",
      "metadata": {
        "id": "EucCr7WE2o3y",
        "colab_type": "code",
        "colab": {
          "base_uri": "https://localhost:8080/",
          "height": 156
        },
        "outputId": "e718f8f6-ddec-4932-90f3-8ec52db8a9ad"
      },
      "source": [
        "clfs = ['MLP-CV', 'LR-FAST', 'SVM-W2V', 'CNN-CV', 'EXTRA-W2V']\n",
        "cols = []\n",
        "\n",
        "for clf in clfs:\n",
        "    for i in range(0,3):\n",
        "      cols.append(\"{}-{}\".format(clf, i))\n",
        "\n",
        "train_vision = train[cols]\n",
        "test_vision = test[cols]\n",
        "\n",
        "mlp_B = MLPClassifier(random_state=42, batch_size=20, max_iter=20, verbose=100, activation='relu', solver='lbfgs')\n",
        "mlp_B.fit(train_vision, class_train)\n",
        "mlp_B_pred = mlp_B.predict(test_vision)\n",
        "print(\"Similares: \",accuracy_score(class_test, mlp_B_pred))"
      ],
      "execution_count": 27,
      "outputs": [
        {
          "output_type": "stream",
          "text": [
            "Similares:  0.7817204301075269\n"
          ],
          "name": "stdout"
        },
        {
          "output_type": "stream",
          "text": [
            "/usr/local/lib/python3.6/dist-packages/sklearn/neural_network/_multilayer_perceptron.py:470: ConvergenceWarning: lbfgs failed to converge (status=1):\n",
            "STOP: TOTAL NO. of ITERATIONS REACHED LIMIT.\n",
            "\n",
            "Increase the number of iterations (max_iter) or scale the data as shown in:\n",
            "    https://scikit-learn.org/stable/modules/preprocessing.html\n",
            "  self.n_iter_ = _check_optimize_result(\"lbfgs\", opt_res, self.max_iter)\n"
          ],
          "name": "stderr"
        }
      ]
    },
    {
      "cell_type": "code",
      "metadata": {
        "id": "HdfWrWBk6aYd",
        "colab_type": "code",
        "colab": {
          "base_uri": "https://localhost:8080/",
          "height": 34
        },
        "outputId": "dfb3bfc7-050a-45ac-a3ed-9d630520b8b5"
      },
      "source": [
        "rf = RandomForestClassifier(max_depth=2, random_state=42, n_estimators=100)\n",
        "rf.fit(train, class_train)\n",
        "y_pred_rf = rf.predict(test)\n",
        "print(\"Todos (RF): \", accuracy_score(class_test, y_pred_rf))"
      ],
      "execution_count": 28,
      "outputs": [
        {
          "output_type": "stream",
          "text": [
            "Todos (RF):  0.8383512544802867\n"
          ],
          "name": "stdout"
        }
      ]
    },
    {
      "cell_type": "code",
      "metadata": {
        "id": "bEZKgd126oIn",
        "colab_type": "code",
        "colab": {
          "base_uri": "https://localhost:8080/",
          "height": 34
        },
        "outputId": "f447889d-1c6b-4d13-dd2a-5182b4710251"
      },
      "source": [
        "clfs = ['NB-W2V', 'LR-FAST', 'LR-CV', 'RF-TFIDF', 'EXTRA-GLOVE']\n",
        "cols = []\n",
        "\n",
        "for clf in clfs:\n",
        "    for i in range(0,3):\n",
        "      cols.append(\"{}-{}\".format(clf, i))\n",
        "\n",
        "train_vision = train[cols]\n",
        "test_vision = test[cols]\n",
        "\n",
        "rf = RandomForestClassifier(max_depth=2, random_state=42, n_estimators=100)\n",
        "rf.fit(train_vision, class_train)\n",
        "rf_pred = rf.predict(test_vision)\n",
        "print(\"Dissimilares (RF): \",accuracy_score(class_test, rf_pred))"
      ],
      "execution_count": 45,
      "outputs": [
        {
          "output_type": "stream",
          "text": [
            "Dissimilares (RF):  0.821505376344086\n"
          ],
          "name": "stdout"
        }
      ]
    },
    {
      "cell_type": "code",
      "metadata": {
        "id": "iFCsggv36zyT",
        "colab_type": "code",
        "colab": {
          "base_uri": "https://localhost:8080/",
          "height": 34
        },
        "outputId": "989899fe-5722-4725-fd61-4d860d977afa"
      },
      "source": [
        "clfs = ['MLP-CV', 'LR-FAST', 'SVM-W2V', 'CNN-CV', 'EXTRA-W2V']\n",
        "cols = []\n",
        "\n",
        "for clf in clfs:\n",
        "    for i in range(0,3):\n",
        "      cols.append(\"{}-{}\".format(clf, i))\n",
        "\n",
        "train_vision = train[cols]\n",
        "test_vision = test[cols]\n",
        "\n",
        "rf = RandomForestClassifier(max_depth=2, random_state=42, n_estimators=100)\n",
        "rf.fit(train_vision, class_train)\n",
        "rf_pred = rf.predict(test_vision)\n",
        "print(\"Similares (RF): \",accuracy_score(class_test, rf_pred))"
      ],
      "execution_count": 46,
      "outputs": [
        {
          "output_type": "stream",
          "text": [
            "Similares (RF):  0.7960573476702509\n"
          ],
          "name": "stdout"
        }
      ]
    },
    {
      "cell_type": "markdown",
      "metadata": {
        "id": "5h9QSNtl4xE-",
        "colab_type": "text"
      },
      "source": [
        "# Usando val"
      ]
    },
    {
      "cell_type": "code",
      "metadata": {
        "id": "SFOwc3mv40oV",
        "colab_type": "code",
        "colab": {
          "base_uri": "https://localhost:8080/",
          "height": 156
        },
        "outputId": "1b203ed1-88cc-4f1e-effd-6a2db3c38b50"
      },
      "source": [
        "mlp = MLPClassifier(random_state=42, batch_size=20, max_iter=20, verbose=100, activation='relu', solver='lbfgs')\n",
        "mlp.fit(val, class_val)\n",
        "y_pred_mlp = mlp.predict(test)\n",
        "print(\"Todos: \", accuracy_score(class_test, y_pred_mlp))"
      ],
      "execution_count": 58,
      "outputs": [
        {
          "output_type": "stream",
          "text": [
            "Todos:  0.9996415770609319\n"
          ],
          "name": "stdout"
        },
        {
          "output_type": "stream",
          "text": [
            "/usr/local/lib/python3.6/dist-packages/sklearn/neural_network/_multilayer_perceptron.py:470: ConvergenceWarning: lbfgs failed to converge (status=1):\n",
            "STOP: TOTAL NO. of ITERATIONS REACHED LIMIT.\n",
            "\n",
            "Increase the number of iterations (max_iter) or scale the data as shown in:\n",
            "    https://scikit-learn.org/stable/modules/preprocessing.html\n",
            "  self.n_iter_ = _check_optimize_result(\"lbfgs\", opt_res, self.max_iter)\n"
          ],
          "name": "stderr"
        }
      ]
    },
    {
      "cell_type": "code",
      "metadata": {
        "id": "GtI40d0s5B9b",
        "colab_type": "code",
        "colab": {
          "base_uri": "https://localhost:8080/",
          "height": 156
        },
        "outputId": "f9be1ed2-6a59-4525-86d5-87b619c3966a"
      },
      "source": [
        "clfs = ['NB-W2V', 'LR-FAST', 'LR-CV', 'RF-TFIDF', 'EXTRA-GLOVE']\n",
        "cols = []\n",
        "\n",
        "for clf in clfs:\n",
        "    for i in range(0,3):\n",
        "      cols.append(\"{}-{}\".format(clf, i))\n",
        "\n",
        "val_vision = val[cols]\n",
        "test_vision = test[cols]\n",
        "\n",
        "mlp_B = MLPClassifier(random_state=42, batch_size=20, max_iter=20, verbose=100, activation='relu', solver='lbfgs')\n",
        "mlp_B.fit(val_vision, class_val)\n",
        "mlp_B_pred = mlp_B.predict(test_vision)\n",
        "print(\"Dissimilares: \",accuracy_score(class_test, mlp_B_pred))"
      ],
      "execution_count": 59,
      "outputs": [
        {
          "output_type": "stream",
          "text": [
            "Dissimilares:  0.8347670250896058\n"
          ],
          "name": "stdout"
        },
        {
          "output_type": "stream",
          "text": [
            "/usr/local/lib/python3.6/dist-packages/sklearn/neural_network/_multilayer_perceptron.py:470: ConvergenceWarning: lbfgs failed to converge (status=1):\n",
            "STOP: TOTAL NO. of ITERATIONS REACHED LIMIT.\n",
            "\n",
            "Increase the number of iterations (max_iter) or scale the data as shown in:\n",
            "    https://scikit-learn.org/stable/modules/preprocessing.html\n",
            "  self.n_iter_ = _check_optimize_result(\"lbfgs\", opt_res, self.max_iter)\n"
          ],
          "name": "stderr"
        }
      ]
    },
    {
      "cell_type": "code",
      "metadata": {
        "id": "Jss03MSD5K2o",
        "colab_type": "code",
        "colab": {
          "base_uri": "https://localhost:8080/",
          "height": 156
        },
        "outputId": "e81ce02f-4914-43a4-dad6-e0df8be1c60a"
      },
      "source": [
        "clfs = ['MLP-CV', 'LR-FAST', 'SVM-W2V', 'CNN-CV', 'EXTRA-W2V']\n",
        "cols = []\n",
        "\n",
        "for clf in clfs:\n",
        "    for i in range(0,3):\n",
        "      cols.append(\"{}-{}\".format(clf, i))\n",
        "\n",
        "val_vision = val[cols]\n",
        "test_vision = test[cols]\n",
        "\n",
        "mlp_B = MLPClassifier(random_state=42, batch_size=20, max_iter=20, verbose=100, activation='relu', solver='lbfgs')\n",
        "mlp_B.fit(val_vision, class_val)\n",
        "mlp_B_pred = mlp_B.predict(test_vision)\n",
        "print(\"Similares: \",accuracy_score(class_test, mlp_B_pred))"
      ],
      "execution_count": 60,
      "outputs": [
        {
          "output_type": "stream",
          "text": [
            "Similares:  0.8283154121863799\n"
          ],
          "name": "stdout"
        },
        {
          "output_type": "stream",
          "text": [
            "/usr/local/lib/python3.6/dist-packages/sklearn/neural_network/_multilayer_perceptron.py:470: ConvergenceWarning: lbfgs failed to converge (status=1):\n",
            "STOP: TOTAL NO. of ITERATIONS REACHED LIMIT.\n",
            "\n",
            "Increase the number of iterations (max_iter) or scale the data as shown in:\n",
            "    https://scikit-learn.org/stable/modules/preprocessing.html\n",
            "  self.n_iter_ = _check_optimize_result(\"lbfgs\", opt_res, self.max_iter)\n"
          ],
          "name": "stderr"
        }
      ]
    },
    {
      "cell_type": "code",
      "metadata": {
        "id": "XvIOAB9d7Y_4",
        "colab_type": "code",
        "colab": {
          "base_uri": "https://localhost:8080/",
          "height": 34
        },
        "outputId": "8dec7acc-7a36-4846-bdd8-92c72a0fb4e9"
      },
      "source": [
        "rf = RandomForestClassifier(max_depth=2, random_state=42, n_estimators=100)\n",
        "rf.fit(val, class_val)\n",
        "y_pred_rf = rf.predict(test)\n",
        "print(\"Todos (RF): \", accuracy_score(class_test, y_pred_rf))"
      ],
      "execution_count": 64,
      "outputs": [
        {
          "output_type": "stream",
          "text": [
            "Todos (RF):  0.8559139784946237\n"
          ],
          "name": "stdout"
        }
      ]
    },
    {
      "cell_type": "code",
      "metadata": {
        "id": "GQ183iNA7cUu",
        "colab_type": "code",
        "colab": {
          "base_uri": "https://localhost:8080/",
          "height": 34
        },
        "outputId": "1c8e6c02-49ac-4cfa-c8ed-44dfcd9878f9"
      },
      "source": [
        "clfs = ['NB-W2V', 'LR-FAST', 'LR-CV', 'RF-TFIDF', 'EXTRA-GLOVE']\n",
        "cols = []\n",
        "\n",
        "for clf in clfs:\n",
        "    for i in range(0,3):\n",
        "      cols.append(\"{}-{}\".format(clf, i))\n",
        "\n",
        "val_vision = val[cols]\n",
        "test_vision = test[cols]\n",
        "\n",
        "rf = RandomForestClassifier(max_depth=2, random_state=42, n_estimators=100)\n",
        "rf.fit(val_vision, class_val)\n",
        "rf_pred = rf.predict(test_vision)\n",
        "print(\"Dissimilares (RF): \",accuracy_score(class_test, rf_pred))"
      ],
      "execution_count": 65,
      "outputs": [
        {
          "output_type": "stream",
          "text": [
            "Dissimilares (RF):  0.8279569892473119\n"
          ],
          "name": "stdout"
        }
      ]
    },
    {
      "cell_type": "code",
      "metadata": {
        "id": "3DjbfVW-7jgo",
        "colab_type": "code",
        "colab": {
          "base_uri": "https://localhost:8080/",
          "height": 34
        },
        "outputId": "3d207018-8808-4027-fdd8-1524e487a18d"
      },
      "source": [
        "clfs = ['MLP-CV', 'LR-FAST', 'SVM-W2V', 'CNN-CV', 'EXTRA-W2V']\n",
        "cols = []\n",
        "\n",
        "for clf in clfs:\n",
        "    for i in range(0,3):\n",
        "      cols.append(\"{}-{}\".format(clf, i))\n",
        "\n",
        "val_vision = val[cols]\n",
        "test_vision = test[cols]\n",
        "\n",
        "rf = RandomForestClassifier(max_depth=2, random_state=42, n_estimators=100)\n",
        "rf.fit(val_vision, class_val)\n",
        "rf_pred = rf.predict(test_vision)\n",
        "print(\"Dissimilares (RF): \",accuracy_score(class_test, rf_pred))"
      ],
      "execution_count": 66,
      "outputs": [
        {
          "output_type": "stream",
          "text": [
            "Dissimilares (RF):  0.8207885304659498\n"
          ],
          "name": "stdout"
        }
      ]
    }
  ]
}