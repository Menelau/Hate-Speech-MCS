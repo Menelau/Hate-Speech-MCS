{
  "nbformat": 4,
  "nbformat_minor": 0,
  "metadata": {
    "colab": {
      "name": "MLP_TD_ZW.ipynb",
      "provenance": [],
      "collapsed_sections": [],
      "toc_visible": true
    },
    "kernelspec": {
      "name": "python3",
      "display_name": "Python 3"
    }
  },
  "cells": [
    {
      "cell_type": "code",
      "metadata": {
        "id": "7LBIOnJwxgwC",
        "colab_type": "code",
        "colab": {}
      },
      "source": [
        "import pandas as pd\n",
        "import numpy as np\n",
        "from sklearn.metrics import accuracy_score\n",
        "from sklearn.neural_network import MLPClassifier\n",
        "from sklearn.ensemble import RandomForestClassifier"
      ],
      "execution_count": 6,
      "outputs": []
    },
    {
      "cell_type": "code",
      "metadata": {
        "id": "9StaMsJqzPtd",
        "colab_type": "code",
        "colab": {}
      },
      "source": [
        "train = pd.read_csv('prob_train_td_zw.csv')\n",
        "val = pd.read_csv('prob_val_td_zw.csv')\n",
        "test = pd.read_csv('prob_test_td_zw.csv')"
      ],
      "execution_count": 7,
      "outputs": []
    },
    {
      "cell_type": "code",
      "metadata": {
        "id": "QK7CuckF2YH1",
        "colab_type": "code",
        "colab": {}
      },
      "source": [
        "train, class_train = train.drop(columns=['Unnamed: 0']).fillna(0), train['class']\n",
        "val, class_val = val.drop(columns=['Unnamed: 0']).fillna(0), val['class']\n",
        "test, class_test = test.drop(columns=['Unnamed: 0']).fillna(0), test['class'].fillna(3)"
      ],
      "execution_count": 8,
      "outputs": []
    },
    {
      "cell_type": "markdown",
      "metadata": {
        "id": "zAlXBxKA4T-I",
        "colab_type": "text"
      },
      "source": [
        "# Usando train"
      ]
    },
    {
      "cell_type": "code",
      "metadata": {
        "id": "1SuWNVax2fse",
        "colab_type": "code",
        "colab": {
          "base_uri": "https://localhost:8080/",
          "height": 34
        },
        "outputId": "dfc77afa-019e-4601-e252-f6286eef336e"
      },
      "source": [
        "mlp = MLPClassifier(random_state=42, batch_size=20, max_iter=20, verbose=100, activation='relu', solver='lbfgs')\n",
        "mlp.fit(train, class_train)\n",
        "y_pred_mlp = mlp.predict(test)\n",
        "print(\"Todos: \", accuracy_score(class_test, y_pred_mlp))"
      ],
      "execution_count": 9,
      "outputs": [
        {
          "output_type": "stream",
          "text": [
            "Todos:  0.9559533386967015\n"
          ],
          "name": "stdout"
        }
      ]
    },
    {
      "cell_type": "code",
      "metadata": {
        "id": "QhuIPMUa3So9",
        "colab_type": "code",
        "colab": {
          "base_uri": "https://localhost:8080/",
          "height": 34
        },
        "outputId": "e8737795-e7b1-4a94-84c4-d3f8722710b3"
      },
      "source": [
        "clfs = ['EXTRA-GLOVE', 'NB-FAST', 'CNN-GLOVE', 'RF-CV', 'LR-TFIDF']\n",
        "cols = []\n",
        "\n",
        "for clf in clfs:\n",
        "    for i in range(0,3):\n",
        "      cols.append(\"{}-{}\".format(clf, i))\n",
        "\n",
        "train_vision = train[cols]\n",
        "test_vision = test[cols]\n",
        "\n",
        "mlp_B = MLPClassifier(random_state=42, batch_size=20, max_iter=20, verbose=100, activation='relu', solver='lbfgs')\n",
        "mlp_B.fit(train_vision, class_train)\n",
        "mlp_B_pred = mlp_B.predict(test_vision)\n",
        "print(\"Dissimilares: \",accuracy_score(class_test, mlp_B_pred))"
      ],
      "execution_count": 10,
      "outputs": [
        {
          "output_type": "stream",
          "text": [
            "Dissimilares:  0.8781174577634755\n"
          ],
          "name": "stdout"
        }
      ]
    },
    {
      "cell_type": "code",
      "metadata": {
        "id": "EucCr7WE2o3y",
        "colab_type": "code",
        "colab": {
          "base_uri": "https://localhost:8080/",
          "height": 34
        },
        "outputId": "3846e82b-f24d-48d3-a1fd-bf1dd1812c74"
      },
      "source": [
        "clfs = ['SVM-GLOVE','EXTRA-W2V', 'EXTRA-FAST', 'RF-W2V', 'KNN-TFIDF']\n",
        "cols = []\n",
        "\n",
        "for clf in clfs:\n",
        "    for i in range(0,3):\n",
        "      cols.append(\"{}-{}\".format(clf, i))\n",
        "\n",
        "train_vision = train[cols]\n",
        "test_vision = test[cols]\n",
        "\n",
        "mlp_B = MLPClassifier(random_state=42, batch_size=20, max_iter=20, verbose=100, activation='relu', solver='lbfgs')\n",
        "mlp_B.fit(train_vision, class_train)\n",
        "mlp_B_pred = mlp_B.predict(test_vision)\n",
        "print(\"Similares: \",accuracy_score(class_test, mlp_B_pred))"
      ],
      "execution_count": 11,
      "outputs": [
        {
          "output_type": "stream",
          "text": [
            "Similares:  0.7827835880933226\n"
          ],
          "name": "stdout"
        }
      ]
    },
    {
      "cell_type": "code",
      "metadata": {
        "id": "HdfWrWBk6aYd",
        "colab_type": "code",
        "colab": {
          "base_uri": "https://localhost:8080/",
          "height": 34
        },
        "outputId": "1095b135-5244-4cc1-fa7d-2a15bac730c0"
      },
      "source": [
        "rf = RandomForestClassifier(max_depth=2, random_state=42, n_estimators=100)\n",
        "rf.fit(train, class_train)\n",
        "y_pred_rf = rf.predict(test)\n",
        "print(\"Todos (RF): \", accuracy_score(class_test, y_pred_rf))"
      ],
      "execution_count": 12,
      "outputs": [
        {
          "output_type": "stream",
          "text": [
            "Todos (RF):  0.918543845534996\n"
          ],
          "name": "stdout"
        }
      ]
    },
    {
      "cell_type": "code",
      "metadata": {
        "id": "bEZKgd126oIn",
        "colab_type": "code",
        "colab": {
          "base_uri": "https://localhost:8080/",
          "height": 34
        },
        "outputId": "df3f04bc-cec0-4f3d-bec5-18652180dd32"
      },
      "source": [
        "clfs = ['EXTRA-GLOVE', 'NB-FAST', 'CNN-GLOVE', 'RF-CV', 'LR-TFIDF']\n",
        "cols = []\n",
        "\n",
        "for clf in clfs:\n",
        "    for i in range(0,3):\n",
        "      cols.append(\"{}-{}\".format(clf, i))\n",
        "\n",
        "train_vision = train[cols]\n",
        "test_vision = test[cols]\n",
        "\n",
        "rf = RandomForestClassifier(max_depth=2, random_state=42, n_estimators=100)\n",
        "rf.fit(train_vision, class_train)\n",
        "rf_pred = rf.predict(test_vision)\n",
        "print(\"Dissimilares (RF): \",accuracy_score(class_test, rf_pred))"
      ],
      "execution_count": 13,
      "outputs": [
        {
          "output_type": "stream",
          "text": [
            "Dissimilares (RF):  0.9000402252614642\n"
          ],
          "name": "stdout"
        }
      ]
    },
    {
      "cell_type": "code",
      "metadata": {
        "id": "iFCsggv36zyT",
        "colab_type": "code",
        "colab": {
          "base_uri": "https://localhost:8080/",
          "height": 34
        },
        "outputId": "631749d8-4bad-4538-c51c-70f4c4f879d6"
      },
      "source": [
        "clfs = ['SVM-GLOVE','EXTRA-W2V', 'EXTRA-FAST', 'RF-W2V', 'KNN-TFIDF']\n",
        "cols = []\n",
        "\n",
        "for clf in clfs:\n",
        "    for i in range(0,3):\n",
        "      cols.append(\"{}-{}\".format(clf, i))\n",
        "\n",
        "train_vision = train[cols]\n",
        "test_vision = test[cols]\n",
        "\n",
        "rf = RandomForestClassifier(max_depth=2, random_state=42, n_estimators=100)\n",
        "rf.fit(train_vision, class_train)\n",
        "rf_pred = rf.predict(test_vision)\n",
        "print(\"Similares (RF): \",accuracy_score(class_test, rf_pred))"
      ],
      "execution_count": 14,
      "outputs": [
        {
          "output_type": "stream",
          "text": [
            "Similares (RF):  0.7916331456154465\n"
          ],
          "name": "stdout"
        }
      ]
    },
    {
      "cell_type": "markdown",
      "metadata": {
        "id": "5h9QSNtl4xE-",
        "colab_type": "text"
      },
      "source": [
        "# Usando val"
      ]
    },
    {
      "cell_type": "code",
      "metadata": {
        "id": "SFOwc3mv40oV",
        "colab_type": "code",
        "colab": {
          "base_uri": "https://localhost:8080/",
          "height": 34
        },
        "outputId": "6d27cccd-fa42-4429-afda-810297b79a44"
      },
      "source": [
        "mlp = MLPClassifier(random_state=42, batch_size=20, max_iter=20, verbose=100, activation='relu', solver='lbfgs')\n",
        "mlp.fit(val, class_val)\n",
        "y_pred_mlp = mlp.predict(test)\n",
        "print(\"Todos: \", accuracy_score(class_test, y_pred_mlp))"
      ],
      "execution_count": 15,
      "outputs": [
        {
          "output_type": "stream",
          "text": [
            "Todos:  1.0\n"
          ],
          "name": "stdout"
        }
      ]
    },
    {
      "cell_type": "code",
      "metadata": {
        "id": "GtI40d0s5B9b",
        "colab_type": "code",
        "colab": {
          "base_uri": "https://localhost:8080/",
          "height": 156
        },
        "outputId": "be1f1087-70ad-490c-d531-a6eed8a360b7"
      },
      "source": [
        "clfs = ['EXTRA-GLOVE', 'NB-FAST', 'CNN-GLOVE', 'RF-CV', 'LR-TFIDF']\n",
        "cols = []\n",
        "\n",
        "for clf in clfs:\n",
        "    for i in range(0,3):\n",
        "      cols.append(\"{}-{}\".format(clf, i))\n",
        "\n",
        "val_vision = val[cols]\n",
        "test_vision = test[cols]\n",
        "\n",
        "mlp_B = MLPClassifier(random_state=42, batch_size=20, max_iter=20, verbose=100, activation='relu', solver='lbfgs')\n",
        "mlp_B.fit(val_vision, class_val)\n",
        "mlp_B_pred = mlp_B.predict(test_vision)\n",
        "print(\"Dissimilares: \",accuracy_score(class_test, mlp_B_pred))"
      ],
      "execution_count": 16,
      "outputs": [
        {
          "output_type": "stream",
          "text": [
            "Dissimilares:  0.9125100563153661\n"
          ],
          "name": "stdout"
        },
        {
          "output_type": "stream",
          "text": [
            "/usr/local/lib/python3.6/dist-packages/sklearn/neural_network/_multilayer_perceptron.py:470: ConvergenceWarning: lbfgs failed to converge (status=1):\n",
            "STOP: TOTAL NO. of ITERATIONS REACHED LIMIT.\n",
            "\n",
            "Increase the number of iterations (max_iter) or scale the data as shown in:\n",
            "    https://scikit-learn.org/stable/modules/preprocessing.html\n",
            "  self.n_iter_ = _check_optimize_result(\"lbfgs\", opt_res, self.max_iter)\n"
          ],
          "name": "stderr"
        }
      ]
    },
    {
      "cell_type": "code",
      "metadata": {
        "id": "Jss03MSD5K2o",
        "colab_type": "code",
        "colab": {
          "base_uri": "https://localhost:8080/",
          "height": 156
        },
        "outputId": "f0798f0e-a6ab-45bf-e676-c5fd31be84a0"
      },
      "source": [
        "clfs = ['SVM-GLOVE','EXTRA-W2V', 'EXTRA-FAST', 'RF-W2V', 'KNN-TFIDF']\n",
        "cols = []\n",
        "\n",
        "for clf in clfs:\n",
        "    for i in range(0,3):\n",
        "      cols.append(\"{}-{}\".format(clf, i))\n",
        "\n",
        "val_vision = val[cols]\n",
        "test_vision = test[cols]\n",
        "\n",
        "mlp_B = MLPClassifier(random_state=42, batch_size=20, max_iter=20, verbose=100, activation='relu', solver='lbfgs')\n",
        "mlp_B.fit(val_vision, class_val)\n",
        "mlp_B_pred = mlp_B.predict(test_vision)\n",
        "print(\"Similares: \",accuracy_score(class_test, mlp_B_pred))"
      ],
      "execution_count": 17,
      "outputs": [
        {
          "output_type": "stream",
          "text": [
            "Similares:  0.8155671761866452\n"
          ],
          "name": "stdout"
        },
        {
          "output_type": "stream",
          "text": [
            "/usr/local/lib/python3.6/dist-packages/sklearn/neural_network/_multilayer_perceptron.py:470: ConvergenceWarning: lbfgs failed to converge (status=1):\n",
            "STOP: TOTAL NO. of ITERATIONS REACHED LIMIT.\n",
            "\n",
            "Increase the number of iterations (max_iter) or scale the data as shown in:\n",
            "    https://scikit-learn.org/stable/modules/preprocessing.html\n",
            "  self.n_iter_ = _check_optimize_result(\"lbfgs\", opt_res, self.max_iter)\n"
          ],
          "name": "stderr"
        }
      ]
    },
    {
      "cell_type": "code",
      "metadata": {
        "id": "XvIOAB9d7Y_4",
        "colab_type": "code",
        "colab": {
          "base_uri": "https://localhost:8080/",
          "height": 34
        },
        "outputId": "c2c3099b-bc4d-4e36-9310-b755de5349d7"
      },
      "source": [
        "rf = RandomForestClassifier(max_depth=2, random_state=42, n_estimators=100)\n",
        "rf.fit(val, class_val)\n",
        "y_pred_rf = rf.predict(test)\n",
        "print(\"Todos (RF): \", accuracy_score(class_test, y_pred_rf))"
      ],
      "execution_count": 18,
      "outputs": [
        {
          "output_type": "stream",
          "text": [
            "Todos (RF):  0.9273934030571199\n"
          ],
          "name": "stdout"
        }
      ]
    },
    {
      "cell_type": "code",
      "metadata": {
        "id": "GQ183iNA7cUu",
        "colab_type": "code",
        "colab": {
          "base_uri": "https://localhost:8080/",
          "height": 34
        },
        "outputId": "57e29be5-519a-4fa0-8d4b-8cb8a823c949"
      },
      "source": [
        "clfs = ['EXTRA-GLOVE', 'NB-FAST', 'CNN-GLOVE', 'RF-CV', 'LR-TFIDF']\n",
        "cols = []\n",
        "\n",
        "for clf in clfs:\n",
        "    for i in range(0,3):\n",
        "      cols.append(\"{}-{}\".format(clf, i))\n",
        "\n",
        "val_vision = val[cols]\n",
        "test_vision = test[cols]\n",
        "\n",
        "rf = RandomForestClassifier(max_depth=2, random_state=42, n_estimators=100)\n",
        "rf.fit(val_vision, class_val)\n",
        "rf_pred = rf.predict(test_vision)\n",
        "print(\"Dissimilares (RF): \",accuracy_score(class_test, rf_pred))"
      ],
      "execution_count": 19,
      "outputs": [
        {
          "output_type": "stream",
          "text": [
            "Dissimilares (RF):  0.914722445695897\n"
          ],
          "name": "stdout"
        }
      ]
    },
    {
      "cell_type": "code",
      "metadata": {
        "id": "3DjbfVW-7jgo",
        "colab_type": "code",
        "colab": {
          "base_uri": "https://localhost:8080/",
          "height": 34
        },
        "outputId": "7526bc8d-e8fd-4033-8f65-fbaa80c601a6"
      },
      "source": [
        "clfs = ['SVM-GLOVE','EXTRA-W2V', 'EXTRA-FAST', 'RF-W2V', 'KNN-TFIDF']\n",
        "cols = []\n",
        "\n",
        "for clf in clfs:\n",
        "    for i in range(0,3):\n",
        "      cols.append(\"{}-{}\".format(clf, i))\n",
        "\n",
        "val_vision = val[cols]\n",
        "test_vision = test[cols]\n",
        "\n",
        "rf = RandomForestClassifier(max_depth=2, random_state=42, n_estimators=100)\n",
        "rf.fit(val_vision, class_val)\n",
        "rf_pred = rf.predict(test_vision)\n",
        "print(\"Dissimilares (RF): \",accuracy_score(class_test, rf_pred))"
      ],
      "execution_count": 20,
      "outputs": [
        {
          "output_type": "stream",
          "text": [
            "Dissimilares (RF):  0.7968624296057925\n"
          ],
          "name": "stdout"
        }
      ]
    }
  ]
}