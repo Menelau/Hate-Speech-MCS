{
 "cells": [
  {
   "cell_type": "code",
   "execution_count": 1,
   "metadata": {
    "id": "B5_cgGkJif-F"
   },
   "outputs": [],
   "source": [
    "from zeugma.embeddings import EmbeddingTransformer"
   ]
  },
  {
   "cell_type": "code",
   "execution_count": 2,
   "metadata": {
    "id": "keNpadCWeDyT"
   },
   "outputs": [],
   "source": [
    "import pandas as pd\n",
    "import numpy as np\n",
    "from sklearn.metrics import accuracy_score"
   ]
  },
  {
   "cell_type": "code",
   "execution_count": 3,
   "metadata": {
    "id": "HM2S6EsseWSr"
   },
   "outputs": [],
   "source": [
    "import tensorflow as tf\n",
    "from tensorflow.keras import Sequential\n",
    "from tensorflow.keras.layers import *\n",
    "from tensorflow.keras.preprocessing.text import Tokenizer\n",
    "from tensorflow.keras.preprocessing.sequence import pad_sequences\n",
    "from tensorflow.keras.utils import to_categorical"
   ]
  },
  {
   "cell_type": "code",
   "execution_count": 4,
   "metadata": {
    "id": "SWJljGkdeghN"
   },
   "outputs": [],
   "source": [
    "from sklearn.feature_extraction.text import CountVectorizer\n",
    "from sklearn.feature_extraction.text import TfidfVectorizer\n",
    "from preprocessing import *\n",
    "from function import *"
   ]
  },
  {
   "cell_type": "code",
   "execution_count": 5,
   "metadata": {
    "id": "9mvhZyI-ejhj"
   },
   "outputs": [],
   "source": [
    "from sklearn.svm import SVC\n",
    "from sklearn.linear_model import LogisticRegression\n",
    "from sklearn.naive_bayes import MultinomialNB, GaussianNB\n",
    "from sklearn.ensemble import RandomForestClassifier, ExtraTreesClassifier\n",
    "from sklearn.neural_network import MLPClassifier\n",
    "from sklearn.neighbors import KNeighborsClassifier\n",
    "from deslib.util.aggregation import *"
   ]
  },
  {
   "cell_type": "code",
   "execution_count": 6,
   "metadata": {
    "id": "qD5TrHDhVcDU"
   },
   "outputs": [],
   "source": [
    "df_train = pd.read_csv(\"./Data/Hateval/hateval2019_en_train.csv\").dropna()\n",
    "df_val = pd.read_csv(\"./Data/Hateval/hateval2019_en_dev.csv\").dropna()\n",
    "df_test = pd.read_csv(\"./Data/Hateval/hateval2019_en_test.csv\").dropna()"
   ]
  },
  {
   "cell_type": "code",
   "execution_count": 7,
   "metadata": {
    "colab": {
     "base_uri": "https://localhost:8080/",
     "height": 204
    },
    "id": "Di_30ThoPmPI",
    "outputId": "81ef335b-b152-4e36-f90b-26e968e1b654"
   },
   "outputs": [
    {
     "data": {
      "text/html": [
       "<div>\n",
       "<style scoped>\n",
       "    .dataframe tbody tr th:only-of-type {\n",
       "        vertical-align: middle;\n",
       "    }\n",
       "\n",
       "    .dataframe tbody tr th {\n",
       "        vertical-align: top;\n",
       "    }\n",
       "\n",
       "    .dataframe thead th {\n",
       "        text-align: right;\n",
       "    }\n",
       "</style>\n",
       "<table border=\"1\" class=\"dataframe\">\n",
       "  <thead>\n",
       "    <tr style=\"text-align: right;\">\n",
       "      <th></th>\n",
       "      <th>id</th>\n",
       "      <th>text</th>\n",
       "      <th>HS</th>\n",
       "      <th>TR</th>\n",
       "      <th>AG</th>\n",
       "    </tr>\n",
       "  </thead>\n",
       "  <tbody>\n",
       "    <tr>\n",
       "      <th>0</th>\n",
       "      <td>34243</td>\n",
       "      <td>@local1025 @njdotcom @GovMurphy Oh, I could ha...</td>\n",
       "      <td>0</td>\n",
       "      <td>0</td>\n",
       "      <td>0</td>\n",
       "    </tr>\n",
       "    <tr>\n",
       "      <th>1</th>\n",
       "      <td>30593</td>\n",
       "      <td>Several of the wild fires in #california and #...</td>\n",
       "      <td>0</td>\n",
       "      <td>0</td>\n",
       "      <td>0</td>\n",
       "    </tr>\n",
       "    <tr>\n",
       "      <th>2</th>\n",
       "      <td>31427</td>\n",
       "      <td>@JudicialWatch My question is how do you reset...</td>\n",
       "      <td>0</td>\n",
       "      <td>0</td>\n",
       "      <td>0</td>\n",
       "    </tr>\n",
       "    <tr>\n",
       "      <th>3</th>\n",
       "      <td>31694</td>\n",
       "      <td>#Europe, you've got a problem!   We must hurry...</td>\n",
       "      <td>1</td>\n",
       "      <td>0</td>\n",
       "      <td>0</td>\n",
       "    </tr>\n",
       "    <tr>\n",
       "      <th>4</th>\n",
       "      <td>31865</td>\n",
       "      <td>This is outrageous! #StopIllegalImmigration  #...</td>\n",
       "      <td>1</td>\n",
       "      <td>0</td>\n",
       "      <td>0</td>\n",
       "    </tr>\n",
       "  </tbody>\n",
       "</table>\n",
       "</div>"
      ],
      "text/plain": [
       "      id                                               text  HS  TR  AG\n",
       "0  34243  @local1025 @njdotcom @GovMurphy Oh, I could ha...   0   0   0\n",
       "1  30593  Several of the wild fires in #california and #...   0   0   0\n",
       "2  31427  @JudicialWatch My question is how do you reset...   0   0   0\n",
       "3  31694  #Europe, you've got a problem!   We must hurry...   1   0   0\n",
       "4  31865  This is outrageous! #StopIllegalImmigration  #...   1   0   0"
      ]
     },
     "execution_count": 7,
     "metadata": {},
     "output_type": "execute_result"
    }
   ],
   "source": [
    "df_test.head()"
   ]
  },
  {
   "cell_type": "code",
   "execution_count": 8,
   "metadata": {
    "id": "buKay1WyWHDN"
   },
   "outputs": [],
   "source": [
    "train, class_train = df_train['text'].apply(pre_processing), df_train['HS']\n",
    "val, class_val = df_val['text'].apply(pre_processing), df_val['HS']\n",
    "test, class_test = df_test['text'].apply(pre_processing), df_test['HS']"
   ]
  },
  {
   "cell_type": "code",
   "execution_count": 9,
   "metadata": {
    "colab": {
     "base_uri": "https://localhost:8080/"
    },
    "id": "uBa03X_0invh",
    "outputId": "0bf8cb63-a450-4a85-a699-8106ab1fe53f"
   },
   "outputs": [],
   "source": [
    "w2v = EmbeddingTransformer('word2vec')"
   ]
  },
  {
   "cell_type": "code",
   "execution_count": 10,
   "metadata": {
    "colab": {
     "base_uri": "https://localhost:8080/"
    },
    "id": "MOfvAe3IiqLg",
    "outputId": "269bcdec-cf8f-479d-fd03-359fc8d5ebc3"
   },
   "outputs": [],
   "source": [
    "glove = EmbeddingTransformer('glove')"
   ]
  },
  {
   "cell_type": "code",
   "execution_count": 11,
   "metadata": {
    "colab": {
     "base_uri": "https://localhost:8080/"
    },
    "id": "oxXahEHbir7c",
    "outputId": "74320c34-e30d-44e0-9cee-b5208a1fba6b"
   },
   "outputs": [],
   "source": [
    "fasttext = EmbeddingTransformer('fasttext')"
   ]
  },
  {
   "cell_type": "code",
   "execution_count": 12,
   "metadata": {
    "colab": {
     "base_uri": "https://localhost:8080/"
    },
    "id": "1UZHfd3Ciwv6",
    "outputId": "362d7339-c0e0-4e84-dd94-cdb12c5ad631"
   },
   "outputs": [
    {
     "data": {
      "text/plain": [
       "<9000x16056 sparse matrix of type '<class 'numpy.float64'>'\n",
       "\twith 93433 stored elements in Compressed Sparse Row format>"
      ]
     },
     "execution_count": 12,
     "metadata": {},
     "output_type": "execute_result"
    }
   ],
   "source": [
    "cv = CountVectorizer(analyzer='word', lowercase=True, stop_words='english')\n",
    "cv.fit_transform(train.values.astype('U'))\n",
    "     \n",
    "tfidf =  TfidfVectorizer(analyzer='word', lowercase=True, use_idf=True, stop_words='english')\n",
    "tfidf.fit_transform(train.values.astype('U'))"
   ]
  },
  {
   "cell_type": "markdown",
   "metadata": {},
   "source": [
    "## Prediction SVM base model"
   ]
  },
  {
   "cell_type": "code",
   "execution_count": 13,
   "metadata": {
    "id": "EHQTzhm-i_I_"
   },
   "outputs": [],
   "source": [
    "svm = {\n",
    "    'CV': {\n",
    "        'CLF': SVC(random_state=42, kernel='linear', gamma=0.1, probability=True),\n",
    "        'EXT': cv,\n",
    "    },\n",
    "    'TFIDF': {\n",
    "        'CLF': SVC(random_state=42, kernel='linear', gamma=0.1, probability=True),\n",
    "        'EXT': tfidf,\n",
    "    },\n",
    "    'W2V': {\n",
    "        'CLF': SVC(random_state=42, kernel='rbf', gamma=1, probability=True),\n",
    "        'EXT': w2v,\n",
    "    },\n",
    "    'GLOVE': {\n",
    "        'CLF': SVC(random_state=42, kernel='rbf', gamma=0.5, probability=True),\n",
    "        'EXT':  glove,\n",
    "    },\n",
    "    'FAST': {\n",
    "        'CLF': SVC(random_state=42, kernel='rbf', gamma=1, probability=True),\n",
    "        'EXT': fasttext,\n",
    "    }\n",
    "}"
   ]
  },
  {
   "cell_type": "code",
   "execution_count": 14,
   "metadata": {
    "colab": {
     "base_uri": "https://localhost:8080/"
    },
    "id": "8qtV9P5qjNKw",
    "outputId": "e4f18dab-8b97-4690-ac6c-8a1d4a95f5f2"
   },
   "outputs": [],
   "source": [
    "svm_clfs = {\n",
    "\n",
    "}\n",
    "for ext, clf in svm.items():\n",
    "    svm_clfs[ext] = get_classifier(clf['CLF'], train, class_train, clf['EXT'])"
   ]
  },
  {
   "cell_type": "code",
   "execution_count": 15,
   "metadata": {
    "id": "3_a327JBjglb"
   },
   "outputs": [],
   "source": [
    "df_pred_train = pd.DataFrame(df_train['HS'])\n",
    "df_pred_val = pd.DataFrame(df_val['HS'])\n",
    "df_pred_test = pd.DataFrame(df_test['HS'])\n",
    "\n",
    "df_prob_val = pd.DataFrame(df_val['HS'])\n",
    "df_prob_train = pd.DataFrame(df_train['HS'])\n",
    "df_prob_test = pd.DataFrame(df_test['HS'])\n",
    "\n",
    "for ext, clf in svm_clfs.items():\n",
    "  # Predict\n",
    "    df_train_ = pd.DataFrame(clf.predict(train), columns=[\"SVM-{}\".format(ext)])\n",
    "    df_val_ = pd.DataFrame(clf.predict(val), columns=[\"SVM-{}\".format(ext)])\n",
    "    df_test_ = pd.DataFrame(clf.predict(test), columns=[\"SVM-{}\".format(ext)])\n",
    "  \n",
    "    df_pred_train = pd.concat([df_pred_train, df_train_], axis=1, sort=False)\n",
    "    df_pred_val = pd.concat([df_pred_val, df_val_], axis=1, sort=False)\n",
    "    df_pred_test = pd.concat([df_pred_test, df_test_], axis=1, sort=False)\n",
    "  \n",
    "  # # Probabilidades\n",
    "    cols = [\n",
    "      \"SVM-{}-{}\".format(ext,clf.classes_[0]), \n",
    "      \"SVM-{}-{}\".format(ext,clf.classes_[1])\n",
    "    ]\n",
    "    df_train_ = pd.DataFrame(clf.predict_proba(train), columns=cols)\n",
    "    df_val_ = pd.DataFrame(clf.predict_proba(val), columns=cols)\n",
    "    df_test_ = pd.DataFrame(clf.predict_proba(test), columns=cols)\n",
    "    df_prob_train = pd.concat([df_prob_train, df_train_], axis=1, sort=False)\n",
    "    df_prob_val = pd.concat([df_prob_val, df_val_], axis=1, sort=False)\n",
    "    df_prob_test = pd.concat([df_prob_test, df_test_], axis=1, sort=False)\n"
   ]
  },
  {
   "cell_type": "markdown",
   "metadata": {},
   "source": [
    "## Prediction LR model"
   ]
  },
  {
   "cell_type": "code",
   "execution_count": 16,
   "metadata": {
    "id": "xCd8RcJhlAKs"
   },
   "outputs": [],
   "source": [
    "lr = {\n",
    "    'CV': {\n",
    "        'CLF': LogisticRegression(random_state=42, multi_class='auto', solver='liblinear', penalty='l1'),\n",
    "        'EXT': cv,\n",
    "    },\n",
    "    'TFIDF': {\n",
    "        'CLF': LogisticRegression(random_state=42, multi_class='auto', solver='liblinear', penalty='l1'),\n",
    "        'EXT': tfidf,\n",
    "    },\n",
    "    'W2V': {\n",
    "        'CLF': LogisticRegression(random_state=42, multi_class='auto', solver='liblinear', penalty='l1'),\n",
    "        'EXT': w2v,\n",
    "    },\n",
    "    'GLOVE': {\n",
    "        'CLF': LogisticRegression(random_state=42, multi_class='auto', solver='liblinear', penalty='l1'),\n",
    "        'EXT':  glove,\n",
    "    },\n",
    "    'FAST': {\n",
    "        'CLF': LogisticRegression(random_state=42, multi_class='auto', solver='liblinear', penalty='l1'),\n",
    "        'EXT': fasttext,\n",
    "    }\n",
    "}"
   ]
  },
  {
   "cell_type": "code",
   "execution_count": 17,
   "metadata": {
    "colab": {
     "base_uri": "https://localhost:8080/"
    },
    "id": "gaft1kQCtTZo",
    "outputId": "4eb42ee9-82fc-4b46-b1f3-84427d51168d"
   },
   "outputs": [],
   "source": [
    "lr_clfs = {\n",
    "\n",
    "}\n",
    "for ext, clf in lr.items():\n",
    "    lr_clfs[ext] = get_classifier(clf['CLF'], train, df_train['HS'], clf['EXT'])"
   ]
  },
  {
   "cell_type": "code",
   "execution_count": 18,
   "metadata": {
    "id": "Q9WSAXm7tUpU"
   },
   "outputs": [],
   "source": [
    "for ext, clf in lr_clfs.items():\n",
    "  # Predict\n",
    "    df_train_ = pd.DataFrame(clf.predict(train), columns=[\"LR-{}\".format(ext)])\n",
    "    df_val_ = pd.DataFrame(clf.predict(val), columns=[\"LR-{}\".format(ext)])\n",
    "    df_test_ = pd.DataFrame(clf.predict(test), columns=[\"LR-{}\".format(ext)])\n",
    "  \n",
    "    df_pred_train = pd.concat([df_pred_train, df_train_], axis=1, sort=False)\n",
    "    df_pred_val = pd.concat([df_pred_val, df_val_], axis=1, sort=False)\n",
    "    df_pred_test = pd.concat([df_pred_test, df_test_], axis=1, sort=False)\n",
    "\n",
    "    # # Probabilidades\n",
    "    cols = [\n",
    "      \"LR-{}-{}\".format(ext,clf.classes_[0]), \n",
    "      \"LR-{}-{}\".format(ext,clf.classes_[1])\n",
    "    ]\n",
    "    df_train_ = pd.DataFrame(clf.predict_proba(train), columns=cols)\n",
    "    df_val_ = pd.DataFrame(clf.predict_proba(val), columns=cols)\n",
    "    df_test_ = pd.DataFrame(clf.predict_proba(test), columns=cols)\n",
    "    df_prob_train = pd.concat([df_prob_train, df_train_], axis=1, sort=False)\n",
    "    df_prob_val = pd.concat([df_prob_val, df_val_], axis=1, sort=False)\n",
    "    df_prob_test = pd.concat([df_prob_test, df_test_], axis=1, sort=False)"
   ]
  },
  {
   "cell_type": "markdown",
   "metadata": {},
   "source": [
    "## Prediction Random Forest"
   ]
  },
  {
   "cell_type": "code",
   "execution_count": 19,
   "metadata": {
    "id": "onRailt-teBu"
   },
   "outputs": [],
   "source": [
    "rf = {\n",
    "    'CV': {\n",
    "        'CLF': RandomForestClassifier(random_state=42, n_estimators=100, n_jobs=-1),\n",
    "        'EXT': cv,\n",
    "    },\n",
    "    'TFIDF': {\n",
    "        'CLF': RandomForestClassifier(random_state=42, n_estimators=100, n_jobs=-1),\n",
    "        'EXT': tfidf,\n",
    "    },\n",
    "    'W2V': {\n",
    "        'CLF': RandomForestClassifier(random_state=42, n_estimators=100, n_jobs=-1),\n",
    "        'EXT': w2v,\n",
    "    },\n",
    "    'GLOVE': {\n",
    "        'CLF': RandomForestClassifier(random_state=42, n_estimators=100, n_jobs=-1),\n",
    "        'EXT':  glove,\n",
    "    },\n",
    "    'FAST': {\n",
    "        'CLF': RandomForestClassifier(random_state=42, n_estimators=100, n_jobs=-1),\n",
    "        'EXT': fasttext,\n",
    "    }\n",
    "}"
   ]
  },
  {
   "cell_type": "code",
   "execution_count": 20,
   "metadata": {
    "colab": {
     "base_uri": "https://localhost:8080/"
    },
    "id": "1nCt_RN4tmKA",
    "outputId": "927c84fb-b86d-415c-fb46-760152beaa14"
   },
   "outputs": [],
   "source": [
    "rf_clfs = {\n",
    "\n",
    "}\n",
    "for ext, clf in rf.items():\n",
    "    rf_clfs[ext] = get_classifier(clf['CLF'], train, df_train['HS'], clf['EXT'])"
   ]
  },
  {
   "cell_type": "code",
   "execution_count": 21,
   "metadata": {
    "colab": {
     "base_uri": "https://localhost:8080/"
    },
    "id": "09ArLJnutn8T",
    "outputId": "0fc53a6d-2407-4581-f767-bc720922d7d5"
   },
   "outputs": [],
   "source": [
    "for ext, clf in rf_clfs.items():\n",
    "    # Predict\n",
    "    df_train_ = pd.DataFrame(clf.predict(train), columns=[\"RF-{}\".format(ext)])\n",
    "    df_val_ = pd.DataFrame(clf.predict(val), columns=[\"RF-{}\".format(ext)])\n",
    "    df_test_ = pd.DataFrame(clf.predict(test), columns=[\"RF-{}\".format(ext)])\n",
    "  \n",
    "    df_pred_train = pd.concat([df_pred_train, df_train_], axis=1, sort=False)\n",
    "    df_pred_val = pd.concat([df_pred_val, df_val_], axis=1, sort=False)\n",
    "    df_pred_test = pd.concat([df_pred_test, df_test_], axis=1, sort=False)\n",
    "\n",
    "    # # Probabilidades\n",
    "    cols = [\n",
    "      \"RF-{}-{}\".format(ext,clf.classes_[0]), \n",
    "      \"RF-{}-{}\".format(ext,clf.classes_[1])\n",
    "    ]\n",
    "    df_train_ = pd.DataFrame(clf.predict_proba(train), columns=cols)\n",
    "    df_val_ = pd.DataFrame(clf.predict_proba(val), columns=cols)\n",
    "    df_test_ = pd.DataFrame(clf.predict_proba(test), columns=cols)\n",
    "    df_prob_train = pd.concat([df_prob_train, df_train_], axis=1, sort=False)\n",
    "    df_prob_val = pd.concat([df_prob_val, df_val_], axis=1, sort=False)\n",
    "    df_prob_test = pd.concat([df_prob_test, df_test_], axis=1, sort=False)\n"
   ]
  },
  {
   "cell_type": "markdown",
   "metadata": {},
   "source": [
    "### PRediction Naive Bayes"
   ]
  },
  {
   "cell_type": "code",
   "execution_count": 22,
   "metadata": {
    "id": "GHGjXwvRtu59"
   },
   "outputs": [],
   "source": [
    "nb = {\n",
    "    'CV': {\n",
    "        'CLF': MultinomialNB(alpha=1, fit_prior=False),\n",
    "        'EXT': cv,\n",
    "    },\n",
    "    'TFIDF': {\n",
    "        'CLF': MultinomialNB(alpha=0.5, fit_prior=False),\n",
    "        'EXT': tfidf,\n",
    "    },\n",
    "    'W2V': {\n",
    "        'CLF': GaussianNB(priors=[0.5, 0.5]),\n",
    "        'EXT': w2v,\n",
    "    },\n",
    "    'GLOVE': {\n",
    "        'CLF': GaussianNB(priors=[0.5, 0.5]),\n",
    "        'EXT':  glove,\n",
    "    },\n",
    "    'FAST': {\n",
    "        'CLF': GaussianNB(priors=[0.5, 0.5]),\n",
    "        'EXT': fasttext,\n",
    "    }\n",
    "}"
   ]
  },
  {
   "cell_type": "code",
   "execution_count": 23,
   "metadata": {
    "id": "TonmJS55uHtA"
   },
   "outputs": [],
   "source": [
    "nb_clfs = {\n",
    "\n",
    "}\n",
    "for ext, clf in nb.items():\n",
    "    nb_clfs[ext] = get_classifier(clf['CLF'], train, df_train['HS'], clf['EXT'])"
   ]
  },
  {
   "cell_type": "code",
   "execution_count": 24,
   "metadata": {
    "id": "VamLfJefuJ8m"
   },
   "outputs": [],
   "source": [
    "for ext, clf in nb_clfs.items():\n",
    "    # Predict\n",
    "    df_train_ = pd.DataFrame(clf.predict(train), columns=[\"NB-{}\".format(ext)])\n",
    "    df_val_ = pd.DataFrame(clf.predict(val), columns=[\"NB-{}\".format(ext)])\n",
    "    df_test_ = pd.DataFrame(clf.predict(test), columns=[\"NB-{}\".format(ext)])\n",
    "  \n",
    "    df_pred_train = pd.concat([df_pred_train, df_train_], axis=1, sort=False)\n",
    "    df_pred_val = pd.concat([df_pred_val, df_val_], axis=1, sort=False)\n",
    "    df_pred_test = pd.concat([df_pred_test, df_test_], axis=1, sort=False)\n",
    "\n",
    "  # # Probabilidades\n",
    "    cols = [\n",
    "      \"NB-{}-{}\".format(ext,clf.classes_[0]), \n",
    "      \"NB-{}-{}\".format(ext,clf.classes_[1])\n",
    "    ]\n",
    "    df_train_ = pd.DataFrame(clf.predict_proba(train), columns=cols)\n",
    "    df_val_ = pd.DataFrame(clf.predict_proba(val), columns=cols)\n",
    "    df_test_ = pd.DataFrame(clf.predict_proba(test), columns=cols)\n",
    "    df_prob_train = pd.concat([df_prob_train, df_train_], axis=1, sort=False)\n",
    "    df_prob_val = pd.concat([df_prob_val, df_val_], axis=1, sort=False)\n",
    "    df_prob_test = pd.concat([df_prob_test, df_test_], axis=1, sort=False)"
   ]
  },
  {
   "cell_type": "markdown",
   "metadata": {},
   "source": [
    "### PRediction MLP"
   ]
  },
  {
   "cell_type": "code",
   "execution_count": 25,
   "metadata": {
    "id": "Q0UFePz9uj7y"
   },
   "outputs": [],
   "source": [
    "mlp = {\n",
    "    'CV': {\n",
    "        'CLF': MLPClassifier(random_state=42, batch_size=64, max_iter=100, activation='relu', solver='lbfgs'),\n",
    "        'EXT': cv,\n",
    "    },\n",
    "    'TFIDF': {\n",
    "        'CLF': MLPClassifier(random_state=42, batch_size=64, max_iter=100, activation='logistic', solver='adam'),\n",
    "        'EXT': tfidf,\n",
    "    },\n",
    "    'W2V': {\n",
    "        'CLF': MLPClassifier(random_state=42, batch_size=64, max_iter=100, activation='relu', solver='adam'),\n",
    "        'EXT': w2v,\n",
    "    },\n",
    "    'GLOVE': {\n",
    "        'CLF': MLPClassifier(random_state=42, batch_size=64, max_iter=100, activation='relu', solver='adam'),\n",
    "        'EXT':  glove,\n",
    "    },\n",
    "    'FAST': {\n",
    "        'CLF': MLPClassifier(random_state=42, batch_size=20, max_iter=20, activation='relu', solver='adam'),\n",
    "        'EXT': fasttext,\n",
    "    }\n",
    "}"
   ]
  },
  {
   "cell_type": "code",
   "execution_count": 26,
   "metadata": {
    "colab": {
     "base_uri": "https://localhost:8080/"
    },
    "id": "D8-VNNZyul01",
    "outputId": "8573a536-0ca8-4399-cd3f-e7de8e9bf158"
   },
   "outputs": [
    {
     "name": "stderr",
     "output_type": "stream",
     "text": [
      "C:\\Users\\Rafael\\Anaconda3\\envs\\hate_speech\\lib\\site-packages\\sklearn\\neural_network\\_multilayer_perceptron.py:585: ConvergenceWarning: Stochastic Optimizer: Maximum iterations (100) reached and the optimization hasn't converged yet.\n",
      "  % self.max_iter, ConvergenceWarning)\n",
      "C:\\Users\\Rafael\\Anaconda3\\envs\\hate_speech\\lib\\site-packages\\sklearn\\neural_network\\_multilayer_perceptron.py:585: ConvergenceWarning: Stochastic Optimizer: Maximum iterations (100) reached and the optimization hasn't converged yet.\n",
      "  % self.max_iter, ConvergenceWarning)\n",
      "C:\\Users\\Rafael\\Anaconda3\\envs\\hate_speech\\lib\\site-packages\\sklearn\\neural_network\\_multilayer_perceptron.py:585: ConvergenceWarning: Stochastic Optimizer: Maximum iterations (100) reached and the optimization hasn't converged yet.\n",
      "  % self.max_iter, ConvergenceWarning)\n",
      "C:\\Users\\Rafael\\Anaconda3\\envs\\hate_speech\\lib\\site-packages\\sklearn\\neural_network\\_multilayer_perceptron.py:585: ConvergenceWarning: Stochastic Optimizer: Maximum iterations (20) reached and the optimization hasn't converged yet.\n",
      "  % self.max_iter, ConvergenceWarning)\n"
     ]
    }
   ],
   "source": [
    "mlp_clfs = {\n",
    "\n",
    "}\n",
    "for ext, clf in mlp.items():\n",
    "    mlp_clfs[ext] = get_classifier(clf['CLF'], train, df_train['HS'], clf['EXT'])"
   ]
  },
  {
   "cell_type": "code",
   "execution_count": 27,
   "metadata": {
    "id": "xHdgSp1UunVN"
   },
   "outputs": [],
   "source": [
    "for ext, clf in mlp_clfs.items():\n",
    "    # Predict\n",
    "    df_train_ = pd.DataFrame(clf.predict(train), columns=[\"MLP-{}\".format(ext)])\n",
    "    df_val_ = pd.DataFrame(clf.predict(val), columns=[\"MLP-{}\".format(ext)])\n",
    "    df_test_ = pd.DataFrame(clf.predict(test), columns=[\"MLP-{}\".format(ext)])\n",
    "\n",
    "    df_pred_train = pd.concat([df_pred_train, df_train_], axis=1, sort=False)\n",
    "    df_pred_val = pd.concat([df_pred_val, df_val_], axis=1, sort=False)\n",
    "    df_pred_test = pd.concat([df_pred_test, df_test_], axis=1, sort=False)\n",
    "\n",
    "    # # Probabilidades\n",
    "    cols = [\n",
    "        \"MLP-{}-{}\".format(ext,clf.classes_[0]), \n",
    "        \"MLP-{}-{}\".format(ext,clf.classes_[1])\n",
    "    ]\n",
    "    df_train_ = pd.DataFrame(clf.predict_proba(train), columns=cols)\n",
    "    df_val_ = pd.DataFrame(clf.predict_proba(val), columns=cols)\n",
    "    df_test_ = pd.DataFrame(clf.predict_proba(test), columns=cols)\n",
    "    df_prob_train = pd.concat([df_prob_train, df_train_], axis=1, sort=False)\n",
    "    df_prob_val = pd.concat([df_prob_val, df_val_], axis=1, sort=False)\n",
    "    df_prob_test = pd.concat([df_prob_test, df_test_], axis=1, sort=False)\n"
   ]
  },
  {
   "cell_type": "markdown",
   "metadata": {},
   "source": [
    "## Prediction Extra"
   ]
  },
  {
   "cell_type": "code",
   "execution_count": 28,
   "metadata": {
    "id": "KTUzrHaCuwaS"
   },
   "outputs": [],
   "source": [
    "extra = {\n",
    "    'CV': {\n",
    "        'CLF': ExtraTreesClassifier(random_state=42, n_estimators=100, n_jobs=-1),\n",
    "        'EXT': cv,\n",
    "    },\n",
    "    'TFIDF': {\n",
    "        'CLF': ExtraTreesClassifier(random_state=42, n_estimators=100, n_jobs=-1),\n",
    "        'EXT': tfidf,\n",
    "    },\n",
    "    'W2V': {\n",
    "        'CLF': ExtraTreesClassifier(random_state=42, n_estimators=100, n_jobs=-1),\n",
    "        'EXT': w2v,\n",
    "    },\n",
    "    'GLOVE': {\n",
    "        'CLF': ExtraTreesClassifier(random_state=42, n_estimators=100, n_jobs=-1),\n",
    "        'EXT':  glove,\n",
    "    },\n",
    "    'FAST': {\n",
    "        'CLF': ExtraTreesClassifier(random_state=42, n_estimators=100, n_jobs=-1),\n",
    "        'EXT': fasttext,\n",
    "    }\n",
    "}"
   ]
  },
  {
   "cell_type": "code",
   "execution_count": 29,
   "metadata": {
    "colab": {
     "base_uri": "https://localhost:8080/"
    },
    "id": "X8eaNGChuzAL",
    "outputId": "5fe999b8-eb66-486c-f9fe-80d2d3b43198"
   },
   "outputs": [],
   "source": [
    "extra_clfs = {\n",
    "\n",
    "}\n",
    "for ext, clf in extra.items():\n",
    "    extra_clfs[ext] = get_classifier(clf['CLF'], train, df_train['HS'], clf['EXT'])\n"
   ]
  },
  {
   "cell_type": "code",
   "execution_count": 30,
   "metadata": {
    "colab": {
     "base_uri": "https://localhost:8080/"
    },
    "id": "BW3cJ3tIu01c",
    "outputId": "7935323e-3959-4307-8c61-ae20c98a305c"
   },
   "outputs": [],
   "source": [
    "for ext, clf in extra_clfs.items():\n",
    "    # Predict\n",
    "    df_train_ = pd.DataFrame(clf.predict(train), columns=[\"EXTRA-{}\".format(ext)])\n",
    "    df_val_ = pd.DataFrame(clf.predict(val), columns=[\"EXTRA-{}\".format(ext)])\n",
    "    df_test_ = pd.DataFrame(clf.predict(test), columns=[\"EXTRA-{}\".format(ext)])\n",
    "\n",
    "    df_pred_train = pd.concat([df_pred_train, df_train_], axis=1, sort=False)\n",
    "    df_pred_val = pd.concat([df_pred_val, df_val_], axis=1, sort=False)\n",
    "    df_pred_test = pd.concat([df_pred_test, df_test_], axis=1, sort=False)\n",
    "\n",
    "    # # Probabilidades\n",
    "    cols = [\n",
    "        \"EXTRA-{}-{}\".format(ext,clf.classes_[0]), \n",
    "        \"EXTRA-{}-{}\".format(ext,clf.classes_[1])\n",
    "    ]\n",
    "    df_train_ = pd.DataFrame(clf.predict_proba(train), columns=cols)\n",
    "    df_val_ = pd.DataFrame(clf.predict_proba(val), columns=cols)\n",
    "    df_test_ = pd.DataFrame(clf.predict_proba(test), columns=cols)\n",
    "    df_prob_train = pd.concat([df_prob_train, df_train_], axis=1, sort=False)\n",
    "    df_prob_val = pd.concat([df_prob_val, df_val_], axis=1, sort=False)\n",
    "    df_prob_test = pd.concat([df_prob_test, df_test_], axis=1, sort=False)\n"
   ]
  },
  {
   "cell_type": "code",
   "execution_count": 31,
   "metadata": {
    "id": "Y0nOzkCEu7I4"
   },
   "outputs": [],
   "source": [
    "knn = {\n",
    "    'CV': {\n",
    "        'CLF': KNeighborsClassifier(n_neighbors=3, algorithm='auto'),\n",
    "        'EXT': cv,\n",
    "    },\n",
    "    'TFIDF': {\n",
    "        'CLF': KNeighborsClassifier(n_neighbors=5, algorithm='auto'),\n",
    "        'EXT': tfidf,\n",
    "    },\n",
    "    'W2V': {\n",
    "        'CLF': KNeighborsClassifier(n_neighbors=5, algorithm='auto'),\n",
    "        'EXT': w2v,\n",
    "    },\n",
    "    'GLOVE': {\n",
    "        'CLF': KNeighborsClassifier(n_neighbors=5, algorithm='auto'),\n",
    "        'EXT':  glove,\n",
    "    },\n",
    "    'FAST': {\n",
    "        'CLF': KNeighborsClassifier(n_neighbors=5, algorithm='auto'),\n",
    "        'EXT': fasttext,\n",
    "    }\n",
    "}"
   ]
  },
  {
   "cell_type": "code",
   "execution_count": 32,
   "metadata": {
    "id": "BlKGAfMsu-5v"
   },
   "outputs": [],
   "source": [
    "knn_clfs = { }\n",
    "for ext, clf in knn.items():\n",
    "    knn_clfs[ext] = get_classifier(clf['CLF'], train, df_train['HS'], clf['EXT'])"
   ]
  },
  {
   "cell_type": "code",
   "execution_count": 33,
   "metadata": {
    "id": "XLZioNx2vAyJ"
   },
   "outputs": [],
   "source": [
    "for ext, clf in knn_clfs.items():\n",
    "    # Predict\n",
    "    df_train_ = pd.DataFrame(clf.predict(train), columns=[\"KNN-{}\".format(ext)])\n",
    "    df_val_ = pd.DataFrame(clf.predict(val), columns=[\"KNN-{}\".format(ext)])\n",
    "    df_test_ = pd.DataFrame(clf.predict(test), columns=[\"KNN-{}\".format(ext)])\n",
    "\n",
    "    df_pred_train = pd.concat([df_pred_train, df_train_], axis=1, sort=False)\n",
    "    df_pred_val = pd.concat([df_pred_val, df_val_], axis=1, sort=False)\n",
    "    df_pred_test = pd.concat([df_pred_test, df_test_], axis=1, sort=False)\n",
    "\n",
    "    # # Probabilidades\n",
    "    cols = [\n",
    "        \"KNN-{}-{}\".format(ext,clf.classes_[0]), \n",
    "        \"KNN-{}-{}\".format(ext,clf.classes_[1])\n",
    "    ]\n",
    "    df_train_ = pd.DataFrame(clf.predict_proba(train), columns=cols)\n",
    "    df_val_ = pd.DataFrame(clf.predict_proba(val), columns=cols)\n",
    "    df_test_ = pd.DataFrame(clf.predict_proba(test), columns=cols)\n",
    "    df_prob_train = pd.concat([df_prob_train, df_train_], axis=1, sort=False)\n",
    "    df_prob_val = pd.concat([df_prob_val, df_val_], axis=1, sort=False)\n",
    "    df_prob_test = pd.concat([df_prob_test, df_test_], axis=1, sort=False)\n"
   ]
  },
  {
   "cell_type": "markdown",
   "metadata": {
    "id": "BCN40ZFTvH0G"
   },
   "source": [
    "# Prediction CNN"
   ]
  },
  {
   "cell_type": "code",
   "execution_count": 34,
   "metadata": {
    "id": "ddw95uDCvJCH"
   },
   "outputs": [],
   "source": [
    "MAX_NB_WORDS = 20000\n",
    "MAX_SEQUENCE_LENGTH=300\n",
    "\n",
    "y_train = to_categorical(df_train['HS'])\n",
    "y_val = to_categorical(df_val['HS'])\n",
    "\n",
    "tokenizer = Tokenizer(num_words=MAX_NB_WORDS)\n",
    "tokenizer.fit_on_texts(train)\n",
    "\n",
    "seq_train = tokenizer.texts_to_sequences(train)\n",
    "seq_val = tokenizer.texts_to_sequences(val)\n",
    "seq_test = tokenizer.texts_to_sequences(test)\n",
    "\n",
    "data_train = pad_sequences(seq_train, maxlen=MAX_SEQUENCE_LENGTH)\n",
    "data_val = pad_sequences(seq_val, maxlen=MAX_SEQUENCE_LENGTH)\n",
    "data_test = pad_sequences(seq_test, maxlen=MAX_SEQUENCE_LENGTH)"
   ]
  },
  {
   "cell_type": "code",
   "execution_count": 35,
   "metadata": {
    "colab": {
     "base_uri": "https://localhost:8080/"
    },
    "id": "5WL49mfKvXjt",
    "outputId": "901932b3-6399-42fb-cd05-b3a739415ef9"
   },
   "outputs": [
    {
     "name": "stdout",
     "output_type": "stream",
     "text": [
      "Model: \"sequential\"\n",
      "_________________________________________________________________\n",
      "Layer (type)                 Output Shape              Param #   \n",
      "=================================================================\n",
      "embedding (Embedding)        (None, 300, 300)          5142600   \n",
      "_________________________________________________________________\n",
      "dropout (Dropout)            (None, 300, 300)          0         \n",
      "_________________________________________________________________\n",
      "conv1d (Conv1D)              (None, 298, 64)           57664     \n",
      "_________________________________________________________________\n",
      "global_max_pooling1d (Global (None, 64)                0         \n",
      "_________________________________________________________________\n",
      "dense (Dense)                (None, 256)               16640     \n",
      "_________________________________________________________________\n",
      "dropout_1 (Dropout)          (None, 256)               0         \n",
      "_________________________________________________________________\n",
      "activation (Activation)      (None, 256)               0         \n",
      "_________________________________________________________________\n",
      "dense_1 (Dense)              (None, 2)                 514       \n",
      "_________________________________________________________________\n",
      "activation_1 (Activation)    (None, 2)                 0         \n",
      "=================================================================\n",
      "Total params: 5,217,418\n",
      "Trainable params: 74,818\n",
      "Non-trainable params: 5,142,600\n",
      "_________________________________________________________________\n",
      "Model: \"sequential_1\"\n",
      "_________________________________________________________________\n",
      "Layer (type)                 Output Shape              Param #   \n",
      "=================================================================\n",
      "embedding_1 (Embedding)      (None, 300, 300)          5142600   \n",
      "_________________________________________________________________\n",
      "dropout_2 (Dropout)          (None, 300, 300)          0         \n",
      "_________________________________________________________________\n",
      "conv1d_1 (Conv1D)            (None, 298, 64)           57664     \n",
      "_________________________________________________________________\n",
      "global_max_pooling1d_1 (Glob (None, 64)                0         \n",
      "_________________________________________________________________\n",
      "dense_2 (Dense)              (None, 256)               16640     \n",
      "_________________________________________________________________\n",
      "dropout_3 (Dropout)          (None, 256)               0         \n",
      "_________________________________________________________________\n",
      "activation_2 (Activation)    (None, 256)               0         \n",
      "_________________________________________________________________\n",
      "dense_3 (Dense)              (None, 2)                 514       \n",
      "_________________________________________________________________\n",
      "activation_3 (Activation)    (None, 2)                 0         \n",
      "=================================================================\n",
      "Total params: 5,217,418\n",
      "Trainable params: 74,818\n",
      "Non-trainable params: 5,142,600\n",
      "_________________________________________________________________\n",
      "Model: \"sequential_2\"\n",
      "_________________________________________________________________\n",
      "Layer (type)                 Output Shape              Param #   \n",
      "=================================================================\n",
      "embedding_2 (Embedding)      (None, 300, 300)          5142600   \n",
      "_________________________________________________________________\n",
      "dropout_4 (Dropout)          (None, 300, 300)          0         \n",
      "_________________________________________________________________\n",
      "conv1d_2 (Conv1D)            (None, 298, 64)           57664     \n",
      "_________________________________________________________________\n",
      "global_max_pooling1d_2 (Glob (None, 64)                0         \n",
      "_________________________________________________________________\n",
      "dense_4 (Dense)              (None, 256)               16640     \n",
      "_________________________________________________________________\n",
      "dropout_5 (Dropout)          (None, 256)               0         \n",
      "_________________________________________________________________\n",
      "activation_4 (Activation)    (None, 256)               0         \n",
      "_________________________________________________________________\n",
      "dense_5 (Dense)              (None, 2)                 514       \n",
      "_________________________________________________________________\n",
      "activation_5 (Activation)    (None, 2)                 0         \n",
      "=================================================================\n",
      "Total params: 5,217,418\n",
      "Trainable params: 74,818\n",
      "Non-trainable params: 5,142,600\n",
      "_________________________________________________________________\n",
      "Model: \"sequential_3\"\n",
      "_________________________________________________________________\n",
      "Layer (type)                 Output Shape              Param #   \n",
      "=================================================================\n",
      "embedding_3 (Embedding)      (None, 300, 25)           428550    \n",
      "_________________________________________________________________\n",
      "dropout_6 (Dropout)          (None, 300, 25)           0         \n",
      "_________________________________________________________________\n",
      "conv1d_3 (Conv1D)            (None, 298, 64)           4864      \n",
      "_________________________________________________________________\n",
      "global_max_pooling1d_3 (Glob (None, 64)                0         \n",
      "_________________________________________________________________\n",
      "dense_6 (Dense)              (None, 256)               16640     \n",
      "_________________________________________________________________\n",
      "dropout_7 (Dropout)          (None, 256)               0         \n",
      "_________________________________________________________________\n",
      "activation_6 (Activation)    (None, 256)               0         \n",
      "_________________________________________________________________\n",
      "dense_7 (Dense)              (None, 2)                 514       \n",
      "_________________________________________________________________\n",
      "activation_7 (Activation)    (None, 2)                 0         \n",
      "=================================================================\n",
      "Total params: 450,568\n",
      "Trainable params: 22,018\n",
      "Non-trainable params: 428,550\n",
      "_________________________________________________________________\n",
      "Model: \"sequential_4\"\n",
      "_________________________________________________________________\n",
      "Layer (type)                 Output Shape              Param #   \n",
      "=================================================================\n",
      "embedding_4 (Embedding)      (None, 300, 300)          5142600   \n",
      "_________________________________________________________________\n",
      "dropout_8 (Dropout)          (None, 300, 300)          0         \n",
      "_________________________________________________________________\n",
      "conv1d_4 (Conv1D)            (None, 298, 64)           57664     \n",
      "_________________________________________________________________\n",
      "global_max_pooling1d_4 (Glob (None, 64)                0         \n",
      "_________________________________________________________________\n",
      "dense_8 (Dense)              (None, 256)               16640     \n",
      "_________________________________________________________________\n",
      "dropout_9 (Dropout)          (None, 256)               0         \n",
      "_________________________________________________________________\n",
      "activation_8 (Activation)    (None, 256)               0         \n",
      "_________________________________________________________________\n",
      "dense_9 (Dense)              (None, 2)                 514       \n",
      "_________________________________________________________________\n",
      "activation_9 (Activation)    (None, 2)                 0         \n",
      "=================================================================\n",
      "Total params: 5,217,418\n",
      "Trainable params: 74,818\n",
      "Non-trainable params: 5,142,600\n",
      "_________________________________________________________________\n"
     ]
    }
   ],
   "source": [
    "cnn_cv = get_CNN(cv, tokenizer, MAX_NB_WORDS, EMBEDDING_DIM=300, activation='sigmoid', dense=2)\n",
    "cnn_tfidf = get_CNN(tfidf, tokenizer, MAX_NB_WORDS, EMBEDDING_DIM=300, activation='softmax', dense=2)\n",
    "cnn_w2v = get_CNN(w2v, tokenizer, MAX_NB_WORDS, EMBEDDING_DIM=300, activation='sigmoid', word_embedding=True, dense=2)\n",
    "cnn_glove = get_CNN(glove, tokenizer, MAX_NB_WORDS, EMBEDDING_DIM=25, activation='sigmoid', word_embedding=True, dense=2)\n",
    "cnn_fast = get_CNN(fasttext, tokenizer, MAX_NB_WORDS, EMBEDDING_DIM=300, activation='sigmoid', word_embedding=True, dense=2)"
   ]
  },
  {
   "cell_type": "code",
   "execution_count": 36,
   "metadata": {
    "colab": {
     "base_uri": "https://localhost:8080/"
    },
    "id": "afhb0ekxvjkn",
    "outputId": "9b5fac18-eb60-4757-f728-d1587d598add"
   },
   "outputs": [
    {
     "name": "stdout",
     "output_type": "stream",
     "text": [
      "Epoch 1/20\n",
      "450/450 [==============================] - 18s 39ms/step - loss: 0.6796 - accuracy: 0.5792 - val_loss: 0.6560 - val_accuracy: 0.6570\n",
      "Epoch 2/20\n",
      "450/450 [==============================] - 17s 38ms/step - loss: 0.6228 - accuracy: 0.6704 - val_loss: 0.6083 - val_accuracy: 0.6910\n",
      "Epoch 3/20\n",
      "450/450 [==============================] - 18s 40ms/step - loss: 0.5637 - accuracy: 0.7221 - val_loss: 0.5975 - val_accuracy: 0.7000\n",
      "Epoch 4/20\n",
      "450/450 [==============================] - 17s 38ms/step - loss: 0.5368 - accuracy: 0.7431 - val_loss: 0.6592 - val_accuracy: 0.6780\n",
      "Epoch 5/20\n",
      "450/450 [==============================] - 17s 38ms/step - loss: 0.5130 - accuracy: 0.7497 - val_loss: 0.6216 - val_accuracy: 0.7010\n",
      "Epoch 6/20\n",
      "450/450 [==============================] - 17s 38ms/step - loss: 0.4835 - accuracy: 0.7739 - val_loss: 0.5607 - val_accuracy: 0.7210\n",
      "Epoch 7/20\n",
      "450/450 [==============================] - 17s 38ms/step - loss: 0.4685 - accuracy: 0.7828 - val_loss: 0.5613 - val_accuracy: 0.7190\n",
      "Epoch 8/20\n",
      "450/450 [==============================] - 17s 38ms/step - loss: 0.4587 - accuracy: 0.7837 - val_loss: 0.5535 - val_accuracy: 0.7240\n",
      "Epoch 9/20\n",
      "450/450 [==============================] - 17s 39ms/step - loss: 0.4455 - accuracy: 0.7931 - val_loss: 0.5818 - val_accuracy: 0.6920\n",
      "Epoch 10/20\n",
      "450/450 [==============================] - 17s 38ms/step - loss: 0.4244 - accuracy: 0.8139 - val_loss: 0.5667 - val_accuracy: 0.7200\n",
      "Epoch 11/20\n",
      "450/450 [==============================] - 17s 38ms/step - loss: 0.4062 - accuracy: 0.8142 - val_loss: 0.5922 - val_accuracy: 0.7260\n",
      "Epoch 12/20\n",
      "450/450 [==============================] - 17s 38ms/step - loss: 0.3777 - accuracy: 0.8310 - val_loss: 0.5822 - val_accuracy: 0.7230\n",
      "Epoch 13/20\n",
      "450/450 [==============================] - 17s 38ms/step - loss: 0.3754 - accuracy: 0.8373 - val_loss: 0.5843 - val_accuracy: 0.7070\n",
      "Epoch 14/20\n",
      "450/450 [==============================] - 17s 38ms/step - loss: 0.3583 - accuracy: 0.8375 - val_loss: 0.6036 - val_accuracy: 0.7000\n",
      "Epoch 15/20\n",
      "450/450 [==============================] - 17s 38ms/step - loss: 0.3501 - accuracy: 0.8446 - val_loss: 0.6235 - val_accuracy: 0.7310\n",
      "Epoch 16/20\n",
      "450/450 [==============================] - 17s 39ms/step - loss: 0.3322 - accuracy: 0.8560 - val_loss: 0.6403 - val_accuracy: 0.7280\n",
      "Epoch 17/20\n",
      "450/450 [==============================] - 17s 39ms/step - loss: 0.3262 - accuracy: 0.8566 - val_loss: 0.7231 - val_accuracy: 0.6550\n",
      "Epoch 18/20\n",
      "450/450 [==============================] - 17s 38ms/step - loss: 0.3102 - accuracy: 0.8630 - val_loss: 0.7296 - val_accuracy: 0.6550\n",
      "Epoch 19/20\n",
      "450/450 [==============================] - 17s 38ms/step - loss: 0.2826 - accuracy: 0.8847 - val_loss: 0.6572 - val_accuracy: 0.7320\n",
      "Epoch 20/20\n",
      "450/450 [==============================] - 17s 38ms/step - loss: 0.2792 - accuracy: 0.8814 - val_loss: 0.8439 - val_accuracy: 0.6380\n"
     ]
    },
    {
     "data": {
      "text/plain": [
       "<tensorflow.python.keras.callbacks.History at 0x28f89f770f0>"
      ]
     },
     "execution_count": 36,
     "metadata": {},
     "output_type": "execute_result"
    }
   ],
   "source": [
    "cnn_cv.fit(data_train, y_train, validation_data=(data_val, y_val), epochs=20, batch_size=20)"
   ]
  },
  {
   "cell_type": "code",
   "execution_count": 37,
   "metadata": {
    "colab": {
     "base_uri": "https://localhost:8080/"
    },
    "id": "pDRmixdNvoAv",
    "outputId": "3cff20c5-2638-4720-d8e9-e13ab2f65e4b"
   },
   "outputs": [
    {
     "name": "stdout",
     "output_type": "stream",
     "text": [
      "Epoch 1/20\n",
      "45/45 [==============================] - 15s 316ms/step - loss: 0.6841 - accuracy: 0.5668 - val_loss: 0.6815 - val_accuracy: 0.5730\n",
      "Epoch 2/20\n",
      "45/45 [==============================] - 14s 313ms/step - loss: 0.6779 - accuracy: 0.5774 - val_loss: 0.6720 - val_accuracy: 0.5730\n",
      "Epoch 3/20\n",
      "45/45 [==============================] - 14s 313ms/step - loss: 0.6601 - accuracy: 0.5973 - val_loss: 0.6520 - val_accuracy: 0.6140\n",
      "Epoch 4/20\n",
      "45/45 [==============================] - 14s 314ms/step - loss: 0.6340 - accuracy: 0.6414 - val_loss: 0.6295 - val_accuracy: 0.6430\n",
      "Epoch 5/20\n",
      "45/45 [==============================] - 14s 320ms/step - loss: 0.6033 - accuracy: 0.6944 - val_loss: 0.6134 - val_accuracy: 0.6810\n",
      "Epoch 6/20\n",
      "45/45 [==============================] - 14s 315ms/step - loss: 0.5776 - accuracy: 0.7172 - val_loss: 0.6068 - val_accuracy: 0.6810\n",
      "Epoch 7/20\n",
      "45/45 [==============================] - 14s 312ms/step - loss: 0.5632 - accuracy: 0.7263 - val_loss: 0.6081 - val_accuracy: 0.6680\n",
      "Epoch 8/20\n",
      "45/45 [==============================] - 14s 313ms/step - loss: 0.5477 - accuracy: 0.7265 - val_loss: 0.5953 - val_accuracy: 0.6860\n",
      "Epoch 9/20\n",
      "45/45 [==============================] - 14s 313ms/step - loss: 0.5259 - accuracy: 0.7435 - val_loss: 0.5891 - val_accuracy: 0.6980\n",
      "Epoch 10/20\n",
      "45/45 [==============================] - 14s 313ms/step - loss: 0.5276 - accuracy: 0.7429 - val_loss: 0.5920 - val_accuracy: 0.6730\n",
      "Epoch 11/20\n",
      "45/45 [==============================] - 14s 313ms/step - loss: 0.5204 - accuracy: 0.7529 - val_loss: 0.5828 - val_accuracy: 0.7050\n",
      "Epoch 12/20\n",
      "45/45 [==============================] - 14s 312ms/step - loss: 0.5127 - accuracy: 0.7536 - val_loss: 0.5813 - val_accuracy: 0.6890\n",
      "Epoch 13/20\n",
      "45/45 [==============================] - 14s 315ms/step - loss: 0.4982 - accuracy: 0.7653 - val_loss: 0.5763 - val_accuracy: 0.6990\n",
      "Epoch 14/20\n",
      "45/45 [==============================] - 14s 322ms/step - loss: 0.4861 - accuracy: 0.7789 - val_loss: 0.5831 - val_accuracy: 0.6940\n",
      "Epoch 15/20\n",
      "45/45 [==============================] - 14s 313ms/step - loss: 0.4887 - accuracy: 0.7682 - val_loss: 0.5825 - val_accuracy: 0.7090\n",
      "Epoch 16/20\n",
      "45/45 [==============================] - 22s 487ms/step - loss: 0.4685 - accuracy: 0.7796 - val_loss: 0.5720 - val_accuracy: 0.7100\n",
      "Epoch 17/20\n",
      "45/45 [==============================] - 19s 419ms/step - loss: 0.4514 - accuracy: 0.7927 - val_loss: 0.5598 - val_accuracy: 0.7190\n",
      "Epoch 18/20\n",
      "45/45 [==============================] - 17s 389ms/step - loss: 0.4655 - accuracy: 0.7833 - val_loss: 0.5645 - val_accuracy: 0.7170\n",
      "Epoch 19/20\n",
      "45/45 [==============================] - 15s 323ms/step - loss: 0.4498 - accuracy: 0.7967 - val_loss: 0.6108 - val_accuracy: 0.6750\n",
      "Epoch 20/20\n",
      "45/45 [==============================] - 14s 322ms/step - loss: 0.4442 - accuracy: 0.7958 - val_loss: 0.5974 - val_accuracy: 0.7000\n",
      "Epoch 1/20\n",
      "45/45 [==============================] - 15s 329ms/step - loss: 0.6637 - accuracy: 0.6051 - val_loss: 0.5883 - val_accuracy: 0.6720\n",
      "Epoch 2/20\n",
      "45/45 [==============================] - 14s 317ms/step - loss: 0.5524 - accuracy: 0.7159 - val_loss: 0.5587 - val_accuracy: 0.7080\n",
      "Epoch 3/20\n",
      "45/45 [==============================] - 14s 317ms/step - loss: 0.5027 - accuracy: 0.7579 - val_loss: 0.5520 - val_accuracy: 0.7170\n",
      "Epoch 4/20\n",
      "45/45 [==============================] - 14s 319ms/step - loss: 0.4714 - accuracy: 0.7776 - val_loss: 0.5459 - val_accuracy: 0.7210\n",
      "Epoch 5/20\n",
      "45/45 [==============================] - 14s 316ms/step - loss: 0.4407 - accuracy: 0.7990 - val_loss: 0.5635 - val_accuracy: 0.7220\n",
      "Epoch 6/20\n",
      "45/45 [==============================] - 14s 318ms/step - loss: 0.4180 - accuracy: 0.8048 - val_loss: 0.5478 - val_accuracy: 0.7150\n",
      "Epoch 7/20\n",
      "45/45 [==============================] - 14s 317ms/step - loss: 0.3905 - accuracy: 0.8257 - val_loss: 0.6372 - val_accuracy: 0.6870\n",
      "Epoch 8/20\n",
      "45/45 [==============================] - 14s 317ms/step - loss: 0.3973 - accuracy: 0.8213 - val_loss: 0.8354 - val_accuracy: 0.6240\n",
      "Epoch 9/20\n",
      "45/45 [==============================] - 15s 328ms/step - loss: 0.3628 - accuracy: 0.8417 - val_loss: 0.5638 - val_accuracy: 0.7280\n",
      "Epoch 10/20\n",
      "45/45 [==============================] - 14s 318ms/step - loss: 0.3230 - accuracy: 0.8633 - val_loss: 0.5844 - val_accuracy: 0.7250\n",
      "Epoch 11/20\n",
      "45/45 [==============================] - 17s 372ms/step - loss: 0.3073 - accuracy: 0.8716 - val_loss: 0.6128 - val_accuracy: 0.7120\n",
      "Epoch 12/20\n",
      "45/45 [==============================] - 14s 313ms/step - loss: 0.3023 - accuracy: 0.8697 - val_loss: 0.5979 - val_accuracy: 0.7240\n",
      "Epoch 13/20\n",
      "45/45 [==============================] - 17s 377ms/step - loss: 0.2743 - accuracy: 0.8861 - val_loss: 0.6264 - val_accuracy: 0.7170\n",
      "Epoch 14/20\n",
      "45/45 [==============================] - 18s 402ms/step - loss: 0.2776 - accuracy: 0.8854 - val_loss: 0.6637 - val_accuracy: 0.7010\n",
      "Epoch 15/20\n",
      "45/45 [==============================] - 15s 333ms/step - loss: 0.2688 - accuracy: 0.8854 - val_loss: 0.8112 - val_accuracy: 0.6910\n",
      "Epoch 16/20\n",
      "45/45 [==============================] - 15s 340ms/step - loss: 0.2481 - accuracy: 0.8961 - val_loss: 0.7560 - val_accuracy: 0.6870\n",
      "Epoch 17/20\n",
      "45/45 [==============================] - 16s 359ms/step - loss: 0.2552 - accuracy: 0.8907 - val_loss: 0.7092 - val_accuracy: 0.7090\n",
      "Epoch 18/20\n",
      "45/45 [==============================] - 15s 337ms/step - loss: 0.2380 - accuracy: 0.9012 - val_loss: 0.7501 - val_accuracy: 0.7150\n",
      "Epoch 19/20\n",
      "45/45 [==============================] - 15s 334ms/step - loss: 0.2118 - accuracy: 0.9129 - val_loss: 0.8170 - val_accuracy: 0.7050\n",
      "Epoch 20/20\n",
      "45/45 [==============================] - 15s 333ms/step - loss: 0.2264 - accuracy: 0.9029 - val_loss: 0.7402 - val_accuracy: 0.7200\n",
      "Epoch 1/20\n",
      "45/45 [==============================] - 4s 70ms/step - loss: 0.8264 - accuracy: 0.5370 - val_loss: 0.6369 - val_accuracy: 0.6250\n",
      "Epoch 2/20\n",
      "45/45 [==============================] - 3s 68ms/step - loss: 0.6748 - accuracy: 0.6040 - val_loss: 0.6236 - val_accuracy: 0.6540\n",
      "Epoch 3/20\n",
      "45/45 [==============================] - 3s 71ms/step - loss: 0.6423 - accuracy: 0.6368 - val_loss: 0.6244 - val_accuracy: 0.6480\n",
      "Epoch 4/20\n",
      "45/45 [==============================] - 3s 70ms/step - loss: 0.6330 - accuracy: 0.6413 - val_loss: 0.6091 - val_accuracy: 0.6580\n",
      "Epoch 5/20\n",
      "45/45 [==============================] - 3s 68ms/step - loss: 0.6122 - accuracy: 0.6625 - val_loss: 0.6190 - val_accuracy: 0.6610\n",
      "Epoch 6/20\n",
      "45/45 [==============================] - 3s 67ms/step - loss: 0.6012 - accuracy: 0.6787 - val_loss: 0.6242 - val_accuracy: 0.6520\n",
      "Epoch 7/20\n",
      "45/45 [==============================] - 3s 71ms/step - loss: 0.5996 - accuracy: 0.6789 - val_loss: 0.6344 - val_accuracy: 0.6560\n",
      "Epoch 8/20\n",
      "45/45 [==============================] - 3s 71ms/step - loss: 0.5798 - accuracy: 0.6905 - val_loss: 0.6018 - val_accuracy: 0.6680\n",
      "Epoch 9/20\n",
      "45/45 [==============================] - 3s 70ms/step - loss: 0.5830 - accuracy: 0.6877 - val_loss: 0.5934 - val_accuracy: 0.6800\n",
      "Epoch 10/20\n",
      "45/45 [==============================] - 3s 70ms/step - loss: 0.5746 - accuracy: 0.6980 - val_loss: 0.5945 - val_accuracy: 0.6830\n",
      "Epoch 11/20\n",
      "45/45 [==============================] - 3s 69ms/step - loss: 0.5723 - accuracy: 0.6960 - val_loss: 0.5902 - val_accuracy: 0.6840\n",
      "Epoch 12/20\n",
      "45/45 [==============================] - 3s 70ms/step - loss: 0.5627 - accuracy: 0.7081 - val_loss: 0.5927 - val_accuracy: 0.6730\n",
      "Epoch 13/20\n",
      "45/45 [==============================] - 3s 69ms/step - loss: 0.5578 - accuracy: 0.7033 - val_loss: 0.5946 - val_accuracy: 0.6870\n",
      "Epoch 14/20\n",
      "45/45 [==============================] - 3s 70ms/step - loss: 0.5472 - accuracy: 0.7229 - val_loss: 0.6111 - val_accuracy: 0.6780\n",
      "Epoch 15/20\n",
      "45/45 [==============================] - 3s 70ms/step - loss: 0.5504 - accuracy: 0.7196 - val_loss: 0.5826 - val_accuracy: 0.6910\n",
      "Epoch 16/20\n",
      "45/45 [==============================] - 3s 64ms/step - loss: 0.5429 - accuracy: 0.7223 - val_loss: 0.5918 - val_accuracy: 0.6930\n",
      "Epoch 17/20\n",
      "45/45 [==============================] - 3s 70ms/step - loss: 0.5433 - accuracy: 0.7210 - val_loss: 0.5818 - val_accuracy: 0.6910\n",
      "Epoch 18/20\n"
     ]
    },
    {
     "name": "stdout",
     "output_type": "stream",
     "text": [
      "45/45 [==============================] - 3s 68ms/step - loss: 0.5351 - accuracy: 0.7336 - val_loss: 0.5823 - val_accuracy: 0.6910\n",
      "Epoch 19/20\n",
      "45/45 [==============================] - 3s 68ms/step - loss: 0.5189 - accuracy: 0.7373 - val_loss: 0.5818 - val_accuracy: 0.6960\n",
      "Epoch 20/20\n",
      "45/45 [==============================] - 3s 70ms/step - loss: 0.5304 - accuracy: 0.7276 - val_loss: 0.5850 - val_accuracy: 0.6950\n",
      "Epoch 1/20\n",
      "45/45 [==============================] - 18s 378ms/step - loss: 0.6710 - accuracy: 0.5941 - val_loss: 0.6251 - val_accuracy: 0.6400\n",
      "Epoch 2/20\n",
      "45/45 [==============================] - 17s 385ms/step - loss: 0.5979 - accuracy: 0.6845 - val_loss: 0.5949 - val_accuracy: 0.6740\n",
      "Epoch 3/20\n",
      "45/45 [==============================] - 14s 313ms/step - loss: 0.5468 - accuracy: 0.7226 - val_loss: 0.5735 - val_accuracy: 0.6910\n",
      "Epoch 4/20\n",
      "45/45 [==============================] - 14s 314ms/step - loss: 0.5153 - accuracy: 0.7422 - val_loss: 0.5649 - val_accuracy: 0.7010\n",
      "Epoch 5/20\n",
      "45/45 [==============================] - 15s 323ms/step - loss: 0.4782 - accuracy: 0.7732 - val_loss: 0.5817 - val_accuracy: 0.6920\n",
      "Epoch 6/20\n",
      "45/45 [==============================] - 15s 326ms/step - loss: 0.4658 - accuracy: 0.7791 - val_loss: 0.5699 - val_accuracy: 0.7050\n",
      "Epoch 7/20\n",
      "45/45 [==============================] - 15s 337ms/step - loss: 0.4500 - accuracy: 0.7859 - val_loss: 0.5520 - val_accuracy: 0.7220\n",
      "Epoch 8/20\n",
      "45/45 [==============================] - 15s 324ms/step - loss: 0.4186 - accuracy: 0.8047 - val_loss: 0.5773 - val_accuracy: 0.7130\n",
      "Epoch 9/20\n",
      "45/45 [==============================] - 14s 319ms/step - loss: 0.4173 - accuracy: 0.8054 - val_loss: 0.5845 - val_accuracy: 0.7100\n",
      "Epoch 10/20\n",
      "45/45 [==============================] - 14s 320ms/step - loss: 0.3915 - accuracy: 0.8212 - val_loss: 0.6090 - val_accuracy: 0.6940\n",
      "Epoch 11/20\n",
      "45/45 [==============================] - 15s 324ms/step - loss: 0.3860 - accuracy: 0.8221 - val_loss: 0.5976 - val_accuracy: 0.7130\n",
      "Epoch 12/20\n",
      "45/45 [==============================] - 15s 332ms/step - loss: 0.3776 - accuracy: 0.8277 - val_loss: 0.6766 - val_accuracy: 0.6880\n",
      "Epoch 13/20\n",
      "45/45 [==============================] - 16s 352ms/step - loss: 0.3696 - accuracy: 0.8322 - val_loss: 0.5670 - val_accuracy: 0.7340\n",
      "Epoch 14/20\n",
      "45/45 [==============================] - 16s 346ms/step - loss: 0.3468 - accuracy: 0.8506 - val_loss: 0.6259 - val_accuracy: 0.7070\n",
      "Epoch 15/20\n",
      "45/45 [==============================] - 14s 319ms/step - loss: 0.3344 - accuracy: 0.8559 - val_loss: 0.6061 - val_accuracy: 0.7180\n",
      "Epoch 16/20\n",
      "45/45 [==============================] - 14s 318ms/step - loss: 0.3452 - accuracy: 0.8448 - val_loss: 0.6443 - val_accuracy: 0.6920\n",
      "Epoch 17/20\n",
      "45/45 [==============================] - 15s 324ms/step - loss: 0.3199 - accuracy: 0.8649 - val_loss: 0.6439 - val_accuracy: 0.7070\n",
      "Epoch 18/20\n",
      "45/45 [==============================] - 14s 318ms/step - loss: 0.2980 - accuracy: 0.8709 - val_loss: 0.6826 - val_accuracy: 0.6960\n",
      "Epoch 19/20\n",
      "45/45 [==============================] - 14s 320ms/step - loss: 0.2914 - accuracy: 0.8760 - val_loss: 0.6156 - val_accuracy: 0.7300\n",
      "Epoch 20/20\n",
      "45/45 [==============================] - 14s 318ms/step - loss: 0.2786 - accuracy: 0.8793 - val_loss: 0.6581 - val_accuracy: 0.7170\n"
     ]
    },
    {
     "data": {
      "text/plain": [
       "<tensorflow.python.keras.callbacks.History at 0x28fa1452fd0>"
      ]
     },
     "execution_count": 37,
     "metadata": {},
     "output_type": "execute_result"
    }
   ],
   "source": [
    "cnn_tfidf.fit(data_train, y_train, validation_data=(data_val, y_val), epochs=20, batch_size=200)\n",
    "cnn_w2v.fit(data_train, y_train, validation_data=(data_val, y_val), epochs=20, batch_size=200)\n",
    "cnn_glove.fit(data_train, y_train, validation_data=(data_val, y_val), epochs=20, batch_size=200)\n",
    "cnn_fast.fit(data_train, y_train, validation_data=(data_val, y_val), epochs=20, batch_size=200)"
   ]
  },
  {
   "cell_type": "code",
   "execution_count": 38,
   "metadata": {
    "id": "9meqmalXvuaJ"
   },
   "outputs": [],
   "source": [
    "# df_pred_test = df_pred_test.drop(['CNN-CV'], axis=1)\n",
    "# print(df_pred_test.columns)\n",
    "# CV\n",
    "cols = [\"CNN-CV-0\", \"CNN-CV-1\"]\n",
    "df_train_ = pd.DataFrame(np.argmax(cnn_cv.predict(data_train), axis=1), columns=[\"CNN-CV\"])\n",
    "df_val_ = pd.DataFrame(np.argmax(cnn_cv.predict(data_val), axis=1), columns=[\"CNN-CV\"])\n",
    "df_test_ = pd.DataFrame(np.argmax(cnn_cv.predict(data_test), axis=1), columns=[\"CNN-CV\"])\n",
    "  \n",
    "df_pred_train = pd.concat([df_pred_train, df_train_], axis=1, sort=False)\n",
    "df_pred_val = pd.concat([df_pred_val, df_val_], axis=1, sort=False)\n",
    "df_pred_test = pd.concat([df_pred_test, df_test_], axis=1, sort=False)\n",
    "\n",
    "# print(df_pred_test.columns)\n",
    "\n",
    "# # Probabilidades\n",
    "  \n",
    "df_train_ = pd.DataFrame(cnn_cv.predict(data_train), columns=cols)\n",
    "df_val_ = pd.DataFrame(cnn_cv.predict(data_val), columns=cols)\n",
    "df_test_ = pd.DataFrame(cnn_cv.predict(data_test), columns=cols)\n",
    "\n",
    "df_prob_train = pd.concat([df_prob_train, df_train_], axis=1, sort=False)\n",
    "df_prob_val = pd.concat([df_prob_val, df_val_], axis=1, sort=False)\n",
    "df_prob_test = pd.concat([df_prob_test, df_test_], axis=1, sort=False)\n",
    "\n",
    "\n",
    "cols = [\"CNN-TF-0\", \"CNN-TF-1\"]\n",
    "\n",
    "df_train_ = pd.DataFrame(np.argmax(cnn_tfidf.predict(data_train), axis=1), columns=[\"CNN-TFIDF\"])\n",
    "df_val_ = pd.DataFrame(np.argmax(cnn_tfidf.predict(data_val), axis=1), columns=[\"CNN-TFIDF\"])\n",
    "df_test_ = pd.DataFrame(np.argmax(cnn_tfidf.predict(data_test), axis=1), columns=[\"CNN-TFIDF\"])\n",
    "  \n",
    "df_pred_train = pd.concat([df_pred_train, df_train_], axis=1, sort=False)\n",
    "df_pred_val = pd.concat([df_pred_val, df_val_], axis=1, sort=False)\n",
    "df_pred_test = pd.concat([df_pred_test, df_test_], axis=1, sort=False)\n",
    "\n",
    "# Probabilidades\n",
    "  \n",
    "df_train_ = pd.DataFrame(cnn_tfidf.predict(data_train), columns=cols)\n",
    "df_val_ = pd.DataFrame(cnn_tfidf.predict(data_val), columns=cols)\n",
    "df_test_ = pd.DataFrame(cnn_tfidf.predict(data_test), columns=cols)\n",
    "\n",
    "df_prob_train = pd.concat([df_prob_train, df_train_], axis=1, sort=False)\n",
    "df_prob_val = pd.concat([df_prob_val, df_val_], axis=1, sort=False)\n",
    "df_prob_test = pd.concat([df_prob_test, df_test_], axis=1, sort=False)\n",
    "\n",
    "cols = [\"CNN-W2V-0\", \"CNN-W2V-1\"]\n",
    "\n",
    "df_train_ = pd.DataFrame(np.argmax(cnn_w2v.predict(data_train), axis=1), columns=[\"CNN-W2V\"])\n",
    "df_val_ = pd.DataFrame(np.argmax(cnn_w2v.predict(data_val), axis=1), columns=[\"CNN-W2V\"])\n",
    "df_test_ = pd.DataFrame(np.argmax(cnn_w2v.predict(data_test), axis=1), columns=[\"CNN-W2V\"])\n",
    "  \n",
    "df_pred_train = pd.concat([df_pred_train, df_train_], axis=1, sort=False)\n",
    "df_pred_val = pd.concat([df_pred_val, df_val_], axis=1, sort=False)\n",
    "df_pred_test = pd.concat([df_pred_test, df_test_], axis=1, sort=False)\n",
    "\n",
    "# Probabilidades\n",
    "  \n",
    "df_train_ = pd.DataFrame(cnn_w2v.predict(data_train), columns=cols)\n",
    "df_val_ = pd.DataFrame(cnn_w2v.predict(data_val), columns=cols)\n",
    "df_test_ = pd.DataFrame(cnn_w2v.predict(data_test), columns=cols)\n",
    "\n",
    "df_prob_train = pd.concat([df_prob_train, df_train_], axis=1, sort=False)\n",
    "df_prob_val = pd.concat([df_prob_val, df_val_], axis=1, sort=False)\n",
    "df_prob_test = pd.concat([df_prob_test, df_test_], axis=1, sort=False)\n",
    "\n",
    "\n",
    "cols = [\"CNN-GLOVE-0\", \"CNN-GLOVE-1\"]\n",
    "\n",
    "df_train_ = pd.DataFrame(np.argmax(cnn_glove.predict(data_train), axis=1), columns=[\"CNN-GLOVE\"])\n",
    "df_val_ = pd.DataFrame(np.argmax(cnn_glove.predict(data_val), axis=1), columns=[\"CNN-GLOVE\"])\n",
    "df_test_ = pd.DataFrame(np.argmax(cnn_glove.predict(data_test), axis=1), columns=[\"CNN-GLOVE\"])\n",
    "\n",
    "df_pred_train = pd.concat([df_pred_train, df_train_], axis=1, sort=False)\n",
    "df_pred_val = pd.concat([df_pred_val, df_val_], axis=1, sort=False)\n",
    "df_pred_test = pd.concat([df_pred_test, df_test_], axis=1, sort=False)\n",
    "\n",
    "# Probabilidades\n",
    "  \n",
    "df_train_ = pd.DataFrame(cnn_glove.predict(data_train), columns=cols)\n",
    "df_val_ = pd.DataFrame(cnn_glove.predict(data_val), columns=cols)\n",
    "df_test_ = pd.DataFrame(cnn_glove.predict(data_test), columns=cols)\n",
    "\n",
    "df_prob_train = pd.concat([df_prob_train, df_train_], axis=1, sort=False)\n",
    "df_prob_val = pd.concat([df_prob_val, df_val_], axis=1, sort=False)\n",
    "df_prob_test = pd.concat([df_prob_test, df_test_], axis=1, sort=False)\n",
    "\n",
    "cols = [\"CNN-FAST-0\", \"CNN-FAST-1\"]\n",
    "\n",
    "df_train_ = pd.DataFrame(np.argmax(cnn_fast.predict(data_train), axis=1), columns=[\"CNN-FAST\"])\n",
    "df_val_ = pd.DataFrame(np.argmax(cnn_fast.predict(data_val), axis=1), columns=[\"CNN-FAST\"])\n",
    "df_test_ = pd.DataFrame(np.argmax(cnn_fast.predict(data_test), axis=1), columns=[\"CNN-FAST\"])\n",
    "\n",
    "df_pred_train = pd.concat([df_pred_train, df_train_], axis=1, sort=False)\n",
    "df_pred_val = pd.concat([df_pred_val, df_val_], axis=1, sort=False)\n",
    "df_pred_test = pd.concat([df_pred_test, df_test_], axis=1, sort=False)\n",
    "\n",
    "# Probabilidades\n",
    "  \n",
    "df_train_ = pd.DataFrame(cnn_fast.predict(data_train), columns=cols)\n",
    "df_val_ = pd.DataFrame(cnn_fast.predict(data_val), columns=cols)\n",
    "df_test_ = pd.DataFrame(cnn_fast.predict(data_test), columns=cols)\n",
    "\n",
    "df_prob_train = pd.concat([df_prob_train, df_train_], axis=1, sort=False)\n",
    "df_prob_val = pd.concat([df_prob_val, df_val_], axis=1, sort=False)\n",
    "df_prob_test = pd.concat([df_prob_test, df_test_], axis=1, sort=False)\n"
   ]
  },
  {
   "cell_type": "code",
   "execution_count": 39,
   "metadata": {
    "id": "sBxyRvxzEZ2r"
   },
   "outputs": [],
   "source": [
    "df_pred_train.to_csv(\"pred_train_hateval.csv\")\n",
    "df_pred_val.to_csv(\"pred_val_hateval.csv\")\n",
    "df_pred_test.to_csv(\"pred_test_hateval.csv\")"
   ]
  },
  {
   "cell_type": "code",
   "execution_count": 40,
   "metadata": {
    "id": "B0ObWDQBEkRA"
   },
   "outputs": [],
   "source": [
    "df_prob_train.to_csv(\"prob_train_hateval.csv\")\n",
    "df_prob_val.to_csv(\"prob_val_hateval.csv\")\n",
    "df_prob_test.to_csv(\"prob_test_hateval.csv\")"
   ]
  }
 ],
 "metadata": {
  "@webio": {
   "lastCommId": null,
   "lastKernelId": null
  },
  "colab": {
   "collapsed_sections": [],
   "name": "Predict_HateVal.ipynb",
   "provenance": []
  },
  "kernelspec": {
   "display_name": "Python [conda env:hate_speech]",
   "language": "python",
   "name": "conda-env-hate_speech-py"
  },
  "language_info": {
   "codemirror_mode": {
    "name": "ipython",
    "version": 3
   },
   "file_extension": ".py",
   "mimetype": "text/x-python",
   "name": "python",
   "nbconvert_exporter": "python",
   "pygments_lexer": "ipython3",
   "version": "3.6.12"
  }
 },
 "nbformat": 4,
 "nbformat_minor": 1
}
