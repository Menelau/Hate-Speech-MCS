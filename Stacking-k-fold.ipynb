{
 "cells": [
  {
   "cell_type": "code",
   "execution_count": 1,
   "metadata": {},
   "outputs": [],
   "source": [
    "import warnings\n",
    "warnings.filterwarnings('ignore')"
   ]
  },
  {
   "cell_type": "code",
   "execution_count": 2,
   "metadata": {},
   "outputs": [],
   "source": [
    "import pandas as pd\n",
    "import numpy as np\n",
    "from sklearn.linear_model import LogisticRegression, LogisticRegressionCV\n",
    "from sklearn.metrics import f1_score, accuracy_score"
   ]
  },
  {
   "cell_type": "code",
   "execution_count": 3,
   "metadata": {},
   "outputs": [],
   "source": [
    "def load_predictions(dataset_name, partition, fold_number=1):\n",
    "    path = './Saved_Predict_and_Proba/Folds/' + dataset_name.upper() + '/F' + str(fold_number)  + '/prob_' + partition +'.csv'\n",
    "    table_pred = pd.read_csv(path)\n",
    "    if dataset_name == 'zw':\n",
    "        label = table_pred['norm']\n",
    "        methods = table_pred.drop('norm', axis=1)\n",
    "    else: \n",
    "        label = table_pred['class']\n",
    "        methods = table_pred.drop('class', axis=1)\n",
    "    methods = methods.drop('Unnamed: 0', axis=1)\n",
    "    return label, methods\n",
    "\n",
    "def load_dataset(dataset_name, fold_number):\n",
    "    label_train, probas_train = load_predictions(dataset_name, 'train', fold_number)\n",
    "    label_val, probas_val = load_predictions(dataset_name, 'val', fold_number)\n",
    "    label_test, probas_test = load_predictions(dataset_name, 'test', fold_number)\n",
    "    return label_train, probas_train, label_test, probas_test, label_val, probas_val\n",
    "\n",
    "def filter_df_train_test(train_df, test_df, name, filter_first=True):\n",
    "    train = train_df.filter(regex=name, axis=1)\n",
    "    test = test_df.filter(regex=name, axis=1)\n",
    "    return train, test"
   ]
  },
  {
   "cell_type": "markdown",
   "metadata": {},
   "source": [
    "# Get dataset"
   ]
  },
  {
   "cell_type": "code",
   "execution_count": 4,
   "metadata": {},
   "outputs": [],
   "source": [
    "dataset_name = 'td'\n",
    "folds = 5\n",
    "l1_ratios = [0, 0.1, 0.2, 0.3, 0.4, 0.5, 0.6, 0.7, 0.8, 0.9, 1.0]\n",
    "stacking = LogisticRegression()"
   ]
  },
  {
   "cell_type": "markdown",
   "metadata": {},
   "source": [
    "## Stacking group A - Varying Classification methods"
   ]
  },
  {
   "cell_type": "code",
   "execution_count": 5,
   "metadata": {},
   "outputs": [],
   "source": [
    "algorithms_list = ['SVM', 'MLP', 'KNN', 'RF', 'EXTRA', 'CNN', 'LR', 'NB']\n",
    "results_A = np.zeros((len(algorithms_list), folds))\n",
    "\n",
    "for fold in range(folds):\n",
    "    _, _, label_test, probas_test, label_val, probas_val = load_dataset(dataset_name, fold+1)\n",
    "    for idx_alg, algorithm in enumerate(algorithms_list):\n",
    "        X_val, X_test = filter_df_train_test(probas_val, probas_test, algorithm)\n",
    "        stacking.fit(X_val, label_val)\n",
    "        y_pred = stacking.predict(X_test)\n",
    "        score = f1_score(label_test, y_pred, average='macro')\n",
    "        results_A[idx_alg, fold] = score"
   ]
  },
  {
   "cell_type": "code",
   "execution_count": 6,
   "metadata": {},
   "outputs": [
    {
     "data": {
      "text/plain": [
       "array([[0.72499785, 0.72738305, 0.72896891, 0.72817418, 0.71753791],\n",
       "       [0.71712056, 0.70790836, 0.70759637, 0.6932822 , 0.70336251],\n",
       "       [0.66245114, 0.63696903, 0.64712885, 0.65361636, 0.65255526],\n",
       "       [0.64351756, 0.62109717, 0.6448892 , 0.646823  , 0.64578097],\n",
       "       [0.62030735, 0.59478799, 0.61959701, 0.61052197, 0.62355493],\n",
       "       [0.70989446, 0.72922028, 0.73669174, 0.70863952, 0.71167033],\n",
       "       [0.71533912, 0.72193981, 0.72196937, 0.72927139, 0.72938323],\n",
       "       [0.68561465, 0.67902618, 0.68002023, 0.68178027, 0.68183796]])"
      ]
     },
     "execution_count": 6,
     "metadata": {},
     "output_type": "execute_result"
    }
   ],
   "source": [
    "results_A"
   ]
  },
  {
   "cell_type": "markdown",
   "metadata": {},
   "source": [
    "# Stacking group B - Varying Feature Representation methods"
   ]
  },
  {
   "cell_type": "code",
   "execution_count": 7,
   "metadata": {},
   "outputs": [],
   "source": [
    "fe_list = ['CV', 'TFIDF', 'W2V', 'GLOVE', 'FAST']\n",
    "results_B = np.zeros((len(fe_list), folds))\n",
    "for fold in range(folds):\n",
    "    _, _, label_test, probas_test, label_val, probas_val = load_dataset(dataset_name, fold+1)\n",
    "    \n",
    "    for idx_alg, fe in enumerate(fe_list):\n",
    "        X_val, X_test = filter_df_train_test(probas_val, probas_test, fe)\n",
    "        stacking.fit(X_val, label_val)\n",
    "        y_pred = stacking.predict(X_test)\n",
    "        results_B[idx_alg, fold] = f1_score(label_test, y_pred, average='macro')"
   ]
  },
  {
   "cell_type": "code",
   "execution_count": 8,
   "metadata": {},
   "outputs": [
    {
     "data": {
      "text/plain": [
       "array([[0.71125274, 0.70869284, 0.7080715 , 0.69872621, 0.68131803],\n",
       "       [0.66675735, 0.62997971, 0.65816042, 0.6565835 , 0.68335896],\n",
       "       [0.61562245, 0.60806151, 0.61622149, 0.60488158, 0.61466371],\n",
       "       [0.57021727, 0.55503841, 0.56580129, 0.56029737, 0.55898808],\n",
       "       [0.57539992, 0.5956165 , 0.62581251, 0.60126891, 0.596084  ]])"
      ]
     },
     "execution_count": 8,
     "metadata": {},
     "output_type": "execute_result"
    }
   ],
   "source": [
    "results_B"
   ]
  },
  {
   "cell_type": "markdown",
   "metadata": {},
   "source": [
    "# Stacking group C -  ALL techniques"
   ]
  },
  {
   "cell_type": "code",
   "execution_count": 9,
   "metadata": {},
   "outputs": [],
   "source": [
    "results_C = np.zeros(folds)\n",
    "\n",
    "for fold in range(folds):\n",
    "    _, _, label_test, probas_test, label_val, probas_val = load_dataset(dataset_name, fold+1)\n",
    "    stacking.fit(probas_val, label_val)\n",
    "    y_pred = stacking.predict(probas_test)\n",
    "    results_C[fold] = f1_score(label_test, y_pred, average='macro')"
   ]
  },
  {
   "cell_type": "code",
   "execution_count": 10,
   "metadata": {},
   "outputs": [
    {
     "data": {
      "text/plain": [
       "array([0.63682819, 0.63148139, 0.6392035 , 0.63272825, 0.65272228])"
      ]
     },
     "execution_count": 10,
     "metadata": {},
     "output_type": "execute_result"
    }
   ],
   "source": [
    "results_C"
   ]
  },
  {
   "cell_type": "markdown",
   "metadata": {},
   "source": [
    "# Stacking group D - Proposed Selection scheme"
   ]
  },
  {
   "cell_type": "code",
   "execution_count": 19,
   "metadata": {},
   "outputs": [],
   "source": [
    "names_D = {}\n",
    "names_D['zw'] = [\n",
    "     'EXTRA-TFIDF|NB-W2V|NB-TF|KNN-GLOVE|MLP-W2V|CNN-W2V',\n",
    "     'NB-FAST|CNN-W2V|MLP-GLOVE|SVM-TF|KNN-W2V|LR-TFIDF|EXTRA-TFIDF',\n",
    "     'SVM-TF|RF-TFIDF|NB-GLOVE|KNN-FAST|NB-TFIDF|NB-W2V',\n",
    "     'LR-W2V|NB-W2V|SVM-TFIDF|LR-GLOVE|LR-W2V',\n",
    "     'LR-GLOVE|NB-W2V|SVM-TFIDF|EXTRA-TFIDF|MLP-FAST|LR-W2V',\n",
    "                 ]\n",
    "\n",
    "\n",
    "names_D['td'] = [\n",
    "     'NB-GLOVE|NB-CV|SM-W2V|NB-FAST|SVM-TFIDF',\n",
    "     'CNN-FAST|NB-FAST|LR-FAST|SVM-CV|MLP-GLOVE',\n",
    "     'MLP-W2V|LR-FAST|SVM-CV|CNN-W2V|NB-TFIDF|NB-W2V',\n",
    "     'SVM-W2V|RF-CV|SVM-TFIDF|NB-FAST|NB-CV',\n",
    "     'RF-CV|CNN-TF|MLP-FAST|CNN-FAST|NB-TFIDF',\n",
    " ]\n",
    "names_D ['union']= [\n",
    "     'MLP-W2V|NB-TFIDF|RF-TFIDF|KNN-TFIDF|SVM-CV|NN-W2V|NN-FAST|CNN-W2V|SM-FAST',\n",
    "     'MLP-TFIDF|NB-CV|SVM-CV|CNN-TF|KNN-TFIDF|CNN-FAST|XTRA-TFIDF',\n",
    "     'KNN-TFIDF|RF-CV|SVM-W2V|LR-GLOVE|NB-TFIDF|KNN-FAST|KNN-GLOVE|SVM-CV',\n",
    "     'SVM-TFIDF|KNN-TFIDF|CNN-W2V|KNN-FAST|SVM-FAST|EXTRA-CV|KNN-W2V|NB-TFIDF|SVM-GLOVE|LR-W2V|MLP-FAST',\n",
    "     'CNN-W2V|RF-TFIDF|NB-W2V|NB-TFIDF|MLP-TFIDF|MLP-W2V',\n",
    "]\n",
    "\n",
    "names = names_D[dataset_name]\n",
    "results_D = np.zeros(folds)\n",
    "\n",
    "for fold in range(folds):\n",
    "    _, _, label_test, probas_test, label_val, probas_val = load_dataset(dataset_name, fold+1)\n",
    "    X_val, X_test = filter_df_train_test(probas_val, probas_test, names[fold])\n",
    "    stacking.fit(X_val, label_val)\n",
    "    y_pred = stacking.predict(X_test)\n",
    "    results_D[fold] = f1_score(label_test, y_pred, average='macro')"
   ]
  },
  {
   "cell_type": "code",
   "execution_count": 20,
   "metadata": {},
   "outputs": [
    {
     "data": {
      "text/plain": [
       "0.7293440073486361"
      ]
     },
     "execution_count": 20,
     "metadata": {},
     "output_type": "execute_result"
    }
   ],
   "source": [
    "results_D.mean()"
   ]
  },
  {
   "cell_type": "markdown",
   "metadata": {},
   "source": [
    "## Summarizing results"
   ]
  },
  {
   "cell_type": "code",
   "execution_count": 13,
   "metadata": {},
   "outputs": [],
   "source": [
    "# algorithms_list_A = [alg + ' (Group A)' for alg in algorithms_list]\n",
    "# group_A_df = pd.DataFrame(results_A, columns=all_stacking_names, index=algorithms_list_A)\n",
    "\n",
    "# fe_list_B = [fe + ' (Group B)' for fe in fe_list]\n",
    "# group_B_df = pd.DataFrame(results_B, columns=all_stacking_names, index=fe_list_B)\n",
    "\n",
    "# group_B_df = pd.DataFrame(results_B.reshape(1, 1), columns=all_stacking_names, index=['Group B'])\n",
    "# group_C_df = pd.DataFrame(results_D.reshape(1, 1), columns=all_stacking_names, index=['Group C'])\n",
    "# group_D_df = pd.DataFrame(results_D.reshape(1, 1), columns=all_stacking_names, index=['Group D'])"
   ]
  },
  {
   "cell_type": "code",
   "execution_count": 14,
   "metadata": {},
   "outputs": [],
   "source": [
    "# from pprint import pprint\n",
    "# pprint(pd.concat([group_A_df, group_B_df, group_C_df, group_D_df]).round(4).to_latex(caption='dataset '+ dataset_name.upper()))"
   ]
  }
 ],
 "metadata": {
  "@webio": {
   "lastCommId": null,
   "lastKernelId": null
  },
  "kernelspec": {
   "display_name": "Python 3",
   "language": "python",
   "name": "python3"
  },
  "language_info": {
   "codemirror_mode": {
    "name": "ipython",
    "version": 3
   },
   "file_extension": ".py",
   "mimetype": "text/x-python",
   "name": "python",
   "nbconvert_exporter": "python",
   "pygments_lexer": "ipython3",
   "version": "3.8.8"
  }
 },
 "nbformat": 4,
 "nbformat_minor": 2
}