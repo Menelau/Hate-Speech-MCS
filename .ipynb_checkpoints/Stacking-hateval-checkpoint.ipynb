{
 "cells": [
  {
   "cell_type": "code",
   "execution_count": 1,
   "metadata": {},
   "outputs": [],
   "source": [
    "import warnings\n",
    "warnings.filterwarnings('ignore')"
   ]
  },
  {
   "cell_type": "code",
   "execution_count": 2,
   "metadata": {},
   "outputs": [],
   "source": [
    "import pandas as pd\n",
    "import numpy as np\n",
    "from sklearn.linear_model import LogisticRegression, LogisticRegressionCV\n",
    "from sklearn.metrics import f1_score, accuracy_score"
   ]
  },
  {
   "cell_type": "code",
   "execution_count": 3,
   "metadata": {},
   "outputs": [],
   "source": [
    "def load_predictions(dataset_name, partition, fold_number=1):\n",
    "    path = './Saved_Predict_and_Proba/Folds/' + dataset_name.upper() + '/F' + str(fold_number)  + '/prob_' + partition +'.csv'\n",
    "    table_pred = pd.read_csv(path)\n",
    "    if dataset_name == 'zw':\n",
    "        label = table_pred['norm']\n",
    "        methods = table_pred.drop('norm', axis=1)\n",
    "    else: \n",
    "        label = table_pred['class']\n",
    "        methods = table_pred.drop('class', axis=1)\n",
    "    methods = methods.drop('Unnamed: 0', axis=1)\n",
    "    return label, methods\n",
    "\n",
    "def load_dataset(dataset_name, fold_number):\n",
    "    label_train, probas_train = load_predictions(dataset_name, 'train', fold_number)\n",
    "    label_val, probas_val = load_predictions(dataset_name, 'val', fold_number)\n",
    "    label_test, probas_test = load_predictions(dataset_name, 'test', fold_number)\n",
    "    return label_train, probas_train, label_test, probas_test, label_val, probas_val\n",
    "\n",
    "def filter_df_train_test(train_df, test_df, name, filter_first=True):\n",
    "    train = train_df.filter(regex=name, axis=1)\n",
    "    test = test_df.filter(regex=name, axis=1)\n",
    "    return train, test"
   ]
  },
  {
   "cell_type": "markdown",
   "metadata": {},
   "source": [
    "# Get dataset"
   ]
  },
  {
   "cell_type": "code",
   "execution_count": 18,
   "metadata": {},
   "outputs": [],
   "source": [
    "dataset_name = 'zw'\n",
    "folds = 5\n",
    "stacking = LogisticRegression(class_weight='balanced')"
   ]
  },
  {
   "cell_type": "markdown",
   "metadata": {},
   "source": [
    "# best single for sanity check"
   ]
  },
  {
   "cell_type": "code",
   "execution_count": 10,
   "metadata": {},
   "outputs": [
    {
     "data": {
      "text/plain": [
       "0.77101573748587"
      ]
     },
     "execution_count": 10,
     "metadata": {},
     "output_type": "execute_result"
    }
   ],
   "source": [
    "from sklearn.metrics import accuracy_score\n",
    "_, _, label_test, probas_test, label_val, probas_val = load_dataset(dataset_name, 1+1)\n",
    "\n",
    "probas = probas_test.filter(regex='SVM-TF')\n",
    "y_pred = np.argmax(probas.to_numpy(), axis=1)\n",
    "\n",
    "f1_score(label_test, y_pred, average='macro')"
   ]
  },
  {
   "cell_type": "markdown",
   "metadata": {},
   "source": [
    "## Stacking group A - Varying Classification methods"
   ]
  },
  {
   "cell_type": "code",
   "execution_count": 25,
   "metadata": {},
   "outputs": [],
   "source": [
    "algorithms_list = ['SVM', 'MLP', 'KNN', 'RF', 'EXTRA', 'CNN', 'LR', 'NB']\n",
    "results_A = np.zeros((len(algorithms_list), folds))\n",
    "\n",
    "for fold in range(folds):\n",
    "    _, _, label_test, probas_test, label_val, probas_val = load_dataset(dataset_name, fold+1)\n",
    "    for idx_alg, algorithm in enumerate(algorithms_list):\n",
    "        X_val, X_test = filter_df_train_test(probas_val, probas_test, algorithm)\n",
    "        stacking.fit(X_val, label_val)\n",
    "        y_pred = stacking.predict(X_test)\n",
    "        score = f1_score(label_test, y_pred, average='macro')\n",
    "        results_A[idx_alg, fold] = score"
   ]
  },
  {
   "cell_type": "markdown",
   "metadata": {},
   "source": [
    "# Stacking group B - Varying Feature Representation methods"
   ]
  },
  {
   "cell_type": "code",
   "execution_count": 26,
   "metadata": {},
   "outputs": [],
   "source": [
    "fe_list = ['CV', 'TFIDF', 'W2V', 'GLOVE', 'FAST']\n",
    "results_B = np.zeros((len(fe_list), folds))\n",
    "for fold in range(folds):\n",
    "    _, _, label_test, probas_test, label_val, probas_val = load_dataset(dataset_name, fold+1)\n",
    "    \n",
    "    for idx_alg, fe in enumerate(fe_list):\n",
    "        X_val, X_test = filter_df_train_test(probas_val, probas_test, fe)\n",
    "        stacking.fit(X_val, label_val)\n",
    "        y_pred = stacking.predict(X_test)\n",
    "        results_B[idx_alg, fold] = f1_score(label_test, y_pred, average='macro')"
   ]
  },
  {
   "cell_type": "markdown",
   "metadata": {},
   "source": [
    "# Stacking group C -  ALL techniques"
   ]
  },
  {
   "cell_type": "code",
   "execution_count": 27,
   "metadata": {},
   "outputs": [],
   "source": [
    "results_C = np.zeros(folds)\n",
    "\n",
    "for fold in range(folds):\n",
    "    _, _, label_test, probas_test, label_val, probas_val = load_dataset(dataset_name, fold+1)\n",
    "    stacking.fit(probas_val, label_val)\n",
    "    y_pred = stacking.predict(probas_test)\n",
    "    results_C[fold] = f1_score(label_test, y_pred, average='macro')"
   ]
  },
  {
   "cell_type": "markdown",
   "metadata": {},
   "source": [
    "# Stacking group D - Proposed Selection scheme"
   ]
  },
  {
   "cell_type": "code",
   "execution_count": 28,
   "metadata": {},
   "outputs": [],
   "source": [
    "names_B = {}\n",
    "names_B['zw'] = [\n",
    "    'CNN-W2V|MLP-CV|SVM-TFIDF|KNN-GLOVE|LR-FAST|MLP-GLOVE|SVM-CV|CNN-CV|KNN-CV|MLP-FAST|RF-W2V|CNN-FAST|RF-FAST',\n",
    "    'CNN-W2V|MLP-CV|SVM-TFIDF|KNN-GLOVE|LR-FAST|MLP-GLOVE|SVM-CV|CNN-CV|KNN-CV|MLP-FAST|RF-W2V|CNN-FAST|RF-FAST',\n",
    "    'CNN-W2V|MLP-CV|SVM-TFIDF|KNN-GLOVE|LR-FAST|MLP-GLOVE|SVM-CV|CNN-CV|KNN-CV|MLP-FAST|RF-W2V|CNN-FAST|RF-FAST',\n",
    "    'CNN-W2V|MLP-CV|SVM-TFIDF|KNN-GLOVE|LR-FAST|MLP-GLOVE|SVM-CV|CNN-CV|KNN-CV|MLP-FAST|RF-W2V|CNN-FAST|RF-FAST',\n",
    "    'CNN-W2V|MLP-CV|SVM-TFIDF|KNN-GLOVE|LR-FAST|MLP-GLOVE|SVM-CV|CNN-CV|KNN-CV|MLP-FAST|RF-W2V|CNN-FAST|RF-FAST',\n",
    "                ]\n",
    "\n",
    "\n",
    "names_B['td'] = [\n",
    "    'MLP-FAST|KNN-GLOVE|KNN-FAST|KNN-CV|MLP-W2V|NB-CV|CNN-TFIDF|NB-FAST|RF-CV|LR-CV|CNN-CV|KNN-W2V|CNN-GLOVE',\n",
    "    'MLP-FAST|KNN-GLOVE|KNN-FAST|KNN-CV|MLP-W2V|NB-CV|CNN-TFIDF|NB-FAST|RF-CV|LR-CV|CNN-CV|KNN-W2V|CNN-GLOVE',\n",
    "    'MLP-FAST|KNN-GLOVE|KNN-FAST|KNN-CV|MLP-W2V|NB-CV|CNN-TFIDF|NB-FAST|RF-CV|LR-CV|CNN-CV|KNN-W2V|CNN-GLOVE',\n",
    "    'MLP-FAST|KNN-GLOVE|KNN-FAST|KNN-CV|MLP-W2V|NB-CV|CNN-TFIDF|NB-FAST|RF-CV|LR-CV|CNN-CV|KNN-W2V|CNN-GLOVE',\n",
    "    'MLP-FAST|KNN-GLOVE|KNN-FAST|KNN-CV|MLP-W2V|NB-CV|CNN-TFIDF|NB-FAST|RF-CV|LR-CV|CNN-CV|KNN-W2V|CNN-GLOVE',\n",
    "]\n",
    "names_B ['td_zw']= [\n",
    "    'EXTRA-CV|CNN-FAST|MLP-W2V|LR-CV|MLP-FAST|NB-CV|CNN-CV|LR-GLOVE|SVM-GLOVE|RF-FAST|RF-TFIDF|SVM-CV|KNN-CV',\n",
    "    'EXTRA-CV|CNN-FAST|MLP-W2V|LR-CV|MLP-FAST|NB-CV|CNN-CV|LR-GLOVE|SVM-GLOVE|RF-FAST|RF-TFIDF|SVM-CV|KNN-CV',\n",
    "    'EXTRA-CV|CNN-FAST|MLP-W2V|LR-CV|MLP-FAST|NB-CV|CNN-CV|LR-GLOVE|SVM-GLOVE|RF-FAST|RF-TFIDF|SVM-CV|KNN-CV',\n",
    "    'EXTRA-CV|CNN-FAST|MLP-W2V|LR-CV|MLP-FAST|NB-CV|CNN-CV|LR-GLOVE|SVM-GLOVE|RF-FAST|RF-TFIDF|SVM-CV|KNN-CV',\n",
    "    'EXTRA-CV|CNN-FAST|MLP-W2V|LR-CV|MLP-FAST|NB-CV|CNN-CV|LR-GLOVE|SVM-GLOVE|RF-FAST|RF-TFIDF|SVM-CV|KNN-CV',\n",
    "                   ]\n",
    "\n",
    "names = names_B[dataset_name]\n",
    "results_D = np.zeros(folds)\n",
    "\n",
    "for fold in range(folds):\n",
    "    _, _, label_test, probas_test, label_val, probas_val = load_dataset(dataset_name, fold+1)\n",
    "    X_val, X_test = filter_df_train_test(probas_val, probas_test, names[fold])\n",
    "    stacking.fit(X_val, label_val)\n",
    "    y_pred = stacking.predict(X_test)\n",
    "    results_D[fold] = f1_score(label_test, y_pred, average='macro')"
   ]
  },
  {
   "cell_type": "code",
   "execution_count": 29,
   "metadata": {},
   "outputs": [
    {
     "data": {
      "text/plain": [
       "array([0.73495991, 0.76637202, 0.7460543 , 0.75118664, 0.73558871])"
      ]
     },
     "execution_count": 29,
     "metadata": {},
     "output_type": "execute_result"
    }
   ],
   "source": [
    "results_D"
   ]
  },
  {
   "cell_type": "code",
   "execution_count": 15,
   "metadata": {},
   "outputs": [
    {
     "data": {
      "text/plain": [
       "array([0.78216243, 0.75923481, 0.58041182, 0.76896889, 0.75625802,\n",
       "       0.75700987, 0.77464907, 0.71834796])"
      ]
     },
     "execution_count": 15,
     "metadata": {},
     "output_type": "execute_result"
    }
   ],
   "source": [
    "results_A.mean(axis=1)"
   ]
  },
  {
   "cell_type": "markdown",
   "metadata": {},
   "source": [
    "## Summarizing results"
   ]
  },
  {
   "cell_type": "code",
   "execution_count": 10,
   "metadata": {},
   "outputs": [
    {
     "ename": "NameError",
     "evalue": "name 'all_stacking_names' is not defined",
     "output_type": "error",
     "traceback": [
      "\u001b[1;31m---------------------------------------------------------------------------\u001b[0m",
      "\u001b[1;31mNameError\u001b[0m                                 Traceback (most recent call last)",
      "\u001b[1;32m<ipython-input-10-9037b31215ee>\u001b[0m in \u001b[0;36m<module>\u001b[1;34m\u001b[0m\n\u001b[0;32m      1\u001b[0m \u001b[0malgorithms_list_A\u001b[0m \u001b[1;33m=\u001b[0m \u001b[1;33m[\u001b[0m\u001b[0malg\u001b[0m \u001b[1;33m+\u001b[0m \u001b[1;34m' (Group A)'\u001b[0m \u001b[1;32mfor\u001b[0m \u001b[0malg\u001b[0m \u001b[1;32min\u001b[0m \u001b[0malgorithms_list\u001b[0m\u001b[1;33m]\u001b[0m\u001b[1;33m\u001b[0m\u001b[1;33m\u001b[0m\u001b[0m\n\u001b[1;32m----> 2\u001b[1;33m \u001b[0mgroup_A_df\u001b[0m \u001b[1;33m=\u001b[0m \u001b[0mpd\u001b[0m\u001b[1;33m.\u001b[0m\u001b[0mDataFrame\u001b[0m\u001b[1;33m(\u001b[0m\u001b[0mresults_A\u001b[0m\u001b[1;33m,\u001b[0m \u001b[0mcolumns\u001b[0m\u001b[1;33m=\u001b[0m\u001b[0mall_stacking_names\u001b[0m\u001b[1;33m,\u001b[0m \u001b[0mindex\u001b[0m\u001b[1;33m=\u001b[0m\u001b[0malgorithms_list_A\u001b[0m\u001b[1;33m)\u001b[0m\u001b[1;33m\u001b[0m\u001b[1;33m\u001b[0m\u001b[0m\n\u001b[0m\u001b[0;32m      3\u001b[0m \u001b[1;33m\u001b[0m\u001b[0m\n\u001b[0;32m      4\u001b[0m \u001b[0mfe_list_E\u001b[0m \u001b[1;33m=\u001b[0m \u001b[1;33m[\u001b[0m\u001b[0mfe\u001b[0m \u001b[1;33m+\u001b[0m \u001b[1;34m' (Group E)'\u001b[0m \u001b[1;32mfor\u001b[0m \u001b[0mfe\u001b[0m \u001b[1;32min\u001b[0m \u001b[0mfe_list\u001b[0m\u001b[1;33m]\u001b[0m\u001b[1;33m\u001b[0m\u001b[1;33m\u001b[0m\u001b[0m\n\u001b[0;32m      5\u001b[0m \u001b[0mgroup_E_df\u001b[0m \u001b[1;33m=\u001b[0m \u001b[0mpd\u001b[0m\u001b[1;33m.\u001b[0m\u001b[0mDataFrame\u001b[0m\u001b[1;33m(\u001b[0m\u001b[0mresults_E\u001b[0m\u001b[1;33m,\u001b[0m \u001b[0mcolumns\u001b[0m\u001b[1;33m=\u001b[0m\u001b[0mall_stacking_names\u001b[0m\u001b[1;33m,\u001b[0m \u001b[0mindex\u001b[0m\u001b[1;33m=\u001b[0m\u001b[0mfe_list_E\u001b[0m\u001b[1;33m)\u001b[0m\u001b[1;33m\u001b[0m\u001b[1;33m\u001b[0m\u001b[0m\n",
      "\u001b[1;31mNameError\u001b[0m: name 'all_stacking_names' is not defined"
     ]
    }
   ],
   "source": [
    "algorithms_list_A = [alg + ' (Group A)' for alg in algorithms_list]\n",
    "group_A_df = pd.DataFrame(results_A, columns=all_stacking_names, index=algorithms_list_A)\n",
    "\n",
    "fe_list_B = [fe + ' (Group B)' for fe in fe_list]\n",
    "group_B_df = pd.DataFrame(results_B, columns=all_stacking_names, index=fe_list_B)\n",
    "\n",
    "group_B_df = pd.DataFrame(results_B.reshape(1, 1), columns=all_stacking_names, index=['Group B'])\n",
    "group_C_df = pd.DataFrame(results_D.reshape(1, 1), columns=all_stacking_names, index=['Group C'])\n",
    "group_D_df = pd.DataFrame(results_D.reshape(1, 1), columns=all_stacking_names, index=['Group D'])"
   ]
  },
  {
   "cell_type": "code",
   "execution_count": null,
   "metadata": {},
   "outputs": [],
   "source": [
    "from pprint import pprint\n",
    "pprint(pd.concat([group_A_df, group_B_df, group_C_df, group_D_df]).round(4).to_latex(caption='dataset '+ dataset_name.upper()))"
   ]
  }
 ],
 "metadata": {
  "@webio": {
   "lastCommId": null,
   "lastKernelId": null
  },
  "kernelspec": {
   "display_name": "Python [conda env:hate_speech]",
   "language": "python",
   "name": "conda-env-hate_speech-py"
  },
  "language_info": {
   "codemirror_mode": {
    "name": "ipython",
    "version": 3
   },
   "file_extension": ".py",
   "mimetype": "text/x-python",
   "name": "python",
   "nbconvert_exporter": "python",
   "pygments_lexer": "ipython3",
   "version": "3.6.12"
  }
 },
 "nbformat": 4,
 "nbformat_minor": 2
}
