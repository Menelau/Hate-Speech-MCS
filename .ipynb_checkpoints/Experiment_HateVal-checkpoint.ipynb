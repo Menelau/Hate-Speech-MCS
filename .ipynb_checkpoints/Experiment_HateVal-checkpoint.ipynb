{
 "cells": [
  {
   "cell_type": "code",
   "execution_count": 1,
   "metadata": {
    "id": "B5_cgGkJif-F"
   },
   "outputs": [],
   "source": [
    "from zeugma.embeddings import EmbeddingTransformer"
   ]
  },
  {
   "cell_type": "code",
   "execution_count": 2,
   "metadata": {},
   "outputs": [
    {
     "data": {
      "text/plain": [
       "'2.4.0'"
      ]
     },
     "execution_count": 2,
     "metadata": {},
     "output_type": "execute_result"
    }
   ],
   "source": [
    "import tensorflow as tf\n",
    "tf.__version__"
   ]
  },
  {
   "cell_type": "code",
   "execution_count": 3,
   "metadata": {
    "id": "keNpadCWeDyT"
   },
   "outputs": [],
   "source": [
    "import pandas as pd\n",
    "import numpy as np\n",
    "from sklearn.metrics import accuracy_score"
   ]
  },
  {
   "cell_type": "code",
   "execution_count": 4,
   "metadata": {
    "id": "HM2S6EsseWSr"
   },
   "outputs": [],
   "source": [
    "import tensorflow as tf\n",
    "from tensorflow.keras import Sequential\n",
    "from tensorflow.keras.layers import *\n",
    "from tensorflow.keras.preprocessing.text import Tokenizer\n",
    "from tensorflow.keras.preprocessing.sequence import pad_sequences\n",
    "from tensorflow.keras.utils import to_categorical"
   ]
  },
  {
   "cell_type": "code",
   "execution_count": 5,
   "metadata": {
    "id": "SWJljGkdeghN"
   },
   "outputs": [],
   "source": [
    "from sklearn.feature_extraction.text import CountVectorizer\n",
    "from sklearn.feature_extraction.text import TfidfVectorizer\n",
    "from preprocessing import *\n",
    "from function import *"
   ]
  },
  {
   "cell_type": "code",
   "execution_count": 6,
   "metadata": {
    "id": "9mvhZyI-ejhj"
   },
   "outputs": [],
   "source": [
    "from sklearn.svm import SVC\n",
    "from sklearn.linear_model import LogisticRegression\n",
    "from sklearn.naive_bayes import MultinomialNB, BernoulliNB\n",
    "from sklearn.ensemble import RandomForestClassifier, ExtraTreesClassifier\n",
    "from sklearn.neural_network import MLPClassifier\n",
    "from sklearn.neighbors import KNeighborsClassifier\n",
    "from sklearn.calibration import CalibratedClassifierCV"
   ]
  },
  {
   "cell_type": "code",
   "execution_count": 7,
   "metadata": {
    "id": "qD5TrHDhVcDU"
   },
   "outputs": [],
   "source": [
    "df_train = pd.read_csv(\"./Data/Hateval/hateval2019_en_train.csv\").dropna()\n",
    "df_val = pd.read_csv(\"./Data/Hateval/hateval2019_en_dev.csv\").dropna()\n",
    "df_test = pd.read_csv(\"./Data/Hateval/hateval2019_en_test.csv\").dropna()"
   ]
  },
  {
   "cell_type": "code",
   "execution_count": 8,
   "metadata": {
    "id": "buKay1WyWHDN"
   },
   "outputs": [],
   "source": [
    "train, class_train = df_train['text'].apply(pre_processing), df_train['HS']\n",
    "val, class_val = df_val['text'].apply(pre_processing), df_val['HS']\n",
    "test, class_test = df_test['text'].apply(pre_processing), df_test['HS']"
   ]
  },
  {
   "cell_type": "code",
   "execution_count": null,
   "metadata": {
    "colab": {
     "base_uri": "https://localhost:8080/"
    },
    "id": "uBa03X_0invh",
    "outputId": "0bf8cb63-a450-4a85-a699-8106ab1fe53f"
   },
   "outputs": [],
   "source": [
    "w2v = EmbeddingTransformer('word2vec')"
   ]
  },
  {
   "cell_type": "code",
   "execution_count": null,
   "metadata": {
    "colab": {
     "base_uri": "https://localhost:8080/"
    },
    "id": "MOfvAe3IiqLg",
    "outputId": "269bcdec-cf8f-479d-fd03-359fc8d5ebc3"
   },
   "outputs": [],
   "source": [
    "glove = EmbeddingTransformer('glove')"
   ]
  },
  {
   "cell_type": "code",
   "execution_count": null,
   "metadata": {
    "colab": {
     "base_uri": "https://localhost:8080/"
    },
    "id": "oxXahEHbir7c",
    "outputId": "74320c34-e30d-44e0-9cee-b5208a1fba6b"
   },
   "outputs": [],
   "source": [
    "fasttext = EmbeddingTransformer('fasttext')"
   ]
  },
  {
   "cell_type": "code",
   "execution_count": 9,
   "metadata": {
    "colab": {
     "base_uri": "https://localhost:8080/"
    },
    "id": "1UZHfd3Ciwv6",
    "outputId": "362d7339-c0e0-4e84-dd94-cdb12c5ad631"
   },
   "outputs": [
    {
     "data": {
      "text/plain": [
       "<9000x16056 sparse matrix of type '<class 'numpy.float64'>'\n",
       "\twith 93433 stored elements in Compressed Sparse Row format>"
      ]
     },
     "execution_count": 9,
     "metadata": {},
     "output_type": "execute_result"
    }
   ],
   "source": [
    "cv = CountVectorizer(analyzer='word', lowercase=True, stop_words='english')\n",
    "cv.fit_transform(train.values.astype('U'))\n",
    "     \n",
    "tfidf =  TfidfVectorizer(analyzer='word', lowercase=True, use_idf=True, stop_words='english')\n",
    "tfidf.fit_transform(train.values.astype('U'))"
   ]
  },
  {
   "cell_type": "markdown",
   "metadata": {},
   "source": [
    "## Prediction SVM base model"
   ]
  },
  {
   "cell_type": "code",
   "execution_count": 13,
   "metadata": {
    "id": "EHQTzhm-i_I_"
   },
   "outputs": [],
   "source": [
    "svm = {\n",
    "    'CV': {\n",
    "        'CLF': SVC(random_state=42, kernel='linear', gamma=0.1, probability=True),\n",
    "        'EXT': cv,\n",
    "    },\n",
    "    'TFIDF': {\n",
    "        'CLF': SVC(random_state=42, kernel='linear', gamma=0.1, probability=True),\n",
    "        'EXT': tfidf,\n",
    "    },\n",
    "    'W2V': {\n",
    "        'CLF': SVC(random_state=42, kernel='rbf', gamma=1, probability=True),\n",
    "        'EXT': w2v,\n",
    "    },\n",
    "    'GLOVE': {\n",
    "        'CLF': SVC(random_state=42, kernel='rbf', gamma=0.5, probability=True),\n",
    "        'EXT':  glove,\n",
    "    },\n",
    "    'FAST': {\n",
    "        'CLF': SVC(random_state=42, kernel='rbf', gamma=1, probability=True),\n",
    "        'EXT': fasttext,\n",
    "    }\n",
    "}"
   ]
  },
  {
   "cell_type": "code",
   "execution_count": 14,
   "metadata": {
    "colab": {
     "base_uri": "https://localhost:8080/"
    },
    "id": "8qtV9P5qjNKw",
    "outputId": "e4f18dab-8b97-4690-ac6c-8a1d4a95f5f2"
   },
   "outputs": [],
   "source": [
    "svm_clfs = {\n",
    "\n",
    "}\n",
    "for ext, clf in svm.items():\n",
    "    svm_clfs[ext] = get_classifier(clf['CLF'], train, class_train, clf['EXT'])"
   ]
  },
  {
   "cell_type": "code",
   "execution_count": 15,
   "metadata": {
    "id": "3_a327JBjglb"
   },
   "outputs": [],
   "source": [
    "df_pred_train = pd.DataFrame(df_train['HS'])\n",
    "df_pred_val = pd.DataFrame(df_val['HS'])\n",
    "df_pred_test = pd.DataFrame(df_test['HS'])\n",
    "\n",
    "df_prob_val = pd.DataFrame(df_val['HS'])\n",
    "df_prob_train = pd.DataFrame(df_train['HS'])\n",
    "df_prob_test = pd.DataFrame(df_test['HS'])\n",
    "\n",
    "for ext, clf in svm_clfs.items():\n",
    "  # Predict\n",
    "    df_train_ = pd.DataFrame(clf.predict(train), columns=[\"SVM-{}\".format(ext)])\n",
    "    df_val_ = pd.DataFrame(clf.predict(val), columns=[\"SVM-{}\".format(ext)])\n",
    "    df_test_ = pd.DataFrame(clf.predict(test), columns=[\"SVM-{}\".format(ext)])\n",
    "  \n",
    "    df_pred_train = pd.concat([df_pred_train, df_train_], axis=1, sort=False)\n",
    "    df_pred_val = pd.concat([df_pred_val, df_val_], axis=1, sort=False)\n",
    "    df_pred_test = pd.concat([df_pred_test, df_test_], axis=1, sort=False)\n",
    "  \n",
    "  # # Probabilidades\n",
    "    cols = [\n",
    "      \"SVM-{}-{}\".format(ext,clf.classes_[0]), \n",
    "      \"SVM-{}-{}\".format(ext,clf.classes_[1])\n",
    "    ]\n",
    "    df_train_ = pd.DataFrame(clf.predict_proba(train), columns=cols)\n",
    "    df_val_ = pd.DataFrame(clf.predict_proba(val), columns=cols)\n",
    "    df_test_ = pd.DataFrame(clf.predict_proba(test), columns=cols)\n",
    "    df_prob_train = pd.concat([df_prob_train, df_train_], axis=1, sort=False)\n",
    "    df_prob_val = pd.concat([df_prob_val, df_val_], axis=1, sort=False)\n",
    "    df_prob_test = pd.concat([df_prob_test, df_test_], axis=1, sort=False)\n"
   ]
  },
  {
   "cell_type": "markdown",
   "metadata": {},
   "source": [
    "## Prediction LR model"
   ]
  },
  {
   "cell_type": "code",
   "execution_count": 10,
   "metadata": {
    "id": "xCd8RcJhlAKs"
   },
   "outputs": [
    {
     "ename": "NameError",
     "evalue": "name 'w2v' is not defined",
     "output_type": "error",
     "traceback": [
      "\u001b[1;31m---------------------------------------------------------------------------\u001b[0m",
      "\u001b[1;31mNameError\u001b[0m                                 Traceback (most recent call last)",
      "\u001b[1;32m<ipython-input-10-d72977de62a0>\u001b[0m in \u001b[0;36m<module>\u001b[1;34m\u001b[0m\n\u001b[0;32m     10\u001b[0m     'W2V': {\n\u001b[0;32m     11\u001b[0m         \u001b[1;34m'CLF'\u001b[0m\u001b[1;33m:\u001b[0m \u001b[0mLogisticRegression\u001b[0m\u001b[1;33m(\u001b[0m\u001b[0mrandom_state\u001b[0m\u001b[1;33m=\u001b[0m\u001b[1;36m42\u001b[0m\u001b[1;33m,\u001b[0m \u001b[0mmulti_class\u001b[0m\u001b[1;33m=\u001b[0m\u001b[1;34m'auto'\u001b[0m\u001b[1;33m,\u001b[0m \u001b[0msolver\u001b[0m\u001b[1;33m=\u001b[0m\u001b[1;34m'liblinear'\u001b[0m\u001b[1;33m,\u001b[0m \u001b[0mpenalty\u001b[0m\u001b[1;33m=\u001b[0m\u001b[1;34m'l1'\u001b[0m\u001b[1;33m)\u001b[0m\u001b[1;33m,\u001b[0m\u001b[1;33m\u001b[0m\u001b[1;33m\u001b[0m\u001b[0m\n\u001b[1;32m---> 12\u001b[1;33m         \u001b[1;34m'EXT'\u001b[0m\u001b[1;33m:\u001b[0m \u001b[0mw2v\u001b[0m\u001b[1;33m,\u001b[0m\u001b[1;33m\u001b[0m\u001b[1;33m\u001b[0m\u001b[0m\n\u001b[0m\u001b[0;32m     13\u001b[0m     },\n\u001b[0;32m     14\u001b[0m     'GLOVE': {\n",
      "\u001b[1;31mNameError\u001b[0m: name 'w2v' is not defined"
     ]
    }
   ],
   "source": [
    "lr = {\n",
    "    'CV': {\n",
    "        'CLF': LogisticRegression(random_state=42, multi_class='auto', solver='liblinear', penalty='l1'),\n",
    "        'EXT': cv,\n",
    "    },\n",
    "    'TFIDF': {\n",
    "        'CLF': LogisticRegression(random_state=42, multi_class='auto', solver='liblinear', penalty='l1'),\n",
    "        'EXT': tfidf,\n",
    "    },\n",
    "    'W2V': {\n",
    "        'CLF': LogisticRegression(random_state=42, multi_class='auto', solver='liblinear', penalty='l1'),\n",
    "        'EXT': w2v,\n",
    "    },\n",
    "    'GLOVE': {\n",
    "        'CLF': LogisticRegression(random_state=42, multi_class='auto', solver='liblinear', penalty='l1'),\n",
    "        'EXT':  glove,\n",
    "    },\n",
    "    'FAST': {\n",
    "        'CLF': LogisticRegression(random_state=42, multi_class='auto', solver='liblinear', penalty='l1'),\n",
    "        'EXT': fasttext,\n",
    "    }\n",
    "}"
   ]
  },
  {
   "cell_type": "code",
   "execution_count": 17,
   "metadata": {
    "colab": {
     "base_uri": "https://localhost:8080/"
    },
    "id": "gaft1kQCtTZo",
    "outputId": "4eb42ee9-82fc-4b46-b1f3-84427d51168d"
   },
   "outputs": [],
   "source": [
    "lr_clfs = {\n",
    "\n",
    "}\n",
    "for ext, clf in lr.items():\n",
    "    lr_clfs[ext] = get_classifier(clf['CLF'], train, df_train['HS'], clf['EXT'])"
   ]
  },
  {
   "cell_type": "code",
   "execution_count": 18,
   "metadata": {
    "id": "Q9WSAXm7tUpU"
   },
   "outputs": [],
   "source": [
    "for ext, clf in lr_clfs.items():\n",
    "  # Predict\n",
    "    df_train_ = pd.DataFrame(clf.predict(train), columns=[\"LR-{}\".format(ext)])\n",
    "    df_val_ = pd.DataFrame(clf.predict(val), columns=[\"LR-{}\".format(ext)])\n",
    "    df_test_ = pd.DataFrame(clf.predict(test), columns=[\"LR-{}\".format(ext)])\n",
    "  \n",
    "    df_pred_train = pd.concat([df_pred_train, df_train_], axis=1, sort=False)\n",
    "    df_pred_val = pd.concat([df_pred_val, df_val_], axis=1, sort=False)\n",
    "    df_pred_test = pd.concat([df_pred_test, df_test_], axis=1, sort=False)\n",
    "\n",
    "    # # Probabilidades\n",
    "    cols = [\n",
    "      \"LR-{}-{}\".format(ext,clf.classes_[0]), \n",
    "      \"LR-{}-{}\".format(ext,clf.classes_[1])\n",
    "    ]\n",
    "    df_train_ = pd.DataFrame(clf.predict_proba(train), columns=cols)\n",
    "    df_val_ = pd.DataFrame(clf.predict_proba(val), columns=cols)\n",
    "    df_test_ = pd.DataFrame(clf.predict_proba(test), columns=cols)\n",
    "    df_prob_train = pd.concat([df_prob_train, df_train_], axis=1, sort=False)\n",
    "    df_prob_val = pd.concat([df_prob_val, df_val_], axis=1, sort=False)\n",
    "    df_prob_test = pd.concat([df_prob_test, df_test_], axis=1, sort=False)"
   ]
  },
  {
   "cell_type": "markdown",
   "metadata": {},
   "source": [
    "## Prediction Random Forest\n",
    "\n",
    "With calibration for good stacking at the end."
   ]
  },
  {
   "cell_type": "code",
   "execution_count": 13,
   "metadata": {
    "id": "onRailt-teBu"
   },
   "outputs": [],
   "source": [
    "rf = {\n",
    "    'CV': {\n",
    "        'CLF': CalibratedClassifierCV(base_estimator=RandomForestClassifier(random_state=42, n_estimators=100, n_jobs=-1),\n",
    "                                      method='isotonic'),\n",
    "                                      \n",
    "        'EXT': cv,\n",
    "    },\n",
    "    'TFIDF': {\n",
    "        'CLF': CalibratedClassifierCV(base_estimator=RandomForestClassifier(random_state=42, n_estimators=100, n_jobs=-1),\n",
    "                                      method='isotonic'),\n",
    "        'EXT': tfidf,\n",
    "    },\n",
    "    'W2V': {\n",
    "        'CLF': CalibratedClassifierCV(base_estimator=RandomForestClassifier(random_state=42, n_estimators=100, n_jobs=-1),\n",
    "                                      method='isotonic')\n",
    "        'EXT': w2v,\n",
    "    },\n",
    "    'GLOVE': {\n",
    "        'CLF': CalibratedClassifierCV(base_estimator=RandomForestClassifier(random_state=42, n_estimators=100, n_jobs=-1),\n",
    "                                      method='isotonic')\n",
    "        'EXT':  glove,\n",
    "    },\n",
    "    'FAST': {\n",
    "        'CLF': CalibratedClassifierCV(base_estimator=RandomForestClassifier(random_state=42, n_estimators=100, n_jobs=-1),\n",
    "                                      method='isotonic')\n",
    "        'EXT': fasttext,\n",
    "    }\n",
    "}"
   ]
  },
  {
   "cell_type": "code",
   "execution_count": 14,
   "metadata": {
    "colab": {
     "base_uri": "https://localhost:8080/"
    },
    "id": "1nCt_RN4tmKA",
    "outputId": "927c84fb-b86d-415c-fb46-760152beaa14"
   },
   "outputs": [],
   "source": [
    "rf_clfs = {\n",
    "\n",
    "}\n",
    "for ext, clf in rf.items():\n",
    "    rf_clfs[ext] = get_classifier(clf['CLF'], train, df_train['HS'], clf['EXT'])"
   ]
  },
  {
   "cell_type": "code",
   "execution_count": 21,
   "metadata": {
    "colab": {
     "base_uri": "https://localhost:8080/"
    },
    "id": "09ArLJnutn8T",
    "outputId": "0fc53a6d-2407-4581-f767-bc720922d7d5"
   },
   "outputs": [],
   "source": [
    "for ext, clf in rf_clfs.items():\n",
    "    # Predict\n",
    "    df_train_ = pd.DataFrame(clf.predict(train), columns=[\"RF-{}\".format(ext)])\n",
    "    df_val_ = pd.DataFrame(clf.predict(val), columns=[\"RF-{}\".format(ext)])\n",
    "    df_test_ = pd.DataFrame(clf.predict(test), columns=[\"RF-{}\".format(ext)])\n",
    "  \n",
    "    df_pred_train = pd.concat([df_pred_train, df_train_], axis=1, sort=False)\n",
    "    df_pred_val = pd.concat([df_pred_val, df_val_], axis=1, sort=False)\n",
    "    df_pred_test = pd.concat([df_pred_test, df_test_], axis=1, sort=False)\n",
    "\n",
    "    # # Probabilidades\n",
    "    cols = [\n",
    "      \"RF-{}-{}\".format(ext,clf.classes_[0]), \n",
    "      \"RF-{}-{}\".format(ext,clf.classes_[1])\n",
    "    ]\n",
    "    df_train_ = pd.DataFrame(clf.predict_proba(train), columns=cols)\n",
    "    df_val_ = pd.DataFrame(clf.predict_proba(val), columns=cols)\n",
    "    df_test_ = pd.DataFrame(clf.predict_proba(test), columns=cols)\n",
    "    df_prob_train = pd.concat([df_prob_train, df_train_], axis=1, sort=False)\n",
    "    df_prob_val = pd.concat([df_prob_val, df_val_], axis=1, sort=False)\n",
    "    df_prob_test = pd.concat([df_prob_test, df_test_], axis=1, sort=False)\n"
   ]
  },
  {
   "cell_type": "markdown",
   "metadata": {},
   "source": [
    "### PRediction Naive Bayes"
   ]
  },
  {
   "cell_type": "code",
   "execution_count": 22,
   "metadata": {
    "id": "GHGjXwvRtu59"
   },
   "outputs": [],
   "source": [
    "nb = {\n",
    "    'CV': {\n",
    "        'CLF': CalibratedClassifierCV(MultinomialNB(alpha=1, fit_prior=False), method='isotonic')\n",
    "        'EXT': cv,\n",
    "    },\n",
    "    'TFIDF': {\n",
    "        'CLF': CalibratedClassifierCV(MultinomialNB(alpha=0.5, fit_prior=False), method='isotonic'),\n",
    "        'EXT': tfidf,\n",
    "    },\n",
    "    'W2V': {\n",
    "        'CLF': CalibratedClassifierCV(BernoulliNB(alpha=0.5, fit_prior=True), method='isotonic'),\n",
    "        'EXT': w2v,\n",
    "    },\n",
    "    'GLOVE': {\n",
    "        'CLF': CalibratedClassifierCV(BernoulliNB(alpha=0.1, fit_prior=True), method='isotonic'),\n",
    "        'EXT':  glove,\n",
    "    },\n",
    "    'FAST': {\n",
    "        'CLF': CalibratedClassifierCV(BernoulliNB(alpha=1, fit_prior=True), method='isotonic'),\n",
    "        'EXT': fasttext,\n",
    "    }\n",
    "}"
   ]
  },
  {
   "cell_type": "code",
   "execution_count": 23,
   "metadata": {
    "id": "TonmJS55uHtA"
   },
   "outputs": [],
   "source": [
    "nb_clfs = {\n",
    "\n",
    "}\n",
    "for ext, clf in nb.items():\n",
    "    nb_clfs[ext] = get_classifier(clf['CLF'], train, df_train['HS'], clf['EXT'])"
   ]
  },
  {
   "cell_type": "code",
   "execution_count": 24,
   "metadata": {
    "id": "VamLfJefuJ8m"
   },
   "outputs": [],
   "source": [
    "for ext, clf in nb_clfs.items():\n",
    "    # Predict\n",
    "    df_train_ = pd.DataFrame(clf.predict(train), columns=[\"NB-{}\".format(ext)])\n",
    "    df_val_ = pd.DataFrame(clf.predict(val), columns=[\"NB-{}\".format(ext)])\n",
    "    df_test_ = pd.DataFrame(clf.predict(test), columns=[\"NB-{}\".format(ext)])\n",
    "  \n",
    "    df_pred_train = pd.concat([df_pred_train, df_train_], axis=1, sort=False)\n",
    "    df_pred_val = pd.concat([df_pred_val, df_val_], axis=1, sort=False)\n",
    "    df_pred_test = pd.concat([df_pred_test, df_test_], axis=1, sort=False)\n",
    "\n",
    "  # # Probabilidades\n",
    "    cols = [\n",
    "      \"NB-{}-{}\".format(ext,clf.classes_[0]), \n",
    "      \"NB-{}-{}\".format(ext,clf.classes_[1])\n",
    "    ]\n",
    "    df_train_ = pd.DataFrame(clf.predict_proba(train), columns=cols)\n",
    "    df_val_ = pd.DataFrame(clf.predict_proba(val), columns=cols)\n",
    "    df_test_ = pd.DataFrame(clf.predict_proba(test), columns=cols)\n",
    "    df_prob_train = pd.concat([df_prob_train, df_train_], axis=1, sort=False)\n",
    "    df_prob_val = pd.concat([df_prob_val, df_val_], axis=1, sort=False)\n",
    "    df_prob_test = pd.concat([df_prob_test, df_test_], axis=1, sort=False)"
   ]
  },
  {
   "cell_type": "markdown",
   "metadata": {},
   "source": [
    "### PRediction MLP"
   ]
  },
  {
   "cell_type": "code",
   "execution_count": 25,
   "metadata": {
    "id": "Q0UFePz9uj7y"
   },
   "outputs": [],
   "source": [
    "mlp = {\n",
    "    'CV': {\n",
    "        'CLF': CalibratedClassifierCV(MLPClassifier(random_state=42, batch_size=64, max_iter=100, activation='relu', solver='lbfgs'), method='isotonic'),\n",
    "        'EXT': cv,\n",
    "    },\n",
    "    'TFIDF': {\n",
    "        'CLF': CalibratedClassifierCV(MLPClassifier(random_state=42, batch_size=64, max_iter=100, activation='logistic', solver='adam'), method='isotonic'),\n",
    "        'EXT': tfidf,\n",
    "    },\n",
    "    'W2V': {\n",
    "        'CLF': CalibratedClassifierCV(MLPClassifier(random_state=42, batch_size=64, max_iter=100, activation='relu', solver='adam'), method='isotonic'),\n",
    "        'EXT': w2v,\n",
    "    },\n",
    "    'GLOVE': {\n",
    "        'CLF': CalibratedClassifierCV(MLPClassifier(random_state=42, batch_size=64, max_iter=100, activation='relu', solver='adam', method='isotonic')),\n",
    "        'EXT':  glove,\n",
    "    },\n",
    "    'FAST': {\n",
    "        'CLF': CalibratedClassifierCV(MLPClassifier(random_state=42, batch_size=20, max_iter=20, activation='relu', solver='adam', method='isotonic')),\n",
    "        'EXT': fasttext,\n",
    "    }\n",
    "}"
   ]
  },
  {
   "cell_type": "code",
   "execution_count": 26,
   "metadata": {
    "colab": {
     "base_uri": "https://localhost:8080/"
    },
    "id": "D8-VNNZyul01",
    "outputId": "8573a536-0ca8-4399-cd3f-e7de8e9bf158"
   },
   "outputs": [
    {
     "name": "stderr",
     "output_type": "stream",
     "text": [
      "C:\\Users\\Rafael\\Anaconda3\\envs\\hate_speech\\lib\\site-packages\\sklearn\\neural_network\\_multilayer_perceptron.py:585: ConvergenceWarning: Stochastic Optimizer: Maximum iterations (100) reached and the optimization hasn't converged yet.\n",
      "  % self.max_iter, ConvergenceWarning)\n",
      "C:\\Users\\Rafael\\Anaconda3\\envs\\hate_speech\\lib\\site-packages\\sklearn\\neural_network\\_multilayer_perceptron.py:585: ConvergenceWarning: Stochastic Optimizer: Maximum iterations (100) reached and the optimization hasn't converged yet.\n",
      "  % self.max_iter, ConvergenceWarning)\n",
      "C:\\Users\\Rafael\\Anaconda3\\envs\\hate_speech\\lib\\site-packages\\sklearn\\neural_network\\_multilayer_perceptron.py:585: ConvergenceWarning: Stochastic Optimizer: Maximum iterations (100) reached and the optimization hasn't converged yet.\n",
      "  % self.max_iter, ConvergenceWarning)\n",
      "C:\\Users\\Rafael\\Anaconda3\\envs\\hate_speech\\lib\\site-packages\\sklearn\\neural_network\\_multilayer_perceptron.py:585: ConvergenceWarning: Stochastic Optimizer: Maximum iterations (20) reached and the optimization hasn't converged yet.\n",
      "  % self.max_iter, ConvergenceWarning)\n"
     ]
    }
   ],
   "source": [
    "mlp_clfs = {\n",
    "\n",
    "}\n",
    "for ext, clf in mlp.items():\n",
    "    mlp_clfs[ext] = get_classifier(clf['CLF'], train, df_train['HS'], clf['EXT'])"
   ]
  },
  {
   "cell_type": "code",
   "execution_count": 27,
   "metadata": {
    "id": "xHdgSp1UunVN"
   },
   "outputs": [],
   "source": [
    "for ext, clf in mlp_clfs.items():\n",
    "    # Predict\n",
    "    df_train_ = pd.DataFrame(clf.predict(train), columns=[\"MLP-{}\".format(ext)])\n",
    "    df_val_ = pd.DataFrame(clf.predict(val), columns=[\"MLP-{}\".format(ext)])\n",
    "    df_test_ = pd.DataFrame(clf.predict(test), columns=[\"MLP-{}\".format(ext)])\n",
    "\n",
    "    df_pred_train = pd.concat([df_pred_train, df_train_], axis=1, sort=False)\n",
    "    df_pred_val = pd.concat([df_pred_val, df_val_], axis=1, sort=False)\n",
    "    df_pred_test = pd.concat([df_pred_test, df_test_], axis=1, sort=False)\n",
    "\n",
    "    # # Probabilidades\n",
    "    cols = [\n",
    "        \"MLP-{}-{}\".format(ext,clf.classes_[0]), \n",
    "        \"MLP-{}-{}\".format(ext,clf.classes_[1])\n",
    "    ]\n",
    "    df_train_ = pd.DataFrame(clf.predict_proba(train), columns=cols)\n",
    "    df_val_ = pd.DataFrame(clf.predict_proba(val), columns=cols)\n",
    "    df_test_ = pd.DataFrame(clf.predict_proba(test), columns=cols)\n",
    "    df_prob_train = pd.concat([df_prob_train, df_train_], axis=1, sort=False)\n",
    "    df_prob_val = pd.concat([df_prob_val, df_val_], axis=1, sort=False)\n",
    "    df_prob_test = pd.concat([df_prob_test, df_test_], axis=1, sort=False)\n"
   ]
  },
  {
   "cell_type": "markdown",
   "metadata": {},
   "source": [
    "## Prediction Extra"
   ]
  },
  {
   "cell_type": "code",
   "execution_count": 28,
   "metadata": {
    "id": "KTUzrHaCuwaS"
   },
   "outputs": [],
   "source": [
    "extra = {\n",
    "    'CV': {\n",
    "        'CLF': CalibratedClassifierCV(ExtraTreesClassifier(random_state=42, n_estimators=100, n_jobs=-1), method='isotonic'),\n",
    "        'EXT': cv,\n",
    "    },\n",
    "    'TFIDF': {\n",
    "        'CLF': CalibratedClassifierCV(ExtraTreesClassifier(random_state=42, n_estimators=100, n_jobs=-1), method='isotonic'),\n",
    "        'EXT': tfidf,\n",
    "    },\n",
    "    'W2V': {\n",
    "        'CLF': CalibratedClassifierCV(ExtraTreesClassifier(random_state=42, n_estimators=100, n_jobs=-1), method='isotonic'),\n",
    "        'EXT': w2v,\n",
    "    },\n",
    "    'GLOVE': {\n",
    "        'CLF': CalibratedClassifierCV(ExtraTreesClassifier(random_state=42, n_estimators=100, n_jobs=-1), method='isotonic'),\n",
    "        'EXT':  glove,\n",
    "    },\n",
    "    'FAST': {\n",
    "        'CLF': CalibratedClassifierCV(ExtraTreesClassifier(random_state=42, n_estimators=100, n_jobs=-1), method='isotonic'),\n",
    "        'EXT': fasttext,\n",
    "    }\n",
    "}"
   ]
  },
  {
   "cell_type": "code",
   "execution_count": 29,
   "metadata": {
    "colab": {
     "base_uri": "https://localhost:8080/"
    },
    "id": "X8eaNGChuzAL",
    "outputId": "5fe999b8-eb66-486c-f9fe-80d2d3b43198"
   },
   "outputs": [],
   "source": [
    "extra_clfs = {\n",
    "\n",
    "}\n",
    "for ext, clf in extra.items():\n",
    "    extra_clfs[ext] = get_classifier(clf['CLF'], train, df_train['HS'], clf['EXT'])\n"
   ]
  },
  {
   "cell_type": "code",
   "execution_count": 30,
   "metadata": {
    "colab": {
     "base_uri": "https://localhost:8080/"
    },
    "id": "BW3cJ3tIu01c",
    "outputId": "7935323e-3959-4307-8c61-ae20c98a305c"
   },
   "outputs": [],
   "source": [
    "for ext, clf in extra_clfs.items():\n",
    "    # Predict\n",
    "    df_train_ = pd.DataFrame(clf.predict(train), columns=[\"EXTRA-{}\".format(ext)])\n",
    "    df_val_ = pd.DataFrame(clf.predict(val), columns=[\"EXTRA-{}\".format(ext)])\n",
    "    df_test_ = pd.DataFrame(clf.predict(test), columns=[\"EXTRA-{}\".format(ext)])\n",
    "\n",
    "    df_pred_train = pd.concat([df_pred_train, df_train_], axis=1, sort=False)\n",
    "    df_pred_val = pd.concat([df_pred_val, df_val_], axis=1, sort=False)\n",
    "    df_pred_test = pd.concat([df_pred_test, df_test_], axis=1, sort=False)\n",
    "\n",
    "    # # Probabilidades\n",
    "    cols = [\n",
    "        \"EXTRA-{}-{}\".format(ext,clf.classes_[0]), \n",
    "        \"EXTRA-{}-{}\".format(ext,clf.classes_[1])\n",
    "    ]\n",
    "    df_train_ = pd.DataFrame(clf.predict_proba(train), columns=cols)\n",
    "    df_val_ = pd.DataFrame(clf.predict_proba(val), columns=cols)\n",
    "    df_test_ = pd.DataFrame(clf.predict_proba(test), columns=cols)\n",
    "    df_prob_train = pd.concat([df_prob_train, df_train_], axis=1, sort=False)\n",
    "    df_prob_val = pd.concat([df_prob_val, df_val_], axis=1, sort=False)\n",
    "    df_prob_test = pd.concat([df_prob_test, df_test_], axis=1, sort=False)\n"
   ]
  },
  {
   "cell_type": "code",
   "execution_count": 31,
   "metadata": {
    "id": "Y0nOzkCEu7I4"
   },
   "outputs": [],
   "source": [
    "knn = {\n",
    "    'CV': {\n",
    "        'CLF': CalibratedClassifierCV(KNeighborsClassifier(n_neighbors=3, algorithm='auto', n_jobs=-1), method='isotonic'),\n",
    "        'EXT': cv,\n",
    "    },\n",
    "    'TFIDF': {\n",
    "        'CLF': CalibratedClassifierCV(KNeighborsClassifier(n_neighbors=3, algorithm='auto', n_jobs=-1), method='isotonic'),\n",
    "        'EXT': tfidf,\n",
    "    },\n",
    "    'W2V': {\n",
    "        'CLF': CalibratedClassifierCV(KNeighborsClassifier(n_neighbors=5, algorithm='auto', n_jobs=-1), method='isotonic'),\n",
    "        'EXT': w2v,\n",
    "    },\n",
    "    'GLOVE': {\n",
    "        'CLF': CalibratedClassifierCV(KNeighborsClassifier(n_neighbors=5, algorithm='auto', n_jobs=-1), method='isotonic'),\n",
    "        'EXT':  glove,\n",
    "    },\n",
    "    'FAST': {\n",
    "        'CLF': CalibratedClassifierCV(KNeighborsClassifier(n_neighbors=5, algorithm='auto', n_jobs=-1), method='isotonic'),\n",
    "        'EXT': fasttext,\n",
    "    }\n",
    "}"
   ]
  },
  {
   "cell_type": "code",
   "execution_count": 33,
   "metadata": {
    "id": "BlKGAfMsu-5v"
   },
   "outputs": [],
   "source": [
    "knn_clfs = { }\n",
    "for ext, clf in knn.items():\n",
    "    knn_clfs[ext] = get_classifier(clf['CLF'], train, df_train['HS'], clf['EXT'])"
   ]
  },
  {
   "cell_type": "code",
   "execution_count": 34,
   "metadata": {
    "id": "XLZioNx2vAyJ"
   },
   "outputs": [],
   "source": [
    "for ext, clf in knn_clfs.items():\n",
    "    # Predict\n",
    "    df_train_ = pd.DataFrame(clf.predict(train), columns=[\"KNN-{}\".format(ext)])\n",
    "    df_val_ = pd.DataFrame(clf.predict(val), columns=[\"KNN-{}\".format(ext)])\n",
    "    df_test_ = pd.DataFrame(clf.predict(test), columns=[\"KNN-{}\".format(ext)])\n",
    "\n",
    "    df_pred_train = pd.concat([df_pred_train, df_train_], axis=1, sort=False)\n",
    "    df_pred_val = pd.concat([df_pred_val, df_val_], axis=1, sort=False)\n",
    "    df_pred_test = pd.concat([df_pred_test, df_test_], axis=1, sort=False)\n",
    "\n",
    "    # # Probabilidades\n",
    "    cols = [\n",
    "        \"KNN-{}-{}\".format(ext,clf.classes_[0]), \n",
    "        \"KNN-{}-{}\".format(ext,clf.classes_[1])\n",
    "    ]\n",
    "    df_train_ = pd.DataFrame(clf.predict_proba(train), columns=cols)\n",
    "    df_val_ = pd.DataFrame(clf.predict_proba(val), columns=cols)\n",
    "    df_test_ = pd.DataFrame(clf.predict_proba(test), columns=cols)\n",
    "    df_prob_train = pd.concat([df_prob_train, df_train_], axis=1, sort=False)\n",
    "    df_prob_val = pd.concat([df_prob_val, df_val_], axis=1, sort=False)\n",
    "    df_prob_test = pd.concat([df_prob_test, df_test_], axis=1, sort=False)\n"
   ]
  },
  {
   "cell_type": "markdown",
   "metadata": {
    "id": "BCN40ZFTvH0G"
   },
   "source": [
    "# Prediction CNN"
   ]
  },
  {
   "cell_type": "code",
   "execution_count": 35,
   "metadata": {
    "id": "ddw95uDCvJCH"
   },
   "outputs": [],
   "source": [
    "MAX_NB_WORDS = 20000\n",
    "MAX_SEQUENCE_LENGTH=300\n",
    "\n",
    "y_train = to_categorical(df_train['HS'])\n",
    "y_val = to_categorical(df_val['HS'])\n",
    "\n",
    "tokenizer = Tokenizer(num_words=MAX_NB_WORDS)\n",
    "tokenizer.fit_on_texts(train)\n",
    "\n",
    "seq_train = tokenizer.texts_to_sequences(train)\n",
    "seq_val = tokenizer.texts_to_sequences(val)\n",
    "seq_test = tokenizer.texts_to_sequences(test)\n",
    "\n",
    "data_train = pad_sequences(seq_train, maxlen=MAX_SEQUENCE_LENGTH)\n",
    "data_val = pad_sequences(seq_val, maxlen=MAX_SEQUENCE_LENGTH)\n",
    "data_test = pad_sequences(seq_test, maxlen=MAX_SEQUENCE_LENGTH)"
   ]
  },
  {
   "cell_type": "code",
   "execution_count": 36,
   "metadata": {
    "colab": {
     "base_uri": "https://localhost:8080/"
    },
    "id": "5WL49mfKvXjt",
    "outputId": "901932b3-6399-42fb-cd05-b3a739415ef9"
   },
   "outputs": [
    {
     "name": "stdout",
     "output_type": "stream",
     "text": [
      "Model: \"sequential\"\n",
      "_________________________________________________________________\n",
      "Layer (type)                 Output Shape              Param #   \n",
      "=================================================================\n",
      "embedding (Embedding)        (None, 300, 300)          5142600   \n",
      "_________________________________________________________________\n",
      "dropout (Dropout)            (None, 300, 300)          0         \n",
      "_________________________________________________________________\n",
      "conv1d (Conv1D)              (None, 298, 64)           57664     \n",
      "_________________________________________________________________\n",
      "global_max_pooling1d (Global (None, 64)                0         \n",
      "_________________________________________________________________\n",
      "dense (Dense)                (None, 256)               16640     \n",
      "_________________________________________________________________\n",
      "dropout_1 (Dropout)          (None, 256)               0         \n",
      "_________________________________________________________________\n",
      "activation (Activation)      (None, 256)               0         \n",
      "_________________________________________________________________\n",
      "dense_1 (Dense)              (None, 2)                 514       \n",
      "_________________________________________________________________\n",
      "activation_1 (Activation)    (None, 2)                 0         \n",
      "=================================================================\n",
      "Total params: 5,217,418\n",
      "Trainable params: 74,818\n",
      "Non-trainable params: 5,142,600\n",
      "_________________________________________________________________\n",
      "Model: \"sequential_1\"\n",
      "_________________________________________________________________\n",
      "Layer (type)                 Output Shape              Param #   \n",
      "=================================================================\n",
      "embedding_1 (Embedding)      (None, 300, 300)          5142600   \n",
      "_________________________________________________________________\n",
      "dropout_2 (Dropout)          (None, 300, 300)          0         \n",
      "_________________________________________________________________\n",
      "conv1d_1 (Conv1D)            (None, 298, 64)           57664     \n",
      "_________________________________________________________________\n",
      "global_max_pooling1d_1 (Glob (None, 64)                0         \n",
      "_________________________________________________________________\n",
      "dense_2 (Dense)              (None, 256)               16640     \n",
      "_________________________________________________________________\n",
      "dropout_3 (Dropout)          (None, 256)               0         \n",
      "_________________________________________________________________\n",
      "activation_2 (Activation)    (None, 256)               0         \n",
      "_________________________________________________________________\n",
      "dense_3 (Dense)              (None, 2)                 514       \n",
      "_________________________________________________________________\n",
      "activation_3 (Activation)    (None, 2)                 0         \n",
      "=================================================================\n",
      "Total params: 5,217,418\n",
      "Trainable params: 74,818\n",
      "Non-trainable params: 5,142,600\n",
      "_________________________________________________________________\n",
      "Model: \"sequential_2\"\n",
      "_________________________________________________________________\n",
      "Layer (type)                 Output Shape              Param #   \n",
      "=================================================================\n",
      "embedding_2 (Embedding)      (None, 300, 300)          5142600   \n",
      "_________________________________________________________________\n",
      "dropout_4 (Dropout)          (None, 300, 300)          0         \n",
      "_________________________________________________________________\n",
      "conv1d_2 (Conv1D)            (None, 298, 64)           57664     \n",
      "_________________________________________________________________\n",
      "global_max_pooling1d_2 (Glob (None, 64)                0         \n",
      "_________________________________________________________________\n",
      "dense_4 (Dense)              (None, 256)               16640     \n",
      "_________________________________________________________________\n",
      "dropout_5 (Dropout)          (None, 256)               0         \n",
      "_________________________________________________________________\n",
      "activation_4 (Activation)    (None, 256)               0         \n",
      "_________________________________________________________________\n",
      "dense_5 (Dense)              (None, 2)                 514       \n",
      "_________________________________________________________________\n",
      "activation_5 (Activation)    (None, 2)                 0         \n",
      "=================================================================\n",
      "Total params: 5,217,418\n",
      "Trainable params: 74,818\n",
      "Non-trainable params: 5,142,600\n",
      "_________________________________________________________________\n",
      "Model: \"sequential_3\"\n",
      "_________________________________________________________________\n",
      "Layer (type)                 Output Shape              Param #   \n",
      "=================================================================\n",
      "embedding_3 (Embedding)      (None, 300, 25)           428550    \n",
      "_________________________________________________________________\n",
      "dropout_6 (Dropout)          (None, 300, 25)           0         \n",
      "_________________________________________________________________\n",
      "conv1d_3 (Conv1D)            (None, 298, 64)           4864      \n",
      "_________________________________________________________________\n",
      "global_max_pooling1d_3 (Glob (None, 64)                0         \n",
      "_________________________________________________________________\n",
      "dense_6 (Dense)              (None, 256)               16640     \n",
      "_________________________________________________________________\n",
      "dropout_7 (Dropout)          (None, 256)               0         \n",
      "_________________________________________________________________\n",
      "activation_6 (Activation)    (None, 256)               0         \n",
      "_________________________________________________________________\n",
      "dense_7 (Dense)              (None, 2)                 514       \n",
      "_________________________________________________________________\n",
      "activation_7 (Activation)    (None, 2)                 0         \n",
      "=================================================================\n",
      "Total params: 450,568\n",
      "Trainable params: 22,018\n",
      "Non-trainable params: 428,550\n",
      "_________________________________________________________________\n",
      "Model: \"sequential_4\"\n",
      "_________________________________________________________________\n",
      "Layer (type)                 Output Shape              Param #   \n",
      "=================================================================\n",
      "embedding_4 (Embedding)      (None, 300, 300)          5142600   \n",
      "_________________________________________________________________\n",
      "dropout_8 (Dropout)          (None, 300, 300)          0         \n",
      "_________________________________________________________________\n",
      "conv1d_4 (Conv1D)            (None, 298, 64)           57664     \n",
      "_________________________________________________________________\n",
      "global_max_pooling1d_4 (Glob (None, 64)                0         \n",
      "_________________________________________________________________\n",
      "dense_8 (Dense)              (None, 256)               16640     \n",
      "_________________________________________________________________\n",
      "dropout_9 (Dropout)          (None, 256)               0         \n",
      "_________________________________________________________________\n",
      "activation_8 (Activation)    (None, 256)               0         \n",
      "_________________________________________________________________\n",
      "dense_9 (Dense)              (None, 2)                 514       \n",
      "_________________________________________________________________\n",
      "activation_9 (Activation)    (None, 2)                 0         \n",
      "=================================================================\n",
      "Total params: 5,217,418\n",
      "Trainable params: 74,818\n",
      "Non-trainable params: 5,142,600\n",
      "_________________________________________________________________\n"
     ]
    }
   ],
   "source": [
    "cnn_cv = get_CNN(cv, tokenizer, MAX_NB_WORDS, EMBEDDING_DIM=300, activation='sigmoid', dense=2)\n",
    "cnn_tfidf = get_CNN(tfidf, tokenizer, MAX_NB_WORDS, EMBEDDING_DIM=300, activation='softmax', dense=2)\n",
    "cnn_w2v = get_CNN(w2v, tokenizer, MAX_NB_WORDS, EMBEDDING_DIM=300, activation='sigmoid', word_embedding=True, dense=2)\n",
    "cnn_glove = get_CNN(glove, tokenizer, MAX_NB_WORDS, EMBEDDING_DIM=25, activation='sigmoid', word_embedding=True, dense=2)\n",
    "cnn_fast = get_CNN(fasttext, tokenizer, MAX_NB_WORDS, EMBEDDING_DIM=300, activation='sigmoid', word_embedding=True, dense=2)"
   ]
  },
  {
   "cell_type": "code",
   "execution_count": 37,
   "metadata": {
    "colab": {
     "base_uri": "https://localhost:8080/"
    },
    "id": "afhb0ekxvjkn",
    "outputId": "9b5fac18-eb60-4757-f728-d1587d598add"
   },
   "outputs": [
    {
     "name": "stdout",
     "output_type": "stream",
     "text": [
      "Epoch 1/20\n",
      "450/450 [==============================] - 21s 45ms/step - loss: 0.6808 - accuracy: 0.5769 - val_loss: 0.6526 - val_accuracy: 0.5920\n",
      "Epoch 2/20\n",
      "450/450 [==============================] - 19s 43ms/step - loss: 0.6194 - accuracy: 0.6662 - val_loss: 0.6456 - val_accuracy: 0.6350\n",
      "Epoch 3/20\n",
      "450/450 [==============================] - 20s 44ms/step - loss: 0.5804 - accuracy: 0.7046 - val_loss: 0.5977 - val_accuracy: 0.6840\n",
      "Epoch 4/20\n",
      "450/450 [==============================] - 19s 43ms/step - loss: 0.5524 - accuracy: 0.7267 - val_loss: 0.5878 - val_accuracy: 0.6820\n",
      "Epoch 5/20\n",
      "450/450 [==============================] - 21s 47ms/step - loss: 0.5281 - accuracy: 0.7403 - val_loss: 0.5854 - val_accuracy: 0.6970\n",
      "Epoch 6/20\n",
      "450/450 [==============================] - 17s 39ms/step - loss: 0.5095 - accuracy: 0.7556 - val_loss: 0.6033 - val_accuracy: 0.6910\n",
      "Epoch 7/20\n",
      "450/450 [==============================] - 17s 38ms/step - loss: 0.4895 - accuracy: 0.7705 - val_loss: 0.5909 - val_accuracy: 0.6930\n",
      "Epoch 8/20\n",
      "450/450 [==============================] - 17s 38ms/step - loss: 0.4704 - accuracy: 0.7851 - val_loss: 0.5829 - val_accuracy: 0.6920\n",
      "Epoch 9/20\n",
      "450/450 [==============================] - 17s 37ms/step - loss: 0.4557 - accuracy: 0.7921 - val_loss: 0.6121 - val_accuracy: 0.6690\n",
      "Epoch 10/20\n",
      "450/450 [==============================] - 17s 37ms/step - loss: 0.4478 - accuracy: 0.7906 - val_loss: 0.5721 - val_accuracy: 0.7160\n",
      "Epoch 11/20\n",
      "450/450 [==============================] - 17s 38ms/step - loss: 0.4382 - accuracy: 0.8017 - val_loss: 0.5646 - val_accuracy: 0.7250\n",
      "Epoch 12/20\n",
      "450/450 [==============================] - 17s 38ms/step - loss: 0.4184 - accuracy: 0.8092 - val_loss: 0.5900 - val_accuracy: 0.7210\n",
      "Epoch 13/20\n",
      "450/450 [==============================] - 17s 37ms/step - loss: 0.4040 - accuracy: 0.8127 - val_loss: 0.5725 - val_accuracy: 0.7180\n",
      "Epoch 14/20\n",
      "450/450 [==============================] - 17s 38ms/step - loss: 0.3926 - accuracy: 0.8243 - val_loss: 0.5748 - val_accuracy: 0.7180\n",
      "Epoch 15/20\n",
      "450/450 [==============================] - 17s 38ms/step - loss: 0.3663 - accuracy: 0.8324 - val_loss: 0.5995 - val_accuracy: 0.7100\n",
      "Epoch 16/20\n",
      "450/450 [==============================] - 17s 38ms/step - loss: 0.3705 - accuracy: 0.8320 - val_loss: 0.5907 - val_accuracy: 0.7190\n",
      "Epoch 17/20\n",
      "450/450 [==============================] - 17s 38ms/step - loss: 0.3513 - accuracy: 0.8489 - val_loss: 0.6160 - val_accuracy: 0.7100\n",
      "Epoch 18/20\n",
      "450/450 [==============================] - 17s 38ms/step - loss: 0.3402 - accuracy: 0.8484 - val_loss: 0.6634 - val_accuracy: 0.7130\n",
      "Epoch 19/20\n",
      "450/450 [==============================] - 18s 39ms/step - loss: 0.3263 - accuracy: 0.8604 - val_loss: 0.6823 - val_accuracy: 0.7080\n",
      "Epoch 20/20\n",
      "450/450 [==============================] - 17s 38ms/step - loss: 0.3019 - accuracy: 0.8675 - val_loss: 0.6769 - val_accuracy: 0.6720\n"
     ]
    },
    {
     "data": {
      "text/plain": [
       "<tensorflow.python.keras.callbacks.History at 0x197aa5ddd30>"
      ]
     },
     "execution_count": 37,
     "metadata": {},
     "output_type": "execute_result"
    }
   ],
   "source": [
    "cnn_cv.fit(data_train, y_train, validation_data=(data_val, y_val), epochs=20, batch_size=20)"
   ]
  },
  {
   "cell_type": "code",
   "execution_count": 38,
   "metadata": {
    "colab": {
     "base_uri": "https://localhost:8080/"
    },
    "id": "pDRmixdNvoAv",
    "outputId": "3cff20c5-2638-4720-d8e9-e13ab2f65e4b"
   },
   "outputs": [
    {
     "name": "stdout",
     "output_type": "stream",
     "text": [
      "Epoch 1/20\n",
      "45/45 [==============================] - 15s 314ms/step - loss: 0.6835 - accuracy: 0.5591 - val_loss: 0.6792 - val_accuracy: 0.5730\n",
      "Epoch 2/20\n",
      "45/45 [==============================] - 15s 341ms/step - loss: 0.6745 - accuracy: 0.5776 - val_loss: 0.6635 - val_accuracy: 0.5830\n",
      "Epoch 3/20\n",
      "45/45 [==============================] - 14s 314ms/step - loss: 0.6486 - accuracy: 0.6294 - val_loss: 0.6343 - val_accuracy: 0.6410\n",
      "Epoch 4/20\n",
      "45/45 [==============================] - 14s 312ms/step - loss: 0.6107 - accuracy: 0.6831 - val_loss: 0.6123 - val_accuracy: 0.6820\n",
      "Epoch 5/20\n",
      "45/45 [==============================] - 14s 311ms/step - loss: 0.5863 - accuracy: 0.7069 - val_loss: 0.6057 - val_accuracy: 0.6840\n",
      "Epoch 6/20\n",
      "45/45 [==============================] - 14s 311ms/step - loss: 0.5661 - accuracy: 0.7206 - val_loss: 0.5938 - val_accuracy: 0.6860\n",
      "Epoch 7/20\n",
      "45/45 [==============================] - 14s 312ms/step - loss: 0.5373 - accuracy: 0.7358 - val_loss: 0.5925 - val_accuracy: 0.6930\n",
      "Epoch 8/20\n",
      "45/45 [==============================] - 14s 311ms/step - loss: 0.5470 - accuracy: 0.7216 - val_loss: 0.5865 - val_accuracy: 0.6880\n",
      "Epoch 9/20\n",
      "45/45 [==============================] - 14s 311ms/step - loss: 0.5253 - accuracy: 0.7474 - val_loss: 0.5849 - val_accuracy: 0.6950\n",
      "Epoch 10/20\n",
      "45/45 [==============================] - 14s 320ms/step - loss: 0.5072 - accuracy: 0.7607 - val_loss: 0.5888 - val_accuracy: 0.6900\n",
      "Epoch 11/20\n",
      "45/45 [==============================] - 15s 329ms/step - loss: 0.5101 - accuracy: 0.7590 - val_loss: 0.5748 - val_accuracy: 0.6980\n",
      "Epoch 12/20\n",
      "45/45 [==============================] - 15s 332ms/step - loss: 0.5034 - accuracy: 0.7641 - val_loss: 0.5804 - val_accuracy: 0.7010\n",
      "Epoch 13/20\n",
      "45/45 [==============================] - 14s 314ms/step - loss: 0.4936 - accuracy: 0.7736 - val_loss: 0.5685 - val_accuracy: 0.7030\n",
      "Epoch 14/20\n",
      "45/45 [==============================] - 14s 313ms/step - loss: 0.4765 - accuracy: 0.7808 - val_loss: 0.5660 - val_accuracy: 0.7120\n",
      "Epoch 15/20\n",
      "45/45 [==============================] - 14s 312ms/step - loss: 0.4671 - accuracy: 0.7863 - val_loss: 0.6179 - val_accuracy: 0.6450\n",
      "Epoch 16/20\n",
      "45/45 [==============================] - 14s 311ms/step - loss: 0.4714 - accuracy: 0.7829 - val_loss: 0.5769 - val_accuracy: 0.6980\n",
      "Epoch 17/20\n",
      "45/45 [==============================] - 14s 313ms/step - loss: 0.4546 - accuracy: 0.7865 - val_loss: 0.5867 - val_accuracy: 0.6850\n",
      "Epoch 18/20\n",
      "45/45 [==============================] - 14s 312ms/step - loss: 0.4613 - accuracy: 0.7899 - val_loss: 0.5605 - val_accuracy: 0.7100\n",
      "Epoch 19/20\n",
      "45/45 [==============================] - 14s 322ms/step - loss: 0.4289 - accuracy: 0.8067 - val_loss: 0.5640 - val_accuracy: 0.7110\n",
      "Epoch 20/20\n",
      "45/45 [==============================] - 14s 312ms/step - loss: 0.4413 - accuracy: 0.7973 - val_loss: 0.5592 - val_accuracy: 0.7100\n",
      "Epoch 1/20\n",
      "45/45 [==============================] - 15s 316ms/step - loss: 0.6649 - accuracy: 0.6005 - val_loss: 0.6182 - val_accuracy: 0.6570\n",
      "Epoch 2/20\n",
      "45/45 [==============================] - 14s 317ms/step - loss: 0.5623 - accuracy: 0.7144 - val_loss: 0.5963 - val_accuracy: 0.6860\n",
      "Epoch 3/20\n",
      "45/45 [==============================] - 14s 316ms/step - loss: 0.5023 - accuracy: 0.7567 - val_loss: 0.5557 - val_accuracy: 0.7020\n",
      "Epoch 4/20\n",
      "45/45 [==============================] - 14s 313ms/step - loss: 0.4729 - accuracy: 0.7709 - val_loss: 0.5542 - val_accuracy: 0.7110\n",
      "Epoch 5/20\n",
      "45/45 [==============================] - 14s 312ms/step - loss: 0.4462 - accuracy: 0.7917 - val_loss: 0.6635 - val_accuracy: 0.6720\n",
      "Epoch 6/20\n",
      "45/45 [==============================] - 14s 312ms/step - loss: 0.4293 - accuracy: 0.8067 - val_loss: 0.6049 - val_accuracy: 0.6950\n",
      "Epoch 7/20\n",
      "45/45 [==============================] - 14s 319ms/step - loss: 0.4071 - accuracy: 0.8106 - val_loss: 0.5561 - val_accuracy: 0.7240\n",
      "Epoch 8/20\n",
      "45/45 [==============================] - 14s 315ms/step - loss: 0.3853 - accuracy: 0.8244 - val_loss: 0.5577 - val_accuracy: 0.7240\n",
      "Epoch 9/20\n",
      "45/45 [==============================] - 14s 312ms/step - loss: 0.3539 - accuracy: 0.8470 - val_loss: 0.5899 - val_accuracy: 0.7270\n",
      "Epoch 10/20\n",
      "45/45 [==============================] - 14s 311ms/step - loss: 0.3393 - accuracy: 0.8450 - val_loss: 0.5735 - val_accuracy: 0.7200\n",
      "Epoch 11/20\n",
      "45/45 [==============================] - 14s 312ms/step - loss: 0.3231 - accuracy: 0.8585 - val_loss: 0.5889 - val_accuracy: 0.7220\n",
      "Epoch 12/20\n",
      "45/45 [==============================] - 14s 320ms/step - loss: 0.3017 - accuracy: 0.8738 - val_loss: 0.6151 - val_accuracy: 0.7280\n",
      "Epoch 13/20\n",
      "45/45 [==============================] - 14s 312ms/step - loss: 0.2791 - accuracy: 0.8794 - val_loss: 0.6258 - val_accuracy: 0.7230\n",
      "Epoch 14/20\n",
      "45/45 [==============================] - 14s 312ms/step - loss: 0.2611 - accuracy: 0.8963 - val_loss: 0.6770 - val_accuracy: 0.7200\n",
      "Epoch 15/20\n",
      "45/45 [==============================] - 14s 313ms/step - loss: 0.2424 - accuracy: 0.9019 - val_loss: 0.7312 - val_accuracy: 0.7120\n",
      "Epoch 16/20\n",
      "45/45 [==============================] - 14s 319ms/step - loss: 0.2646 - accuracy: 0.8859 - val_loss: 0.7060 - val_accuracy: 0.7130\n",
      "Epoch 17/20\n",
      "45/45 [==============================] - 14s 312ms/step - loss: 0.2373 - accuracy: 0.9052 - val_loss: 0.7462 - val_accuracy: 0.7200\n",
      "Epoch 18/20\n",
      "45/45 [==============================] - 14s 317ms/step - loss: 0.2270 - accuracy: 0.9048 - val_loss: 0.7953 - val_accuracy: 0.7110\n",
      "Epoch 19/20\n",
      "45/45 [==============================] - 14s 311ms/step - loss: 0.2069 - accuracy: 0.9161 - val_loss: 0.7479 - val_accuracy: 0.7080\n",
      "Epoch 20/20\n",
      "45/45 [==============================] - 14s 312ms/step - loss: 0.2070 - accuracy: 0.9178 - val_loss: 0.7577 - val_accuracy: 0.7150\n",
      "Epoch 1/20\n",
      "45/45 [==============================] - 3s 57ms/step - loss: 0.7863 - accuracy: 0.5523 - val_loss: 0.6613 - val_accuracy: 0.6000\n",
      "Epoch 2/20\n",
      "45/45 [==============================] - 2s 53ms/step - loss: 0.6684 - accuracy: 0.6078 - val_loss: 0.6348 - val_accuracy: 0.6220\n",
      "Epoch 3/20\n",
      "45/45 [==============================] - 2s 54ms/step - loss: 0.6361 - accuracy: 0.6459 - val_loss: 0.6295 - val_accuracy: 0.6400\n",
      "Epoch 4/20\n",
      "45/45 [==============================] - 2s 53ms/step - loss: 0.6309 - accuracy: 0.6482 - val_loss: 0.6130 - val_accuracy: 0.6590\n",
      "Epoch 5/20\n",
      "45/45 [==============================] - 2s 54ms/step - loss: 0.6124 - accuracy: 0.6565 - val_loss: 0.6126 - val_accuracy: 0.6630\n",
      "Epoch 6/20\n",
      "45/45 [==============================] - 2s 54ms/step - loss: 0.6083 - accuracy: 0.6660 - val_loss: 0.6097 - val_accuracy: 0.6770\n",
      "Epoch 7/20\n",
      "45/45 [==============================] - 2s 54ms/step - loss: 0.5902 - accuracy: 0.6845 - val_loss: 0.6140 - val_accuracy: 0.6640\n",
      "Epoch 8/20\n",
      "45/45 [==============================] - 2s 54ms/step - loss: 0.5978 - accuracy: 0.6740 - val_loss: 0.6060 - val_accuracy: 0.6720\n",
      "Epoch 9/20\n",
      "45/45 [==============================] - 2s 54ms/step - loss: 0.5835 - accuracy: 0.6784 - val_loss: 0.6046 - val_accuracy: 0.6820\n",
      "Epoch 10/20\n",
      "45/45 [==============================] - 2s 55ms/step - loss: 0.5763 - accuracy: 0.6986 - val_loss: 0.6200 - val_accuracy: 0.6670\n",
      "Epoch 11/20\n",
      "45/45 [==============================] - 2s 53ms/step - loss: 0.5807 - accuracy: 0.6933 - val_loss: 0.6026 - val_accuracy: 0.6700\n",
      "Epoch 12/20\n",
      "45/45 [==============================] - 2s 54ms/step - loss: 0.5592 - accuracy: 0.7059 - val_loss: 0.5955 - val_accuracy: 0.6900\n",
      "Epoch 13/20\n",
      "45/45 [==============================] - 2s 54ms/step - loss: 0.5634 - accuracy: 0.7003 - val_loss: 0.5998 - val_accuracy: 0.6910\n",
      "Epoch 14/20\n",
      "45/45 [==============================] - 2s 54ms/step - loss: 0.5561 - accuracy: 0.7122 - val_loss: 0.5934 - val_accuracy: 0.7010\n",
      "Epoch 15/20\n",
      "45/45 [==============================] - 2s 53ms/step - loss: 0.5487 - accuracy: 0.7126 - val_loss: 0.6081 - val_accuracy: 0.6740\n",
      "Epoch 16/20\n",
      "45/45 [==============================] - 2s 53ms/step - loss: 0.5417 - accuracy: 0.7143 - val_loss: 0.6144 - val_accuracy: 0.6560\n",
      "Epoch 17/20\n",
      "45/45 [==============================] - 2s 54ms/step - loss: 0.5460 - accuracy: 0.7260 - val_loss: 0.5855 - val_accuracy: 0.6980\n",
      "Epoch 18/20\n",
      "45/45 [==============================] - 2s 54ms/step - loss: 0.5362 - accuracy: 0.7228 - val_loss: 0.6040 - val_accuracy: 0.6700\n",
      "Epoch 19/20\n",
      "45/45 [==============================] - 2s 54ms/step - loss: 0.5449 - accuracy: 0.7184 - val_loss: 0.5862 - val_accuracy: 0.6910\n",
      "Epoch 20/20\n",
      "45/45 [==============================] - 2s 55ms/step - loss: 0.5265 - accuracy: 0.7313 - val_loss: 0.5852 - val_accuracy: 0.6900\n",
      "Epoch 1/20\n",
      "45/45 [==============================] - 15s 320ms/step - loss: 0.6825 - accuracy: 0.5667 - val_loss: 0.6397 - val_accuracy: 0.6250\n",
      "Epoch 2/20\n",
      "45/45 [==============================] - 14s 309ms/step - loss: 0.6013 - accuracy: 0.6850 - val_loss: 0.6003 - val_accuracy: 0.6780\n",
      "Epoch 3/20\n",
      "45/45 [==============================] - 14s 311ms/step - loss: 0.5464 - accuracy: 0.7324 - val_loss: 0.5880 - val_accuracy: 0.6860\n",
      "Epoch 4/20\n",
      "45/45 [==============================] - 14s 310ms/step - loss: 0.5129 - accuracy: 0.7473 - val_loss: 0.5735 - val_accuracy: 0.7060\n",
      "Epoch 5/20\n",
      "45/45 [==============================] - 14s 311ms/step - loss: 0.4916 - accuracy: 0.7599 - val_loss: 0.5610 - val_accuracy: 0.7120\n",
      "Epoch 6/20\n",
      "45/45 [==============================] - 14s 311ms/step - loss: 0.4614 - accuracy: 0.7838 - val_loss: 0.5870 - val_accuracy: 0.6790\n",
      "Epoch 7/20\n",
      "45/45 [==============================] - 14s 311ms/step - loss: 0.4567 - accuracy: 0.7850 - val_loss: 0.5962 - val_accuracy: 0.7060\n",
      "Epoch 8/20\n",
      "45/45 [==============================] - 14s 311ms/step - loss: 0.4295 - accuracy: 0.7977 - val_loss: 0.5742 - val_accuracy: 0.6980\n",
      "Epoch 9/20\n",
      "45/45 [==============================] - 14s 320ms/step - loss: 0.4221 - accuracy: 0.8034 - val_loss: 0.6337 - val_accuracy: 0.6990\n",
      "Epoch 10/20\n",
      "45/45 [==============================] - 14s 311ms/step - loss: 0.4008 - accuracy: 0.8179 - val_loss: 0.5662 - val_accuracy: 0.7020\n",
      "Epoch 11/20\n",
      "45/45 [==============================] - 14s 311ms/step - loss: 0.3796 - accuracy: 0.8315 - val_loss: 0.6576 - val_accuracy: 0.6750\n",
      "Epoch 12/20\n",
      "45/45 [==============================] - 14s 310ms/step - loss: 0.3849 - accuracy: 0.8294 - val_loss: 0.6644 - val_accuracy: 0.6800\n",
      "Epoch 13/20\n",
      "45/45 [==============================] - 14s 310ms/step - loss: 0.3592 - accuracy: 0.8388 - val_loss: 0.6225 - val_accuracy: 0.7240\n",
      "Epoch 14/20\n",
      "45/45 [==============================] - 18s 402ms/step - loss: 0.3755 - accuracy: 0.8354 - val_loss: 0.5645 - val_accuracy: 0.7280\n",
      "Epoch 15/20\n",
      "45/45 [==============================] - 17s 369ms/step - loss: 0.3346 - accuracy: 0.8563 - val_loss: 0.5922 - val_accuracy: 0.7100\n",
      "Epoch 16/20\n",
      "45/45 [==============================] - 15s 331ms/step - loss: 0.3209 - accuracy: 0.8631 - val_loss: 0.6402 - val_accuracy: 0.7080\n",
      "Epoch 17/20\n",
      "45/45 [==============================] - 15s 334ms/step - loss: 0.2975 - accuracy: 0.8756 - val_loss: 0.5968 - val_accuracy: 0.7200\n",
      "Epoch 18/20\n",
      "45/45 [==============================] - 15s 331ms/step - loss: 0.2915 - accuracy: 0.8728 - val_loss: 0.6144 - val_accuracy: 0.7090\n",
      "Epoch 19/20\n",
      "45/45 [==============================] - 15s 324ms/step - loss: 0.2906 - accuracy: 0.8788 - val_loss: 0.6430 - val_accuracy: 0.7250\n",
      "Epoch 20/20\n",
      "45/45 [==============================] - 15s 325ms/step - loss: 0.3098 - accuracy: 0.8627 - val_loss: 0.6372 - val_accuracy: 0.7000\n"
     ]
    },
    {
     "data": {
      "text/plain": [
       "<tensorflow.python.keras.callbacks.History at 0x1979faba748>"
      ]
     },
     "execution_count": 38,
     "metadata": {},
     "output_type": "execute_result"
    }
   ],
   "source": [
    "cnn_tfidf.fit(data_train, y_train, validation_data=(data_val, y_val), epochs=20, batch_size=200)\n",
    "cnn_w2v.fit(data_train, y_train, validation_data=(data_val, y_val), epochs=20, batch_size=200)\n",
    "cnn_glove.fit(data_train, y_train, validation_data=(data_val, y_val), epochs=20, batch_size=200)\n",
    "cnn_fast.fit(data_train, y_train, validation_data=(data_val, y_val), epochs=20, batch_size=200)"
   ]
  },
  {
   "cell_type": "code",
   "execution_count": 39,
   "metadata": {
    "id": "9meqmalXvuaJ"
   },
   "outputs": [],
   "source": [
    "# df_pred_test = df_pred_test.drop(['CNN-CV'], axis=1)\n",
    "# print(df_pred_test.columns)\n",
    "# CV\n",
    "cols = [\"CNN-CV-0\", \"CNN-CV-1\"]\n",
    "df_train_ = pd.DataFrame(np.argmax(cnn_cv.predict(data_train), axis=1), columns=[\"CNN-CV\"])\n",
    "df_val_ = pd.DataFrame(np.argmax(cnn_cv.predict(data_val), axis=1), columns=[\"CNN-CV\"])\n",
    "df_test_ = pd.DataFrame(np.argmax(cnn_cv.predict(data_test), axis=1), columns=[\"CNN-CV\"])\n",
    "  \n",
    "df_pred_train = pd.concat([df_pred_train, df_train_], axis=1, sort=False)\n",
    "df_pred_val = pd.concat([df_pred_val, df_val_], axis=1, sort=False)\n",
    "df_pred_test = pd.concat([df_pred_test, df_test_], axis=1, sort=False)\n",
    "\n",
    "# print(df_pred_test.columns)\n",
    "\n",
    "# # Probabilidades\n",
    "  \n",
    "df_train_ = pd.DataFrame(cnn_cv.predict(data_train), columns=cols)\n",
    "df_val_ = pd.DataFrame(cnn_cv.predict(data_val), columns=cols)\n",
    "df_test_ = pd.DataFrame(cnn_cv.predict(data_test), columns=cols)\n",
    "\n",
    "df_prob_train = pd.concat([df_prob_train, df_train_], axis=1, sort=False)\n",
    "df_prob_val = pd.concat([df_prob_val, df_val_], axis=1, sort=False)\n",
    "df_prob_test = pd.concat([df_prob_test, df_test_], axis=1, sort=False)\n",
    "\n",
    "\n",
    "cols = [\"CNN-TFIDF-0\", \"CNN-TFIDF-1\"]\n",
    "\n",
    "df_train_ = pd.DataFrame(np.argmax(cnn_tfidf.predict(data_train), axis=1), columns=[\"CNN-TFIDF\"])\n",
    "df_val_ = pd.DataFrame(np.argmax(cnn_tfidf.predict(data_val), axis=1), columns=[\"CNN-TFIDF\"])\n",
    "df_test_ = pd.DataFrame(np.argmax(cnn_tfidf.predict(data_test), axis=1), columns=[\"CNN-TFIDF\"])\n",
    "  \n",
    "df_pred_train = pd.concat([df_pred_train, df_train_], axis=1, sort=False)\n",
    "df_pred_val = pd.concat([df_pred_val, df_val_], axis=1, sort=False)\n",
    "df_pred_test = pd.concat([df_pred_test, df_test_], axis=1, sort=False)\n",
    "\n",
    "# Probabilidades\n",
    "  \n",
    "df_train_ = pd.DataFrame(cnn_tfidf.predict(data_train), columns=cols)\n",
    "df_val_ = pd.DataFrame(cnn_tfidf.predict(data_val), columns=cols)\n",
    "df_test_ = pd.DataFrame(cnn_tfidf.predict(data_test), columns=cols)\n",
    "\n",
    "df_prob_train = pd.concat([df_prob_train, df_train_], axis=1, sort=False)\n",
    "df_prob_val = pd.concat([df_prob_val, df_val_], axis=1, sort=False)\n",
    "df_prob_test = pd.concat([df_prob_test, df_test_], axis=1, sort=False)\n",
    "\n",
    "cols = [\"CNN-W2V-0\", \"CNN-W2V-1\"]\n",
    "\n",
    "df_train_ = pd.DataFrame(np.argmax(cnn_w2v.predict(data_train), axis=1), columns=[\"CNN-W2V\"])\n",
    "df_val_ = pd.DataFrame(np.argmax(cnn_w2v.predict(data_val), axis=1), columns=[\"CNN-W2V\"])\n",
    "df_test_ = pd.DataFrame(np.argmax(cnn_w2v.predict(data_test), axis=1), columns=[\"CNN-W2V\"])\n",
    "  \n",
    "df_pred_train = pd.concat([df_pred_train, df_train_], axis=1, sort=False)\n",
    "df_pred_val = pd.concat([df_pred_val, df_val_], axis=1, sort=False)\n",
    "df_pred_test = pd.concat([df_pred_test, df_test_], axis=1, sort=False)\n",
    "\n",
    "# Probabilidades\n",
    "  \n",
    "df_train_ = pd.DataFrame(cnn_w2v.predict(data_train), columns=cols)\n",
    "df_val_ = pd.DataFrame(cnn_w2v.predict(data_val), columns=cols)\n",
    "df_test_ = pd.DataFrame(cnn_w2v.predict(data_test), columns=cols)\n",
    "\n",
    "df_prob_train = pd.concat([df_prob_train, df_train_], axis=1, sort=False)\n",
    "df_prob_val = pd.concat([df_prob_val, df_val_], axis=1, sort=False)\n",
    "df_prob_test = pd.concat([df_prob_test, df_test_], axis=1, sort=False)\n",
    "\n",
    "\n",
    "cols = [\"CNN-GLOVE-0\", \"CNN-GLOVE-1\"]\n",
    "\n",
    "df_train_ = pd.DataFrame(np.argmax(cnn_glove.predict(data_train), axis=1), columns=[\"CNN-GLOVE\"])\n",
    "df_val_ = pd.DataFrame(np.argmax(cnn_glove.predict(data_val), axis=1), columns=[\"CNN-GLOVE\"])\n",
    "df_test_ = pd.DataFrame(np.argmax(cnn_glove.predict(data_test), axis=1), columns=[\"CNN-GLOVE\"])\n",
    "\n",
    "df_pred_train = pd.concat([df_pred_train, df_train_], axis=1, sort=False)\n",
    "df_pred_val = pd.concat([df_pred_val, df_val_], axis=1, sort=False)\n",
    "df_pred_test = pd.concat([df_pred_test, df_test_], axis=1, sort=False)\n",
    "\n",
    "# Probabilidades\n",
    "  \n",
    "df_train_ = pd.DataFrame(cnn_glove.predict(data_train), columns=cols)\n",
    "df_val_ = pd.DataFrame(cnn_glove.predict(data_val), columns=cols)\n",
    "df_test_ = pd.DataFrame(cnn_glove.predict(data_test), columns=cols)\n",
    "\n",
    "df_prob_train = pd.concat([df_prob_train, df_train_], axis=1, sort=False)\n",
    "df_prob_val = pd.concat([df_prob_val, df_val_], axis=1, sort=False)\n",
    "df_prob_test = pd.concat([df_prob_test, df_test_], axis=1, sort=False)\n",
    "\n",
    "cols = [\"CNN-FAST-0\", \"CNN-FAST-1\"]\n",
    "\n",
    "df_train_ = pd.DataFrame(np.argmax(cnn_fast.predict(data_train), axis=1), columns=[\"CNN-FAST\"])\n",
    "df_val_ = pd.DataFrame(np.argmax(cnn_fast.predict(data_val), axis=1), columns=[\"CNN-FAST\"])\n",
    "df_test_ = pd.DataFrame(np.argmax(cnn_fast.predict(data_test), axis=1), columns=[\"CNN-FAST\"])\n",
    "\n",
    "df_pred_train = pd.concat([df_pred_train, df_train_], axis=1, sort=False)\n",
    "df_pred_val = pd.concat([df_pred_val, df_val_], axis=1, sort=False)\n",
    "df_pred_test = pd.concat([df_pred_test, df_test_], axis=1, sort=False)\n",
    "\n",
    "# Probabilidades\n",
    "  \n",
    "df_train_ = pd.DataFrame(cnn_fast.predict(data_train), columns=cols)\n",
    "df_val_ = pd.DataFrame(cnn_fast.predict(data_val), columns=cols)\n",
    "df_test_ = pd.DataFrame(cnn_fast.predict(data_test), columns=cols)\n",
    "\n",
    "df_prob_train = pd.concat([df_prob_train, df_train_], axis=1, sort=False)\n",
    "df_prob_val = pd.concat([df_prob_val, df_val_], axis=1, sort=False)\n",
    "df_prob_test = pd.concat([df_prob_test, df_test_], axis=1, sort=False)\n"
   ]
  },
  {
   "cell_type": "code",
   "execution_count": 45,
   "metadata": {
    "id": "B0ObWDQBEkRA"
   },
   "outputs": [],
   "source": [
    "df_pred_train.to_csv(\"./Saved_Predict_and_Proba/HATEVAL/pred_train_hateval.csv\")\n",
    "df_pred_val.to_csv(\"./Saved_Predict_and_Proba/HATEVAL/pred_val_hateval.csv\")\n",
    "df_pred_test.to_csv(\"./Saved_Predict_and_Proba/HATEVAL/pred_test_hateval.csv\")\n",
    "df_prob_train.to_csv(\"./Saved_Predict_and_Proba/HateVal/prob_train_hateval.csv\")\n",
    "df_prob_val.to_csv(\"./Saved_Predict_and_Proba/HateVal/prob_val_hateval.csv\")\n",
    "df_prob_test.to_csv(\"./Saved_Predict_and_Proba/HateVal/prob_test_hateval.csv\")"
   ]
  },
  {
   "cell_type": "markdown",
   "metadata": {},
   "source": [
    "# Analyzing Results"
   ]
  },
  {
   "cell_type": "code",
   "execution_count": 46,
   "metadata": {},
   "outputs": [],
   "source": [
    "import numpy as np\n",
    "import pandas as pd\n",
    "from sklearn.metrics import f1_score\n",
    "algorithms_list = ['SVM', 'MLP', 'KNN', 'RF', 'EXTRA', 'CNN', 'LR', 'NB']\n",
    "fe_list = ['CV', 'TFIDF', 'W2V', 'GLOVE', 'FAST']"
   ]
  },
  {
   "cell_type": "markdown",
   "metadata": {},
   "source": [
    "## Validation data"
   ]
  },
  {
   "cell_type": "code",
   "execution_count": 47,
   "metadata": {},
   "outputs": [],
   "source": [
    "val_df = pd.read_csv(\"./Saved_Predict_and_Proba/HateVal/prob_val_hateval.csv\").dropna()\n",
    "probas_val, labels_val = val_df.drop(columns=[\"Unnamed: 0\", \"HS\"]), val_df[\"HS\"]\n",
    "results_f1_val = np.zeros((len(algorithms_list), len(fe_list)))\n",
    "for idx_alg, alg in enumerate(algorithms_list):\n",
    "    for idx_fe, fe in enumerate(fe_list):\n",
    "        probas = probas_val.filter(regex=alg+'-'+fe)\n",
    "        y_pred = np.argmax(probas.to_numpy(), axis=1)\n",
    "        results_f1_val[idx_alg, idx_fe] = f1_score(labels_val, y_pred)"
   ]
  },
  {
   "cell_type": "markdown",
   "metadata": {},
   "source": [
    "## Test data"
   ]
  },
  {
   "cell_type": "code",
   "execution_count": 48,
   "metadata": {},
   "outputs": [],
   "source": [
    "test_df = pd.read_csv(\"./Saved_Predict_and_Proba/HateVal/prob_test_hateval.csv\").dropna()\n",
    "probas_test, labels_test = test_df.drop(columns=[\"Unnamed: 0\", \"HS\"]), test_df[\"HS\"]\n",
    "results_f1_test = np.zeros((len(algorithms_list), len(fe_list)))\n",
    "for idx_alg, alg in enumerate(algorithms_list):\n",
    "    for idx_fe, fe in enumerate(fe_list):\n",
    "        probas = probas_test.filter(regex=alg+'-'+fe)\n",
    "        y_pred = np.argmax(probas.to_numpy(), axis=1)\n",
    "        results_f1_test[idx_alg, idx_fe] = f1_score(labels_test, y_pred)"
   ]
  },
  {
   "cell_type": "code",
   "execution_count": 49,
   "metadata": {},
   "outputs": [],
   "source": [
    "results_df_test = pd.DataFrame(results_f1_test, columns=fe_list, index=algorithms_list)\n",
    "results_df_val = pd.DataFrame(results_f1_val, columns=fe_list, index=algorithms_list)"
   ]
  },
  {
   "cell_type": "code",
   "execution_count": 52,
   "metadata": {},
   "outputs": [
    {
     "data": {
      "text/html": [
       "<div>\n",
       "<style scoped>\n",
       "    .dataframe tbody tr th:only-of-type {\n",
       "        vertical-align: middle;\n",
       "    }\n",
       "\n",
       "    .dataframe tbody tr th {\n",
       "        vertical-align: top;\n",
       "    }\n",
       "\n",
       "    .dataframe thead th {\n",
       "        text-align: right;\n",
       "    }\n",
       "</style>\n",
       "<table border=\"1\" class=\"dataframe\">\n",
       "  <thead>\n",
       "    <tr style=\"text-align: right;\">\n",
       "      <th></th>\n",
       "      <th>CV</th>\n",
       "      <th>TFIDF</th>\n",
       "      <th>W2V</th>\n",
       "      <th>GLOVE</th>\n",
       "      <th>FAST</th>\n",
       "    </tr>\n",
       "  </thead>\n",
       "  <tbody>\n",
       "    <tr>\n",
       "      <th>SVM</th>\n",
       "      <td>0.604611</td>\n",
       "      <td>0.603842</td>\n",
       "      <td>0.627646</td>\n",
       "      <td>0.561172</td>\n",
       "      <td>0.617781</td>\n",
       "    </tr>\n",
       "    <tr>\n",
       "      <th>MLP</th>\n",
       "      <td>0.598499</td>\n",
       "      <td>0.587328</td>\n",
       "      <td>0.615523</td>\n",
       "      <td>0.575249</td>\n",
       "      <td>0.627669</td>\n",
       "    </tr>\n",
       "    <tr>\n",
       "      <th>KNN</th>\n",
       "      <td>0.485299</td>\n",
       "      <td>0.069169</td>\n",
       "      <td>0.585816</td>\n",
       "      <td>0.537245</td>\n",
       "      <td>0.566645</td>\n",
       "    </tr>\n",
       "    <tr>\n",
       "      <th>RF</th>\n",
       "      <td>0.586481</td>\n",
       "      <td>0.586640</td>\n",
       "      <td>0.598967</td>\n",
       "      <td>0.558888</td>\n",
       "      <td>0.597227</td>\n",
       "    </tr>\n",
       "    <tr>\n",
       "      <th>EXTRA</th>\n",
       "      <td>0.591253</td>\n",
       "      <td>0.593182</td>\n",
       "      <td>0.594798</td>\n",
       "      <td>0.565487</td>\n",
       "      <td>0.596252</td>\n",
       "    </tr>\n",
       "    <tr>\n",
       "      <th>CNN</th>\n",
       "      <td>0.593882</td>\n",
       "      <td>0.571800</td>\n",
       "      <td>0.605117</td>\n",
       "      <td>0.589058</td>\n",
       "      <td>0.608034</td>\n",
       "    </tr>\n",
       "    <tr>\n",
       "      <th>LR</th>\n",
       "      <td>0.607941</td>\n",
       "      <td>0.596645</td>\n",
       "      <td>0.617062</td>\n",
       "      <td>0.503864</td>\n",
       "      <td>0.589726</td>\n",
       "    </tr>\n",
       "    <tr>\n",
       "      <th>NB</th>\n",
       "      <td>0.601139</td>\n",
       "      <td>0.603803</td>\n",
       "      <td>0.528418</td>\n",
       "      <td>0.499833</td>\n",
       "      <td>0.538870</td>\n",
       "    </tr>\n",
       "  </tbody>\n",
       "</table>\n",
       "</div>"
      ],
      "text/plain": [
       "             CV     TFIDF       W2V     GLOVE      FAST\n",
       "SVM    0.604611  0.603842  0.627646  0.561172  0.617781\n",
       "MLP    0.598499  0.587328  0.615523  0.575249  0.627669\n",
       "KNN    0.485299  0.069169  0.585816  0.537245  0.566645\n",
       "RF     0.586481  0.586640  0.598967  0.558888  0.597227\n",
       "EXTRA  0.591253  0.593182  0.594798  0.565487  0.596252\n",
       "CNN    0.593882  0.571800  0.605117  0.589058  0.608034\n",
       "LR     0.607941  0.596645  0.617062  0.503864  0.589726\n",
       "NB     0.601139  0.603803  0.528418  0.499833  0.538870"
      ]
     },
     "execution_count": 52,
     "metadata": {},
     "output_type": "execute_result"
    }
   ],
   "source": [
    "results_df_test"
   ]
  }
 ],
 "metadata": {
  "@webio": {
   "lastCommId": null,
   "lastKernelId": null
  },
  "colab": {
   "collapsed_sections": [],
   "name": "Predict_HateVal.ipynb",
   "provenance": []
  },
  "kernelspec": {
   "display_name": "Python [conda env:hate_speech]",
   "language": "python",
   "name": "conda-env-hate_speech-py"
  },
  "language_info": {
   "codemirror_mode": {
    "name": "ipython",
    "version": 3
   },
   "file_extension": ".py",
   "mimetype": "text/x-python",
   "name": "python",
   "nbconvert_exporter": "python",
   "pygments_lexer": "ipython3",
   "version": "3.6.12"
  }
 },
 "nbformat": 4,
 "nbformat_minor": 1
}
