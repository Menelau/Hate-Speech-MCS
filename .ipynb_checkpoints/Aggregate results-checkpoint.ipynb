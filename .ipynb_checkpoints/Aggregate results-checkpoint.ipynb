{
 "cells": [
  {
   "cell_type": "code",
   "execution_count": 7,
   "metadata": {},
   "outputs": [],
   "source": [
    "import pandas as pd\n",
    "import warnings\n",
    "warnings.filterwarnings('ignore')\n",
    "import numpy as np\n",
    "from sklearn.metrics import f1_score"
   ]
  },
  {
   "cell_type": "code",
   "execution_count": 25,
   "metadata": {},
   "outputs": [],
   "source": [
    "def load_predictions(dataset_name, partition, fold_number=1):\n",
    "    path = './Saved_Predict_and_Proba/Folds/' + dataset_name.upper() + '/F' + str(fold_number)  + '/pred_' + partition +'.csv'\n",
    "    table_pred = pd.read_csv(path)\n",
    "    if dataset_name == 'zw':\n",
    "        label = table_pred['norm']\n",
    "        preds = table_pred.drop('norm', axis=1)\n",
    "    else: \n",
    "        label = table_pred['class']\n",
    "        preds = table_pred.drop('class', axis=1)\n",
    "    preds = preds.drop('Unnamed: 0', axis=1)\n",
    "    return label, preds\n",
    "\n",
    "def load_datasets(dataset_name, fold_number):\n",
    "    label_train, preds_train = load_predictions(dataset_name, 'train', fold_number)\n",
    "    label_val, preds_val = load_predictions(dataset_name, 'val', fold_number)\n",
    "    label_test, preds_test = load_predictions(dataset_name, 'test', fold_number)\n",
    "    return label_train, preds_train, label_test, preds_test, label_val, preds_val\n",
    "\n",
    "def compile_results(dataset_name):\n",
    "    algorithms_list = ['SVM', 'MLP', 'KNN', 'RF', 'EXTRA', 'CNN', 'LR', 'NB']\n",
    "    fe_list = ['CV', 'TFIDF', 'W2V', 'GLOVE', 'FAST']\n",
    "    results_f1_val = np.zeros((5, len(algorithms_list), len(fe_list)))\n",
    "    results_f1_test = np.zeros((5, len(algorithms_list), len(fe_list)))\n",
    "\n",
    "    for fold in range(1, 6):\n",
    "        _, _, label_test, preds_test, label_val, preds_val = load_datasets(dataset_name, fold)\n",
    "\n",
    "        for idx_alg, alg in enumerate(algorithms_list):\n",
    "            for idx_fe, fe in enumerate(fe_list):\n",
    "                #VAL\n",
    "                y_pred_val = preds_val.filter(regex=alg+'-'+fe)\n",
    "                results_f1_val[fold-1, idx_alg, idx_fe] = f1_score(label_val, y_pred_val,average='macro')           \n",
    "                #TESTE\n",
    "                y_pred_test = preds_test.filter(regex=alg+'-'+fe)\n",
    "                results_f1_test[fold-1,idx_alg, idx_fe] = f1_score(label_test, y_pred_test,average='macro')\n",
    "    return results_f1_val, results_f1_test"
   ]
  },
  {
   "cell_type": "markdown",
   "metadata": {},
   "source": [
    "# Getting TD results"
   ]
  },
  {
   "cell_type": "code",
   "execution_count": 26,
   "metadata": {},
   "outputs": [],
   "source": [
    "dataset_name = 'TD'\n",
    "results_f1_val, results_f1_test = compile_results('TD')\n",
    "results_df_test = pd.DataFrame(results_f1_test.mean(axis=0), columns=fe_list, index=algorithms_list)\n",
    "results_df_val = pd.DataFrame(results_f1_val.mean(axis=0), columns=fe_list, index=algorithms_list)"
   ]
  },
  {
   "cell_type": "markdown",
   "metadata": {},
   "source": [
    "# Getting ZW results"
   ]
  },
  {
   "cell_type": "code",
   "execution_count": 27,
   "metadata": {},
   "outputs": [
    {
     "data": {
      "text/html": [
       "<div>\n",
       "<style scoped>\n",
       "    .dataframe tbody tr th:only-of-type {\n",
       "        vertical-align: middle;\n",
       "    }\n",
       "\n",
       "    .dataframe tbody tr th {\n",
       "        vertical-align: top;\n",
       "    }\n",
       "\n",
       "    .dataframe thead th {\n",
       "        text-align: right;\n",
       "    }\n",
       "</style>\n",
       "<table border=\"1\" class=\"dataframe\">\n",
       "  <thead>\n",
       "    <tr style=\"text-align: right;\">\n",
       "      <th></th>\n",
       "      <th>CV</th>\n",
       "      <th>TFIDF</th>\n",
       "      <th>W2V</th>\n",
       "      <th>GLOVE</th>\n",
       "      <th>FAST</th>\n",
       "    </tr>\n",
       "  </thead>\n",
       "  <tbody>\n",
       "    <tr>\n",
       "      <th>SVM</th>\n",
       "      <td>0.714897</td>\n",
       "      <td>0.697909</td>\n",
       "      <td>0.554967</td>\n",
       "      <td>0.508617</td>\n",
       "      <td>0.548171</td>\n",
       "    </tr>\n",
       "    <tr>\n",
       "      <th>MLP</th>\n",
       "      <td>0.705022</td>\n",
       "      <td>0.699068</td>\n",
       "      <td>0.595587</td>\n",
       "      <td>0.522664</td>\n",
       "      <td>0.614495</td>\n",
       "    </tr>\n",
       "    <tr>\n",
       "      <th>KNN</th>\n",
       "      <td>0.637151</td>\n",
       "      <td>0.406986</td>\n",
       "      <td>0.519574</td>\n",
       "      <td>0.502654</td>\n",
       "      <td>0.478859</td>\n",
       "    </tr>\n",
       "    <tr>\n",
       "      <th>RF</th>\n",
       "      <td>0.713962</td>\n",
       "      <td>0.678404</td>\n",
       "      <td>0.495706</td>\n",
       "      <td>0.500067</td>\n",
       "      <td>0.493595</td>\n",
       "    </tr>\n",
       "    <tr>\n",
       "      <th>EXTRA</th>\n",
       "      <td>0.704401</td>\n",
       "      <td>0.663261</td>\n",
       "      <td>0.471420</td>\n",
       "      <td>0.495077</td>\n",
       "      <td>0.463997</td>\n",
       "    </tr>\n",
       "    <tr>\n",
       "      <th>CNN</th>\n",
       "      <td>0.708612</td>\n",
       "      <td>0.596139</td>\n",
       "      <td>0.688834</td>\n",
       "      <td>0.651194</td>\n",
       "      <td>0.694465</td>\n",
       "    </tr>\n",
       "    <tr>\n",
       "      <th>LR</th>\n",
       "      <td>0.713690</td>\n",
       "      <td>0.708053</td>\n",
       "      <td>0.550345</td>\n",
       "      <td>0.483981</td>\n",
       "      <td>0.551479</td>\n",
       "    </tr>\n",
       "    <tr>\n",
       "      <th>NB</th>\n",
       "      <td>0.704162</td>\n",
       "      <td>0.658030</td>\n",
       "      <td>0.534599</td>\n",
       "      <td>0.482840</td>\n",
       "      <td>0.582332</td>\n",
       "    </tr>\n",
       "  </tbody>\n",
       "</table>\n",
       "</div>"
      ],
      "text/plain": [
       "             CV     TFIDF       W2V     GLOVE      FAST\n",
       "SVM    0.714897  0.697909  0.554967  0.508617  0.548171\n",
       "MLP    0.705022  0.699068  0.595587  0.522664  0.614495\n",
       "KNN    0.637151  0.406986  0.519574  0.502654  0.478859\n",
       "RF     0.713962  0.678404  0.495706  0.500067  0.493595\n",
       "EXTRA  0.704401  0.663261  0.471420  0.495077  0.463997\n",
       "CNN    0.708612  0.596139  0.688834  0.651194  0.694465\n",
       "LR     0.713690  0.708053  0.550345  0.483981  0.551479\n",
       "NB     0.704162  0.658030  0.534599  0.482840  0.582332"
      ]
     },
     "execution_count": 27,
     "metadata": {},
     "output_type": "execute_result"
    }
   ],
   "source": [
    "dataset_name = 'ZW'\n",
    "results_f1_val, results_f1_test = compile_results('TD')\n",
    "results_df_test = pd.DataFrame(results_f1_test.mean(axis=0), columns=fe_list, index=algorithms_list)\n",
    "results_df_val = pd.DataFrame(results_f1_val.mean(axis=0), columns=fe_list, index=algorithms_list)"
   ]
  },
  {
   "cell_type": "markdown",
   "metadata": {},
   "source": [
    "# Getting union results (TD+ZW)"
   ]
  },
  {
   "cell_type": "markdown",
   "metadata": {},
   "source": [
    "# Getting ZW Results"
   ]
  }
 ],
 "metadata": {
  "kernelspec": {
   "display_name": "Python [conda env:hate_speech]",
   "language": "python",
   "name": "conda-env-hate_speech-py"
  },
  "language_info": {
   "codemirror_mode": {
    "name": "ipython",
    "version": 3
   },
   "file_extension": ".py",
   "mimetype": "text/x-python",
   "name": "python",
   "nbconvert_exporter": "python",
   "pygments_lexer": "ipython3",
   "version": "3.6.12"
  }
 },
 "nbformat": 4,
 "nbformat_minor": 2
}
