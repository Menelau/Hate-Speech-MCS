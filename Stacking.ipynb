{
 "cells": [
  {
   "cell_type": "code",
   "execution_count": 1,
   "metadata": {},
   "outputs": [],
   "source": [
    "import warnings\n",
    "warnings.filterwarnings('ignore')"
   ]
  },
  {
   "cell_type": "code",
   "execution_count": 2,
   "metadata": {},
   "outputs": [],
   "source": [
    "import pandas as pd\n",
    "import numpy as np\n",
    "from sklearn.linear_model import LogisticRegression, LogisticRegressionCV\n",
    "from sklearn.metrics import f1_score, accuracy_score"
   ]
  },
  {
   "cell_type": "code",
   "execution_count": 3,
   "metadata": {},
   "outputs": [],
   "source": [
    "def load_predictions(dataset_name, partition):\n",
    "    path = './Saved Predict and Proba/' + dataset_name.upper() + '/prob_' + partition + '_' + dataset_name.lower() + '.csv'\n",
    "    table_pred = pd.read_csv(path)\n",
    "    if dataset_name == 'zw':\n",
    "        label = table_pred['norm']\n",
    "        methods = table_pred.drop('norm', axis=1)\n",
    "    else: \n",
    "        label = table_pred['class']\n",
    "        methods = table_pred.drop('class', axis=1)\n",
    "    methods = methods.drop('Unnamed: 0', axis=1)\n",
    "    return label, methods\n",
    "\n",
    "def load_dataset(dataset_name):\n",
    "    label_train, probas_train = load_predictions(dataset_name, 'train')\n",
    "    label_val, probas_val = load_predictions(dataset_name, 'val')\n",
    "    label_test, probas_test = load_predictions(dataset_name, 'test')\n",
    "    return label_train, probas_train, label_test, probas_test, label_val, probas_val\n",
    "\n",
    "def filter_df_train_test(train_df, test_df, name, filter_first=True):\n",
    "    train = train_df.filter(regex=name, axis=1)\n",
    "    test = test_df.filter(regex=name, axis=1)\n",
    "    return train, test"
   ]
  },
  {
   "cell_type": "markdown",
   "metadata": {},
   "source": [
    "# Get dataset"
   ]
  },
  {
   "cell_type": "code",
   "execution_count": 4,
   "metadata": {},
   "outputs": [],
   "source": [
    "dataset_name = 'zw'\n",
    "_, _, label_test, probas_test, label_val, probas_val = load_dataset(dataset_name)\n",
    "all_stacking = [LogisticRegressionCV(class_weight='balanced', cv=10, scoring='f1_macro', n_jobs=5)]\n",
    "all_stacking_names = ['Stacking LR']\n",
    "\n",
    "names_B = {}\n",
    "names_B['zw'] = 'CNN-W2V|MLP-CV|SVM-TFIDF|KNN-GLOVE|LR-FAST|MLP-GLOVE|SVM-CV|CNN-CV|KNN-CV|MLP-FAST|RF-W2V|CNN-FAST|RF-FAST'\n",
    "names_B['td'] = 'MLP-FAST|KNN-GLOVE|KNN-FAST|KNN-CV|MLP-W2V|NB-CV|CNN-TFIDF|NB-FAST|RF-CV|LR-CV|CNN-CV|KNN-W2V|CNN-GLOVE'\n",
    "names_B ['td_zw']= 'EXTRA-CV|CNN-FAST|MLP-W2V|LR-CV|MLP-FAST|NB-CV|CNN-CV|LR-GLOVE|SVM-GLOVE|RF-FAST|RF-TFIDF|SVM-CV|KNN-CV'"
   ]
  },
  {
   "cell_type": "markdown",
   "metadata": {},
   "source": [
    "## Stacking group A"
   ]
  },
  {
   "cell_type": "code",
   "execution_count": 1,
   "metadata": {},
   "outputs": [
    {
     "ename": "NameError",
     "evalue": "name 'np' is not defined",
     "output_type": "error",
     "traceback": [
      "\u001B[1;31m---------------------------------------------------------------------------\u001B[0m",
      "\u001B[1;31mNameError\u001B[0m                                 Traceback (most recent call last)",
      "\u001B[1;32m<ipython-input-1-6ab72264b2dc>\u001B[0m in \u001B[0;36m<module>\u001B[1;34m\u001B[0m\n\u001B[0;32m      1\u001B[0m \u001B[0malgorithms_list\u001B[0m \u001B[1;33m=\u001B[0m \u001B[1;33m[\u001B[0m\u001B[1;34m'SVM'\u001B[0m\u001B[1;33m,\u001B[0m \u001B[1;34m'MLP'\u001B[0m\u001B[1;33m,\u001B[0m \u001B[1;34m'KNN'\u001B[0m\u001B[1;33m,\u001B[0m \u001B[1;34m'RF'\u001B[0m\u001B[1;33m,\u001B[0m \u001B[1;34m'EXTRA'\u001B[0m\u001B[1;33m,\u001B[0m \u001B[1;34m'CNN'\u001B[0m\u001B[1;33m,\u001B[0m \u001B[1;34m'LR'\u001B[0m\u001B[1;33m,\u001B[0m \u001B[1;34m'NB'\u001B[0m\u001B[1;33m]\u001B[0m\u001B[1;33m\u001B[0m\u001B[1;33m\u001B[0m\u001B[0m\n\u001B[1;32m----> 2\u001B[1;33m \u001B[0mresults_A\u001B[0m \u001B[1;33m=\u001B[0m \u001B[0mnp\u001B[0m\u001B[1;33m.\u001B[0m\u001B[0mzeros\u001B[0m\u001B[1;33m(\u001B[0m\u001B[1;33m(\u001B[0m\u001B[0mlen\u001B[0m\u001B[1;33m(\u001B[0m\u001B[0malgorithms_list\u001B[0m\u001B[1;33m)\u001B[0m\u001B[1;33m,\u001B[0m \u001B[0mlen\u001B[0m\u001B[1;33m(\u001B[0m\u001B[0mall_stacking\u001B[0m\u001B[1;33m)\u001B[0m\u001B[1;33m)\u001B[0m\u001B[1;33m)\u001B[0m\u001B[1;33m\u001B[0m\u001B[1;33m\u001B[0m\u001B[0m\n\u001B[0m\u001B[0;32m      3\u001B[0m \u001B[1;32mfor\u001B[0m \u001B[0midx_alg\u001B[0m\u001B[1;33m,\u001B[0m \u001B[0malgorithm\u001B[0m \u001B[1;32min\u001B[0m \u001B[0menumerate\u001B[0m\u001B[1;33m(\u001B[0m\u001B[0malgorithms_list\u001B[0m\u001B[1;33m)\u001B[0m\u001B[1;33m:\u001B[0m\u001B[1;33m\u001B[0m\u001B[1;33m\u001B[0m\u001B[0m\n\u001B[0;32m      4\u001B[0m     \u001B[0mX_val\u001B[0m\u001B[1;33m,\u001B[0m \u001B[0mX_test\u001B[0m \u001B[1;33m=\u001B[0m \u001B[0mfilter_df_train_test\u001B[0m\u001B[1;33m(\u001B[0m\u001B[0mprobas_val\u001B[0m\u001B[1;33m,\u001B[0m \u001B[0mprobas_test\u001B[0m\u001B[1;33m,\u001B[0m \u001B[0malgorithm\u001B[0m\u001B[1;33m)\u001B[0m\u001B[1;33m\u001B[0m\u001B[1;33m\u001B[0m\u001B[0m\n\u001B[0;32m      5\u001B[0m     \u001B[1;32mfor\u001B[0m \u001B[0midx_clf\u001B[0m\u001B[1;33m,\u001B[0m \u001B[0mclf\u001B[0m \u001B[1;32min\u001B[0m \u001B[0menumerate\u001B[0m\u001B[1;33m(\u001B[0m\u001B[0mall_stacking\u001B[0m\u001B[1;33m)\u001B[0m\u001B[1;33m:\u001B[0m\u001B[1;33m\u001B[0m\u001B[1;33m\u001B[0m\u001B[0m\n",
      "\u001B[1;31mNameError\u001B[0m: name 'np' is not defined"
     ]
    }
   ],
   "source": [
    "algorithms_list = ['SVM', 'MLP', 'KNN', 'RF', 'EXTRA', 'CNN', 'LR', 'NB']\n",
    "results_A = np.zeros((len(algorithms_list), len(all_stacking)))\n",
    "for idx_alg, algorithm in enumerate(algorithms_list):\n",
    "    X_val, X_test = filter_df_train_test(probas_val, probas_test, algorithm)\n",
    "    for idx_clf, clf in enumerate(all_stacking):\n",
    "        clf.fit(X_val, label_val)\n",
    "        y_pred = clf.predict(X_test)\n",
    "        score = f1_score(label_test, y_pred, average='macro')\n",
    "        results_A[idx_alg, idx_clf] = score"
   ]
  },
  {
   "cell_type": "markdown",
   "metadata": {},
   "source": [
    "# Stacking group E"
   ]
  },
  {
   "cell_type": "code",
   "execution_count": 6,
   "metadata": {},
   "outputs": [],
   "source": [
    "fe_list = ['CV', 'TFIDF', 'W2V', 'GLOVE', 'FAST']\n",
    "results_E = np.zeros((len(fe_list), len(all_stacking)))\n",
    "for idx_alg, fe in enumerate(fe_list):\n",
    "    X_val, X_test = filter_df_train_test(probas_val, probas_test, fe)\n",
    "    for idx_clf, clf in enumerate(all_stacking):\n",
    "        clf.fit(X_val, label_val)\n",
    "        y_pred = clf.predict(X_test)\n",
    "        results_E[idx_alg, idx_clf] = f1_score(label_test, y_pred, average='macro')"
   ]
  },
  {
   "cell_type": "markdown",
   "metadata": {},
   "source": [
    "# Stacking group D"
   ]
  },
  {
   "cell_type": "code",
   "execution_count": 7,
   "metadata": {},
   "outputs": [
    {
     "name": "stdout",
     "output_type": "stream",
     "text": [
      "0.7862534534627416\n"
     ]
    }
   ],
   "source": [
    "results_D = np.zeros(len(all_stacking))\n",
    "for idx_clf, clf in enumerate(all_stacking):\n",
    "    clf.fit(probas_val, label_val)\n",
    "    y_pred = clf.predict(probas_test)\n",
    "    results_D[idx_clf] = f1_score(label_test, y_pred, average='macro')\n",
    "print(results_D[idx_clf])"
   ]
  },
  {
   "cell_type": "markdown",
   "metadata": {},
   "source": [
    "# Stacking group B"
   ]
  },
  {
   "cell_type": "code",
   "execution_count": 8,
   "metadata": {},
   "outputs": [
    {
     "name": "stdout",
     "output_type": "stream",
     "text": [
      "0.790878623420137\n"
     ]
    }
   ],
   "source": [
    "names = names_B[dataset_name]\n",
    "results_B = np.zeros(len(all_stacking))\n",
    "X_val, X_test = filter_df_train_test(probas_val, probas_test, names)\n",
    "for idx_clf, clf in enumerate(all_stacking):\n",
    "    clf.fit(X_val, label_val)\n",
    "    y_pred = clf.predict(X_test)\n",
    "    results_B[idx_clf] = f1_score(label_test, y_pred, average='macro')\n",
    "print(results_B[idx_clf])"
   ]
  },
  {
   "cell_type": "markdown",
   "metadata": {},
   "source": []
  },
  {
   "cell_type": "code",
   "execution_count": 9,
   "metadata": {},
   "outputs": [],
   "source": [
    "algorithms_list_A = [alg + ' (Group A)' for alg in algorithms_list]\n",
    "group_A_df = pd.DataFrame(results_A, columns=all_stacking_names, index=algorithms_list_A)\n",
    "\n",
    "fe_list_E = [fe + ' (Group E)' for fe in fe_list]\n",
    "group_E_df = pd.DataFrame(results_E, columns=all_stacking_names, index=fe_list_E)\n",
    "\n",
    "group_B_df = pd.DataFrame(results_B.reshape(1, 1), columns=all_stacking_names, index=['Group B'])\n",
    "group_D_df = pd.DataFrame(results_D.reshape(1, 1), columns=all_stacking_names, index=['Group D'])"
   ]
  },
  {
   "cell_type": "code",
   "execution_count": 10,
   "metadata": {},
   "outputs": [
    {
     "name": "stdout",
     "output_type": "stream",
     "text": [
      "('\\\\begin{table}\\n'\n",
      " '\\\\centering\\n'\n",
      " '\\\\caption{dataset ZW}\\n'\n",
      " '\\\\begin{tabular}{lr}\\n'\n",
      " '\\\\toprule\\n'\n",
      " '{} &  Stacking LR \\\\\\\\\\n'\n",
      " '\\\\midrule\\n'\n",
      " 'SVM (Group A)   &       0.7923 \\\\\\\\\\n'\n",
      " 'MLP (Group A)   &       0.7755 \\\\\\\\\\n'\n",
      " 'KNN (Group A)   &       0.6803 \\\\\\\\\\n'\n",
      " 'RF (Group A)    &       0.7664 \\\\\\\\\\n'\n",
      " 'EXTRA (Group A) &       0.7652 \\\\\\\\\\n'\n",
      " 'CNN (Group A)   &       0.7557 \\\\\\\\\\n'\n",
      " 'LR (Group A)    &       0.7790 \\\\\\\\\\n'\n",
      " 'NB (Group A)    &       0.7456 \\\\\\\\\\n'\n",
      " 'Group B         &       0.7909 \\\\\\\\\\n'\n",
      " 'Group D         &       0.7863 \\\\\\\\\\n'\n",
      " 'CV (Group E)    &       0.7807 \\\\\\\\\\n'\n",
      " 'TFIDF (Group E) &       0.7799 \\\\\\\\\\n'\n",
      " 'W2V (Group E)   &       0.7337 \\\\\\\\\\n'\n",
      " 'GLOVE (Group E) &       0.7208 \\\\\\\\\\n'\n",
      " 'FAST (Group E)  &       0.7429 \\\\\\\\\\n'\n",
      " '\\\\bottomrule\\n'\n",
      " '\\\\end{tabular}\\n'\n",
      " '\\\\end{table}\\n')\n"
     ]
    }
   ],
   "source": [
    "from pprint import pprint\n",
    "pprint(pd.concat([group_A_df, group_B_df, group_D_df, group_E_df]).round(4).to_latex(caption='dataset '+ dataset_name.upper()))"
   ]
  },
  {
   "cell_type": "markdown",
   "metadata": {},
   "source": [
    "# best single for sanity check"
   ]
  },
  {
   "cell_type": "code",
   "execution_count": 11,
   "metadata": {},
   "outputs": [
    {
     "data": {
      "text/plain": [
       "0.7555745522584977"
      ]
     },
     "execution_count": 11,
     "metadata": {},
     "output_type": "execute_result"
    }
   ],
   "source": [
    "from sklearn.metrics import accuracy_score\n",
    "\n",
    "probas = probas_test.filter(regex='SVM-TF')\n",
    "y_pred = np.argmax(probas.to_numpy(), axis=1)\n",
    "\n",
    "f1_score(label_test, y_pred, average='macro')"
   ]
  }
 ],
 "metadata": {
  "@webio": {
   "lastCommId": null,
   "lastKernelId": null
  },
  "kernelspec": {
   "display_name": "Python [conda env:hate_speech]",
   "language": "python",
   "name": "conda-env-hate_speech-py"
  },
  "language_info": {
   "codemirror_mode": {
    "name": "ipython",
    "version": 3
   },
   "file_extension": ".py",
   "mimetype": "text/x-python",
   "name": "python",
   "nbconvert_exporter": "python",
   "pygments_lexer": "ipython3",
   "version": "3.6.12"
  }
 },
 "nbformat": 4,
 "nbformat_minor": 2
}